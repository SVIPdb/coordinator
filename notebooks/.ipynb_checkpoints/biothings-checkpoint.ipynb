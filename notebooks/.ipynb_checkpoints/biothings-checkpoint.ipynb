{
 "cells": [
  {
   "cell_type": "code",
   "execution_count": 17,
   "metadata": {},
   "outputs": [],
   "source": [
    "import myvariant\n",
    "from IPython.display import JSON\n",
    "\n",
    "mv = myvariant.MyVariantInfo()"
   ]
  },
  {
   "cell_type": "code",
   "execution_count": 20,
   "metadata": {},
   "outputs": [
    {
     "data": {
      "text/plain": [
       "10"
      ]
     },
     "execution_count": 20,
     "metadata": {},
     "output_type": "execute_result"
    }
   ],
   "source": [
    "q = mv.query(\"BRAF V600E\", size=10)\n",
    "len(q['hits'])"
   ]
  },
  {
   "cell_type": "code",
   "execution_count": 21,
   "metadata": {},
   "outputs": [
    {
     "data": {
      "text/plain": [
       "dict_keys(['_id', '_score', 'civic', 'observed'])"
      ]
     },
     "execution_count": 21,
     "metadata": {},
     "output_type": "execute_result"
    }
   ],
   "source": [
    "q['hits'][0].keys()"
   ]
  },
  {
   "cell_type": "code",
   "execution_count": 18,
   "metadata": {},
   "outputs": [
    {
     "data": {
      "application/json": {
       "_id": "CIVIC_VARIANT:285",
       "_score": 13.751855,
       "civic": {
        "_license": "https://goo.gl/gPCAyH",
        "coordinates": {
         "chromosome": "7",
         "chromosome2": "7",
         "ensembl_version": 75,
         "reference_build": "GRCh37",
         "representative_transcript": "ENST00000355413.4",
         "representative_transcript2": "ENST00000288602.6",
         "start": 141250989,
         "start2": 140434279,
         "stop": 141255367,
         "stop2": 140494267
        },
        "entrez_id": 673,
        "entrez_name": "BRAF",
        "evidence_items": [
         {
          "clinical_significance": "Sensitivity",
          "description": "BRAF fusion AGK-BRAF was associated with decreased sensitivity to vemurafenib and increased sensitivity to sorafenib in-vitro. A single patient with this fusion showed durable response to sorafenib.",
          "disease": {
           "display_name": "Melanoma",
           "doid": "DOID:1909",
           "id": 7,
           "name": "Melanoma",
           "url": "http://www.disease-ontology.org/?id=DOID:1909"
          },
          "drugs": [
           {
            "id": 6,
            "name": "Sorafenib"
           }
          ],
          "evidence_direction": "Supports",
          "evidence_level": "C",
          "evidence_type": "Predictive",
          "id": 723,
          "name": "EID723",
          "open_change_count": 0,
          "rating": 2,
          "source": {
           "citation": "Botton et al., 2013, Pigment Cell Melanoma Res",
           "full_journal_title": "Pigment cell & melanoma research",
           "id": 475,
           "is_review": false,
           "journal": "Pigment Cell Melanoma Res",
           "name": "Recurrent BRAF kinase fusions in melanocytic tumors offer an opportunity for targeted therapy.",
           "open_access": true,
           "pmc_id": "PMC3808507",
           "publication_date": {
            "month": 11,
            "year": 2013
           },
           "pubmed_id": "23890088",
           "source_url": "http://www.ncbi.nlm.nih.gov/pubmed/23890088",
           "status": "fully curated"
          },
          "status": "accepted",
          "type": "evidence",
          "variant_id": 285,
          "variant_origin": "Somatic Mutation"
         },
         {
          "clinical_significance": "Resistance or Non-Response",
          "description": "A melanoma cell line with AGK-BRAF in-frame fusion showed decreased sensitivity towards Vemurafenib in comparison with BRAF mutated (V600E) cell lines.",
          "disease": {
           "display_name": "Melanoma",
           "doid": "DOID:1909",
           "id": 7,
           "name": "Melanoma",
           "url": "http://www.disease-ontology.org/?id=DOID:1909"
          },
          "drugs": [
           {
            "id": 4,
            "name": "Vemurafenib"
           }
          ],
          "evidence_direction": "Supports",
          "evidence_level": "D",
          "evidence_type": "Predictive",
          "id": 724,
          "name": "EID724",
          "open_change_count": 0,
          "rating": 2,
          "source": {
           "citation": "Botton et al., 2013, Pigment Cell Melanoma Res",
           "full_journal_title": "Pigment cell & melanoma research",
           "id": 475,
           "is_review": false,
           "journal": "Pigment Cell Melanoma Res",
           "name": "Recurrent BRAF kinase fusions in melanocytic tumors offer an opportunity for targeted therapy.",
           "open_access": true,
           "pmc_id": "PMC3808507",
           "publication_date": {
            "month": 11,
            "year": 2013
           },
           "pubmed_id": "23890088",
           "source_url": "http://www.ncbi.nlm.nih.gov/pubmed/23890088",
           "status": "fully curated"
          },
          "status": "accepted",
          "type": "evidence",
          "variant_id": 285,
          "variant_origin": "Somatic Mutation"
         }
        ],
        "gene_id": 5,
        "lifecycle_actions": {
         "last_modified": {
          "order": 0,
          "timestamp": "2017-03-24T21:52:17.470Z",
          "user": {
           "area_of_expertise": "Research Scientist",
           "avatar_url": "https://secure.gravatar.com/avatar/df7a6c4023eebf61d7bd8056368798c0.png?d=identicon&r=pg&s=32",
           "avatars": {
            "x128": "https://secure.gravatar.com/avatar/df7a6c4023eebf61d7bd8056368798c0.png?d=identicon&r=pg&s=128",
            "x14": "https://secure.gravatar.com/avatar/df7a6c4023eebf61d7bd8056368798c0.png?d=identicon&r=pg&s=14",
            "x32": "https://secure.gravatar.com/avatar/df7a6c4023eebf61d7bd8056368798c0.png?d=identicon&r=pg&s=32",
            "x64": "https://secure.gravatar.com/avatar/df7a6c4023eebf61d7bd8056368798c0.png?d=identicon&r=pg&s=64"
           },
           "created_at": "2015-10-05T13:05:07.668Z",
           "display_name": "LynzeyK",
           "featured_expert": false,
           "id": 83,
           "last_seen_at": "2017-06-22T01:42:42.796Z",
           "linkedin_profile": "https://www.linkedin.com/in/lynzey-kujan-135a03a3",
           "name": "Lynzey Kujan",
           "orcid": "orcid.org/0000-0001-9225-7361",
           "organization": {
            "description": "The McDonnell Genome Institute (MGI) is a world leader in the fast-paced, constantly changing field of genomics. A truly unique institution, we are pushing the limits of academic research by creating, testing, and implementing new approaches to the study of biology with the goal of understanding human health and disease, as well as evolution and the biology of other organisms.",
            "id": 1,
            "name": "The McDonnell Genome Institute",
            "profile_image": {
             "x128": "/system/organizations/profile_images/000/000/001/x128/MGI_STANDARD4_logo_brown-example_v1b.png?1494525976",
             "x14": "/system/organizations/profile_images/000/000/001/x14/MGI_STANDARD4_logo_brown-example_v1b.png?1494525976",
             "x256": "/system/organizations/profile_images/000/000/001/x256/MGI_STANDARD4_logo_brown-example_v1b.png?1494525976",
             "x32": "/system/organizations/profile_images/000/000/001/x32/MGI_STANDARD4_logo_brown-example_v1b.png?1494525976",
             "x64": "/system/organizations/profile_images/000/000/001/x64/MGI_STANDARD4_logo_brown-example_v1b.png?1494525976"
            },
            "url": "http://genome.wustl.edu/"
           },
           "role": "curator",
           "username": "LynzeyK"
          }
         },
         "last_reviewed": {
          "order": 1,
          "timestamp": "2017-04-02T14:58:03.871Z",
          "user": {
           "area_of_expertise": "Research Scientist",
           "avatar_url": "https://secure.gravatar.com/avatar/17180f9afc9f7f04fff97197c1ee5cb6.png?d=identicon&r=pg&s=32",
           "avatars": {
            "x128": "https://secure.gravatar.com/avatar/17180f9afc9f7f04fff97197c1ee5cb6.png?d=identicon&r=pg&s=128",
            "x14": "https://secure.gravatar.com/avatar/17180f9afc9f7f04fff97197c1ee5cb6.png?d=identicon&r=pg&s=14",
            "x32": "https://secure.gravatar.com/avatar/17180f9afc9f7f04fff97197c1ee5cb6.png?d=identicon&r=pg&s=32",
            "x64": "https://secure.gravatar.com/avatar/17180f9afc9f7f04fff97197c1ee5cb6.png?d=identicon&r=pg&s=64"
           },
           "bio": "Dr. Krysiak is an Instructor at the McDonnell Genome Institute at Washington University School of Medicine where she is involved in the comprehensive genomic analysis of cancer patient cohorts and “n-of-1” studies. She received her PhD in Molecular Genetics and Genomics at Washington University in St. Louis where she focused on the genetics of myelodysplastic syndrome through advanced flow cytometry techniques, primary cell culture and mouse models. She is a founding member of the CIViC team, helping to define the CIViC data model, and a leading content curator and feature development consultant.",
           "created_at": "2015-02-26T04:14:20.953Z",
           "display_name": "kkrysiak",
           "featured_expert": true,
           "id": 6,
           "last_seen_at": "2017-06-20T21:32:57.201Z",
           "linkedin_profile": "kilannin-krysiak-69047819",
           "name": "Kilannin Krysiak",
           "orcid": "0000-0002-6299-9230",
           "organization": {
            "description": "The McDonnell Genome Institute (MGI) is a world leader in the fast-paced, constantly changing field of genomics. A truly unique institution, we are pushing the limits of academic research by creating, testing, and implementing new approaches to the study of biology with the goal of understanding human health and disease, as well as evolution and the biology of other organisms.",
            "id": 1,
            "name": "The McDonnell Genome Institute",
            "profile_image": {
             "x128": "/system/organizations/profile_images/000/000/001/x128/MGI_STANDARD4_logo_brown-example_v1b.png?1494525976",
             "x14": "/system/organizations/profile_images/000/000/001/x14/MGI_STANDARD4_logo_brown-example_v1b.png?1494525976",
             "x256": "/system/organizations/profile_images/000/000/001/x256/MGI_STANDARD4_logo_brown-example_v1b.png?1494525976",
             "x32": "/system/organizations/profile_images/000/000/001/x32/MGI_STANDARD4_logo_brown-example_v1b.png?1494525976",
             "x64": "/system/organizations/profile_images/000/000/001/x64/MGI_STANDARD4_logo_brown-example_v1b.png?1494525976"
            },
            "url": "http://genome.wustl.edu/"
           },
           "role": "admin",
           "username": "kkrysiak"
          }
         }
        },
        "name": "AGK-BRAF",
        "type": "variant",
        "variant_groups": {
         "description": "BRAF fusions are a rare event in several cancer types but enriched in spitzoid melanoma, pilocytic astrocytomas, pancreatic acinar and papillary thyroid cancers. In a large study, they were observed in 55 (0.3%) of 20,573 tumors, across 12 distinct tumor types. Responses to sorafenib and MEK inhibitors have been described.\nRoss et al., Int. J. Cancer: 138, 881–890 (2016)",
         "id": 18,
         "name": "BRAF Fusions",
         "type": "variant_group",
         "variants": [
          {
           "coordinates": {
            "chromosome": "7",
            "chromosome2": "7",
            "ensembl_version": 75,
            "reference_build": "GRCh37",
            "representative_transcript": "ENST00000356239.3",
            "representative_transcript2": "ENST00000288602.6",
            "start": 91570181,
            "start2": 140434279,
            "stop": 91625114,
            "stop2": 140487384
           },
           "entrez_id": 673,
           "entrez_name": "BRAF",
           "gene_id": 5,
           "id": 184,
           "name": "AKAP9-BRAF",
           "type": "variant",
           "variant_types": [
            {
             "description": "A feature fusion where the deletion brings together transcript regions.",
             "display_name": "Transcript Fusion",
             "id": 120,
             "name": "transcript_fusion",
             "so_id": "SO:0001886",
             "url": "http://www.sequenceontology.org/browser/current_svn/term/SO:0001886"
            }
           ]
          },
          {
           "coordinates": {
            "chromosome": "7",
            "chromosome2": "7",
            "ensembl_version": 75,
            "reference_build": "GRCh37",
            "representative_transcript": "ENST00000355413.4",
            "representative_transcript2": "ENST00000288602.6",
            "start": 141250989,
            "start2": 140434279,
            "stop": 141255367,
            "stop2": 140494267
           },
           "entrez_id": 673,
           "entrez_name": "BRAF",
           "gene_id": 5,
           "id": 285,
           "name": "AGK-BRAF",
           "type": "variant",
           "variant_types": [
            {
             "description": "A feature fusion where the deletion brings together transcript regions.",
             "display_name": "Transcript Fusion",
             "id": 120,
             "name": "transcript_fusion",
             "so_id": "SO:0001886",
             "url": "http://www.sequenceontology.org/browser/current_svn/term/SO:0001886"
            }
           ]
          },
          {
           "coordinates": {
            "chromosome": "4",
            "chromosome2": "7",
            "ensembl_version": 75,
            "reference_build": "GRCh37",
            "representative_transcript": "ENST00000265174.4",
            "representative_transcript2": "ENST00000288602.6",
            "start": 108603171,
            "start2": 140434279,
            "stop": 108641608,
            "stop2": 140487384
           },
           "entrez_id": 673,
           "entrez_name": "BRAF",
           "gene_id": 5,
           "id": 286,
           "name": "PAPSS1-BRAF",
           "type": "variant",
           "variant_types": [
            {
             "description": "A sequence variant whereby a two genes have become joined.",
             "display_name": "Gene Fusion",
             "id": 31,
             "name": "gene_fusion",
             "so_id": "SO:0001565",
             "url": "http://www.sequenceontology.org/browser/current_svn/term/SO:0001565"
            },
            {
             "description": "A feature fusion where the deletion brings together transcript regions.",
             "display_name": "Transcript Fusion",
             "id": 120,
             "name": "transcript_fusion",
             "so_id": "SO:0001886",
             "url": "http://www.sequenceontology.org/browser/current_svn/term/SO:0001886"
            }
           ]
          },
          {
           "coordinates": {
            "chromosome": "7",
            "chromosome2": "7",
            "ensembl_version": 75,
            "reference_build": "GRCh37",
            "representative_transcript": "ENST00000343526.4",
            "representative_transcript2": "ENST00000288602.6",
            "start": 138145079,
            "start2": 140434279,
            "stop": 138239711,
            "stop2": 140487384
           },
           "entrez_id": 673,
           "entrez_name": "BRAF",
           "gene_id": 5,
           "id": 287,
           "name": "TRIM24-BRAF",
           "type": "variant",
           "variant_types": [
            {
             "description": "A feature fusion where the deletion brings together transcript regions.",
             "display_name": "Transcript Fusion",
             "id": 120,
             "name": "transcript_fusion",
             "so_id": "SO:0001886",
             "url": "http://www.sequenceontology.org/browser/current_svn/term/SO:0001886"
            }
           ]
          },
          {
           "coordinates": {
            "chromosome": "11",
            "chromosome2": "7",
            "ensembl_version": 75,
            "reference_build": "GRCh37",
            "representative_transcript": "ENST00000299492.4",
            "representative_transcript2": "ENST00000288602.6",
            "start": 7535001,
            "start2": 140434279,
            "stop": 7586998,
            "stop2": 140481493
           },
           "entrez_id": 673,
           "entrez_name": "BRAF",
           "gene_id": 5,
           "id": 617,
           "name": "PPFIBP2-BRAF",
           "type": "variant",
           "variant_types": [
            {
             "description": "A feature fusion where the deletion brings together transcript regions.",
             "display_name": "Transcript Fusion",
             "id": 120,
             "name": "transcript_fusion",
             "so_id": "SO:0001886",
             "url": "http://www.sequenceontology.org/browser/current_svn/term/SO:0001886"
            }
           ]
          },
          {
           "coordinates": {
            "chromosome": "7",
            "chromosome2": "7",
            "ensembl_version": 75,
            "reference_build": "GRCh37",
            "representative_transcript": "ENST00000440172.1",
            "representative_transcript2": "ENST00000288602.6",
            "start": 138545885,
            "start2": 140434279,
            "stop": 138666064,
            "stop2": 140487384
           },
           "entrez_id": 673,
           "entrez_name": "BRAF",
           "gene_id": 5,
           "id": 618,
           "name": "KIAA1549-BRAF",
           "type": "variant",
           "variant_types": [
            {
             "description": "A feature fusion where the deletion brings together transcript regions.",
             "display_name": "Transcript Fusion",
             "id": 120,
             "name": "transcript_fusion",
             "so_id": "SO:0001886",
             "url": "http://www.sequenceontology.org/browser/current_svn/term/SO:0001886"
            }
           ]
          },
          {
           "coordinates": {
            "chromosome": "7",
            "chromosome2": "7",
            "ensembl_version": 75,
            "reference_build": "GRCh37",
            "representative_transcript": "ENST00000288602.6",
            "representative_transcript2": "ENST00000602748.1",
            "start": 140434279,
            "start2": 148395737,
            "stop": 140487384,
            "stop2": 148457588
           },
           "entrez_id": 673,
           "entrez_name": "BRAF",
           "gene_id": 5,
           "id": 656,
           "name": "BRAF-CUL1",
           "type": "variant",
           "variant_types": [
            {
             "description": "A feature fusion where the deletion brings together transcript regions.",
             "display_name": "Transcript Fusion",
             "id": 120,
             "name": "transcript_fusion",
             "so_id": "SO:0001886",
             "url": "http://www.sequenceontology.org/browser/current_svn/term/SO:0001886"
            }
           ]
          },
          {
           "coordinates": {
            "chromosome": "7",
            "chromosome2": "7",
            "ensembl_version": 75,
            "reference_build": "GRCh37",
            "representative_transcript": "ENST00000426572.1",
            "representative_transcript2": "ENST00000288602.6",
            "start": 99613222,
            "start2": 140434279,
            "stop": 99627575,
            "stop2": 140482957
           },
           "entrez_id": 673,
           "entrez_name": "BRAF",
           "gene_id": 5,
           "id": 657,
           "name": "ZKSCAN1-BRAF",
           "type": "variant",
           "variant_types": [
            {
             "description": "A feature fusion where the deletion brings together transcript regions.",
             "display_name": "Transcript Fusion",
             "id": 120,
             "name": "transcript_fusion",
             "so_id": "SO:0001886",
             "url": "http://www.sequenceontology.org/browser/current_svn/term/SO:0001886"
            }
           ]
          }
         ]
        },
        "variant_id": 285,
        "variant_types": {
         "description": "A feature fusion where the deletion brings together transcript regions.",
         "display_name": "Transcript Fusion",
         "id": 120,
         "name": "transcript_fusion",
         "so_id": "SO:0001886",
         "url": "http://www.sequenceontology.org/browser/current_svn/term/SO:0001886"
        }
       },
       "observed": true
      },
      "text/plain": [
       "<IPython.core.display.JSON object>"
      ]
     },
     "execution_count": 18,
     "metadata": {
      "application/json": {
       "expanded": false,
       "root": "root"
      }
     },
     "output_type": "execute_result"
    }
   ],
   "source": [
    "JSON(q['hits'][0])"
   ]
  }
 ],
 "metadata": {
  "kernelspec": {
   "display_name": "Python 3",
   "language": "python",
   "name": "python3"
  },
  "language_info": {
   "codemirror_mode": {
    "name": "ipython",
    "version": 3
   },
   "file_extension": ".py",
   "mimetype": "text/x-python",
   "name": "python",
   "nbconvert_exporter": "python",
   "pygments_lexer": "ipython3",
   "version": "3.7.0"
  }
 },
 "nbformat": 4,
 "nbformat_minor": 2
}
