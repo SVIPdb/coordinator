{
 "cells": [
  {
   "cell_type": "code",
   "execution_count": 4,
   "metadata": {},
   "outputs": [],
   "source": [
    "import myvariant\n",
    "from IPython.display import JSON\n",
    "\n",
    "mv = myvariant.MyVariantInfo()"
   ]
  },
  {
   "cell_type": "code",
   "execution_count": 5,
   "metadata": {},
   "outputs": [
    {
     "data": {
      "application/json": {
       "hits": [
        {
         "_id": "CIVIC_VARIANT:1269",
         "_score": 4.3787246,
         "civic": {
          "_license": "https://goo.gl/gPCAyH",
          "entrez_id": 673,
          "entrez_name": "BRAF",
          "name": "AMPLIFICATION"
         }
        },
        {
         "_id": "CIVIC_VARIANT:14",
         "_score": 3.5538995,
         "civic": {
          "_license": "https://goo.gl/gPCAyH",
          "entrez_id": 673,
          "entrez_name": "BRAF",
          "name": "V600E AMPLIFICATION"
         }
        }
       ],
       "max_score": 4.3787246,
       "took": 5,
       "total": 2
      },
      "text/plain": [
       "<IPython.core.display.JSON object>"
      ]
     },
     "execution_count": 5,
     "metadata": {
      "application/json": {
       "expanded": false,
       "root": "root"
      }
     },
     "output_type": "execute_result"
    }
   ],
   "source": [
    "JSON(mv.query('(civic.entrez_name:BRAF AND civic.name:*amp*)', fields='civic.entrez_id,civic.entrez_name,civic.name,civic.hgvs_expressions,evs.hgvs'))"
   ]
  },
  {
   "cell_type": "code",
   "execution_count": 6,
   "metadata": {},
   "outputs": [
    {
     "data": {
      "application/json": {
       "hits": [
        {
         "_id": "chr7:g.140482890G>T",
         "_score": 10.386831,
         "cadd": {
          "_license": "http://goo.gl/bkpNhq",
          "alt": "T",
          "anc": "G",
          "annotype": "CodingTranscript",
          "bstatistic": 571,
          "chmm": {
           "bivflnk": 0,
           "enh": 0,
           "enhbiv": 0,
           "het": 0,
           "quies": 0.055,
           "reprpc": 0,
           "reprpcwk": 0,
           "tssa": 0,
           "tssaflnk": 0,
           "tssbiv": 0,
           "tx": 0.386,
           "txflnk": 0,
           "txwk": 0.559,
           "znfrpts": 0
          },
          "chrom": 7,
          "consdetail": "synonymous",
          "consequence": "SYNONYMOUS",
          "consscore": 5,
          "cpg": 0.04,
          "dna": {
           "helt": 0.89,
           "mgw": 0.5,
           "prot": -1.24,
           "roll": 5.73
          },
          "encode": {
           "exp": 73.17,
           "h3k27ac": 4,
           "h3k4me1": 15.96,
           "h3k4me3": 3,
           "nucleo": 3.7
          },
          "exon": "10/18",
          "fitcons": 0.666978,
          "gc": 0.46,
          "gene": {
           "ccds_id": "CCDS5863.1",
           "cds": {
            "cdna_pos": 1306,
            "cds_pos": 1245,
            "rel_cdna_pos": 0.53,
            "rel_cds_pos": 0.54
           },
           "feature_id": "ENST00000288602",
           "gene_id": "ENSG00000157764",
           "genename": "BRAF",
           "prot": {
            "protpos": 415,
            "rel_prot_pos": 0.54
           }
          },
          "gerp": {
           "n": 5.83,
           "rs": 585,
           "rs_pval": 4.50991e-140,
           "s": -1.31
          },
          "isderived": "TRUE",
          "isknownvariant": "FALSE",
          "istv": "TRUE",
          "length": 0,
          "mapability": {
           "20bp": 1,
           "35bp": 1
          },
          "min_dist_tse": 48493,
          "min_dist_tss": 68,
          "mutindex": -3,
          "naa": "A",
          "oaa": "A",
          "phast_cons": {
           "mammalian": 0.998,
           "primate": 0.999,
           "vertebrate": 0.965
          },
          "phred": 10.42,
          "phylop": {
           "mammalian": 0.023,
           "primate": 0.651,
           "vertebrate": -0.175
          },
          "pos": 140482890,
          "rawscore": 0.959059,
          "ref": "G",
          "segway": "GE1",
          "type": "SNV"
         }
        },
        {
         "_id": "chr7:g.140494150A>T",
         "_score": 10.386831,
         "cadd": {
          "_license": "http://goo.gl/bkpNhq",
          "alt": "T",
          "anc": "A",
          "annotype": "CodingTranscript",
          "bstatistic": 567,
          "chmm": {
           "bivflnk": 0,
           "enh": 0,
           "enhbiv": 0,
           "het": 0,
           "quies": 0.079,
           "reprpc": 0,
           "reprpcwk": 0,
           "tssa": 0,
           "tssaflnk": 0,
           "tssbiv": 0,
           "tx": 0.488,
           "txflnk": 0,
           "txwk": 0.433,
           "znfrpts": 0
          },
          "chrom": 7,
          "consdetail": "synonymous",
          "consequence": "SYNONYMOUS",
          "consscore": 5,
          "cpg": 0.05,
          "dna": {
           "helt": -0.6,
           "mgw": 1.06,
           "prot": 1.05,
           "roll": 7.93
          },
          "encode": {
           "exp": 52.57,
           "h3k27ac": 3,
           "h3k4me1": 8.28,
           "h3k4me3": 3.08,
           "nucleo": 2.2
          },
          "exon": "8/18",
          "fitcons": 0.604399,
          "gc": 0.4,
          "gene": {
           "ccds_id": "CCDS5863.1",
           "cds": {
            "cdna_pos": 1159,
            "cds_pos": 1098,
            "rel_cdna_pos": 0.47,
            "rel_cds_pos": 0.48
           },
           "feature_id": "ENST00000288602",
           "gene_id": "ENSG00000157764",
           "genename": "BRAF",
           "prot": {
            "protpos": 366,
            "rel_prot_pos": 0.48
           }
          },
          "gerp": {
           "n": 5.75,
           "rs": 862.1,
           "rs_pval": 1.93156e-218,
           "s": 0.776
          },
          "isderived": "TRUE",
          "isknownvariant": "FALSE",
          "istv": "TRUE",
          "length": 0,
          "mapability": {
           "20bp": 1,
           "35bp": 1
          },
          "min_dist_tse": 59753,
          "min_dist_tss": 130309,
          "mutindex": 32,
          "naa": "A",
          "oaa": "A",
          "phast_cons": {
           "mammalian": 0.999,
           "primate": 0.998,
           "vertebrate": 0.998
          },
          "phred": 7.728,
          "phylop": {
           "mammalian": 0.105,
           "primate": 0.53,
           "vertebrate": 0.192
          },
          "pos": 140494150,
          "rawscore": 0.539697,
          "ref": "A",
          "segway": "GE1",
          "type": "SNV"
         }
        },
        {
         "_id": "chr7:g.140500251G>A",
         "_score": 10.386831,
         "cadd": {
          "_license": "http://goo.gl/bkpNhq",
          "alt": "A",
          "anc": "G",
          "annotype": "CodingTranscript",
          "bstatistic": 569,
          "chmm": {
           "bivflnk": 0,
           "enh": 0,
           "enhbiv": 0,
           "het": 0,
           "quies": 0.102,
           "reprpc": 0,
           "reprpcwk": 0,
           "tssa": 0,
           "tssaflnk": 0,
           "tssbiv": 0,
           "tx": 0.433,
           "txflnk": 0,
           "txwk": 0.449,
           "znfrpts": 0.008
          },
          "chrom": 7,
          "consdetail": "synonymous",
          "consequence": "SYNONYMOUS",
          "consscore": 5,
          "cpg": 0.04,
          "dna": {
           "helt": -2.9,
           "mgw": 0.27,
           "prot": 2.76,
           "roll": -0.92
          },
          "encode": {
           "exp": 58.03,
           "h3k27ac": 3.6,
           "h3k4me1": 15.56,
           "h3k4me3": 5,
           "nucleo": 4.9
          },
          "exon": "7/18",
          "fitcons": 0.701516,
          "gc": 0.49,
          "gene": {
           "ccds_id": "CCDS5863.1",
           "cds": {
            "cdna_pos": 952,
            "cds_pos": 891,
            "rel_cdna_pos": 0.38,
            "rel_cds_pos": 0.39
           },
           "feature_id": "ENST00000288602",
           "gene_id": "ENSG00000157764",
           "genename": "BRAF",
           "prot": {
            "protpos": 297,
            "rel_prot_pos": 0.39
           }
          },
          "gerp": {
           "n": 5.97,
           "rs": 882.7,
           "rs_pval": 4.11611e-222,
           "s": 2.74
          },
          "isderived": "TRUE",
          "isknownvariant": "FALSE",
          "istv": "FALSE",
          "length": 0,
          "mapability": {
           "20bp": 1,
           "35bp": 1
          },
          "min_dist_tse": 65854,
          "min_dist_tss": 124208,
          "mutindex": 42,
          "naa": "H",
          "oaa": "H",
          "phast_cons": {
           "mammalian": 1,
           "primate": 0.992,
           "vertebrate": 1
          },
          "phred": 4.868,
          "phylop": {
           "mammalian": 0.248,
           "primate": -0.492,
           "vertebrate": 0.798
          },
          "pos": 140500251,
          "rawscore": 0.218048,
          "ref": "G",
          "segway": "GE1",
          "type": "SNV"
         }
        },
        {
         "_id": "chr7:g.140501289A>G",
         "_score": 10.386831,
         "cadd": {
          "_license": "http://goo.gl/bkpNhq",
          "alt": "G",
          "anc": "A",
          "annotype": "CodingTranscript",
          "bstatistic": 570,
          "chmm": {
           "bivflnk": 0,
           "enh": 0,
           "enhbiv": 0,
           "het": 0,
           "quies": 0.118,
           "reprpc": 0,
           "reprpcwk": 0,
           "tssa": 0,
           "tssaflnk": 0,
           "tssbiv": 0,
           "tx": 0.252,
           "txflnk": 0,
           "txwk": 0.63,
           "znfrpts": 0
          },
          "chrom": 7,
          "consdetail": "synonymous",
          "consequence": "SYNONYMOUS",
          "consscore": 5,
          "cpg": 0.07,
          "dna": {
           "helt": -0.15,
           "mgw": 0.26,
           "prot": 3.07,
           "roll": 1.47
          },
          "encode": {
           "exp": 55.47,
           "h3k27ac": 2.04,
           "h3k4me1": 3.36,
           "h3k4me3": 3,
           "nucleo": 1
          },
          "exon": "6/18",
          "fitcons": 0.666978,
          "gc": 0.4,
          "gene": {
           "ccds_id": "CCDS5863.1",
           "cds": {
            "cdna_pos": 844,
            "cds_pos": 783,
            "rel_cdna_pos": 0.34,
            "rel_cds_pos": 0.34
           },
           "feature_id": "ENST00000288602",
           "gene_id": "ENSG00000157764",
           "genename": "BRAF",
           "prot": {
            "domain": "ndomain",
            "protpos": 261,
            "rel_prot_pos": 0.34
           }
          },
          "gerp": {
           "n": 5.33,
           "rs": 709.6,
           "rs_pval": 5.86262e-180,
           "s": 2.99
          },
          "isderived": "TRUE",
          "isknownvariant": "FALSE",
          "istv": "FALSE",
          "length": 0,
          "mapability": {
           "20bp": 0.5,
           "35bp": 1
          },
          "min_dist_tse": 66892,
          "min_dist_tss": 123170,
          "mutindex": 11,
          "naa": "C",
          "oaa": "C",
          "phast_cons": {
           "mammalian": 1,
           "primate": 0.995,
           "vertebrate": 1
          },
          "phred": 6.966,
          "phylop": {
           "mammalian": 0.866,
           "primate": 0.455,
           "vertebrate": 1.07
          },
          "pos": 140501289,
          "rawscore": 0.441475,
          "ref": "A",
          "segway": "GE1",
          "type": "SNV"
         }
        },
        {
         "_id": "chr7:g.140508745C>A",
         "_score": 10.386831,
         "cadd": {
          "_license": "http://goo.gl/bkpNhq",
          "alt": "A",
          "anc": "C",
          "annotype": "CodingTranscript",
          "bstatistic": 573,
          "chmm": {
           "bivflnk": 0,
           "enh": 0,
           "enhbiv": 0,
           "het": 0,
           "quies": 0.299,
           "reprpc": 0,
           "reprpcwk": 0,
           "tssa": 0,
           "tssaflnk": 0,
           "tssbiv": 0,
           "tx": 0.008,
           "txflnk": 0,
           "txwk": 0.685,
           "znfrpts": 0
          },
          "chrom": 7,
          "consdetail": "synonymous",
          "consequence": "SYNONYMOUS",
          "consscore": 5,
          "cpg": 0.03,
          "dna": {
           "helt": 0.19,
           "mgw": -0.24,
           "prot": -4.82,
           "roll": -1.79
          },
          "encode": {
           "exp": 21.53,
           "h3k27ac": 4,
           "h3k4me1": 10.92,
           "h3k4me3": 2.28,
           "nucleo": 2.3
          },
          "exon": "4/18",
          "fitcons": 0.671655,
          "gc": 0.42,
          "gene": {
           "ccds_id": "CCDS5863.1",
           "cds": {
            "cdna_pos": 616,
            "cds_pos": 555,
            "rel_cdna_pos": 0.25,
            "rel_cds_pos": 0.24
           },
           "feature_id": "ENST00000288602",
           "gene_id": "ENSG00000157764",
           "genename": "BRAF",
           "prot": {
            "domain": "ndomain",
            "protpos": 185,
            "rel_prot_pos": 0.24
           }
          },
          "gerp": {
           "n": 5.96,
           "rs": 508.2,
           "rs_pval": 3.30676e-122,
           "s": 1.92
          },
          "isderived": "TRUE",
          "isknownvariant": "FALSE",
          "istv": "TRUE",
          "length": 0,
          "mapability": {
           "20bp": 0.5,
           "35bp": 1
          },
          "min_dist_tse": 74348,
          "min_dist_tss": 115714,
          "mutindex": -31,
          "naa": "L",
          "oaa": "L",
          "phast_cons": {
           "mammalian": 0.999,
           "primate": 0.999,
           "vertebrate": 1
          },
          "phred": 16.08,
          "phylop": {
           "mammalian": 0.059,
           "primate": 0.651,
           "vertebrate": 1.778
          },
          "pos": 140508745,
          "rawscore": 1.979026,
          "ref": "C",
          "segway": "GE1",
          "type": "SNV"
         }
        },
        {
         "_id": "chr7:g.140476798G>A",
         "_score": 10.386831,
         "cadd": {
          "_license": "http://goo.gl/bkpNhq",
          "alt": "A",
          "anc": "G",
          "annotype": "CodingTranscript",
          "bstatistic": 571,
          "chmm": {
           "bivflnk": 0,
           "enh": 0.008,
           "enhbiv": 0,
           "het": 0,
           "quies": 0.031,
           "reprpc": 0,
           "reprpcwk": 0,
           "tssa": 0,
           "tssaflnk": 0,
           "tssbiv": 0,
           "tx": 0.583,
           "txflnk": 0,
           "txwk": 0.378,
           "znfrpts": 0
          },
          "chrom": 7,
          "consdetail": "synonymous",
          "consequence": "SYNONYMOUS",
          "consscore": 5,
          "cpg": 0.01,
          "dna": {
           "helt": -1.88,
           "mgw": -0.19,
           "prot": 0.78,
           "roll": -0.66
          },
          "encode": {
           "exp": 68.3,
           "h3k27ac": 2,
           "h3k4me1": 31.52,
           "h3k4me3": 6,
           "nucleo": 2.2
          },
          "exon": "13/18",
          "fitcons": 0.723164,
          "gc": 0.43,
          "gene": {
           "ccds_id": "CCDS5863.1",
           "cds": {
            "cdna_pos": 1669,
            "cds_pos": 1608,
            "rel_cdna_pos": 0.67,
            "rel_cds_pos": 0.7
           },
           "feature_id": "ENST00000288602",
           "gene_id": "ENSG00000157764",
           "genename": "BRAF",
           "prot": {
            "domain": "ndomain",
            "protpos": 536,
            "rel_prot_pos": 0.7
           }
          },
          "gerp": {
           "n": 5.68,
           "rs": 883.3,
           "rs_pval": 3.25189e-231,
           "s": 0.000672
          },
          "isderived": "TRUE",
          "isknownvariant": "FALSE",
          "istv": "FALSE",
          "length": 0,
          "mapability": {
           "20bp": 1,
           "35bp": 1
          },
          "min_dist_tse": 42401,
          "min_dist_tss": 6160,
          "mutindex": 21,
          "naa": "S",
          "oaa": "S",
          "phast_cons": {
           "mammalian": 0.998,
           "primate": 0.98,
           "vertebrate": 0.985
          },
          "phred": 11.07,
          "phylop": {
           "mammalian": 0.058,
           "primate": -0.491,
           "vertebrate": 0.001
          },
          "pos": 140476798,
          "rawscore": 1.072842,
          "ref": "G",
          "segway": "GM0",
          "type": "SNV"
         }
        },
        {
         "_id": "chr7:g.140481398T>G",
         "_score": 10.386831,
         "cadd": {
          "_license": "http://goo.gl/bkpNhq",
          "alt": "G",
          "anc": "T",
          "annotype": "CodingTranscript",
          "bstatistic": 571,
          "chmm": {
           "bivflnk": 0,
           "enh": 0,
           "enhbiv": 0,
           "het": 0,
           "quies": 0.039,
           "reprpc": 0,
           "reprpcwk": 0,
           "tssa": 0,
           "tssaflnk": 0,
           "tssbiv": 0,
           "tx": 0.378,
           "txflnk": 0,
           "txwk": 0.583,
           "znfrpts": 0
          },
          "chrom": 7,
          "consdetail": "synonymous",
          "consequence": "SYNONYMOUS",
          "consscore": 5,
          "cpg": 0.01,
          "dna": {
           "helt": -0.8,
           "mgw": 0.07,
           "prot": 3.46,
           "roll": -1.08
          },
          "encode": {
           "exp": 14.3,
           "h3k27ac": 4,
           "h3k4me1": 8,
           "h3k4me3": 4,
           "nucleo": 4.5,
           "occ": 3,
           "p_val": {
            "comb": 0.82,
            "ctcf": 0,
            "dnas": 0,
            "faire": 1.46,
            "mycp": 0,
            "polii": 0
           },
           "sig": {
            "ctcf": 0,
            "dnase": 0.01,
            "faire": 0.02,
            "myc": 0,
            "polii": 0
           }
          },
          "exon": "11/18",
          "fitcons": 0.666978,
          "gc": 0.41,
          "gene": {
           "ccds_id": "CCDS5863.1",
           "cds": {
            "cdna_pos": 1471,
            "cds_pos": 1410,
            "rel_cdna_pos": 0.59,
            "rel_cds_pos": 0.61
           },
           "feature_id": "ENST00000288602",
           "gene_id": "ENSG00000157764",
           "genename": "BRAF",
           "prot": {
            "domain": "ndomain",
            "protpos": 470,
            "rel_prot_pos": 0.61
           }
          },
          "gerp": {
           "n": 5.62,
           "rs": 546.8,
           "rs_pval": 8.22572e-133,
           "s": -3.88
          },
          "isderived": "TRUE",
          "isknownvariant": "FALSE",
          "istv": "TRUE",
          "length": 0,
          "mapability": {
           "20bp": 0.5,
           "35bp": 0.5
          },
          "min_dist_tse": 47001,
          "min_dist_tss": 1560,
          "mutindex": -20,
          "naa": "T",
          "oaa": "T",
          "phast_cons": {
           "mammalian": 0.991,
           "primate": 0.987,
           "vertebrate": 0.885
          },
          "phred": 8.783,
          "phylop": {
           "mammalian": -0.531,
           "primate": -0.489,
           "vertebrate": -0.569
          },
          "pos": 140481398,
          "rawscore": 0.693338,
          "ref": "T",
          "segway": "GE1",
          "type": "SNV"
         }
        },
        {
         "_id": "chr7:g.140482863T>C",
         "_score": 10.386831,
         "cadd": {
          "_license": "http://goo.gl/bkpNhq",
          "alt": "C",
          "anc": "T",
          "annotype": "CodingTranscript",
          "bstatistic": 571,
          "chmm": {
           "bivflnk": 0,
           "enh": 0,
           "enhbiv": 0,
           "het": 0,
           "quies": 0.055,
           "reprpc": 0,
           "reprpcwk": 0,
           "tssa": 0,
           "tssaflnk": 0,
           "tssbiv": 0,
           "tx": 0.386,
           "txflnk": 0,
           "txwk": 0.559,
           "znfrpts": 0
          },
          "chrom": 7,
          "consdetail": "synonymous",
          "consequence": "SYNONYMOUS",
          "consscore": 5,
          "cpg": 0.04,
          "dna": {
           "helt": -4.59,
           "mgw": 0.19,
           "prot": 3.78,
           "roll": 0.8
          },
          "encode": {
           "exp": 38.69,
           "h3k27ac": 3.72,
           "h3k4me1": 17.68,
           "h3k4me3": 3,
           "nucleo": 1.6
          },
          "exon": "10/18",
          "fitcons": 0.666978,
          "gc": 0.44,
          "gene": {
           "ccds_id": "CCDS5863.1",
           "cds": {
            "cdna_pos": 1333,
            "cds_pos": 1272,
            "rel_cdna_pos": 0.54,
            "rel_cds_pos": 0.55
           },
           "feature_id": "ENST00000288602",
           "gene_id": "ENSG00000157764",
           "genename": "BRAF",
           "prot": {
            "protpos": 424,
            "rel_prot_pos": 0.55
           }
          },
          "gerp": {
           "n": 5.83,
           "rs": 585,
           "rs_pval": 4.50991e-140,
           "s": -3.96
          },
          "isderived": "TRUE",
          "isknownvariant": "FALSE",
          "istv": "FALSE",
          "length": 0,
          "mapability": {
           "20bp": 1,
           "35bp": 1
          },
          "min_dist_tse": 48466,
          "min_dist_tss": 95,
          "mutindex": -43,
          "naa": "R",
          "oaa": "R",
          "phast_cons": {
           "mammalian": 0.98,
           "primate": 0.992,
           "vertebrate": 0.891
          },
          "phred": 3.312,
          "phylop": {
           "mammalian": -0.518,
           "primate": -0.415,
           "vertebrate": -0.37
          },
          "pos": 140482863,
          "rawscore": 0.072078,
          "ref": "T",
          "segway": "GE1",
          "type": "SNV"
         }
        },
        {
         "_id": "chr7:g.140494186T>A",
         "_score": 10.386831,
         "cadd": {
          "_license": "http://goo.gl/bkpNhq",
          "alt": "A",
          "anc": "T",
          "annotype": "CodingTranscript",
          "bstatistic": 567,
          "chmm": {
           "bivflnk": 0,
           "enh": 0,
           "enhbiv": 0,
           "het": 0,
           "quies": 0.079,
           "reprpc": 0,
           "reprpcwk": 0,
           "tssa": 0,
           "tssaflnk": 0,
           "tssbiv": 0,
           "tx": 0.488,
           "txflnk": 0,
           "txwk": 0.433,
           "znfrpts": 0
          },
          "chrom": 7,
          "consdetail": "synonymous",
          "consequence": "SYNONYMOUS",
          "consscore": 5,
          "cpg": 0.07,
          "dna": {
           "helt": -3.72,
           "mgw": 0.34,
           "prot": 2.95,
           "roll": -0.8
          },
          "encode": {
           "exp": 114.67,
           "h3k27ac": 3,
           "h3k4me1": 7.2,
           "h3k4me3": 2,
           "nucleo": 2.4
          },
          "exon": "8/18",
          "fitcons": 0.701516,
          "gc": 0.44,
          "gene": {
           "ccds_id": "CCDS5863.1",
           "cds": {
            "cdna_pos": 1123,
            "cds_pos": 1062,
            "rel_cdna_pos": 0.45,
            "rel_cds_pos": 0.46
           },
           "feature_id": "ENST00000288602",
           "gene_id": "ENSG00000157764",
           "genename": "BRAF",
           "prot": {
            "protpos": 354,
            "rel_prot_pos": 0.46
           }
          },
          "gerp": {
           "n": 5.85,
           "rs": 862.1,
           "rs_pval": 1.93156e-218,
           "s": 2.17
          },
          "isderived": "TRUE",
          "isknownvariant": "FALSE",
          "istv": "TRUE",
          "length": 0,
          "mapability": {
           "20bp": 1,
           "35bp": 1
          },
          "min_dist_tse": 59789,
          "min_dist_tss": 130273,
          "mutindex": -16,
          "naa": "R",
          "oaa": "R",
          "phast_cons": {
           "mammalian": 1,
           "primate": 0.998,
           "vertebrate": 1
          },
          "phred": 9.055,
          "phylop": {
           "mammalian": 0.459,
           "primate": 0.53,
           "vertebrate": 0.497
          },
          "pos": 140494186,
          "rawscore": 0.735135,
          "ref": "T",
          "segway": "GE1",
          "type": "SNV"
         }
        },
        {
         "_id": "chr7:g.140494240A>G",
         "_score": 10.386831,
         "cadd": {
          "_license": "http://goo.gl/bkpNhq",
          "alt": "G",
          "anc": "A",
          "annotype": "CodingTranscript",
          "bstatistic": 567,
          "chmm": {
           "bivflnk": 0,
           "enh": 0,
           "enhbiv": 0,
           "het": 0,
           "quies": 0.079,
           "reprpc": 0,
           "reprpcwk": 0,
           "tssa": 0,
           "tssaflnk": 0,
           "tssbiv": 0,
           "tx": 0.354,
           "txflnk": 0,
           "txwk": 0.567,
           "znfrpts": 0
          },
          "chrom": 7,
          "consdetail": "synonymous",
          "consequence": "SYNONYMOUS",
          "consscore": 5,
          "cpg": 0.07,
          "dna": {
           "helt": 0.74,
           "mgw": 0.3,
           "prot": 1.63,
           "roll": 1.56
          },
          "encode": {
           "exp": 88.17,
           "h3k27ac": 2.72,
           "h3k4me1": 6.12,
           "h3k4me3": 1.56,
           "nucleo": 3.5
          },
          "exon": "8/18",
          "fitcons": 0.701516,
          "gc": 0.43,
          "gene": {
           "ccds_id": "CCDS5863.1",
           "cds": {
            "cdna_pos": 1069,
            "cds_pos": 1008,
            "rel_cdna_pos": 0.43,
            "rel_cds_pos": 0.44
           },
           "feature_id": "ENST00000288602",
           "gene_id": "ENSG00000157764",
           "genename": "BRAF",
           "prot": {
            "domain": "lcompl",
            "protpos": 336,
            "rel_prot_pos": 0.44
           }
          },
          "gerp": {
           "n": 5.85,
           "rs": 862.1,
           "rs_pval": 1.93156e-218,
           "s": 5.85
          },
          "isderived": "TRUE",
          "isknownvariant": "FALSE",
          "istv": "FALSE",
          "length": 0,
          "mapability": {
           "20bp": 1,
           "35bp": 1
          },
          "min_dist_tse": 59843,
          "min_dist_tss": 130219,
          "mutindex": 19,
          "naa": "P",
          "oaa": "P",
          "phast_cons": {
           "mammalian": 1,
           "primate": 0.995,
           "vertebrate": 1
          },
          "phred": 11.04,
          "phylop": {
           "mammalian": 2.22,
           "primate": 0.53,
           "vertebrate": 2.153
          },
          "pos": 140494240,
          "rawscore": 1.068449,
          "ref": "A",
          "segway": "GE1",
          "type": "SNV"
         }
        }
       ],
       "max_score": 10.386831,
       "took": 12,
       "total": 9586
      },
      "text/plain": [
       "<IPython.core.display.JSON object>"
      ]
     },
     "execution_count": 6,
     "metadata": {
      "application/json": {
       "expanded": false,
       "root": "root"
      }
     },
     "output_type": "execute_result"
    }
   ],
   "source": [
    "JSON(mv.query('(cadd.gene.genename:BRAF)', fields='cadd,cadd.sift'))"
   ]
  },
  {
   "cell_type": "code",
   "execution_count": 7,
   "metadata": {},
   "outputs": [
    {
     "data": {
      "application/json": {
       "hits": [
        {
         "_id": "CIVIC_VARIANT:618",
         "_score": 3.4231763,
         "civic": {
          "_license": "https://goo.gl/gPCAyH",
          "coordinates": {
           "chromosome": "7",
           "chromosome2": "7",
           "ensembl_version": 75,
           "reference_build": "GRCh37",
           "representative_transcript": "ENST00000440172.1",
           "representative_transcript2": "ENST00000288602.6",
           "start": 138545885,
           "start2": 140434279,
           "stop": 138666064,
           "stop2": 140487384
          },
          "entrez_id": 673,
          "entrez_name": "BRAF",
          "evidence_items": [
           {
            "clinical_significance": "Sensitivity",
            "description": "A patient with a malignant spindle cell tumor of the chest wall treated as a soft tissue sarcoma was identified to harbor a KIAA1549-BRAF fusion. This patient responded to treatment with the pan-kinase inhibitor sorafenib in combination with bevacizumab and temsirolimus, achieving stable disease after 2 cycles extending into 11 cycles at which time she expired due to co-morbidities (acute myocardial infarction, hypotension). Of note, sequencing of 236 cancer-related genes identified CDKN2A A68fs*51, SUFU E283fs*3, MAP3K1 N325fs*3 and homozygous deletion of PTEN as well.",
            "disease": {
             "display_name": "Sarcoma",
             "doid": "DOID:1115",
             "id": 105,
             "name": "Sarcoma",
             "url": "http://www.disease-ontology.org/?id=DOID:1115"
            },
            "drug_interaction_type": "Combination",
            "drugs": [
             {
              "id": 83,
              "name": "Temsirolimus"
             },
             {
              "id": 33,
              "name": "Bevacizumab"
             },
             {
              "id": 6,
              "name": "Sorafenib"
             }
            ],
            "evidence_direction": "Supports",
            "evidence_level": "C",
            "evidence_type": "Predictive",
            "id": 1664,
            "name": "EID1664",
            "open_change_count": 0,
            "rating": 2,
            "source": {
             "citation": "Subbiah et al., 2014, J Hematol Oncol",
             "full_journal_title": "Journal of hematology & oncology",
             "id": 1198,
             "is_review": false,
             "journal": "J Hematol Oncol",
             "name": "Targeted therapy by combined inhibition of the RAF and mTOR kinases in malignant spindle cell neoplasm harboring the KIAA1549-BRAF fusion protein.",
             "open_access": true,
             "pmc_id": "PMC3896681",
             "publication_date": {
              "day": 14,
              "month": 1,
              "year": 2014
             },
             "pubmed_id": "24422672",
             "source_url": "http://www.ncbi.nlm.nih.gov/pubmed/24422672",
             "status": "fully curated"
            },
            "status": "accepted",
            "type": "evidence",
            "variant_id": 618,
            "variant_origin": "Somatic Mutation"
           },
           {
            "clinical_significance": "Sensitivity",
            "description": "A 65 yr old male patient with metastatic acral lentiginous melanoma (BRAF, NRAS, KIT negative) was found to harbor a KIAA1549-BRAF (intron 15-intron 8) fusion in a subcutaneous metastasis sample after disease progression. Trametinib was started and fatigue and ECOG status improved but imaging revealed slight disease progression after 2 weeks (15 sites measurable, 9 stable, 6 progressive). No new metastases were identified. The patient was switched to pembrolizumab and major disease progression was noted.",
            "disease": {
             "display_name": "Skin Melanoma",
             "doid": "DOID:8923",
             "id": 206,
             "name": "Skin Melanoma",
             "url": "http://www.disease-ontology.org/?id=DOID:8923"
            },
            "drugs": [
             {
              "id": 19,
              "name": "Trametinib"
             }
            ],
            "evidence_direction": "Supports",
            "evidence_level": "C",
            "evidence_type": "Predictive",
            "id": 1571,
            "name": "EID1571",
            "open_change_count": 0,
            "rating": 1,
            "source": {
             "citation": "Menzies et al., 2015, Pigment Cell Melanoma Res",
             "full_journal_title": "Pigment cell & melanoma research",
             "id": 1037,
             "is_review": false,
             "journal": "Pigment Cell Melanoma Res",
             "name": "Clinical activity of the MEK inhibitor trametinib in metastatic melanoma containing BRAF kinase fusion.",
             "open_access": true,
             "pmc_id": "PMC4539279",
             "publication_date": {
              "month": 9,
              "year": 2015
             },
             "pubmed_id": "26072686",
             "source_url": "http://www.ncbi.nlm.nih.gov/pubmed/26072686",
             "status": "fully curated"
            },
            "status": "accepted",
            "type": "evidence",
            "variant_id": 618,
            "variant_origin": "Somatic Mutation"
           }
          ],
          "gene_id": 5,
          "lifecycle_actions": {
           "last_modified": {
            "order": 0,
            "timestamp": "2017-04-19T01:16:03.226Z",
            "user": {
             "area_of_expertise": "Research Scientist",
             "avatar_url": "https://secure.gravatar.com/avatar/df7a6c4023eebf61d7bd8056368798c0.png?d=identicon&r=pg&s=32",
             "avatars": {
              "x128": "https://secure.gravatar.com/avatar/df7a6c4023eebf61d7bd8056368798c0.png?d=identicon&r=pg&s=128",
              "x14": "https://secure.gravatar.com/avatar/df7a6c4023eebf61d7bd8056368798c0.png?d=identicon&r=pg&s=14",
              "x32": "https://secure.gravatar.com/avatar/df7a6c4023eebf61d7bd8056368798c0.png?d=identicon&r=pg&s=32",
              "x64": "https://secure.gravatar.com/avatar/df7a6c4023eebf61d7bd8056368798c0.png?d=identicon&r=pg&s=64"
             },
             "created_at": "2015-10-05T13:05:07.668Z",
             "display_name": "LynzeyK",
             "featured_expert": false,
             "id": 83,
             "last_seen_at": "2017-06-22T01:50:19.699Z",
             "linkedin_profile": "https://www.linkedin.com/in/lynzey-kujan-135a03a3",
             "name": "Lynzey Kujan",
             "orcid": "orcid.org/0000-0001-9225-7361",
             "organization": {
              "description": "The McDonnell Genome Institute (MGI) is a world leader in the fast-paced, constantly changing field of genomics. A truly unique institution, we are pushing the limits of academic research by creating, testing, and implementing new approaches to the study of biology with the goal of understanding human health and disease, as well as evolution and the biology of other organisms.",
              "id": 1,
              "name": "The McDonnell Genome Institute",
              "profile_image": {
               "x128": "/system/organizations/profile_images/000/000/001/x128/MGI_STANDARD4_logo_brown-example_v1b.png?1494525976",
               "x14": "/system/organizations/profile_images/000/000/001/x14/MGI_STANDARD4_logo_brown-example_v1b.png?1494525976",
               "x256": "/system/organizations/profile_images/000/000/001/x256/MGI_STANDARD4_logo_brown-example_v1b.png?1494525976",
               "x32": "/system/organizations/profile_images/000/000/001/x32/MGI_STANDARD4_logo_brown-example_v1b.png?1494525976",
               "x64": "/system/organizations/profile_images/000/000/001/x64/MGI_STANDARD4_logo_brown-example_v1b.png?1494525976"
              },
              "url": "http://genome.wustl.edu/"
             },
             "role": "curator",
             "username": "LynzeyK"
            }
           },
           "last_reviewed": {
            "order": 1,
            "timestamp": "2017-04-25T16:00:08.090Z",
            "user": {
             "area_of_expertise": "Research Scientist",
             "avatar_url": "https://secure.gravatar.com/avatar/17180f9afc9f7f04fff97197c1ee5cb6.png?d=identicon&r=pg&s=32",
             "avatars": {
              "x128": "https://secure.gravatar.com/avatar/17180f9afc9f7f04fff97197c1ee5cb6.png?d=identicon&r=pg&s=128",
              "x14": "https://secure.gravatar.com/avatar/17180f9afc9f7f04fff97197c1ee5cb6.png?d=identicon&r=pg&s=14",
              "x32": "https://secure.gravatar.com/avatar/17180f9afc9f7f04fff97197c1ee5cb6.png?d=identicon&r=pg&s=32",
              "x64": "https://secure.gravatar.com/avatar/17180f9afc9f7f04fff97197c1ee5cb6.png?d=identicon&r=pg&s=64"
             },
             "bio": "Dr. Krysiak is an Instructor at the McDonnell Genome Institute at Washington University School of Medicine where she is involved in the comprehensive genomic analysis of cancer patient cohorts and “n-of-1” studies. She received her PhD in Molecular Genetics and Genomics at Washington University in St. Louis where she focused on the genetics of myelodysplastic syndrome through advanced flow cytometry techniques, primary cell culture and mouse models. She is a founding member of the CIViC team, helping to define the CIViC data model, and a leading content curator and feature development consultant.",
             "created_at": "2015-02-26T04:14:20.953Z",
             "display_name": "kkrysiak",
             "featured_expert": true,
             "id": 6,
             "last_seen_at": "2017-06-20T21:32:57.201Z",
             "linkedin_profile": "kilannin-krysiak-69047819",
             "name": "Kilannin Krysiak",
             "orcid": "0000-0002-6299-9230",
             "organization": {
              "description": "The McDonnell Genome Institute (MGI) is a world leader in the fast-paced, constantly changing field of genomics. A truly unique institution, we are pushing the limits of academic research by creating, testing, and implementing new approaches to the study of biology with the goal of understanding human health and disease, as well as evolution and the biology of other organisms.",
              "id": 1,
              "name": "The McDonnell Genome Institute",
              "profile_image": {
               "x128": "/system/organizations/profile_images/000/000/001/x128/MGI_STANDARD4_logo_brown-example_v1b.png?1494525976",
               "x14": "/system/organizations/profile_images/000/000/001/x14/MGI_STANDARD4_logo_brown-example_v1b.png?1494525976",
               "x256": "/system/organizations/profile_images/000/000/001/x256/MGI_STANDARD4_logo_brown-example_v1b.png?1494525976",
               "x32": "/system/organizations/profile_images/000/000/001/x32/MGI_STANDARD4_logo_brown-example_v1b.png?1494525976",
               "x64": "/system/organizations/profile_images/000/000/001/x64/MGI_STANDARD4_logo_brown-example_v1b.png?1494525976"
              },
              "url": "http://genome.wustl.edu/"
             },
             "role": "admin",
             "username": "kkrysiak"
            }
           }
          },
          "name": "KIAA1549-BRAF",
          "type": "variant",
          "variant_groups": {
           "description": "BRAF fusions are a rare event in several cancer types but enriched in spitzoid melanoma, pilocytic astrocytomas, pancreatic acinar and papillary thyroid cancers. In a large study, they were observed in 55 (0.3%) of 20,573 tumors, across 12 distinct tumor types. Responses to sorafenib and MEK inhibitors have been described.\nRoss et al., Int. J. Cancer: 138, 881–890 (2016)",
           "id": 18,
           "name": "BRAF Fusions",
           "type": "variant_group",
           "variants": [
            {
             "coordinates": {
              "chromosome": "7",
              "chromosome2": "7",
              "ensembl_version": 75,
              "reference_build": "GRCh37",
              "representative_transcript": "ENST00000356239.3",
              "representative_transcript2": "ENST00000288602.6",
              "start": 91570181,
              "start2": 140434279,
              "stop": 91625114,
              "stop2": 140487384
             },
             "entrez_id": 673,
             "entrez_name": "BRAF",
             "gene_id": 5,
             "id": 184,
             "name": "AKAP9-BRAF",
             "type": "variant",
             "variant_types": [
              {
               "description": "A feature fusion where the deletion brings together transcript regions.",
               "display_name": "Transcript Fusion",
               "id": 120,
               "name": "transcript_fusion",
               "so_id": "SO:0001886",
               "url": "http://www.sequenceontology.org/browser/current_svn/term/SO:0001886"
              }
             ]
            },
            {
             "coordinates": {
              "chromosome": "7",
              "chromosome2": "7",
              "ensembl_version": 75,
              "reference_build": "GRCh37",
              "representative_transcript": "ENST00000355413.4",
              "representative_transcript2": "ENST00000288602.6",
              "start": 141250989,
              "start2": 140434279,
              "stop": 141255367,
              "stop2": 140494267
             },
             "entrez_id": 673,
             "entrez_name": "BRAF",
             "gene_id": 5,
             "id": 285,
             "name": "AGK-BRAF",
             "type": "variant",
             "variant_types": [
              {
               "description": "A feature fusion where the deletion brings together transcript regions.",
               "display_name": "Transcript Fusion",
               "id": 120,
               "name": "transcript_fusion",
               "so_id": "SO:0001886",
               "url": "http://www.sequenceontology.org/browser/current_svn/term/SO:0001886"
              }
             ]
            },
            {
             "coordinates": {
              "chromosome": "4",
              "chromosome2": "7",
              "ensembl_version": 75,
              "reference_build": "GRCh37",
              "representative_transcript": "ENST00000265174.4",
              "representative_transcript2": "ENST00000288602.6",
              "start": 108603171,
              "start2": 140434279,
              "stop": 108641608,
              "stop2": 140487384
             },
             "entrez_id": 673,
             "entrez_name": "BRAF",
             "gene_id": 5,
             "id": 286,
             "name": "PAPSS1-BRAF",
             "type": "variant",
             "variant_types": [
              {
               "description": "A sequence variant whereby a two genes have become joined.",
               "display_name": "Gene Fusion",
               "id": 31,
               "name": "gene_fusion",
               "so_id": "SO:0001565",
               "url": "http://www.sequenceontology.org/browser/current_svn/term/SO:0001565"
              },
              {
               "description": "A feature fusion where the deletion brings together transcript regions.",
               "display_name": "Transcript Fusion",
               "id": 120,
               "name": "transcript_fusion",
               "so_id": "SO:0001886",
               "url": "http://www.sequenceontology.org/browser/current_svn/term/SO:0001886"
              }
             ]
            },
            {
             "coordinates": {
              "chromosome": "7",
              "chromosome2": "7",
              "ensembl_version": 75,
              "reference_build": "GRCh37",
              "representative_transcript": "ENST00000343526.4",
              "representative_transcript2": "ENST00000288602.6",
              "start": 138145079,
              "start2": 140434279,
              "stop": 138239711,
              "stop2": 140487384
             },
             "entrez_id": 673,
             "entrez_name": "BRAF",
             "gene_id": 5,
             "id": 287,
             "name": "TRIM24-BRAF",
             "type": "variant",
             "variant_types": [
              {
               "description": "A feature fusion where the deletion brings together transcript regions.",
               "display_name": "Transcript Fusion",
               "id": 120,
               "name": "transcript_fusion",
               "so_id": "SO:0001886",
               "url": "http://www.sequenceontology.org/browser/current_svn/term/SO:0001886"
              }
             ]
            },
            {
             "coordinates": {
              "chromosome": "11",
              "chromosome2": "7",
              "ensembl_version": 75,
              "reference_build": "GRCh37",
              "representative_transcript": "ENST00000299492.4",
              "representative_transcript2": "ENST00000288602.6",
              "start": 7535001,
              "start2": 140434279,
              "stop": 7586998,
              "stop2": 140481493
             },
             "entrez_id": 673,
             "entrez_name": "BRAF",
             "gene_id": 5,
             "id": 617,
             "name": "PPFIBP2-BRAF",
             "type": "variant",
             "variant_types": [
              {
               "description": "A feature fusion where the deletion brings together transcript regions.",
               "display_name": "Transcript Fusion",
               "id": 120,
               "name": "transcript_fusion",
               "so_id": "SO:0001886",
               "url": "http://www.sequenceontology.org/browser/current_svn/term/SO:0001886"
              }
             ]
            },
            {
             "coordinates": {
              "chromosome": "7",
              "chromosome2": "7",
              "ensembl_version": 75,
              "reference_build": "GRCh37",
              "representative_transcript": "ENST00000440172.1",
              "representative_transcript2": "ENST00000288602.6",
              "start": 138545885,
              "start2": 140434279,
              "stop": 138666064,
              "stop2": 140487384
             },
             "entrez_id": 673,
             "entrez_name": "BRAF",
             "gene_id": 5,
             "id": 618,
             "name": "KIAA1549-BRAF",
             "type": "variant",
             "variant_types": [
              {
               "description": "A feature fusion where the deletion brings together transcript regions.",
               "display_name": "Transcript Fusion",
               "id": 120,
               "name": "transcript_fusion",
               "so_id": "SO:0001886",
               "url": "http://www.sequenceontology.org/browser/current_svn/term/SO:0001886"
              }
             ]
            },
            {
             "coordinates": {
              "chromosome": "7",
              "chromosome2": "7",
              "ensembl_version": 75,
              "reference_build": "GRCh37",
              "representative_transcript": "ENST00000288602.6",
              "representative_transcript2": "ENST00000602748.1",
              "start": 140434279,
              "start2": 148395737,
              "stop": 140487384,
              "stop2": 148457588
             },
             "entrez_id": 673,
             "entrez_name": "BRAF",
             "gene_id": 5,
             "id": 656,
             "name": "BRAF-CUL1",
             "type": "variant",
             "variant_types": [
              {
               "description": "A feature fusion where the deletion brings together transcript regions.",
               "display_name": "Transcript Fusion",
               "id": 120,
               "name": "transcript_fusion",
               "so_id": "SO:0001886",
               "url": "http://www.sequenceontology.org/browser/current_svn/term/SO:0001886"
              }
             ]
            },
            {
             "coordinates": {
              "chromosome": "7",
              "chromosome2": "7",
              "ensembl_version": 75,
              "reference_build": "GRCh37",
              "representative_transcript": "ENST00000426572.1",
              "representative_transcript2": "ENST00000288602.6",
              "start": 99613222,
              "start2": 140434279,
              "stop": 99627575,
              "stop2": 140482957
             },
             "entrez_id": 673,
             "entrez_name": "BRAF",
             "gene_id": 5,
             "id": 657,
             "name": "ZKSCAN1-BRAF",
             "type": "variant",
             "variant_types": [
              {
               "description": "A feature fusion where the deletion brings together transcript regions.",
               "display_name": "Transcript Fusion",
               "id": 120,
               "name": "transcript_fusion",
               "so_id": "SO:0001886",
               "url": "http://www.sequenceontology.org/browser/current_svn/term/SO:0001886"
              }
             ]
            }
           ]
          },
          "variant_id": 618,
          "variant_types": {
           "description": "A feature fusion where the deletion brings together transcript regions.",
           "display_name": "Transcript Fusion",
           "id": 120,
           "name": "transcript_fusion",
           "so_id": "SO:0001886",
           "url": "http://www.sequenceontology.org/browser/current_svn/term/SO:0001886"
          }
         },
         "observed": true
        },
        {
         "_id": "CIVIC_VARIANT:1269",
         "_score": 3.3787246,
         "civic": {
          "_license": "https://goo.gl/gPCAyH",
          "coordinates": {
           "chromosome": "7",
           "ensembl_version": 75,
           "reference_build": "GRCh37",
           "representative_transcript": "ENST00000288602.6",
           "start": 140434279,
           "stop": 140624564
          },
          "entrez_id": 673,
          "entrez_name": "BRAF",
          "evidence_items": {
           "clinical_significance": "Resistance or Non-Response",
           "description": "Paired pre-treatment and post-progression tumor biopsies from BRAF-mutant CRC patients treated with RAF inhibitor combinations were analyzed. Alterations in MAPK pathway genes were found in resistant tumors not present in matched pre-treatment tumors, including KRAS amplification, BRAF amplification, and a MEK1 mutation.",
           "disease": {
            "display_name": "Colorectal Cancer",
            "doid": "DOID:9256",
            "id": 11,
            "name": "Colorectal Cancer",
            "url": "http://www.disease-ontology.org/?id=DOID:9256"
           },
           "drug_interaction_type": "Combination",
           "drugs": [
            {
             "id": 22,
             "name": "Dabrafenib"
            },
            {
             "id": 28,
             "name": "Panitumumab"
            }
           ],
           "evidence_direction": "Supports",
           "evidence_level": "C",
           "evidence_type": "Predictive",
           "id": 2929,
           "name": "EID2929",
           "open_change_count": 0,
           "rating": 3,
           "source": {
            "citation": "Ahronian et al., 2015, Cancer Discov",
            "full_journal_title": "Cancer discovery",
            "id": 1681,
            "is_review": false,
            "journal": "Cancer Discov",
            "name": "Clinical Acquired Resistance to RAF Inhibitor Combinations in BRAF-Mutant Colorectal Cancer through MAPK Pathway Alterations.",
            "open_access": true,
            "pmc_id": "PMC4390490",
            "publication_date": {
             "month": 4,
             "year": 2015
            },
            "pubmed_id": "25673644",
            "source_url": "http://www.ncbi.nlm.nih.gov/pubmed/25673644",
            "status": "fully curated"
           },
           "status": "accepted",
           "type": "evidence",
           "variant_id": 1269,
           "variant_origin": "Somatic Mutation"
          },
          "gene_id": 5,
          "lifecycle_actions": {
           "last_modified": {
            "order": 0,
            "timestamp": "2017-04-21T21:57:50.343Z",
            "user": {
             "area_of_expertise": "Research Scientist",
             "avatar_url": "https://secure.gravatar.com/avatar/df7a6c4023eebf61d7bd8056368798c0.png?d=identicon&r=pg&s=32",
             "avatars": {
              "x128": "https://secure.gravatar.com/avatar/df7a6c4023eebf61d7bd8056368798c0.png?d=identicon&r=pg&s=128",
              "x14": "https://secure.gravatar.com/avatar/df7a6c4023eebf61d7bd8056368798c0.png?d=identicon&r=pg&s=14",
              "x32": "https://secure.gravatar.com/avatar/df7a6c4023eebf61d7bd8056368798c0.png?d=identicon&r=pg&s=32",
              "x64": "https://secure.gravatar.com/avatar/df7a6c4023eebf61d7bd8056368798c0.png?d=identicon&r=pg&s=64"
             },
             "created_at": "2015-10-05T13:05:07.668Z",
             "display_name": "LynzeyK",
             "featured_expert": false,
             "id": 83,
             "last_seen_at": "2017-06-22T01:57:50.367Z",
             "linkedin_profile": "https://www.linkedin.com/in/lynzey-kujan-135a03a3",
             "name": "Lynzey Kujan",
             "orcid": "orcid.org/0000-0001-9225-7361",
             "organization": {
              "description": "The McDonnell Genome Institute (MGI) is a world leader in the fast-paced, constantly changing field of genomics. A truly unique institution, we are pushing the limits of academic research by creating, testing, and implementing new approaches to the study of biology with the goal of understanding human health and disease, as well as evolution and the biology of other organisms.",
              "id": 1,
              "name": "The McDonnell Genome Institute",
              "profile_image": {
               "x128": "/system/organizations/profile_images/000/000/001/x128/MGI_STANDARD4_logo_brown-example_v1b.png?1494525976",
               "x14": "/system/organizations/profile_images/000/000/001/x14/MGI_STANDARD4_logo_brown-example_v1b.png?1494525976",
               "x256": "/system/organizations/profile_images/000/000/001/x256/MGI_STANDARD4_logo_brown-example_v1b.png?1494525976",
               "x32": "/system/organizations/profile_images/000/000/001/x32/MGI_STANDARD4_logo_brown-example_v1b.png?1494525976",
               "x64": "/system/organizations/profile_images/000/000/001/x64/MGI_STANDARD4_logo_brown-example_v1b.png?1494525976"
              },
              "url": "http://genome.wustl.edu/"
             },
             "role": "curator",
             "username": "LynzeyK"
            }
           },
           "last_reviewed": {
            "order": 1,
            "timestamp": "2017-04-25T15:43:12.725Z",
            "user": {
             "area_of_expertise": "Research Scientist",
             "avatar_url": "https://secure.gravatar.com/avatar/17180f9afc9f7f04fff97197c1ee5cb6.png?d=identicon&r=pg&s=32",
             "avatars": {
              "x128": "https://secure.gravatar.com/avatar/17180f9afc9f7f04fff97197c1ee5cb6.png?d=identicon&r=pg&s=128",
              "x14": "https://secure.gravatar.com/avatar/17180f9afc9f7f04fff97197c1ee5cb6.png?d=identicon&r=pg&s=14",
              "x32": "https://secure.gravatar.com/avatar/17180f9afc9f7f04fff97197c1ee5cb6.png?d=identicon&r=pg&s=32",
              "x64": "https://secure.gravatar.com/avatar/17180f9afc9f7f04fff97197c1ee5cb6.png?d=identicon&r=pg&s=64"
             },
             "bio": "Dr. Krysiak is an Instructor at the McDonnell Genome Institute at Washington University School of Medicine where she is involved in the comprehensive genomic analysis of cancer patient cohorts and “n-of-1” studies. She received her PhD in Molecular Genetics and Genomics at Washington University in St. Louis where she focused on the genetics of myelodysplastic syndrome through advanced flow cytometry techniques, primary cell culture and mouse models. She is a founding member of the CIViC team, helping to define the CIViC data model, and a leading content curator and feature development consultant.",
             "created_at": "2015-02-26T04:14:20.953Z",
             "display_name": "kkrysiak",
             "featured_expert": true,
             "id": 6,
             "last_seen_at": "2017-06-20T21:32:57.201Z",
             "linkedin_profile": "kilannin-krysiak-69047819",
             "name": "Kilannin Krysiak",
             "orcid": "0000-0002-6299-9230",
             "organization": {
              "description": "The McDonnell Genome Institute (MGI) is a world leader in the fast-paced, constantly changing field of genomics. A truly unique institution, we are pushing the limits of academic research by creating, testing, and implementing new approaches to the study of biology with the goal of understanding human health and disease, as well as evolution and the biology of other organisms.",
              "id": 1,
              "name": "The McDonnell Genome Institute",
              "profile_image": {
               "x128": "/system/organizations/profile_images/000/000/001/x128/MGI_STANDARD4_logo_brown-example_v1b.png?1494525976",
               "x14": "/system/organizations/profile_images/000/000/001/x14/MGI_STANDARD4_logo_brown-example_v1b.png?1494525976",
               "x256": "/system/organizations/profile_images/000/000/001/x256/MGI_STANDARD4_logo_brown-example_v1b.png?1494525976",
               "x32": "/system/organizations/profile_images/000/000/001/x32/MGI_STANDARD4_logo_brown-example_v1b.png?1494525976",
               "x64": "/system/organizations/profile_images/000/000/001/x64/MGI_STANDARD4_logo_brown-example_v1b.png?1494525976"
              },
              "url": "http://genome.wustl.edu/"
             },
             "role": "admin",
             "username": "kkrysiak"
            }
           }
          },
          "name": "AMPLIFICATION",
          "type": "variant",
          "variant_id": 1269,
          "variant_types": {
           "description": "A feature amplification of a region containing a transcript.",
           "display_name": "Transcript Amplification",
           "id": 123,
           "name": "transcript_amplification",
           "so_id": "SO:0001889",
           "url": "http://www.sequenceontology.org/browser/current_svn/term/SO:0001889"
          }
         },
         "observed": true
        },
        {
         "_id": "CIVIC_VARIANT:991",
         "_score": 3.3787246,
         "civic": {
          "_license": "https://goo.gl/gPCAyH",
          "coordinates": {
           "reference_build": "GRCh37"
          },
          "entrez_id": 673,
          "entrez_name": "BRAF",
          "evidence_items": [
           {
            "description": "In a patient with cutaneous melanoma of the occiput harboring BRAF V600R mutation, BRAF V600R mutation was associated with improved response to vemurafenib treatment. The patient was treated with vemurafenib monotherapy and at 8 weeks obtained a 75% partial response per RECIST criteria; at 19 weeks of treatment, disease progression was observed.",
            "disease": {
             "display_name": "Skin Melanoma",
             "doid": "DOID:8923",
             "id": 206,
             "name": "Skin Melanoma",
             "url": "http://www.disease-ontology.org/?id=DOID:8923"
            },
            "drugs": [
             {
              "id": 4,
              "name": "Vemurafenib"
             }
            ],
            "evidence_level": "C",
            "evidence_type": "Predictive",
            "id": 4172,
            "name": "EID4172",
            "open_change_count": 0,
            "source": {
             "citation": "Klein et al., 2013, Eur. J. Cancer",
             "full_journal_title": "European journal of cancer (Oxford, England : 1990)",
             "id": 356,
             "is_review": false,
             "journal": "Eur. J. Cancer",
             "name": "BRAF inhibitor activity in V600R metastatic melanoma.",
             "publication_date": {
              "month": 3,
              "year": 2013
             },
             "pubmed_id": "23237741",
             "source_url": "http://www.ncbi.nlm.nih.gov/pubmed/23237741",
             "status": "fully curated"
            },
            "status": "submitted",
            "type": "evidence",
            "variant_id": 991,
            "variant_origin": "Somatic Mutation"
           },
           {
            "clinical_significance": "Sensitivity",
            "description": "In an in vitro study, the WM1341D cell line expressing BRAF V600R was associated with increased sensitivity to vemurafenib treatment, as compared to cell lines expressing BRAF wild-type. Sensitivity was determined by proliferation assay.",
            "disease": {
             "display_name": "Melanoma",
             "doid": "DOID:1909",
             "id": 7,
             "name": "Melanoma",
             "url": "http://www.disease-ontology.org/?id=DOID:1909"
            },
            "drugs": [
             {
              "id": 4,
              "name": "Vemurafenib"
             }
            ],
            "evidence_direction": "Supports",
            "evidence_level": "D",
            "evidence_type": "Predictive",
            "id": 4171,
            "name": "EID4171",
            "open_change_count": 0,
            "source": {
             "citation": "Yang et al., 2010, Cancer Res.",
             "full_journal_title": "Cancer research",
             "id": 351,
             "is_review": false,
             "journal": "Cancer Res.",
             "name": "RG7204 (PLX4032), a selective BRAFV600E inhibitor, displays potent antitumor activity in preclinical melanoma models.",
             "publication_date": {
              "day": 1,
              "month": 7,
              "year": 2010
             },
             "pubmed_id": "20551065",
             "source_url": "http://www.ncbi.nlm.nih.gov/pubmed/20551065",
             "status": "fully curated"
            },
            "status": "submitted",
            "type": "evidence",
            "variant_id": 991,
            "variant_origin": "Somatic Mutation"
           },
           {
            "clinical_significance": "Sensitivity",
            "description": "In a retrospective study of 30 metastatic melanoma patients with progressing metastases, a metastatic melanoma patient harboring BRAF V600R mutation achieved a favorable response to vemurafenib treatment.",
            "disease": {
             "display_name": "Melanoma",
             "doid": "DOID:1909",
             "id": 7,
             "name": "Melanoma",
             "url": "http://www.disease-ontology.org/?id=DOID:1909"
            },
            "drugs": [
             {
              "id": 4,
              "name": "Vemurafenib"
             }
            ],
            "evidence_direction": "Supports",
            "evidence_level": "C",
            "evidence_type": "Predictive",
            "id": 4170,
            "name": "EID4170",
            "open_change_count": 0,
            "source": {
             "citation": "Rizos et al., 2014, Clin. Cancer Res.",
             "full_journal_title": "Clinical cancer research : an official journal of the American Association for Cancer Research",
             "id": 1951,
             "is_review": false,
             "journal": "Clin. Cancer Res.",
             "name": "BRAF inhibitor resistance mechanisms in metastatic melanoma: spectrum and clinical impact.",
             "publication_date": {
              "day": 1,
              "month": 4,
              "year": 2014
             },
             "pubmed_id": "24463458",
             "source_url": "http://www.ncbi.nlm.nih.gov/pubmed/24463458",
             "status": "fully curated"
            },
            "status": "submitted",
            "type": "evidence",
            "variant_id": 991,
            "variant_origin": "Somatic Mutation"
           }
          ],
          "gene_id": 5,
          "name": "V600R",
          "type": "variant",
          "variant_id": 991
         },
         "observed": true
        },
        {
         "_id": "CIVIC_VARIANT:1185",
         "_score": 3.3787246,
         "civic": {
          "_license": "https://goo.gl/gPCAyH",
          "coordinates": {
           "reference_build": "GRCh37"
          },
          "entrez_id": 673,
          "entrez_name": "BRAF",
          "gene_id": 5,
          "name": "T599I",
          "type": "variant",
          "variant_id": 1185
         },
         "observed": true
        },
        {
         "_id": "CIVIC_VARIANT:17",
         "_score": 3.3322046,
         "civic": {
          "_license": "https://goo.gl/gPCAyH",
          "coordinates": {
           "chromosome": "7",
           "ensembl_version": 75,
           "reference_build": "GRCh37",
           "representative_transcript": "ENST00000288602.6",
           "start": 140453136,
           "stop": 140453137
          },
          "description": "BRAF mutations of the valine 600 residue have been shown to be recurrent in many cancer types. Of the V600 mutations, V600E is the most widely researched. V600 mutations as a whole have been correlated to poorer prognosis in colorectal and papilarry thyroid cancers. V600 mutations have also been shown to confer sensitivity to the BRAF inhibitor dabrafenib. For a more detailed summary, click the individual mutation pages on the left sidebar.",
          "entrez_id": 673,
          "entrez_name": "BRAF",
          "evidence_items": [
           {
            "clinical_significance": "Sensitivity",
            "description": "Melanoma patients with BRAF V600E/K mutations had longer progression-free survival, increased tumor regression,  and increased duration of response to combined dabrafenib and trametinib treatment compared to dabrafenib alone.",
            "disease": {
             "display_name": "Melanoma",
             "doid": "DOID:1909",
             "id": 7,
             "name": "Melanoma",
             "url": "http://www.disease-ontology.org/?id=DOID:1909"
            },
            "drug_interaction_type": "Combination",
            "drugs": [
             {
              "id": 19,
              "name": "Trametinib"
             },
             {
              "id": 22,
              "name": "Dabrafenib"
             }
            ],
            "evidence_direction": "Supports",
            "evidence_level": "B",
            "evidence_type": "Predictive",
            "id": 93,
            "name": "EID93",
            "open_change_count": 0,
            "rating": 3,
            "source": {
             "citation": "Flaherty et al., 2012, N. Engl. J. Med.",
             "full_journal_title": "The New England journal of medicine",
             "id": 103,
             "is_review": false,
             "journal": "N. Engl. J. Med.",
             "name": "Combined BRAF and MEK inhibition in melanoma with BRAF V600 mutations.",
             "open_access": true,
             "pmc_id": "PMC3549295",
             "publication_date": {
              "month": 11,
              "year": 2012
             },
             "pubmed_id": "23020132",
             "source_url": "http://www.ncbi.nlm.nih.gov/pubmed/23020132",
             "status": "fully curated"
            },
            "status": "accepted",
            "type": "evidence",
            "variant_id": 17,
            "variant_origin": "Somatic Mutation"
           },
           {
            "clinical_significance": "Sensitivity",
            "description": "Patients who had histologically confirmed, unresectable stage IIIC or IV cutaneous melanoma with a V600E or V600K BRAF mutation were eligible for the study. 322 eligible patients (281 with the V600E mutation, 40 with the V600K mutation, and 1 with both mutations) in a 2:1 ratio to receive oral trametinib (2 mg once daily) or intravenous chemotherapy consisting of either dacarbazine (1000 mg per square meter of body-surface area) or paclitaxel (175 mg per square meter), at the discretion of the investigator, every 3 weeks. The primary end point was progression-free survival; secondary end points included overall survival, overall response rate, duration of response, and safety. Treatment continued until disease progression, death, or withdrawal from the study. In the intention-to-treat population, the median duration of progression-free survival was 4.8 months in the trametinib group as compared with 1.5 months in the chemotherapy group (hazard ratio for progression, 0.45; 95% confidence interval [CI], 0.33 to 0.63; P<0.001).  The 6-month overall survival rate in the intention-to-treat population was 81% in the trametinib group and 67% in the chemotherapy group.",
            "disease": {
             "display_name": "Melanoma",
             "doid": "DOID:1909",
             "id": 7,
             "name": "Melanoma",
             "url": "http://www.disease-ontology.org/?id=DOID:1909"
            },
            "drugs": [
             {
              "id": 19,
              "name": "Trametinib"
             }
            ],
            "evidence_direction": "Supports",
            "evidence_level": "B",
            "evidence_type": "Predictive",
            "id": 1750,
            "name": "EID1750",
            "open_change_count": 0,
            "rating": 3,
            "source": {
             "citation": "Flaherty et al., 2012, N. Engl. J. Med.",
             "full_journal_title": "The New England journal of medicine",
             "id": 1210,
             "is_review": false,
             "journal": "N. Engl. J. Med.",
             "name": "Improved survival with MEK inhibition in BRAF-mutated melanoma.",
             "publication_date": {
              "day": 12,
              "month": 7,
              "year": 2012
             },
             "pubmed_id": "22663011",
             "source_url": "http://www.ncbi.nlm.nih.gov/pubmed/22663011",
             "status": "fully curated"
            },
            "status": "accepted",
            "type": "evidence",
            "variant_id": 17,
            "variant_origin": "Somatic Mutation"
           },
           {
            "clinical_significance": "Sensitivity",
            "description": "Patients with BRAF-V600 mutated cancers were identified (n=122) and subsequently underwent targeted therapy. 27 patients with colorectal cancer were treated with vemurafenib and cetuximab (N=24 with BRAF V600E mutation, N=3 with V600 unknown status). One response was observed; however, approximately half the patients had tumor regression that did not meet the standard criteria for a partial response. Median progression-free survival and overall survival for patients receiving combination therapy were 3.7 months (95% CI, 1.8 to 5.1) and 7.1 months (95% CI, 4.4 to not reached), respectively. Patients were heavily pretreated, with a median of two lines of previous therapy (range, one to six).",
            "disease": {
             "display_name": "Colorectal Cancer",
             "doid": "DOID:9256",
             "id": 11,
             "name": "Colorectal Cancer",
             "url": "http://www.disease-ontology.org/?id=DOID:9256"
            },
            "drug_interaction_type": "Combination",
            "drugs": [
             {
              "id": 4,
              "name": "Vemurafenib"
             },
             {
              "id": 16,
              "name": "Cetuximab"
             }
            ],
            "evidence_direction": "Does Not Support",
            "evidence_level": "B",
            "evidence_type": "Predictive",
            "id": 1598,
            "name": "EID1598",
            "open_change_count": 0,
            "rating": 2,
            "source": {
             "citation": "Hyman et al., 2015, N. Engl. J. Med.",
             "full_journal_title": "The New England journal of medicine",
             "id": 1040,
             "is_review": false,
             "journal": "N. Engl. J. Med.",
             "name": "Vemurafenib in Multiple Nonmelanoma Cancers with BRAF V600 Mutations.",
             "open_access": true,
             "pmc_id": "PMC4971773",
             "publication_date": {
              "day": 20,
              "month": 8,
              "year": 2015
             },
             "pubmed_id": "26287849",
             "source_url": "http://www.ncbi.nlm.nih.gov/pubmed/26287849",
             "status": "fully curated"
            },
            "status": "accepted",
            "type": "evidence",
            "variant_id": 17,
            "variant_origin": "Somatic Mutation"
           },
           {
            "clinical_significance": "Sensitivity",
            "description": "Patients with BRAF-V600 mutated cancers were identified (n=122) and clinical response to vemurafenib was evaluated.  Of the 14 patients with Langerhans’-cell histiocytosis, 43% of patients had a response to vemurafenib (1 complete and 5 partial responses), disease regression was observed in 12/14 patients, all patients detailed improvement in disease-related symptoms, 0 patients had progressive disease during treatment, 12-month progression free survival was 91%, and overall survival rate was 100%.\nAmong all 18 patients with Erdheim-Chester disease or Langerhans histiocytosis, 94% had BRAF V600E mutations and the remaining 6 percent (1 patient) had an unknown V600 mutation.",
            "disease": {
             "display_name": "Langerhans-Cell Histiocytosis",
             "doid": "DOID:2571",
             "id": 2136,
             "name": "Langerhans-Cell Histiocytosis",
             "url": "http://www.disease-ontology.org/?id=DOID:2571"
            },
            "drugs": [
             {
              "id": 4,
              "name": "Vemurafenib"
             }
            ],
            "evidence_direction": "Supports",
            "evidence_level": "B",
            "evidence_type": "Predictive",
            "id": 1575,
            "name": "EID1575",
            "open_change_count": 0,
            "rating": 3,
            "source": {
             "citation": "Hyman et al., 2015, N. Engl. J. Med.",
             "full_journal_title": "The New England journal of medicine",
             "id": 1040,
             "is_review": false,
             "journal": "N. Engl. J. Med.",
             "name": "Vemurafenib in Multiple Nonmelanoma Cancers with BRAF V600 Mutations.",
             "open_access": true,
             "pmc_id": "PMC4971773",
             "publication_date": {
              "day": 20,
              "month": 8,
              "year": 2015
             },
             "pubmed_id": "26287849",
             "source_url": "http://www.ncbi.nlm.nih.gov/pubmed/26287849",
             "status": "fully curated"
            },
            "status": "accepted",
            "type": "evidence",
            "variant_id": 17,
            "variant_origin": "Somatic Mutation"
           },
           {
            "clinical_significance": "Sensitivity",
            "description": "Patients with BRAF-V600 mutated cancers were identified (n=122) and clinical response to vemurafenib was evaluated. Of the 20 patients with non-small-cell-lung cancer (17 with BRAF V600E, one with BRAF V600G and one with BRAF V600 unknown status), 19 were evaluable and the response rate to vemurafenib was 42%, tumor regression was observed in 14/19 patients, progression-free survival was 7.3 months, and 12-month overall survival was 66%.",
            "disease": {
             "display_name": "Non-small Cell Lung Carcinoma",
             "doid": "DOID:3908",
             "id": 8,
             "name": "Non-small Cell Lung Carcinoma",
             "url": "http://www.disease-ontology.org/?id=DOID:3908"
            },
            "drugs": [
             {
              "id": 4,
              "name": "Vemurafenib"
             }
            ],
            "evidence_direction": "Supports",
            "evidence_level": "B",
            "evidence_type": "Predictive",
            "id": 1574,
            "name": "EID1574",
            "open_change_count": 0,
            "rating": 3,
            "source": {
             "citation": "Hyman et al., 2015, N. Engl. J. Med.",
             "full_journal_title": "The New England journal of medicine",
             "id": 1040,
             "is_review": false,
             "journal": "N. Engl. J. Med.",
             "name": "Vemurafenib in Multiple Nonmelanoma Cancers with BRAF V600 Mutations.",
             "open_access": true,
             "pmc_id": "PMC4971773",
             "publication_date": {
              "day": 20,
              "month": 8,
              "year": 2015
             },
             "pubmed_id": "26287849",
             "source_url": "http://www.ncbi.nlm.nih.gov/pubmed/26287849",
             "status": "fully curated"
            },
            "status": "accepted",
            "type": "evidence",
            "variant_id": 17,
            "variant_origin": "Somatic Mutation"
           },
           {
            "clinical_significance": "Resistance or Non-Response",
            "description": "Patients with BRAF-V600 mutated cancers were identified (n=122) and clinical response to vemurafenib was evaluated.  Of the 10 patients with colorectal cancer (80% BRAF V600E, 20% V600 unknown status), no responses were observed and overall survival was 9.3 months with a median progression-free survival of 4.5 months.",
            "disease": {
             "display_name": "Colorectal Cancer",
             "doid": "DOID:9256",
             "id": 11,
             "name": "Colorectal Cancer",
             "url": "http://www.disease-ontology.org/?id=DOID:9256"
            },
            "drugs": [
             {
              "id": 4,
              "name": "Vemurafenib"
             }
            ],
            "evidence_direction": "Supports",
            "evidence_level": "B",
            "evidence_type": "Predictive",
            "id": 1576,
            "name": "EID1576",
            "open_change_count": 0,
            "rating": 3,
            "source": {
             "citation": "Hyman et al., 2015, N. Engl. J. Med.",
             "full_journal_title": "The New England journal of medicine",
             "id": 1040,
             "is_review": false,
             "journal": "N. Engl. J. Med.",
             "name": "Vemurafenib in Multiple Nonmelanoma Cancers with BRAF V600 Mutations.",
             "open_access": true,
             "pmc_id": "PMC4971773",
             "publication_date": {
              "day": 20,
              "month": 8,
              "year": 2015
             },
             "pubmed_id": "26287849",
             "source_url": "http://www.ncbi.nlm.nih.gov/pubmed/26287849",
             "status": "fully curated"
            },
            "status": "accepted",
            "type": "evidence",
            "variant_id": 17,
            "variant_origin": "Somatic Mutation"
           },
           {
            "clinical_significance": "Sensitivity",
            "description": "In clinical trial NCT01072175, 43 patients with BRAF V600 metastatic colorectal cancer (CRC) received mutant BRAF inhibitor dabrafenib and MEK inhibitor trametinib. Only 12% of patients showed  partial response or better, with one complete response lasting 36 months and ongoing after data cutoff. 56% of patients achieved stable disease. The median progression free survival (PFS) was 3.5 months, longer than the median PFS (2.5 months) reported for metastatic CRC treated with standard chemotherapy. The authors conclude that MAPK targeting in CRC is a valid approach that can produce meaningful responses but additional work is required to more effectively inhibit the pathway.",
            "disease": {
             "display_name": "Colorectal Cancer",
             "doid": "DOID:9256",
             "id": 11,
             "name": "Colorectal Cancer",
             "url": "http://www.disease-ontology.org/?id=DOID:9256"
            },
            "drug_interaction_type": "Combination",
            "drugs": [
             {
              "id": 19,
              "name": "Trametinib"
             },
             {
              "id": 22,
              "name": "Dabrafenib"
             }
            ],
            "evidence_direction": "Supports",
            "evidence_level": "B",
            "evidence_type": "Predictive",
            "id": 1415,
            "name": "EID1415",
            "open_change_count": 0,
            "rating": 2,
            "source": {
             "citation": "Corcoran et al., 2015, J. Clin. Oncol.",
             "full_journal_title": "Journal of clinical oncology : official journal of the American Society of Clinical Oncology",
             "id": 959,
             "is_review": false,
             "journal": "J. Clin. Oncol.",
             "name": "Combined BRAF and MEK Inhibition With Dabrafenib and Trametinib in BRAF V600-Mutant Colorectal Cancer.",
             "open_access": true,
             "pmc_id": "PMC4669588",
             "publication_date": {
              "day": 1,
              "month": 12,
              "year": 2015
             },
             "pubmed_id": "26392102",
             "source_url": "http://www.ncbi.nlm.nih.gov/pubmed/26392102",
             "status": "fully curated"
            },
            "status": "accepted",
            "type": "evidence",
            "variant_id": 17,
            "variant_origin": "Somatic Mutation"
           },
           {
            "clinical_significance": "Sensitivity",
            "description": "In the NCT00880321 trial using mutant BRAF inhibitor dabrafenib in solid tumors, 10 cases of melanoma brain metastases were assessed for dabrafenib response. In nine patients a decrease in size of metastases was seen, and in four cases a complete resolution of brain lesions was observed. This subset of patients had median progression free survival of 4.2 months.",
            "disease": {
             "display_name": "Melanoma",
             "doid": "DOID:1909",
             "id": 7,
             "name": "Melanoma",
             "url": "http://www.disease-ontology.org/?id=DOID:1909"
            },
            "drugs": [
             {
              "id": 22,
              "name": "Dabrafenib"
             }
            ],
            "evidence_direction": "Supports",
            "evidence_level": "B",
            "evidence_type": "Predictive",
            "id": 1407,
            "name": "EID1407",
            "open_change_count": 0,
            "rating": 4,
            "source": {
             "citation": "Falchook et al., 2012, Lancet",
             "full_journal_title": "Lancet (London, England)",
             "id": 345,
             "is_review": false,
             "journal": "Lancet",
             "name": "Dabrafenib in patients with melanoma, untreated brain metastases, and other solid tumours: a phase 1 dose-escalation trial.",
             "open_access": true,
             "pmc_id": "PMC4109288",
             "publication_date": {
              "day": 19,
              "month": 5,
              "year": 2012
             },
             "pubmed_id": "22608338",
             "source_url": "http://www.ncbi.nlm.nih.gov/pubmed/22608338",
             "status": "fully curated"
            },
            "status": "accepted",
            "type": "evidence",
            "variant_id": 17,
            "variant_origin": "Somatic Mutation"
           },
           {
            "clinical_significance": "Resistance or Non-Response",
            "description": "In metastatic colorectal cancer patients with wildtype KRAS, BRAF mutations were associated with poor progression free survival regardless of treatment (panitumumab with best supportive care or best supportive care alone).",
            "disease": {
             "display_name": "Colorectal Cancer",
             "doid": "DOID:9256",
             "id": 11,
             "name": "Colorectal Cancer",
             "url": "http://www.disease-ontology.org/?id=DOID:9256"
            },
            "drugs": [
             {
              "id": 28,
              "name": "Panitumumab"
             }
            ],
            "evidence_direction": "Supports",
            "evidence_level": "B",
            "evidence_type": "Predictive",
            "id": 88,
            "name": "EID88",
            "open_change_count": 0,
            "rating": 3,
            "source": {
             "citation": "Peeters et al., 2013, Clin. Cancer Res.",
             "full_journal_title": "Clinical cancer research : an official journal of the American Association for Cancer Research",
             "id": 99,
             "is_review": false,
             "journal": "Clin. Cancer Res.",
             "name": "Massively parallel tumor multigene sequencing to evaluate response to panitumumab in a randomized phase III study of metastatic colorectal cancer.",
             "publication_date": {
              "day": 1,
              "month": 4,
              "year": 2013
             },
             "pubmed_id": "23325582",
             "source_url": "http://www.ncbi.nlm.nih.gov/pubmed/23325582",
             "status": "fully curated"
            },
            "status": "accepted",
            "type": "evidence",
            "variant_id": 17,
            "variant_origin": "Somatic Mutation"
           },
           {
            "clinical_significance": "Resistance or Non-Response",
            "description": "Phase I trial of the mitogen-activated protein kinase 1/2 inhibitor BAY 86-9766. 2 of 2 patients with BRAF mutant melanoma had moderate progressive disease (despite receiving the highest doses administered in the study).",
            "disease": {
             "display_name": "Melanoma",
             "doid": "DOID:1909",
             "id": 7,
             "name": "Melanoma",
             "url": "http://www.disease-ontology.org/?id=DOID:1909"
            },
            "drugs": [
             {
              "id": 309,
              "name": "BAY 86-9766"
             }
            ],
            "evidence_direction": "Supports",
            "evidence_level": "C",
            "evidence_type": "Predictive",
            "id": 1000,
            "name": "EID1000",
            "open_change_count": 0,
            "rating": 2,
            "source": {
             "citation": "Weekes et al., 2013, Clin. Cancer Res.",
             "full_journal_title": "Clinical cancer research : an official journal of the American Association for Cancer Research",
             "id": 690,
             "is_review": false,
             "journal": "Clin. Cancer Res.",
             "name": "Multicenter phase I trial of the mitogen-activated protein kinase 1/2 inhibitor BAY 86-9766 in patients with advanced cancer.",
             "publication_date": {
              "day": 1,
              "month": 3,
              "year": 2013
             },
             "pubmed_id": "23434733",
             "source_url": "http://www.ncbi.nlm.nih.gov/pubmed/23434733",
             "status": "fully curated"
            },
            "status": "accepted",
            "type": "evidence",
            "variant_id": 17,
            "variant_origin": "Somatic Mutation"
           },
           {
            "clinical_significance": "Sensitivity",
            "description": "Phase I expansion and pharmacodynamic study of oral MEK inhibitor RO4987655. Partial response was observed in 4 of 17 patients with BRAF V600 mutated melanoma. 2 patients with prior vemurafenib treatment progressed under treatment.",
            "disease": {
             "display_name": "Melanoma",
             "doid": "DOID:1909",
             "id": 7,
             "name": "Melanoma",
             "url": "http://www.disease-ontology.org/?id=DOID:1909"
            },
            "drugs": [
             {
              "id": 243,
              "name": "RO4987655"
             }
            ],
            "evidence_direction": "Supports",
            "evidence_level": "B",
            "evidence_type": "Predictive",
            "id": 994,
            "name": "EID994",
            "open_change_count": 0,
            "rating": 2,
            "source": {
             "citation": "Zimmer et al., 2014, Clin. Cancer Res.",
             "full_journal_title": "Clinical cancer research : an official journal of the American Association for Cancer Research",
             "id": 688,
             "is_review": false,
             "journal": "Clin. Cancer Res.",
             "name": "Phase I expansion and pharmacodynamic study of the oral MEK inhibitor RO4987655 (CH4987655) in selected patients with advanced cancer with RAS-RAF mutations.",
             "publication_date": {
              "day": 15,
              "month": 8,
              "year": 2014
             },
             "pubmed_id": "24947927",
             "source_url": "http://www.ncbi.nlm.nih.gov/pubmed/24947927",
             "status": "fully curated"
            },
            "status": "accepted",
            "type": "evidence",
            "variant_id": 17,
            "variant_origin": "Somatic Mutation"
           },
           {
            "clinical_significance": "Positive",
            "description": "BRAF mutations are associated with melanoma arising in non-chronic sun damaged skin and with superficial spreading melanoma.",
            "disease": {
             "display_name": "Melanoma",
             "doid": "DOID:1909",
             "id": 7,
             "name": "Melanoma",
             "url": "http://www.disease-ontology.org/?id=DOID:1909"
            },
            "evidence_direction": "Supports",
            "evidence_level": "B",
            "evidence_type": "Diagnostic",
            "id": 30,
            "name": "EID30",
            "open_change_count": 0,
            "rating": 4,
            "source": {
             "citation": "Lee et al., 2011, Br. J. Dermatol.",
             "full_journal_title": "The British journal of dermatology",
             "id": 71,
             "is_review": false,
             "journal": "Br. J. Dermatol.",
             "name": "Frequencies of BRAF and NRAS mutations are different in histological types and sites of origin of cutaneous melanoma: a meta-analysis.",
             "publication_date": {
              "month": 4,
              "year": 2011
             },
             "pubmed_id": "21166657",
             "source_url": "http://www.ncbi.nlm.nih.gov/pubmed/21166657",
             "status": "fully curated"
            },
            "status": "accepted",
            "type": "evidence",
            "variant_id": 17,
            "variant_origin": "Somatic Mutation"
           }
          ],
          "gene_id": 5,
          "lifecycle_actions": {
           "last_modified": {
            "order": 0,
            "timestamp": "2016-08-27T22:31:09.408Z",
            "user": {
             "area_of_expertise": "Research Scientist",
             "avatar_url": "https://secure.gravatar.com/avatar/17180f9afc9f7f04fff97197c1ee5cb6.png?d=identicon&r=pg&s=32",
             "avatars": {
              "x128": "https://secure.gravatar.com/avatar/17180f9afc9f7f04fff97197c1ee5cb6.png?d=identicon&r=pg&s=128",
              "x14": "https://secure.gravatar.com/avatar/17180f9afc9f7f04fff97197c1ee5cb6.png?d=identicon&r=pg&s=14",
              "x32": "https://secure.gravatar.com/avatar/17180f9afc9f7f04fff97197c1ee5cb6.png?d=identicon&r=pg&s=32",
              "x64": "https://secure.gravatar.com/avatar/17180f9afc9f7f04fff97197c1ee5cb6.png?d=identicon&r=pg&s=64"
             },
             "bio": "Dr. Krysiak is an Instructor at the McDonnell Genome Institute at Washington University School of Medicine where she is involved in the comprehensive genomic analysis of cancer patient cohorts and “n-of-1” studies. She received her PhD in Molecular Genetics and Genomics at Washington University in St. Louis where she focused on the genetics of myelodysplastic syndrome through advanced flow cytometry techniques, primary cell culture and mouse models. She is a founding member of the CIViC team, helping to define the CIViC data model, and a leading content curator and feature development consultant.",
             "created_at": "2015-02-26T04:14:20.953Z",
             "display_name": "kkrysiak",
             "featured_expert": true,
             "id": 6,
             "last_seen_at": "2017-06-20T21:32:57.201Z",
             "linkedin_profile": "kilannin-krysiak-69047819",
             "name": "Kilannin Krysiak",
             "orcid": "0000-0002-6299-9230",
             "organization": {
              "description": "The McDonnell Genome Institute (MGI) is a world leader in the fast-paced, constantly changing field of genomics. A truly unique institution, we are pushing the limits of academic research by creating, testing, and implementing new approaches to the study of biology with the goal of understanding human health and disease, as well as evolution and the biology of other organisms.",
              "id": 1,
              "name": "The McDonnell Genome Institute",
              "profile_image": {
               "x128": "/system/organizations/profile_images/000/000/001/x128/MGI_STANDARD4_logo_brown-example_v1b.png?1494525976",
               "x14": "/system/organizations/profile_images/000/000/001/x14/MGI_STANDARD4_logo_brown-example_v1b.png?1494525976",
               "x256": "/system/organizations/profile_images/000/000/001/x256/MGI_STANDARD4_logo_brown-example_v1b.png?1494525976",
               "x32": "/system/organizations/profile_images/000/000/001/x32/MGI_STANDARD4_logo_brown-example_v1b.png?1494525976",
               "x64": "/system/organizations/profile_images/000/000/001/x64/MGI_STANDARD4_logo_brown-example_v1b.png?1494525976"
              },
              "url": "http://genome.wustl.edu/"
             },
             "role": "admin",
             "username": "kkrysiak"
            }
           },
           "last_reviewed": {
            "order": 1,
            "timestamp": "2016-08-28T21:55:16.542Z",
            "user": {
             "area_of_expertise": "Research Scientist",
             "avatar_url": "https://secure.gravatar.com/avatar/4c468e9a95d6135e02eb66ee5f2fb574.png?d=identicon&r=pg&s=32",
             "avatars": {
              "x128": "https://secure.gravatar.com/avatar/4c468e9a95d6135e02eb66ee5f2fb574.png?d=identicon&r=pg&s=128",
              "x14": "https://secure.gravatar.com/avatar/4c468e9a95d6135e02eb66ee5f2fb574.png?d=identicon&r=pg&s=14",
              "x32": "https://secure.gravatar.com/avatar/4c468e9a95d6135e02eb66ee5f2fb574.png?d=identicon&r=pg&s=32",
              "x64": "https://secure.gravatar.com/avatar/4c468e9a95d6135e02eb66ee5f2fb574.png?d=identicon&r=pg&s=64"
             },
             "bio": "Dr. Griffith is Assistant Professor of Medicine and Assistant Director of the McDonnell Genome Institute at Washington University School of Medicine. He has worked in genomics and bioinformatics since the earliest phase of reference genome sequencing. He contributed to the Mammalian Gene Collection, producing some of the first full-length sequences for many human genes. He also was part of a small team of bioinformaticians that helped sequence and release the first whole genome reference sequence for the severe acute respiratory syndrome (SARS) virus at the height of the 2003 epidemic. He has contributed to the identification of molecular markers at the DNA, RNA and protein level that are useful for diagnosis and prognosis of thyroid, breast, lymphoma and other cancers. His lab’s research is focused on the development of informatics resources and personalized medicine strategies for cancer using genomic technologies. He is a co-creator of the CIViC resource.",
             "created_at": "2015-02-26T02:53:49.147Z",
             "display_name": "obigriffith",
             "featured_expert": true,
             "id": 3,
             "last_seen_at": "2017-06-19T11:51:38.338Z",
             "linkedin_profile": "obigriffith",
             "name": "Obi Griffith",
             "orcid": "0000-0002-0843-4271",
             "organization": {
              "description": "The McDonnell Genome Institute (MGI) is a world leader in the fast-paced, constantly changing field of genomics. A truly unique institution, we are pushing the limits of academic research by creating, testing, and implementing new approaches to the study of biology with the goal of understanding human health and disease, as well as evolution and the biology of other organisms.",
              "id": 1,
              "name": "The McDonnell Genome Institute",
              "profile_image": {
               "x128": "/system/organizations/profile_images/000/000/001/x128/MGI_STANDARD4_logo_brown-example_v1b.png?1494525976",
               "x14": "/system/organizations/profile_images/000/000/001/x14/MGI_STANDARD4_logo_brown-example_v1b.png?1494525976",
               "x256": "/system/organizations/profile_images/000/000/001/x256/MGI_STANDARD4_logo_brown-example_v1b.png?1494525976",
               "x32": "/system/organizations/profile_images/000/000/001/x32/MGI_STANDARD4_logo_brown-example_v1b.png?1494525976",
               "x64": "/system/organizations/profile_images/000/000/001/x64/MGI_STANDARD4_logo_brown-example_v1b.png?1494525976"
              },
              "url": "http://genome.wustl.edu/"
             },
             "role": "admin",
             "twitter_handle": "obigriffith",
             "url": "http://genome.wustl.edu/people/individual/obi-griffith/",
             "username": "obigriffith"
            }
           }
          },
          "name": "V600",
          "type": "variant",
          "variant_groups": {
           "description": "While BRAF V600E is nearly ubiquitous in many cancer types, other V600 variants have also been observed and studied to a lesser degree. At first approximation, many of these variants seem to behave similarly to V600E, and treatment with dabrafenib has been shown to be effective. ",
           "id": 5,
           "name": "Other V600's",
           "type": "variant_group",
           "variants": [
            {
             "coordinates": {
              "chromosome": "7",
              "ensembl_version": 75,
              "reference_bases": "CA",
              "reference_build": "GRCh37",
              "representative_transcript": "ENST00000288602.6",
              "start": 140453135,
              "stop": 140453136,
              "variant_bases": "TA"
             },
             "description": "Patients harboring mutations in valine 600 residue of BRAF have been shown to be sensitive to dabrafenib. For more information on the V600 locus, see the V600E entry.",
             "entrez_id": 673,
             "entrez_name": "BRAF",
             "gene_id": 5,
             "id": 11,
             "name": "V600D",
             "type": "variant",
             "variant_types": [
              {
               "description": "A sequence variant, that changes one or more bases, resulting in a different amino acid sequence but where the length is preserved.",
               "display_name": "Missense Variant",
               "id": 47,
               "name": "missense_variant",
               "so_id": "SO:0001583",
               "url": "http://www.sequenceontology.org/browser/current_svn/term/SO:0001583"
              }
             ]
            },
            {
             "coordinates": {
              "chromosome": "7",
              "ensembl_version": 75,
              "reference_build": "GRCh37",
              "representative_transcript": "ENST00000288602.6",
              "start": 140453135,
              "stop": 140453137
             },
             "description": "A case study of a single patient harboring both a V600E and a V600M mutation, dabrafenib was shown to acheive clinical response.",
             "entrez_id": 673,
             "entrez_name": "BRAF",
             "gene_id": 5,
             "id": 13,
             "name": "V600E+V600M",
             "type": "variant",
             "variant_types": [
              {
               "description": "A sequence variant, that changes one or more bases, resulting in a different amino acid sequence but where the length is preserved.",
               "display_name": "Missense Variant",
               "id": 47,
               "name": "missense_variant",
               "so_id": "SO:0001583",
               "url": "http://www.sequenceontology.org/browser/current_svn/term/SO:0001583"
              }
             ]
            },
            {
             "coordinates": {
              "chromosome": "7",
              "ensembl_version": 75,
              "reference_build": "GRCh37",
              "representative_transcript": "ENST00000288602.6",
              "start": 140453136,
              "stop": 140453137
             },
             "description": "BRAF mutations of the valine 600 residue have been shown to be recurrent in many cancer types. Of the V600 mutations, V600E is the most widely researched. V600 mutations as a whole have been correlated to poorer prognosis in colorectal and papilarry thyroid cancers. V600 mutations have also been shown to confer sensitivity to the BRAF inhibitor dabrafenib. For a more detailed summary, click the individual mutation pages on the left sidebar.",
             "entrez_id": 673,
             "entrez_name": "BRAF",
             "gene_id": 5,
             "id": 17,
             "name": "V600",
             "type": "variant",
             "variant_types": [
              {
               "description": "A sequence_variant which is predicted to change the protein encoded in the coding sequence.",
               "display_name": "Protein Altering Variant",
               "id": 103,
               "name": "protein_altering_variant",
               "so_id": "SO:0001818",
               "url": "http://www.sequenceontology.org/browser/current_svn/term/SO:0001818"
              }
             ]
            },
            {
             "coordinates": {
              "chromosome": "7",
              "ensembl_version": 75,
              "reference_bases": "A",
              "reference_build": "GRCh37",
              "representative_transcript": "ENST00000288602.6",
              "start": 140453145,
              "stop": 140453145,
              "variant_bases": "C"
             },
             "entrez_id": 673,
             "entrez_name": "BRAF",
             "gene_id": 5,
             "id": 288,
             "name": "L597R",
             "type": "variant",
             "variant_types": [
              {
               "description": "A sequence variant, that changes one or more bases, resulting in a different amino acid sequence but where the length is preserved.",
               "display_name": "Missense Variant",
               "id": 47,
               "name": "missense_variant",
               "so_id": "SO:0001583",
               "url": "http://www.sequenceontology.org/browser/current_svn/term/SO:0001583"
              }
             ]
            },
            {
             "coordinates": {
              "chromosome": "7",
              "ensembl_version": 75,
              "reference_bases": "AC",
              "reference_build": "GRCh37",
              "representative_transcript": "ENST00000288602.6",
              "start": 140453136,
              "stop": 140453137,
              "variant_bases": "TT"
             },
             "entrez_id": 673,
             "entrez_name": "BRAF",
             "gene_id": 5,
             "id": 563,
             "name": "V600K",
             "type": "variant",
             "variant_types": [
              {
               "description": "A sequence variant, that changes one or more bases, resulting in a different amino acid sequence but where the length is preserved.",
               "display_name": "Missense Variant",
               "id": 47,
               "name": "missense_variant",
               "so_id": "SO:0001583",
               "url": "http://www.sequenceontology.org/browser/current_svn/term/SO:0001583"
              }
             ]
            }
           ]
          },
          "variant_id": 17,
          "variant_types": {
           "description": "A sequence_variant which is predicted to change the protein encoded in the coding sequence.",
           "display_name": "Protein Altering Variant",
           "id": 103,
           "name": "protein_altering_variant",
           "so_id": "SO:0001818",
           "url": "http://www.sequenceontology.org/browser/current_svn/term/SO:0001818"
          }
         },
         "observed": true
        }
       ],
       "max_score": 3.4231763,
       "took": 4,
       "total": 55
      },
      "text/plain": [
       "<IPython.core.display.JSON object>"
      ]
     },
     "execution_count": 7,
     "metadata": {
      "application/json": {
       "expanded": false,
       "root": "root"
      }
     },
     "output_type": "execute_result"
    }
   ],
   "source": [
    "JSON(mv.query('civic.entrez_name:BRAF', size=5))"
   ]
  },
  {
   "cell_type": "code",
   "execution_count": 8,
   "metadata": {},
   "outputs": [
    {
     "data": {
      "application/json": {
       "hits": [
        {
         "_id": "chr7:g.140453136A>T",
         "_score": 8.695459,
         "civic": {
          "_license": "https://goo.gl/gPCAyH",
          "clinvar_entries": "13961",
          "coordinates": {
           "chromosome": "7",
           "ensembl_version": 75,
           "reference_bases": "A",
           "reference_build": "GRCh37",
           "representative_transcript": "ENST00000288602.6",
           "start": 140453136,
           "stop": 140453136,
           "variant_bases": "T"
          },
          "description": "BRAF V600E has been shown to be recurrent in many cancer types. It is one of the most widely studied variants in cancer. This variant is correlated with poor prognosis in certain cancer types, including colorectal cancer and papillary thyroid cancer. The targeted therapeutic dabrafenib has been shown to be effective in clinical trials with an array of BRAF mutations and cancer types. Dabrafenib has also shown to be effective when combined with the MEK inhibitor trametinib in colorectal cancer and melanoma. However, in patients with TP53, CDKN2A and KRAS mutations, dabrafenib resistance has been reported. Ipilimumab, regorafenib, vemurafenib, and a number of combination therapies have been successful in treating V600E mutations. However, cetuximab and panitumumab have been largely shown to be ineffective without supplementary treatment.",
          "entrez_id": 673,
          "entrez_name": "BRAF",
          "evidence_items": [
           {
            "clinical_significance": "Resistance or Non-Response",
            "description": "In the setting of BRAF(V600E), NF1 loss resulted in elevated activation of RAS-GTP and resistance to RAF inhibitors.",
            "disease": {
             "display_name": "Melanoma",
             "doid": "DOID:1909",
             "id": 7,
             "name": "Melanoma",
             "url": "http://www.disease-ontology.org/?id=DOID:1909"
            },
            "drugs": [
             {
              "id": 4,
              "name": "Vemurafenib"
             }
            ],
            "evidence_direction": "Supports",
            "evidence_level": "D",
            "evidence_type": "Predictive",
            "id": 90,
            "name": "EID90",
            "open_change_count": 0,
            "rating": 3,
            "source": {
             "citation": "Nissan et al., 2014, Cancer Res.",
             "full_journal_title": "Cancer research",
             "id": 98,
             "is_review": false,
             "journal": "Cancer Res.",
             "name": "Loss of NF1 in cutaneous melanoma is associated with RAS activation and MEK dependence.",
             "open_access": true,
             "pmc_id": "PMC4005042",
             "publication_date": {
              "day": 15,
              "month": 4,
              "year": 2014
             },
             "pubmed_id": "24576830",
             "source_url": "http://www.ncbi.nlm.nih.gov/pubmed/24576830",
             "status": "fully curated"
            },
            "status": "accepted",
            "type": "evidence",
            "variant_id": 12,
            "variant_origin": "Somatic Mutation"
           },
           {
            "description": "BRAF status does not predict outcome in patients treated with dacarbazine or temozolomide.",
            "disease": {
             "display_name": "Melanoma",
             "doid": "DOID:1909",
             "id": 7,
             "name": "Melanoma",
             "url": "http://www.disease-ontology.org/?id=DOID:1909"
            },
            "drug_interaction_type": "Substitutes",
            "drugs": [
             {
              "id": 25,
              "name": "Dacarbazine"
             },
             {
              "id": 11,
              "name": "Temozolomide"
             }
            ],
            "evidence_direction": "Does Not Support",
            "evidence_level": "B",
            "evidence_type": "Predictive",
            "id": 82,
            "name": "EID82",
            "open_change_count": 0,
            "rating": 2,
            "source": {
             "citation": "Meckbach et al., 2014, PLoS ONE",
             "full_journal_title": "PloS one",
             "id": 96,
             "is_review": false,
             "journal": "PLoS ONE",
             "name": "BRAF-V600 mutations have no prognostic impact in stage IV melanoma patients treated with monochemotherapy.",
             "open_access": true,
             "pmc_id": "PMC3930670",
             "publication_date": {
              "year": 2014
             },
             "pubmed_id": "24586605",
             "source_url": "http://www.ncbi.nlm.nih.gov/pubmed/24586605",
             "status": "fully curated"
            },
            "status": "accepted",
            "type": "evidence",
            "variant_id": 12,
            "variant_origin": "Somatic Mutation"
           },
           {
            "clinical_significance": "Resistance or Non-Response",
            "description": "Cetuximab or panitumumab may be ineffective in patients with BRAF mutation unless BRAF inhibitor such as Sorafenib is introduced.",
            "disease": {
             "display_name": "Colorectal Cancer",
             "doid": "DOID:9256",
             "id": 11,
             "name": "Colorectal Cancer",
             "url": "http://www.disease-ontology.org/?id=DOID:9256"
            },
            "drugs": [
             {
              "id": 6,
              "name": "Sorafenib"
             }
            ],
            "evidence_direction": "Supports",
            "evidence_level": "D",
            "evidence_type": "Predictive",
            "id": 89,
            "name": "EID89",
            "open_change_count": 1,
            "rating": 3,
            "source": {
             "citation": "Di Nicolantonio et al., 2008, J. Clin. Oncol.",
             "full_journal_title": "Journal of clinical oncology : official journal of the American Society of Clinical Oncology",
             "id": 100,
             "is_review": false,
             "journal": "J. Clin. Oncol.",
             "name": "Wild-type BRAF is required for response to panitumumab or cetuximab in metastatic colorectal cancer.",
             "publication_date": {
              "day": 10,
              "month": 12,
              "year": 2008
             },
             "pubmed_id": "19001320",
             "source_url": "http://www.ncbi.nlm.nih.gov/pubmed/19001320",
             "status": "fully curated"
            },
            "status": "accepted",
            "type": "evidence",
            "variant_id": 12,
            "variant_origin": "Somatic Mutation"
           },
           {
            "clinical_significance": "Resistance or Non-Response",
            "description": "In a patient with V600E-positive NSCLC, KRAS G12D seemed to confer resistance to dabrafenib.",
            "disease": {
             "display_name": "Non-small Cell Lung Carcinoma",
             "doid": "DOID:3908",
             "id": 8,
             "name": "Non-small Cell Lung Carcinoma",
             "url": "http://www.disease-ontology.org/?id=DOID:3908"
            },
            "drugs": [
             {
              "id": 22,
              "name": "Dabrafenib"
             }
            ],
            "evidence_direction": "Supports",
            "evidence_level": "C",
            "evidence_type": "Predictive",
            "id": 91,
            "name": "EID91",
            "open_change_count": 0,
            "rating": 2,
            "source": {
             "citation": "Rudin et al., 2013, J Thorac Oncol",
             "full_journal_title": "Journal of thoracic oncology : official publication of the International Association for the Study of Lung Cancer",
             "id": 101,
             "is_review": false,
             "journal": "J Thorac Oncol",
             "name": "Molecular characterization of acquired resistance to the BRAF inhibitor dabrafenib in a patient with BRAF-mutant non-small-cell lung cancer.",
             "open_access": true,
             "pmc_id": "PMC3634121",
             "publication_date": {
              "month": 5,
              "year": 2013
             },
             "pubmed_id": "23524406",
             "source_url": "http://www.ncbi.nlm.nih.gov/pubmed/23524406",
             "status": "fully curated"
            },
            "status": "accepted",
            "type": "evidence",
            "variant_id": 12,
            "variant_origin": "Somatic Mutation"
           },
           {
            "clinical_significance": "Sensitivity",
            "description": "Dabrafenib with trametinib provides higher response rate and lower toxicity (as compared to chemotherapy) in patients with melanoma.",
            "disease": {
             "display_name": "Melanoma",
             "doid": "DOID:1909",
             "id": 7,
             "name": "Melanoma",
             "url": "http://www.disease-ontology.org/?id=DOID:1909"
            },
            "drug_interaction_type": "Combination",
            "drugs": [
             {
              "id": 22,
              "name": "Dabrafenib"
             },
             {
              "id": 19,
              "name": "Trametinib"
             }
            ],
            "evidence_direction": "Supports",
            "evidence_level": "B",
            "evidence_type": "Predictive",
            "id": 95,
            "name": "EID95",
            "open_change_count": 0,
            "rating": 5,
            "source": {
             "citation": "Menzies et al., 2014, Clin. Cancer Res.",
             "full_journal_title": "Clinical cancer research : an official journal of the American Association for Cancer Research",
             "id": 105,
             "is_review": false,
             "journal": "Clin. Cancer Res.",
             "name": "Dabrafenib and trametinib, alone and in combination for BRAF-mutant metastatic melanoma.",
             "publication_date": {
              "day": 15,
              "month": 4,
              "year": 2014
             },
             "pubmed_id": "24583796",
             "source_url": "http://www.ncbi.nlm.nih.gov/pubmed/24583796",
             "status": "fully curated"
            },
            "status": "accepted",
            "type": "evidence",
            "variant_id": 12,
            "variant_origin": "Somatic Mutation"
           },
           {
            "clinical_significance": "Sensitivity",
            "description": "Combined MEK inhibitor GDC0941 and BRAF inhibitor PLX4720 administration to NSG mice subcutanousely injected with colorectal cell lines with a BRAF V600E mutation effectively inhibited tumor growth and reduced cellular proliferation.",
            "disease": {
             "display_name": "Colorectal Cancer",
             "doid": "DOID:9256",
             "id": 11,
             "name": "Colorectal Cancer",
             "url": "http://www.disease-ontology.org/?id=DOID:9256"
            },
            "drug_interaction_type": "Combination",
            "drugs": [
             {
              "id": 30,
              "name": "PLX4720"
             },
             {
              "id": 515,
              "name": "GDC0941"
             }
            ],
            "evidence_direction": "Supports",
            "evidence_level": "D",
            "evidence_type": "Predictive",
            "id": 96,
            "name": "EID96",
            "open_change_count": 0,
            "rating": 3,
            "source": {
             "citation": "Rad et al., 2013, Cancer Cell",
             "full_journal_title": "Cancer cell",
             "id": 106,
             "is_review": false,
             "journal": "Cancer Cell",
             "name": "A genetic progression model of Braf(V600E)-induced intestinal tumorigenesis reveals targets for therapeutic intervention.",
             "open_access": true,
             "pmc_id": "PMC3706745",
             "publication_date": {
              "day": 8,
              "month": 7,
              "year": 2013
             },
             "pubmed_id": "23845441",
             "source_url": "http://www.ncbi.nlm.nih.gov/pubmed/23845441",
             "status": "fully curated"
            },
            "status": "accepted",
            "type": "evidence",
            "variant_id": 12,
            "variant_origin": "Somatic Mutation"
           },
           {
            "clinical_significance": "Sensitivity",
            "description": "Combined nutlin-3 and PLX4720 administration to athymic nude mice subcutanousely injected with the A357 colorectal cell line with a BRAF V600E mutation effectively inhibited tumor growth significantly more than single agent therapy.",
            "disease": {
             "display_name": "Colorectal Cancer",
             "doid": "DOID:9256",
             "id": 11,
             "name": "Colorectal Cancer",
             "url": "http://www.disease-ontology.org/?id=DOID:9256"
            },
            "drug_interaction_type": "Combination",
            "drugs": [
             {
              "id": 30,
              "name": "PLX4720"
             },
             {
              "id": 31,
              "name": "Nutlin-3"
             }
            ],
            "evidence_direction": "Supports",
            "evidence_level": "D",
            "evidence_type": "Predictive",
            "id": 97,
            "name": "EID97",
            "open_change_count": 0,
            "rating": 2,
            "source": {
             "citation": "Ji et al., 2013, Clin. Cancer Res.",
             "full_journal_title": "Clinical cancer research : an official journal of the American Association for Cancer Research",
             "id": 107,
             "is_review": false,
             "journal": "Clin. Cancer Res.",
             "name": "Vemurafenib synergizes with nutlin-3 to deplete survivin and suppresses melanoma viability and tumor growth.",
             "open_access": true,
             "pmc_id": "PMC3777641",
             "publication_date": {
              "day": 15,
              "month": 8,
              "year": 2013
             },
             "pubmed_id": "23812671",
             "source_url": "http://www.ncbi.nlm.nih.gov/pubmed/23812671",
             "status": "fully curated"
            },
            "status": "accepted",
            "type": "evidence",
            "variant_id": 12,
            "variant_origin": "Somatic Mutation"
           },
           {
            "clinical_significance": "Sensitivity",
            "description": "Mouse xenografts using HT29 cells harboring the BRAF V600E mutation treated with combination therapy (capecitabine, vemurafenib, bevacizumab) showed increased survival and reduced tumor burden compared to single and double agent therapies.",
            "disease": {
             "display_name": "Colorectal Cancer",
             "doid": "DOID:9256",
             "id": 11,
             "name": "Colorectal Cancer",
             "url": "http://www.disease-ontology.org/?id=DOID:9256"
            },
            "drug_interaction_type": "Combination",
            "drugs": [
             {
              "id": 32,
              "name": "Capecitabine"
             },
             {
              "id": 4,
              "name": "Vemurafenib"
             },
             {
              "id": 33,
              "name": "Bevacizumab"
             }
            ],
            "evidence_direction": "Supports",
            "evidence_level": "D",
            "evidence_type": "Predictive",
            "id": 98,
            "name": "EID98",
            "open_change_count": 0,
            "rating": 2,
            "source": {
             "citation": "Yang et al., 2012, Cancer Res.",
             "full_journal_title": "Cancer research",
             "id": 108,
             "is_review": false,
             "journal": "Cancer Res.",
             "name": "Antitumor activity of BRAF inhibitor vemurafenib in preclinical models of BRAF-mutant colorectal cancer.",
             "publication_date": {
              "day": 1,
              "month": 2,
              "year": 2012
             },
             "pubmed_id": "22180495",
             "source_url": "http://www.ncbi.nlm.nih.gov/pubmed/22180495",
             "status": "fully curated"
            },
            "status": "accepted",
            "type": "evidence",
            "variant_id": 12,
            "variant_origin": "Somatic Mutation"
           },
           {
            "clinical_significance": "Sensitivity",
            "description": "Cell lines expressing the BRAF V600E mutation responded better to vemurafenib treatment than cells wildtype for BRAF as measured by reduced cellular proliferation and inhibition of MET and ERK phosphorylation.",
            "disease": {
             "display_name": "Colorectal Cancer",
             "doid": "DOID:9256",
             "id": 11,
             "name": "Colorectal Cancer",
             "url": "http://www.disease-ontology.org/?id=DOID:9256"
            },
            "drugs": [
             {
              "id": 4,
              "name": "Vemurafenib"
             }
            ],
            "evidence_direction": "Supports",
            "evidence_level": "D",
            "evidence_type": "Predictive",
            "id": 99,
            "name": "EID99",
            "open_change_count": 0,
            "rating": 2,
            "source": {
             "citation": "Yang et al., 2012, Cancer Res.",
             "full_journal_title": "Cancer research",
             "id": 108,
             "is_review": false,
             "journal": "Cancer Res.",
             "name": "Antitumor activity of BRAF inhibitor vemurafenib in preclinical models of BRAF-mutant colorectal cancer.",
             "publication_date": {
              "day": 1,
              "month": 2,
              "year": 2012
             },
             "pubmed_id": "22180495",
             "source_url": "http://www.ncbi.nlm.nih.gov/pubmed/22180495",
             "status": "fully curated"
            },
            "status": "accepted",
            "type": "evidence",
            "variant_id": 12,
            "variant_origin": "Somatic Mutation"
           },
           {
            "clinical_significance": "Resistance or Non-Response",
            "description": "Chemotherapy-refractory patients with colorectal cancer harboring BRAF mutations had lower response and disease control rates as well as shorter progression free and overall survival following cetuximab plus chemotherapy than those with wildtype BRAF.",
            "disease": {
             "display_name": "Colorectal Cancer",
             "doid": "DOID:9256",
             "id": 11,
             "name": "Colorectal Cancer",
             "url": "http://www.disease-ontology.org/?id=DOID:9256"
            },
            "drugs": [
             {
              "id": 16,
              "name": "Cetuximab"
             }
            ],
            "evidence_direction": "Supports",
            "evidence_level": "B",
            "evidence_type": "Predictive",
            "id": 126,
            "name": "EID126",
            "open_change_count": 0,
            "rating": 3,
            "source": {
             "citation": "De Roock et al., 2010, Lancet Oncol.",
             "full_journal_title": "The Lancet. Oncology",
             "id": 76,
             "is_review": false,
             "journal": "Lancet Oncol.",
             "name": "Effects of KRAS, BRAF, NRAS, and PIK3CA mutations on the efficacy of cetuximab plus chemotherapy in chemotherapy-refractory metastatic colorectal cancer: a retrospective consortium analysis.",
             "publication_date": {
              "month": 8,
              "year": 2010
             },
             "pubmed_id": "20619739",
             "source_url": "http://www.ncbi.nlm.nih.gov/pubmed/20619739",
             "status": "partially curated"
            },
            "status": "accepted",
            "type": "evidence",
            "variant_id": 12,
            "variant_origin": "Somatic Mutation"
           },
           {
            "clinical_significance": "Resistance or Non-Response",
            "description": "In the setting of BRAF(V600E), NF1 loss resulted in elevated activation of RAS-GTP but does not show resistance to MEK inhibitors.",
            "disease": {
             "display_name": "Melanoma",
             "doid": "DOID:1909",
             "id": 7,
             "name": "Melanoma",
             "url": "http://www.disease-ontology.org/?id=DOID:1909"
            },
            "drug_interaction_type": "Substitutes",
            "drugs": [
             {
              "id": 19,
              "name": "Trametinib"
             },
             {
              "id": 29,
              "name": "PD0325901"
             }
            ],
            "evidence_direction": "Does Not Support",
            "evidence_level": "D",
            "evidence_type": "Predictive",
            "id": 86,
            "name": "EID86",
            "open_change_count": 0,
            "rating": 3,
            "source": {
             "citation": "Nissan et al., 2014, Cancer Res.",
             "full_journal_title": "Cancer research",
             "id": 98,
             "is_review": false,
             "journal": "Cancer Res.",
             "name": "Loss of NF1 in cutaneous melanoma is associated with RAS activation and MEK dependence.",
             "open_access": true,
             "pmc_id": "PMC4005042",
             "publication_date": {
              "day": 15,
              "month": 4,
              "year": 2014
             },
             "pubmed_id": "24576830",
             "source_url": "http://www.ncbi.nlm.nih.gov/pubmed/24576830",
             "status": "fully curated"
            },
            "status": "accepted",
            "type": "evidence",
            "variant_id": 12,
            "variant_origin": "Somatic Mutation"
           },
           {
            "clinical_significance": "Resistance or Non-Response",
            "description": "In metastatic colorectal cancer patients with wildtype KRAS status who received cetuximab therapy, those with a BRAF V600E mutation had reduced progression-free survival (8.0wk vs. 31.4wk, P=0.001, log-rank test, univariate analysis) and reduced overall survival (6.5mo vs. 14.8mo, P=0.001, log-rank test, univariate analysis; HR:6.6, 95%CI:2.4-18.2, P<0.001, multivariate analysis. Similar associations have been found in independent studies.",
            "disease": {
             "display_name": "Colorectal Cancer",
             "doid": "DOID:9256",
             "id": 11,
             "name": "Colorectal Cancer",
             "url": "http://www.disease-ontology.org/?id=DOID:9256"
            },
            "drugs": [
             {
              "id": 16,
              "name": "Cetuximab"
             }
            ],
            "evidence_direction": "Supports",
            "evidence_level": "B",
            "evidence_type": "Predictive",
            "id": 3736,
            "name": "EID3736",
            "open_change_count": 0,
            "source": {
             "citation": "Laurent-Puig et al., 2009, J. Clin. Oncol.",
             "full_journal_title": "Journal of clinical oncology : official journal of the American Society of Clinical Oncology",
             "id": 1945,
             "is_review": false,
             "journal": "J. Clin. Oncol.",
             "name": "Analysis of PTEN, BRAF, and EGFR status in determining benefit from cetuximab therapy in wild-type KRAS metastatic colon cancer.",
             "publication_date": {
              "day": 10,
              "month": 12,
              "year": 2009
             },
             "pubmed_id": "19884556",
             "source_url": "http://www.ncbi.nlm.nih.gov/pubmed/19884556",
             "status": "fully curated"
            },
            "status": "submitted",
            "type": "evidence",
            "variant_id": 12,
            "variant_origin": "Somatic Mutation"
           },
           {
            "clinical_significance": "Resistance or Non-Response",
            "description": "In metastatic colorectal cancer patients with wildtype KRAS status who received cetuximab therapy, those with a BRAF V600E mutation had reduced progression-free survival (8.0wk vs. 31.4wk, P=0.001, log-rank test, univariate analysis) and reduced overall survival (6.5mo vs. 14.8mo, P=0.001, log-rank test, univariate analysis; HR:6.6, 95%CI:2.4-18.2, P<0.001, multivariate analysis. Similar associations have been found in independent studies.",
            "disease": {
             "display_name": "Colorectal Cancer",
             "doid": "DOID:9256",
             "id": 11,
             "name": "Colorectal Cancer",
             "url": "http://www.disease-ontology.org/?id=DOID:9256"
            },
            "drugs": [
             {
              "id": 16,
              "name": "Cetuximab"
             }
            ],
            "evidence_direction": "Supports",
            "evidence_level": "C",
            "evidence_type": "Predictive",
            "id": 3737,
            "name": "EID3737",
            "open_change_count": 0,
            "source": {
             "citation": "Souglakos et al., 2009, Br. J. Cancer",
             "full_journal_title": "British journal of cancer",
             "id": 1479,
             "is_review": false,
             "journal": "Br. J. Cancer",
             "name": "Prognostic and predictive value of common mutations for treatment response and survival in patients with metastatic colorectal cancer.",
             "open_access": true,
             "pmc_id": "PMC2720232",
             "publication_date": {
              "day": 4,
              "month": 8,
              "year": 2009
             },
             "pubmed_id": "19603024",
             "source_url": "http://www.ncbi.nlm.nih.gov/pubmed/19603024",
             "status": "partially curated"
            },
            "status": "submitted",
            "type": "evidence",
            "variant_id": 12,
            "variant_origin": "Somatic Mutation"
           },
           {
            "clinical_significance": "Resistance or Non-Response",
            "description": "Among metastatic colorectal cancer patients treated with cetuximab and irinotecan, those with BRAF V600E mutations were less likely to achieve a complete or partial response to therapy (0% , P=0.016, Fisher�s exact test) and had shorter median overall survival (4.1mo vs. 13.9mo, HR:0.51, 95%CI:0.18-0.95, P=0.037) than patients with wildtype BRAF.",
            "disease": {
             "display_name": "Colorectal Cancer",
             "doid": "DOID:9256",
             "id": 11,
             "name": "Colorectal Cancer",
             "url": "http://www.disease-ontology.org/?id=DOID:9256"
            },
            "drugs": [
             {
              "id": 16,
              "name": "Cetuximab"
             }
            ],
            "evidence_direction": "Supports",
            "evidence_level": "C",
            "evidence_type": "Predictive",
            "id": 3738,
            "name": "EID3738",
            "open_change_count": 0,
            "source": {
             "citation": "Loupakis et al., 2009, Br. J. Cancer",
             "full_journal_title": "British journal of cancer",
             "id": 1480,
             "is_review": false,
             "journal": "Br. J. Cancer",
             "name": "KRAS codon 61, 146 and BRAF mutations predict resistance to cetuximab plus irinotecan in KRAS codon 12 and 13 wild-type metastatic colorectal cancer.",
             "open_access": true,
             "pmc_id": "PMC2736831",
             "publication_date": {
              "day": 18,
              "month": 8,
              "year": 2009
             },
             "pubmed_id": "19603018",
             "source_url": "http://www.ncbi.nlm.nih.gov/pubmed/19603018",
             "status": "partially curated"
            },
            "status": "submitted",
            "type": "evidence",
            "variant_id": 12,
            "variant_origin": "Somatic Mutation"
           },
           {
            "clinical_significance": "Resistance or Non-Response",
            "description": "In a retrospective study of 148 treatment naive metastatic colorectal cancer patients, patients with BRAF V600E (n=14) mutation treated with FOLFOX4 plus cetuximab were associated with a decreased progression free survival (7.2mo vs. 9.7mo, HR:0.39, 95% CI:0.21-0.72, P=0.0017), and decreased overall survival (11.7mo vs. 28.5mo, HR:0.23, 95% CI:0.12-0.41, P<0.0001), as compared to patients with wildtype BRAF.",
            "disease": {
             "display_name": "Colorectal Cancer",
             "doid": "DOID:9256",
             "id": 11,
             "name": "Colorectal Cancer",
             "url": "http://www.disease-ontology.org/?id=DOID:9256"
            },
            "drugs": [
             {
              "id": 16,
              "name": "Cetuximab"
             }
            ],
            "evidence_direction": "Supports",
            "evidence_level": "B",
            "evidence_type": "Predictive",
            "id": 3739,
            "name": "EID3739",
            "open_change_count": 0,
            "source": {
             "citation": "Kaczirek et al., 2015, Clin Colorectal Cancer",
             "full_journal_title": "Clinical colorectal cancer",
             "id": 1920,
             "is_review": false,
             "journal": "Clin Colorectal Cancer",
             "name": "FOLFOX4 Plus Cetuximab for Patients With Previously Untreated Metastatic Colorectal Cancer According to Tumor RAS and BRAF Mutation Status: Updated Analysis of the CECOG/CORE 1.2.002 Study.",
             "publication_date": {
              "month": 6,
              "year": 2015
             },
             "pubmed_id": "25666295",
             "source_url": "http://www.ncbi.nlm.nih.gov/pubmed/25666295",
             "status": "fully curated"
            },
            "status": "submitted",
            "type": "evidence",
            "variant_id": 12,
            "variant_origin": "Somatic Mutation"
           },
           {
            "clinical_significance": "Resistance or Non-Response",
            "description": "In a retrospective study of 53, KRAS exon 2 wild-type, metastatic colorectal cancer patients, patients harboring BRAF G466A (n=1), G469A (n=2), D594G (n=1), or V600E (n=2) mutations were reported to be non-responders to cetuximab in combination with irinotecan, (BRAF mutation positive: responders vs. non-responders = 0 vs. 6; BRAF wild-type: responders vs. non-responders 30 vs. 17; P=0.004), as compared to patients with wild-type BRAF.",
            "disease": {
             "display_name": "Colorectal Cancer",
             "doid": "DOID:9256",
             "id": 11,
             "name": "Colorectal Cancer",
             "url": "http://www.disease-ontology.org/?id=DOID:9256"
            },
            "drugs": [
             {
              "id": 16,
              "name": "Cetuximab"
             }
            ],
            "evidence_direction": "Supports",
            "evidence_level": "C",
            "evidence_type": "Predictive",
            "id": 3740,
            "name": "EID3740",
            "open_change_count": 0,
            "source": {
             "citation": "Hsu et al., 2016, Oncotarget",
             "full_journal_title": "Oncotarget",
             "id": 1946,
             "is_review": false,
             "journal": "Oncotarget",
             "name": "Mutations of KRAS/NRAS/BRAF predict cetuximab resistance in metastatic colorectal cancer patients.",
             "open_access": true,
             "pmc_id": "PMC5008360",
             "publication_date": {
              "day": 19,
              "month": 4,
              "year": 2016
             },
             "pubmed_id": "26989027",
             "source_url": "http://www.ncbi.nlm.nih.gov/pubmed/26989027",
             "status": "fully curated"
            },
            "status": "submitted",
            "type": "evidence",
            "variant_id": 12,
            "variant_origin": "Somatic Mutation"
           },
           {
            "clinical_significance": "Sensitivity",
            "description": "In an in vitro study, WiDr, HT-29, LS411N, and SW1417 cell lines expressing BRAF V600E and treated with vemurafenib and erlotinib, or vemurafenib and gefitinib were associated with a reduction in cell viability (P<0.01), as compared to cells treated solely with vemurafenib or vehicle. WiDr and HT-29 cell lines expressing BRAF V600E were associated with a modest reduction in cell viability. Sensitivity was determined by assessing cell viability after 72h of vemurafenib treatement. In an in vivo study, WiDr and HT-29 xenografts expression BRAF V600E and treated with vemurafenib and erlotinib combination therapy were associated with reduced tumor volume (P<0.05) as compared to xenografts treated with vemurafenib alone, erlotinib alone, or vehicle alone.",
            "disease": {
             "display_name": "Colorectal Cancer",
             "doid": "DOID:9256",
             "id": 11,
             "name": "Colorectal Cancer",
             "url": "http://www.disease-ontology.org/?id=DOID:9256"
            },
            "drugs": [
             {
              "id": 4,
              "name": "Vemurafenib"
             }
            ],
            "evidence_direction": "Supports",
            "evidence_level": "D",
            "evidence_type": "Predictive",
            "id": 3741,
            "name": "EID3741",
            "open_change_count": 0,
            "source": {
             "citation": "Corcoran et al., 2012, Cancer Discov",
             "full_journal_title": "Cancer discovery",
             "id": 1947,
             "is_review": false,
             "journal": "Cancer Discov",
             "name": "EGFR-mediated re-activation of MAPK signaling contributes to insensitivity of BRAF mutant colorectal cancers to RAF inhibition with vemurafenib.",
             "open_access": true,
             "pmc_id": "PMC3308191",
             "publication_date": {
              "month": 3,
              "year": 2012
             },
             "pubmed_id": "22448344",
             "source_url": "http://www.ncbi.nlm.nih.gov/pubmed/22448344",
             "status": "fully curated"
            },
            "status": "submitted",
            "type": "evidence",
            "variant_id": 12,
            "variant_origin": "Somatic Mutation"
           },
           {
            "clinical_significance": "Sensitivity",
            "description": "In a clinical study of 122 cancer patients, including 37 previously treated colorectal cancer patients harboring BRAF V600 (V600E=32; V600 unknown=5) mutations, stable disease and progressive disease were reported in 50% of patients (n=5/10) treated with vemurafenib monotherapy, respectively.",
            "disease": {
             "display_name": "Colorectal Cancer",
             "doid": "DOID:9256",
             "id": 11,
             "name": "Colorectal Cancer",
             "url": "http://www.disease-ontology.org/?id=DOID:9256"
            },
            "drugs": [
             {
              "id": 4,
              "name": "Vemurafenib"
             }
            ],
            "evidence_direction": "Supports",
            "evidence_level": "C",
            "evidence_type": "Predictive",
            "id": 3742,
            "name": "EID3742",
            "open_change_count": 0,
            "source": {
             "citation": "Hyman et al., 2015, N. Engl. J. Med.",
             "full_journal_title": "The New England journal of medicine",
             "id": 1040,
             "is_review": false,
             "journal": "N. Engl. J. Med.",
             "name": "Vemurafenib in Multiple Nonmelanoma Cancers with BRAF V600 Mutations.",
             "open_access": true,
             "pmc_id": "PMC4971773",
             "publication_date": {
              "day": 20,
              "month": 8,
              "year": 2015
             },
             "pubmed_id": "26287849",
             "source_url": "http://www.ncbi.nlm.nih.gov/pubmed/26287849",
             "status": "fully curated"
            },
            "status": "submitted",
            "type": "evidence",
            "variant_id": 12,
            "variant_origin": "Somatic Mutation"
           },
           {
            "description": "An anaplastic thyroid cancer patient harboring BRAF V600E mutation was associated with response to vemurafenib treatment. The patient was initially treated with paclitaxel, but experienced disease progression; subsequently, the patient was treated concurrently with vemurafenib and radiation therapy and achieved regression of metastatic disease.",
            "disease": {
             "display_name": "Anaplastic Thyroid Carcinoma",
             "doid": "DOID:7012",
             "id": 2603,
             "name": "Anaplastic Thyroid Carcinoma",
             "url": "http://www.disease-ontology.org/?id=DOID:7012"
            },
            "drugs": [
             {
              "id": 4,
              "name": "Vemurafenib"
             }
            ],
            "evidence_level": "C",
            "evidence_type": "Predictive",
            "id": 3743,
            "name": "EID3743",
            "open_change_count": 0,
            "source": {
             "citation": "Rosove et al., 2013, N. Engl. J. Med.",
             "full_journal_title": "The New England journal of medicine",
             "id": 1948,
             "is_review": false,
             "journal": "N. Engl. J. Med.",
             "name": "BRAF V600E inhibition in anaplastic thyroid cancer.",
             "publication_date": {
              "day": 14,
              "month": 2,
              "year": 2013
             },
             "pubmed_id": "23406047",
             "source_url": "http://www.ncbi.nlm.nih.gov/pubmed/23406047",
             "status": "fully curated"
            },
            "status": "submitted",
            "type": "evidence",
            "variant_id": 12,
            "variant_origin": "Somatic Mutation"
           },
           {
            "description": "In an anaplastic thyroid cancer patient harboring BRAF V600E and TP53 E180K co-mutations, BRAF V600E was associated with response to vemurafenib treatment. Prior to identification of the BRAF V600E mutation, the patient was treated with 6 cycles of standard chemotherapy plus radiation and experienced progressive disease; subsequently, the patient achieved a complete response with 61 weeks of vemurafenib monotherapy followed by disease progression.",
            "disease": {
             "display_name": "Anaplastic Thyroid Carcinoma",
             "doid": "DOID:7012",
             "id": 2603,
             "name": "Anaplastic Thyroid Carcinoma",
             "url": "http://www.disease-ontology.org/?id=DOID:7012"
            },
            "drugs": [
             {
              "id": 4,
              "name": "Vemurafenib"
             }
            ],
            "evidence_level": "C",
            "evidence_type": "Predictive",
            "id": 3744,
            "name": "EID3744",
            "open_change_count": 0,
            "source": {
             "citation": "Prager et al., 2016, Thyroid",
             "full_journal_title": "Thyroid : official journal of the American Thyroid Association",
             "id": 1949,
             "is_review": false,
             "journal": "Thyroid",
             "name": "Sustained Response to Vemurafenib in a BRAF(V600E)-Mutated Anaplastic Thyroid Carcinoma Patient.",
             "publication_date": {
              "month": 10,
              "year": 2016
             },
             "pubmed_id": "27532222",
             "source_url": "http://www.ncbi.nlm.nih.gov/pubmed/27532222",
             "status": "fully curated"
            },
            "status": "submitted",
            "type": "evidence",
            "variant_id": 12,
            "variant_origin": "Somatic Mutation"
           },
           {
            "clinical_significance": "Sensitivity",
            "description": "Acquired resistance to vemurafenib in BRAF V600E-positive melanomas frequently confound vemurafenib therapy. Proposed resistance mechanisms include PDGFRB upregulation or NRAS mutations resulting in MAPK pathway reactivation but not secondary mutations in BRAF. MEK inhibitors may demonstrate clinical benefit in vemurafenib resistant melanoma patients.",
            "disease": {
             "display_name": "Melanoma",
             "doid": "DOID:1909",
             "id": 7,
             "name": "Melanoma",
             "url": "http://www.disease-ontology.org/?id=DOID:1909"
            },
            "drugs": [
             {
              "id": 4,
              "name": "Vemurafenib"
             }
            ],
            "evidence_direction": "Supports",
            "evidence_level": "D",
            "evidence_type": "Predictive",
            "id": 3745,
            "name": "EID3745",
            "open_change_count": 0,
            "source": {
             "citation": "Johannessen et al., 2010, Nature",
             "full_journal_title": "Nature",
             "id": 1492,
             "is_review": false,
             "journal": "Nature",
             "name": "COT drives resistance to RAF inhibition through MAP kinase pathway reactivation.",
             "open_access": true,
             "pmc_id": "PMC3058384",
             "publication_date": {
              "day": 16,
              "month": 12,
              "year": 2010
             },
             "pubmed_id": "21107320",
             "source_url": "http://www.ncbi.nlm.nih.gov/pubmed/21107320",
             "status": "partially curated"
            },
            "status": "submitted",
            "type": "evidence",
            "variant_id": 12,
            "variant_origin": "Somatic Mutation"
           },
           {
            "clinical_significance": "Sensitivity",
            "description": "Acquired resistance to vemurafenib in BRAF V600E-positive melanomas frequently confound vemurafenib therapy. Proposed resistance mechanisms include PDGFRB upregulation or NRAS mutations resulting in MAPK pathway reactivation but not secondary mutations in BRAF. MEK inhibitors may demonstrate clinical benefit in vemurafenib resistant melanoma patients.",
            "disease": {
             "display_name": "Melanoma",
             "doid": "DOID:1909",
             "id": 7,
             "name": "Melanoma",
             "url": "http://www.disease-ontology.org/?id=DOID:1909"
            },
            "drugs": [
             {
              "id": 4,
              "name": "Vemurafenib"
             }
            ],
            "evidence_direction": "Supports",
            "evidence_level": "D",
            "evidence_type": "Predictive",
            "id": 3746,
            "name": "EID3746",
            "open_change_count": 0,
            "source": {
             "citation": "Nazarian et al., 2010, Nature",
             "full_journal_title": "Nature",
             "id": 1491,
             "is_review": false,
             "journal": "Nature",
             "name": "Melanomas acquire resistance to B-RAF(V600E) inhibition by RTK or N-RAS upregulation.",
             "open_access": true,
             "pmc_id": "PMC3143360",
             "publication_date": {
              "day": 16,
              "month": 12,
              "year": 2010
             },
             "pubmed_id": "21107323",
             "source_url": "http://www.ncbi.nlm.nih.gov/pubmed/21107323",
             "status": "partially curated"
            },
            "status": "submitted",
            "type": "evidence",
            "variant_id": 12,
            "variant_origin": "Somatic Mutation"
           },
           {
            "clinical_significance": "Sensitivity",
            "description": "In an in vitro study, cell lines (including YUHUY and YUSAC2) expressing BRAF V600E were associated with increased sensitivity to vemurafenib (PLX4032) treatment, as compared to cell lines expressing wild-type BRAF. Sensitive was determined by assessing cellular proliferation, and ERK and MEK phosphorylation.",
            "disease": {
             "display_name": "Melanoma",
             "doid": "DOID:1909",
             "id": 7,
             "name": "Melanoma",
             "url": "http://www.disease-ontology.org/?id=DOID:1909"
            },
            "drugs": [
             {
              "id": 4,
              "name": "Vemurafenib"
             }
            ],
            "evidence_direction": "Supports",
            "evidence_level": "D",
            "evidence_type": "Predictive",
            "id": 3747,
            "name": "EID3747",
            "open_change_count": 0,
            "source": {
             "citation": "Halaban et al., 2010, Pigment Cell Melanoma Res",
             "full_journal_title": "Pigment cell & melanoma research",
             "id": 1482,
             "is_review": false,
             "journal": "Pigment Cell Melanoma Res",
             "name": "PLX4032, a selective BRAF(V600E) kinase inhibitor, activates the ERK pathway and enhances cell migration and proliferation of BRAF melanoma cells.",
             "open_access": true,
             "pmc_id": "PMC2848976",
             "publication_date": {
              "month": 4,
              "year": 2010
             },
             "pubmed_id": "20149136",
             "source_url": "http://www.ncbi.nlm.nih.gov/pubmed/20149136",
             "status": "submitted"
            },
            "status": "submitted",
            "type": "evidence",
            "variant_id": 12,
            "variant_origin": "Somatic Mutation"
           },
           {
            "clinical_significance": "Sensitivity",
            "description": "An inducible BRAF-V600E mouse melanoma model shows a tight correlation between activated BRAF and disease progression.",
            "disease": {
             "display_name": "Melanoma",
             "doid": "DOID:1909",
             "id": 7,
             "name": "Melanoma",
             "url": "http://www.disease-ontology.org/?id=DOID:1909"
            },
            "drugs": [
             {
              "id": 4,
              "name": "Vemurafenib"
             }
            ],
            "evidence_direction": "Supports",
            "evidence_level": "D",
            "evidence_type": "Predictive",
            "id": 3748,
            "name": "EID3748",
            "open_change_count": 0,
            "source": {
             "citation": "Hoeflich et al., 2006, Cancer Res.",
             "full_journal_title": "Cancer research",
             "id": 1485,
             "is_review": false,
             "journal": "Cancer Res.",
             "name": "Oncogenic BRAF is required for tumor growth and maintenance in melanoma models.",
             "publication_date": {
              "day": 15,
              "month": 1,
              "year": 2006
             },
             "pubmed_id": "16424035",
             "source_url": "http://www.ncbi.nlm.nih.gov/pubmed/16424035",
             "status": "partially curated"
            },
            "status": "submitted",
            "type": "evidence",
            "variant_id": 12,
            "variant_origin": "Somatic Mutation"
           },
           {
            "clinical_significance": "Sensitivity",
            "description": "In a retrospective study of 30 metastatic melanoma patients with progressing metastases, patients with BRAF V600E mutation (n=8) treated with vemurafenib monotherapy achieved a partial response (n=5) and stable disease (n=1).",
            "disease": {
             "display_name": "Melanoma",
             "doid": "DOID:1909",
             "id": 7,
             "name": "Melanoma",
             "url": "http://www.disease-ontology.org/?id=DOID:1909"
            },
            "drugs": [
             {
              "id": 4,
              "name": "Vemurafenib"
             }
            ],
            "evidence_direction": "Supports",
            "evidence_level": "C",
            "evidence_type": "Predictive",
            "id": 3749,
            "name": "EID3749",
            "open_change_count": 0,
            "source": {
             "citation": "Rizos et al., 2014, Clin. Cancer Res.",
             "full_journal_title": "Clinical cancer research : an official journal of the American Association for Cancer Research",
             "id": 1951,
             "is_review": false,
             "journal": "Clin. Cancer Res.",
             "name": "BRAF inhibitor resistance mechanisms in metastatic melanoma: spectrum and clinical impact.",
             "publication_date": {
              "day": 1,
              "month": 4,
              "year": 2014
             },
             "pubmed_id": "24463458",
             "source_url": "http://www.ncbi.nlm.nih.gov/pubmed/24463458",
             "status": "fully curated"
            },
            "status": "submitted",
            "type": "evidence",
            "variant_id": 12,
            "variant_origin": "Somatic Mutation"
           },
           {
            "clinical_significance": "Sensitivity",
            "description": "One patient with BRAF V600E mutated melanoma (with no detected PI3K pathway deregulation) had a partial response on treatment with pictilisib, a PI3K inhibitor, for 9.5 months. Study was a phase-1 with 60 patients enrolled.",
            "disease": {
             "display_name": "Melanoma",
             "doid": "DOID:1909",
             "id": 7,
             "name": "Melanoma",
             "url": "http://www.disease-ontology.org/?id=DOID:1909"
            },
            "drugs": [
             {
              "id": 141,
              "name": "Pictilisib"
             }
            ],
            "evidence_direction": "Supports",
            "evidence_level": "C",
            "evidence_type": "Predictive",
            "id": 757,
            "name": "EID757",
            "open_change_count": 0,
            "rating": 2,
            "source": {
             "citation": "Sarker et al., 2015, Clin. Cancer Res.",
             "full_journal_title": "Clinical cancer research : an official journal of the American Association for Cancer Research",
             "id": 500,
             "is_review": false,
             "journal": "Clin. Cancer Res.",
             "name": "First-in-human phase I study of pictilisib (GDC-0941), a potent pan-class I phosphatidylinositol-3-kinase (PI3K) inhibitor, in patients with advanced solid tumors.",
             "open_access": true,
             "pmc_id": "PMC4287394",
             "publication_date": {
              "day": 1,
              "month": 1,
              "year": 2015
             },
             "pubmed_id": "25370471",
             "source_url": "http://www.ncbi.nlm.nih.gov/pubmed/25370471",
             "status": "fully curated"
            },
            "status": "accepted",
            "type": "evidence",
            "variant_id": 12,
            "variant_origin": "Somatic Mutation"
           },
           {
            "clinical_significance": "Sensitivity",
            "description": "In a phase 2 clinical trial (NCT00949702) of 132 BRAF mutation positive metastatic melanoma patients treated with vemurafenib monotherapy, patients harboring BRAF V600E (n=123) or V600K (n=9) mutations were associated with a favorable objective response rate (53% per RECIST v1.1 criteria, 70/132), with 6% (8/132) and 47% (62/132) of patients achieving complete response and partial response, respectively.",
            "disease": {
             "display_name": "Melanoma",
             "doid": "DOID:1909",
             "id": 7,
             "name": "Melanoma",
             "url": "http://www.disease-ontology.org/?id=DOID:1909"
            },
            "drugs": [
             {
              "id": 4,
              "name": "Vemurafenib"
             }
            ],
            "evidence_direction": "Supports",
            "evidence_level": "B",
            "evidence_type": "Predictive",
            "id": 3750,
            "name": "EID3750",
            "open_change_count": 0,
            "source": {
             "citation": "Trunzer et al., 2013, J. Clin. Oncol.",
             "full_journal_title": "Journal of clinical oncology : official journal of the American Society of Clinical Oncology",
             "id": 60,
             "is_review": false,
             "journal": "J. Clin. Oncol.",
             "name": "Pharmacodynamic effects and mechanisms of resistance to vemurafenib in patients with metastatic melanoma.",
             "publication_date": {
              "day": 10,
              "month": 5,
              "year": 2013
             },
             "pubmed_id": "23569304",
             "source_url": "http://www.ncbi.nlm.nih.gov/pubmed/23569304",
             "status": "fully curated"
            },
            "status": "submitted",
            "type": "evidence",
            "variant_id": 12,
            "variant_origin": "Somatic Mutation"
           },
           {
            "clinical_significance": "Sensitivity",
            "description": "In an in vitro study, BRAF V600E expressing cell lines (COLO205, A375 and COLO829) demonstrated improved sensitivity to vemurafenib treatment, compared to BRAF wild-type expressing cells. Sensitivity was determined by assessing cell proliferation (COLO205, GI50: 0.31uM; A375, GI50: 0.50 uM; COLO829, GI50: 1.7 uM vs. BRAF expressing cells (n=9) GI50: 10-41uM) and ERK phosphorylation.",
            "disease": {
             "display_name": "Melanoma",
             "doid": "DOID:1909",
             "id": 7,
             "name": "Melanoma",
             "url": "http://www.disease-ontology.org/?id=DOID:1909"
            },
            "drugs": [
             {
              "id": 4,
              "name": "Vemurafenib"
             }
            ],
            "evidence_direction": "Supports",
            "evidence_level": "D",
            "evidence_type": "Predictive",
            "id": 3751,
            "name": "EID3751",
            "open_change_count": 0,
            "source": {
             "citation": "Tsai et al., 2008, Proc. Natl. Acad. Sci. U.S.A.",
             "full_journal_title": "Proceedings of the National Academy of Sciences of the United States of America",
             "id": 1952,
             "is_review": false,
             "journal": "Proc. Natl. Acad. Sci. U.S.A.",
             "name": "Discovery of a selective inhibitor of oncogenic B-Raf kinase with potent antimelanoma activity.",
             "open_access": true,
             "pmc_id": "PMC2268581",
             "publication_date": {
              "day": 26,
              "month": 2,
              "year": 2008
             },
             "pubmed_id": "18287029",
             "source_url": "http://www.ncbi.nlm.nih.gov/pubmed/18287029",
             "status": "fully curated"
            },
            "status": "submitted",
            "type": "evidence",
            "variant_id": 12,
            "variant_origin": "Somatic Mutation"
           },
           {
            "clinical_significance": "Sensitivity",
            "description": "In an in vitro study, a MBA72 cell line expressing BRAF V600E demonstrated improved sensitivity to vemurafenib treatment, compared to LND-1 cells expression BRAF wild-type. Sensitivity was determined by assessing cell proliferation (MBA72, IC50: 3.2uM; vs. LND-1, IC50: 32.2 uM).",
            "disease": {
             "display_name": "Melanoma",
             "doid": "DOID:1909",
             "id": 7,
             "name": "Melanoma",
             "url": "http://www.disease-ontology.org/?id=DOID:1909"
            },
            "drugs": [
             {
              "id": 4,
              "name": "Vemurafenib"
             }
            ],
            "evidence_direction": "Supports",
            "evidence_level": "D",
            "evidence_type": "Predictive",
            "id": 3752,
            "name": "EID3752",
            "open_change_count": 0,
            "source": {
             "citation": "Porcelli et al., 2015, Cancer Chemother. Pharmacol.",
             "full_journal_title": "Cancer chemotherapy and pharmacology",
             "id": 1953,
             "is_review": false,
             "journal": "Cancer Chemother. Pharmacol.",
             "name": "Metastatic melanoma cells with BRAF G469A mutation: nab-paclitaxel better than vemurafenib?",
             "publication_date": {
              "month": 8,
              "year": 2015
             },
             "pubmed_id": "26070258",
             "source_url": "http://www.ncbi.nlm.nih.gov/pubmed/26070258",
             "status": "fully curated"
            },
            "status": "submitted",
            "type": "evidence",
            "variant_id": 12,
            "variant_origin": "Somatic Mutation"
           },
           {
            "clinical_significance": "Sensitivity",
            "description": "In an in vitro study, several cell lines (including MALME-3M, Colo829, Colo38, A375 and SK-MEK28) expressing BRAF V600E were associated with increased sensitivity to vemurafenib (RG7204) treatment, as compared to cell lines expressing BRAF wild-type. Sensitivity was determined by proliferation assay and by assessing MEK1/2 phosphorylation. Further, in an in vivo study, LOX, Colo829 and A375 xenografts were reportedly sensitive to vemurafenib treatment as assessed by tumor volume.",
            "disease": {
             "display_name": "Melanoma",
             "doid": "DOID:1909",
             "id": 7,
             "name": "Melanoma",
             "url": "http://www.disease-ontology.org/?id=DOID:1909"
            },
            "drugs": [
             {
              "id": 4,
              "name": "Vemurafenib"
             }
            ],
            "evidence_direction": "Supports",
            "evidence_level": "D",
            "evidence_type": "Predictive",
            "id": 3753,
            "name": "EID3753",
            "open_change_count": 0,
            "source": {
             "citation": "Yang et al., 2010, Cancer Res.",
             "full_journal_title": "Cancer research",
             "id": 351,
             "is_review": false,
             "journal": "Cancer Res.",
             "name": "RG7204 (PLX4032), a selective BRAFV600E inhibitor, displays potent antitumor activity in preclinical melanoma models.",
             "publication_date": {
              "day": 1,
              "month": 7,
              "year": 2010
             },
             "pubmed_id": "20551065",
             "source_url": "http://www.ncbi.nlm.nih.gov/pubmed/20551065",
             "status": "fully curated"
            },
            "status": "submitted",
            "type": "evidence",
            "variant_id": 12,
            "variant_origin": "Somatic Mutation"
           },
           {
            "clinical_significance": "Sensitivity",
            "description": "In a stage I melanoma patient harboring a BRAF V600E mutation, response to vemurafenib monotherapy was reported. Upon identification of the BRAF V600E mutation, the patient enrolled in a clinical trial and was treated with vemurafenib monotherapy, a partial response was reported. However, novel hypermetabolic nodules developed and the patient enrolled in another clinical trial, undergoing combination therapy of vemurafenib and GDC-0973, but disease progression occurred at 5 months. Subsequently, the patient was treated with vemurafenib and ipilimumab, achieving a confirmed complete response.",
            "disease": {
             "display_name": "Melanoma",
             "doid": "DOID:1909",
             "id": 7,
             "name": "Melanoma",
             "url": "http://www.disease-ontology.org/?id=DOID:1909"
            },
            "drugs": [
             {
              "id": 4,
              "name": "Vemurafenib"
             }
            ],
            "evidence_direction": "Supports",
            "evidence_level": "C",
            "evidence_type": "Predictive",
            "id": 3754,
            "name": "EID3754",
            "open_change_count": 0,
            "source": {
             "citation": "Ashworth et al., 2014, J Natl Compr Canc Netw",
             "full_journal_title": "Journal of the National Comprehensive Cancer Network : JNCCN",
             "id": 1954,
             "is_review": false,
             "journal": "J Natl Compr Canc Netw",
             "name": "Management of a patient with advanced BRAF-mutant melanoma.",
             "publication_date": {
              "day": 1,
              "month": 3,
              "year": 2014
             },
             "pubmed_id": "24616537",
             "source_url": "http://www.ncbi.nlm.nih.gov/pubmed/24616537",
             "status": "fully curated"
            },
            "status": "submitted",
            "type": "evidence",
            "variant_id": 12,
            "variant_origin": "Somatic Mutation"
           },
           {
            "clinical_significance": "Sensitivity",
            "description": "In a  clinical study of Polish, stage IIIC/IV, melanoma patients with metastases (n=75) harboring BRAF V600 mutation (as detected by cobas 4800 BRAF V600 Mutation Test), patients were associated with a 61.9% (95% CI: 50.1-73.6) median overall survival, a 7.4 months (95% CI: 5.5-9.2) median progression free survival; a median duration response of 7.4 months was reported, with 3% (2/75) and 43% (29/75) of patients achieving a complete and partial response, respectively.",
            "disease": {
             "display_name": "Melanoma",
             "doid": "DOID:1909",
             "id": 7,
             "name": "Melanoma",
             "url": "http://www.disease-ontology.org/?id=DOID:1909"
            },
            "drugs": [
             {
              "id": 4,
              "name": "Vemurafenib"
             }
            ],
            "evidence_direction": "Supports",
            "evidence_level": "B",
            "evidence_type": "Predictive",
            "id": 3755,
            "name": "EID3755",
            "open_change_count": 0,
            "source": {
             "citation": "Rutkowski et al., 2015, Contemp Oncol (Pozn)",
             "full_journal_title": "Contemporary oncology (Poznan, Poland)",
             "id": 1955,
             "is_review": false,
             "journal": "Contemp Oncol (Pozn)",
             "name": "The outcomes of Polish patients with advanced BRAF-positive melanoma treated with vemurafenib in a safety clinical trial.",
             "open_access": true,
             "pmc_id": "PMC4631301",
             "publication_date": {
              "year": 2015
             },
             "pubmed_id": "26557775",
             "source_url": "http://www.ncbi.nlm.nih.gov/pubmed/26557775",
             "status": "fully curated"
            },
            "status": "submitted",
            "type": "evidence",
            "variant_id": 12,
            "variant_origin": "Somatic Mutation"
           },
           {
            "clinical_significance": "Sensitivity",
            "description": "In an in vitro study of 27 melanoma cell lines, 18 out of 20 cell lines expressing BRAF V600E mutation were associated with sensitivity to vemurafenib treatment (IC50: 0.01-1�M). Sensitivity was determined by assessing growth inhibition.",
            "disease": {
             "display_name": "Melanoma",
             "doid": "DOID:1909",
             "id": 7,
             "name": "Melanoma",
             "url": "http://www.disease-ontology.org/?id=DOID:1909"
            },
            "drugs": [
             {
              "id": 4,
              "name": "Vemurafenib"
             }
            ],
            "evidence_direction": "Supports",
            "evidence_level": "D",
            "evidence_type": "Predictive",
            "id": 3756,
            "name": "EID3756",
            "open_change_count": 0,
            "source": {
             "citation": "Vergani et al., 2011, Neoplasia",
             "full_journal_title": "Neoplasia (New York, N.Y.)",
             "id": 1956,
             "is_review": false,
             "journal": "Neoplasia",
             "name": "Identification of MET and SRC activation in melanoma cell lines showing primary resistance to PLX4032.",
             "open_access": true,
             "pmc_id": "PMC3257188",
             "publication_date": {
              "month": 12,
              "year": 2011
             },
             "pubmed_id": "22241959",
             "source_url": "http://www.ncbi.nlm.nih.gov/pubmed/22241959",
             "status": "fully curated"
            },
            "status": "submitted",
            "type": "evidence",
            "variant_id": 12,
            "variant_origin": "Somatic Mutation"
           },
           {
            "clinical_significance": "Sensitivity",
            "description": "In a retrospective study of 300 stage IV melanoma patients, patients with BRAF V600E mutation (n=175) were associated with a 4.8% (8/167) complete response, a 58.1% (97/167) partial response and stable disease in 22.2% (37/167) of cases; however, 15% (25/167) of patients harboring BRAF V600E experienced progressive disease.",
            "disease": {
             "display_name": "Melanoma",
             "doid": "DOID:1909",
             "id": 7,
             "name": "Melanoma",
             "url": "http://www.disease-ontology.org/?id=DOID:1909"
            },
            "drugs": [
             {
              "id": 4,
              "name": "Vemurafenib"
             }
            ],
            "evidence_direction": "Supports",
            "evidence_level": "B",
            "evidence_type": "Predictive",
            "id": 3757,
            "name": "EID3757",
            "open_change_count": 0,
            "source": {
             "citation": "Ugurel et al., 2015, Ann. Oncol.",
             "full_journal_title": "Annals of oncology : official journal of the European Society for Medical Oncology",
             "id": 1957,
             "is_review": false,
             "journal": "Ann. Oncol.",
             "name": "A multicenter DeCOG study on predictors of vemurafenib therapy outcome in melanoma: pretreatment impacts survival.",
             "publication_date": {
              "month": 3,
              "year": 2015
             },
             "pubmed_id": "25524477",
             "source_url": "http://www.ncbi.nlm.nih.gov/pubmed/25524477",
             "status": "fully curated"
            },
            "status": "submitted",
            "type": "evidence",
            "variant_id": 12,
            "variant_origin": "Somatic Mutation"
           },
           {
            "clinical_significance": "Sensitivity",
            "description": "In a clinical trial (NCT01597908) of 704 metastatic melanoma patients, patients harboring a BRAF V600E mutation and treated with vemurafenib (n=317) were associated with a 52% response rate, as compared to a 64% response rate in V600E mutation positive patients treated with dabrafenib and trametinib combination therapy (n=312).",
            "disease": {
             "display_name": "Melanoma",
             "doid": "DOID:1909",
             "id": 7,
             "name": "Melanoma",
             "url": "http://www.disease-ontology.org/?id=DOID:1909"
            },
            "drugs": [
             {
              "id": 4,
              "name": "Vemurafenib"
             }
            ],
            "evidence_direction": "Supports",
            "evidence_level": "B",
            "evidence_type": "Predictive",
            "id": 3758,
            "name": "EID3758",
            "open_change_count": 0,
            "source": {
             "citation": "Robert et al., 2015, N. Engl. J. Med.",
             "full_journal_title": "The New England journal of medicine",
             "id": 353,
             "is_review": false,
             "journal": "N. Engl. J. Med.",
             "name": "Improved overall survival in melanoma with combined dabrafenib and trametinib.",
             "publication_date": {
              "day": 1,
              "month": 1,
              "year": 2015
             },
             "pubmed_id": "25399551",
             "source_url": "http://www.ncbi.nlm.nih.gov/pubmed/25399551",
             "status": "fully curated"
            },
            "status": "submitted",
            "type": "evidence",
            "variant_id": 12,
            "variant_origin": "Somatic Mutation"
           },
           {
            "clinical_significance": "Resistance or Non-Response",
            "description": "In an in vitro study, a melanoma cell line, A375, expressing the BRAF V600E mutation was associated with resistance to dasatinib treatment, comparable to melanoma MEWO cells expressing wild-type BRAF. Resistance was determined by assessing cell viability.",
            "disease": {
             "display_name": "Melanoma",
             "doid": "DOID:1909",
             "id": 7,
             "name": "Melanoma",
             "url": "http://www.disease-ontology.org/?id=DOID:1909"
            },
            "drugs": [
             {
              "id": 20,
              "name": "Dasatinib"
             }
            ],
            "evidence_direction": "Supports",
            "evidence_level": "D",
            "evidence_type": "Predictive",
            "id": 3759,
            "name": "EID3759",
            "open_change_count": 0,
            "source": {
             "citation": "Woodman et al., 2009, Mol. Cancer Ther.",
             "full_journal_title": "Molecular cancer therapeutics",
             "id": 74,
             "is_review": false,
             "journal": "Mol. Cancer Ther.",
             "name": "Activity of dasatinib against L576P KIT mutant melanoma: molecular, cellular, and clinical correlates.",
             "open_access": true,
             "pmc_id": "PMC3346953",
             "publication_date": {
              "month": 8,
              "year": 2009
             },
             "pubmed_id": "19671763",
             "source_url": "http://www.ncbi.nlm.nih.gov/pubmed/19671763",
             "status": "fully curated"
            },
            "status": "submitted",
            "type": "evidence",
            "variant_id": 12,
            "variant_origin": "Somatic Mutation"
           },
           {
            "clinical_significance": "Sensitivity",
            "description": "Thyroid cancer cell lines with BRAF V600E mutations were more sensitive to vemurafenib than those with wildtype BRAF (IC50: 0.115� 1.156 uM vs. 56.674�1349.788 uM).",
            "disease": {
             "display_name": "Thyroid Cancer",
             "doid": "DOID:1781",
             "id": 16,
             "name": "Thyroid Cancer",
             "url": "http://www.disease-ontology.org/?id=DOID:1781"
            },
            "drugs": [
             {
              "id": 4,
              "name": "Vemurafenib"
             }
            ],
            "evidence_direction": "Supports",
            "evidence_level": "D",
            "evidence_type": "Predictive",
            "id": 3760,
            "name": "EID3760",
            "open_change_count": 0,
            "source": {
             "citation": "Sala et al., 2008, Mol. Cancer Res.",
             "full_journal_title": "Molecular cancer research : MCR",
             "id": 1959,
             "is_review": false,
             "journal": "Mol. Cancer Res.",
             "name": "BRAF silencing by short hairpin RNA or chemical blockade by PLX4032 leads to different responses in melanoma and thyroid carcinoma cells.",
             "publication_date": {
              "month": 5,
              "year": 2008
             },
             "pubmed_id": "18458053",
             "source_url": "http://www.ncbi.nlm.nih.gov/pubmed/18458053",
             "status": "fully curated"
            },
            "status": "submitted",
            "type": "evidence",
            "variant_id": 12,
            "variant_origin": "Somatic Mutation"
           },
           {
            "clinical_significance": "Sensitivity",
            "description": "In an in vitro study, the HCC364 cell line expressing a BRAF V600E mutation was associated with sensitivity to vemurafenib treatment. Sensitivity was determined by assessing cell viability, apoptosis and colony formation.",
            "disease": {
             "display_name": "Non-small Cell Lung Carcinoma",
             "doid": "DOID:3908",
             "id": 8,
             "name": "Non-small Cell Lung Carcinoma",
             "url": "http://www.disease-ontology.org/?id=DOID:3908"
            },
            "drugs": [
             {
              "id": 4,
              "name": "Vemurafenib"
             }
            ],
            "evidence_direction": "Supports",
            "evidence_level": "D",
            "evidence_type": "Predictive",
            "id": 3761,
            "name": "EID3761",
            "open_change_count": 0,
            "source": {
             "citation": "Joshi et al., 2015, PLoS ONE",
             "full_journal_title": "PloS one",
             "id": 1960,
             "is_review": false,
             "journal": "PLoS ONE",
             "name": "Trametinib with or without vemurafenib in BRAF mutated non-small cell lung cancer.",
             "open_access": true,
             "pmc_id": "PMC4338247",
             "publication_date": {
              "year": 2015
             },
             "pubmed_id": "25706985",
             "source_url": "http://www.ncbi.nlm.nih.gov/pubmed/25706985",
             "status": "fully curated"
            },
            "status": "submitted",
            "type": "evidence",
            "variant_id": 12,
            "variant_origin": "Somatic Mutation"
           },
           {
            "clinical_significance": "Sensitivity",
            "description": "In a mouse xenograft model, tumors derived from the glioblastoma cell line AM-38 that were treated with vemurafenib had reduced tumor growth and improved survival compared to control treated mice (P=0.018 and 0.0002, respectively). In contrast, mice with wildtype BRAF xenografts did not respond vemurafenib compared to control treatment as measured by tumor size and survival (P=0.179 and P=0.225, respectively ). A malignant astrocytoma cell line that expressed BRAF V600E was more sensitive to growth inhibition by vemurafenib than a cell line with wildtype BRAF (EC50=1.75 vs. 31.2 umol/L).",
            "disease": {
             "display_name": "Malignant Glioma",
             "doid": "DOID:3070",
             "id": 695,
             "name": "Malignant Glioma",
             "url": "http://www.disease-ontology.org/?id=DOID:3070"
            },
            "drugs": [
             {
              "id": 4,
              "name": "Vemurafenib"
             }
            ],
            "evidence_direction": "Supports",
            "evidence_level": "D",
            "evidence_type": "Predictive",
            "id": 3762,
            "name": "EID3762",
            "open_change_count": 0,
            "source": {
             "citation": "Nicolaides et al., 2011, Clin. Cancer Res.",
             "full_journal_title": "Clinical cancer research : an official journal of the American Association for Cancer Research",
             "id": 348,
             "is_review": false,
             "journal": "Clin. Cancer Res.",
             "name": "Targeted therapy for BRAFV600E malignant astrocytoma.",
             "open_access": true,
             "pmc_id": "PMC3638050",
             "publication_date": {
              "day": 15,
              "month": 12,
              "year": 2011
             },
             "pubmed_id": "22038996",
             "source_url": "http://www.ncbi.nlm.nih.gov/pubmed/22038996",
             "status": "fully curated"
            },
            "status": "submitted",
            "type": "evidence",
            "variant_id": 12,
            "variant_origin": "Somatic Mutation"
           },
           {
            "clinical_significance": "Sensitivity",
            "description": "A study of pediatric malignant astrocytomas found that tumors with BRAF V600E mutations also had homozygous deletions of CDKN2A more frequently than those with wildtype BRAF (71%  vs. 8% , P=0.0016, Fisher�s exact test).",
            "disease": {
             "display_name": "Malignant Glioma",
             "doid": "DOID:3070",
             "id": 695,
             "name": "Malignant Glioma",
             "url": "http://www.disease-ontology.org/?id=DOID:3070"
            },
            "drugs": [
             {
              "id": 4,
              "name": "Vemurafenib"
             }
            ],
            "evidence_direction": "Supports",
            "evidence_level": "B",
            "evidence_type": "Predictive",
            "id": 3763,
            "name": "EID3763",
            "open_change_count": 0,
            "source": {
             "citation": "Schiffman et al., 2010, Cancer Res.",
             "full_journal_title": "Cancer research",
             "id": 1961,
             "is_review": false,
             "journal": "Cancer Res.",
             "name": "Oncogenic BRAF mutation with CDKN2A inactivation is characteristic of a subset of pediatric malignant astrocytomas.",
             "open_access": true,
             "pmc_id": "PMC2851233",
             "publication_date": {
              "day": 15,
              "month": 1,
              "year": 2010
             },
             "pubmed_id": "20068183",
             "source_url": "http://www.ncbi.nlm.nih.gov/pubmed/20068183",
             "status": "fully curated"
            },
            "status": "submitted",
            "type": "evidence",
            "variant_id": 12,
            "variant_origin": "Somatic Mutation"
           },
           {
            "clinical_significance": "Sensitivity",
            "description": "In a study of  pilocytic astrocytomas, presence of the BRAF V600E mutation was more frequently detected in extra-cerebellar pilocytic astrocytomas than cerebellar ones (20%  vs. 2% , P=0.009, Fisher�s exact test).",
            "disease": {
             "display_name": "Malignant Glioma",
             "doid": "DOID:3070",
             "id": 695,
             "name": "Malignant Glioma",
             "url": "http://www.disease-ontology.org/?id=DOID:3070"
            },
            "drugs": [
             {
              "id": 4,
              "name": "Vemurafenib"
             }
            ],
            "evidence_direction": "Supports",
            "evidence_level": "B",
            "evidence_type": "Predictive",
            "id": 3764,
            "name": "EID3764",
            "open_change_count": 0,
            "source": {
             "citation": "Schindler et al., 2011, Acta Neuropathol.",
             "full_journal_title": "Acta neuropathologica",
             "id": 1962,
             "is_review": false,
             "journal": "Acta Neuropathol.",
             "name": "Analysis of BRAF V600E mutation in 1,320 nervous system tumors reveals high mutation frequencies in pleomorphic xanthoastrocytoma, ganglioglioma and extra-cerebellar pilocytic astrocytoma.",
             "publication_date": {
              "month": 3,
              "year": 2011
             },
             "pubmed_id": "21274720",
             "source_url": "http://www.ncbi.nlm.nih.gov/pubmed/21274720",
             "status": "fully curated"
            },
            "status": "submitted",
            "type": "evidence",
            "variant_id": 12,
            "variant_origin": "Somatic Mutation"
           },
           {
            "clinical_significance": "Sensitivity",
            "description": "In a study of low grade pediatric gliomas, 19 of 157 tumors had a BRAF V600E mutation. Tumors located in the cerebrum had a higher frequency of BRAF mutations than those in the cerebellum or midline (P<0.05). While it did not reach statistical significance, there was a trend between BRAF V600E mutation and reduced progression-free survival (HR:2.39, 95%CI:0.93-6.15, P=0.07, multivariate analysis).",
            "disease": {
             "display_name": "Malignant Glioma",
             "doid": "DOID:3070",
             "id": 695,
             "name": "Malignant Glioma",
             "url": "http://www.disease-ontology.org/?id=DOID:3070"
            },
            "drugs": [
             {
              "id": 4,
              "name": "Vemurafenib"
             }
            ],
            "evidence_direction": "Supports",
            "evidence_level": "B",
            "evidence_type": "Predictive",
            "id": 3765,
            "name": "EID3765",
            "open_change_count": 0,
            "source": {
             "citation": "Horbinski et al., 2012, Neuro-oncology",
             "full_journal_title": "Neuro-oncology",
             "id": 1499,
             "is_review": false,
             "journal": "Neuro-oncology",
             "name": "Interplay among BRAF, p16, p53, and MIB1 in pediatric low-grade gliomas.",
             "open_access": true,
             "pmc_id": "PMC3367847",
             "publication_date": {
              "month": 6,
              "year": 2012
             },
             "pubmed_id": "22492957",
             "source_url": "http://www.ncbi.nlm.nih.gov/pubmed/22492957",
             "status": "fully curated"
            },
            "status": "submitted",
            "type": "evidence",
            "variant_id": 12,
            "variant_origin": "Somatic Mutation"
           },
           {
            "clinical_significance": "Sensitivity",
            "description": "In a refractory hairy cell leukemia patient harboring BRAF V600E mutation, BRAF V600E was associated with sensitivity to vemurafenib treatment. The patient was initially treated with conventional treatments and failed to respond; subsequently, the patient was treated with vemurafenib monotherapy and achieved complete remission on day 43 with treatment being terminated at day 56.",
            "disease": {
             "display_name": "Hairy Cell Leukemia",
             "doid": "DOID:285",
             "id": 665,
             "name": "Hairy Cell Leukemia",
             "url": "http://www.disease-ontology.org/?id=DOID:285"
            },
            "drugs": [
             {
              "id": 4,
              "name": "Vemurafenib"
             }
            ],
            "evidence_direction": "Supports",
            "evidence_level": "C",
            "evidence_type": "Predictive",
            "id": 3766,
            "name": "EID3766",
            "open_change_count": 0,
            "source": {
             "citation": "Dietrich et al., 2012, N. Engl. J. Med.",
             "full_journal_title": "The New England journal of medicine",
             "id": 1963,
             "is_review": false,
             "journal": "N. Engl. J. Med.",
             "name": "BRAF inhibition in refractory hairy-cell leukemia.",
             "publication_date": {
              "day": 24,
              "month": 5,
              "year": 2012
             },
             "pubmed_id": "22621641",
             "source_url": "http://www.ncbi.nlm.nih.gov/pubmed/22621641",
             "status": "fully curated"
            },
            "status": "submitted",
            "type": "evidence",
            "variant_id": 12,
            "variant_origin": "Somatic Mutation"
           },
           {
            "clinical_significance": "Sensitivity",
            "description": "In a case report, a hairy cell leukemia (HCL) patient harboring BRAF V600E mutation was associated with a complete response to vemurafenib monotherapy after 3 months of treatment, which was sustained after 21 days of therapy. Prior to vemurafenib treatment, the patient had been diagnosed with HCL and achieved a complete hematologic response to splenectomy and interferon treatment, however, the patient subsequently relapsed and was treated with standard chemotherapy with further disease progression. As a follow-up to a previous study (23300174), a hairy cell leukemia patient harboring BRAF V600E mutation was associated with response to vemurafenib monotherapy. The patient was previously treated with vemurafenib and obtained a complete response, but then experienced disease progression. Subsequently, the patient was re-treated with vemurafenib and again achieved a complete hematological response.",
            "disease": {
             "display_name": "Hairy Cell Leukemia",
             "doid": "DOID:285",
             "id": 665,
             "name": "Hairy Cell Leukemia",
             "url": "http://www.disease-ontology.org/?id=DOID:285"
            },
            "drugs": [
             {
              "id": 4,
              "name": "Vemurafenib"
             }
            ],
            "evidence_direction": "Supports",
            "evidence_level": "C",
            "evidence_type": "Predictive",
            "id": 3767,
            "name": "EID3767",
            "open_change_count": 0,
            "source": {
             "citation": "Peyrade et al., 2013, Haematologica",
             "full_journal_title": "Haematologica",
             "id": 1964,
             "is_review": false,
             "journal": "Haematologica",
             "name": "Low-dose vemurafenib induces complete remission in a case of hairy-cell leukemia with a V600E mutation.",
             "open_access": true,
             "pmc_id": "PMC3561446",
             "publication_date": {
              "month": 2,
              "year": 2013
             },
             "pubmed_id": "23300174",
             "source_url": "http://www.ncbi.nlm.nih.gov/pubmed/23300174",
             "status": "fully curated"
            },
            "status": "submitted",
            "type": "evidence",
            "variant_id": 12,
            "variant_origin": "Somatic Mutation"
           },
           {
            "clinical_significance": "Sensitivity",
            "description": "In a hairy cell leukemia patient harboring BRAF V600E mutation, BRAF V600E mutation was associated with improved response to vemurafenib treatment. The patient was treated with 3 lines of chemotherapy, including 6 cycles of pentostatin and rituximab combination therapy, but experience progressive disease; subsequently, the patient was treated with vemurafenib monotherapy for 58 days and achieved a partial response.",
            "disease": {
             "display_name": "Hairy Cell Leukemia",
             "doid": "DOID:285",
             "id": 665,
             "name": "Hairy Cell Leukemia",
             "url": "http://www.disease-ontology.org/?id=DOID:285"
            },
            "drugs": [
             {
              "id": 4,
              "name": "Vemurafenib"
             }
            ],
            "evidence_direction": "Supports",
            "evidence_level": "C",
            "evidence_type": "Predictive",
            "id": 3768,
            "name": "EID3768",
            "open_change_count": 0,
            "source": {
             "citation": "Follows et al., 2013, Br. J. Haematol.",
             "full_journal_title": "British journal of haematology",
             "id": 1965,
             "is_review": false,
             "journal": "Br. J. Haematol.",
             "name": "Rapid response of biallelic BRAF V600E mutated hairy cell leukaemia to low dose vemurafenib.",
             "publication_date": {
              "month": 4,
              "year": 2013
             },
             "pubmed_id": "23278307",
             "source_url": "http://www.ncbi.nlm.nih.gov/pubmed/23278307",
             "status": "fully curated"
            },
            "status": "submitted",
            "type": "evidence",
            "variant_id": 12,
            "variant_origin": "Somatic Mutation"
           },
           {
            "clinical_significance": "Sensitivity",
            "description": "As a follow-up to a previous study (23300174), a hairy cell leukemia patient harboring BRAF V600E mutation was associated with response to vemurafenib monotherapy. The patient was previously treated with vemurafenib and obtained a complete response, but then experienced disease progression. Subsequently, the patient was re-treated with vemurafenib and again achieved a complete hematological response.",
            "disease": {
             "display_name": "Hairy Cell Leukemia",
             "doid": "DOID:285",
             "id": 665,
             "name": "Hairy Cell Leukemia",
             "url": "http://www.disease-ontology.org/?id=DOID:285"
            },
            "drugs": [
             {
              "id": 4,
              "name": "Vemurafenib"
             }
            ],
            "evidence_direction": "Supports",
            "evidence_level": "C",
            "evidence_type": "Predictive",
            "id": 3769,
            "name": "EID3769",
            "open_change_count": 0,
            "source": {
             "citation": "Bailleux et al., 2015, Oncoscience",
             "full_journal_title": "Oncoscience",
             "id": 1966,
             "is_review": false,
             "journal": "Oncoscience",
             "name": "Successful re-treatment of a relapsed V600E mutated HCL patient with low-dose vemurafenib.",
             "open_access": true,
             "pmc_id": "PMC4341463",
             "publication_date": {
              "year": 2015
             },
             "pubmed_id": "25815361",
             "source_url": "http://www.ncbi.nlm.nih.gov/pubmed/25815361",
             "status": "fully curated"
            },
            "status": "submitted",
            "type": "evidence",
            "variant_id": 12,
            "variant_origin": "Somatic Mutation"
           },
           {
            "clinical_significance": "Sensitivity",
            "description": "A hairy cell leukemia patient with extensive CNS involvement patient harboring BRAF V600E mutation was associated with complete response to vemurafenib monotherapy. Upon identification of the BRAF V600E mutation, the patient was treated with cytarabine, rituximab and methotrexate but quickly progressed; subsequently, the patient was treated with 2 rounds of vemurafenib and achieved complete response.",
            "disease": {
             "display_name": "Hairy Cell Leukemia",
             "doid": "DOID:285",
             "id": 665,
             "name": "Hairy Cell Leukemia",
             "url": "http://www.disease-ontology.org/?id=DOID:285"
            },
            "drugs": [
             {
              "id": 4,
              "name": "Vemurafenib"
             }
            ],
            "evidence_direction": "Supports",
            "evidence_level": "C",
            "evidence_type": "Predictive",
            "id": 3770,
            "name": "EID3770",
            "open_change_count": 0,
            "source": {
             "citation": "McDowell et al., 2016, Leuk. Lymphoma",
             "full_journal_title": "Leukemia & lymphoma",
             "id": 1967,
             "is_review": false,
             "journal": "Leuk. Lymphoma",
             "name": "Response of relapsed central nervous system hairy cell leukemia to vemurafenib.",
             "publication_date": {
              "month": 12,
              "year": 2016
             },
             "pubmed_id": "27116997",
             "source_url": "http://www.ncbi.nlm.nih.gov/pubmed/27116997",
             "status": "fully curated"
            },
            "status": "submitted",
            "type": "evidence",
            "variant_id": 12,
            "variant_origin": "Somatic Mutation"
           },
           {
            "clinical_significance": "Sensitivity",
            "description": "In a case study, a pediatric grade IV glioblastoma multiforme patient harboring BRAF V600E mutation was associated with a complete response to vemurafenib monotherapy after 4 months of treatment, which was sustained at 6 month of therapy; the patient was undergoing the 7th cycle of therapy at the time of publication of this study.",
            "disease": {
             "display_name": "Glioblastoma Multiforme",
             "doid": "DOID:3068",
             "id": 19,
             "name": "Glioblastoma Multiforme",
             "url": "http://www.disease-ontology.org/?id=DOID:3068"
            },
            "drugs": [
             {
              "id": 4,
              "name": "Vemurafenib"
             }
            ],
            "evidence_direction": "Supports",
            "evidence_level": "C",
            "evidence_type": "Predictive",
            "id": 3771,
            "name": "EID3771",
            "open_change_count": 0,
            "source": {
             "citation": "Robinson et al., 2014, BMC Cancer",
             "full_journal_title": "BMC cancer",
             "id": 1968,
             "is_review": false,
             "journal": "BMC Cancer",
             "name": "Complete clinical regression of a BRAF V600E-mutant pediatric glioblastoma multiforme after BRAF inhibitor therapy.",
             "open_access": true,
             "pmc_id": "PMC3996187",
             "publication_date": {
              "day": 12,
              "month": 4,
              "year": 2014
             },
             "pubmed_id": "24725538",
             "source_url": "http://www.ncbi.nlm.nih.gov/pubmed/24725538",
             "status": "fully curated"
            },
            "status": "submitted",
            "type": "evidence",
            "variant_id": 12,
            "variant_origin": "Somatic Mutation"
           },
           {
            "clinical_significance": "Sensitivity",
            "description": "A pediatric pilocytic astrocytoma patient harboring BRAF V600E mutation, BRAF V600E mutation was associated with response to vemurafenib monotherapy. The patient was treated with standard chemotherapy regimens prior to the identification of the BRAF V600E mutation; subsequently, vemurafenib was administered (initially in combination with standard chemotherapy) and an overall regression achieved, with lack of disease progression noted at 15 months of vemurafenib therapy.",
            "disease": {
             "display_name": "Pilocytic Astrocytoma",
             "doid": "DOID:4851",
             "id": 166,
             "name": "Pilocytic Astrocytoma",
             "url": "http://www.disease-ontology.org/?id=DOID:4851"
            },
            "drugs": [
             {
              "id": 4,
              "name": "Vemurafenib"
             }
            ],
            "evidence_direction": "Supports",
            "evidence_level": "C",
            "evidence_type": "Predictive",
            "id": 3772,
            "name": "EID3772",
            "open_change_count": 0,
            "source": {
             "citation": "Skrypek et al., 2014, Pediatr Blood Cancer",
             "full_journal_title": "Pediatric blood & cancer",
             "id": 1969,
             "is_review": false,
             "journal": "Pediatr Blood Cancer",
             "name": "Pilomyxoid astrocytoma treated successfully with vemurafenib.",
             "publication_date": {
              "month": 11,
              "year": 2014
             },
             "pubmed_id": "24821190",
             "source_url": "http://www.ncbi.nlm.nih.gov/pubmed/24821190",
             "status": "fully curated"
            },
            "status": "submitted",
            "type": "evidence",
            "variant_id": 12,
            "variant_origin": "Somatic Mutation"
           },
           {
            "clinical_significance": "Sensitivity",
            "description": "In a retrospective study of 17 papillary thyroid cancer patients, patients with BRAF V600E mutation (n=6) were associated with a 47% (7/15) partial response rate and a 53% (8/15) stable disease rate.",
            "disease": {
             "display_name": "Papillary Thyroid Carcinoma",
             "doid": "DOID:3969",
             "id": 156,
             "name": "Papillary Thyroid Carcinoma",
             "url": "http://www.disease-ontology.org/?id=DOID:3969"
            },
            "drugs": [
             {
              "id": 4,
              "name": "Vemurafenib"
             }
            ],
            "evidence_direction": "Supports",
            "evidence_level": "C",
            "evidence_type": "Predictive",
            "id": 3773,
            "name": "EID3773",
            "open_change_count": 0,
            "source": {
             "citation": "Dadu et al., 2015, J. Clin. Endocrinol. Metab.",
             "full_journal_title": "The Journal of clinical endocrinology and metabolism",
             "id": 1970,
             "is_review": false,
             "journal": "J. Clin. Endocrinol. Metab.",
             "name": "Efficacy and tolerability of vemurafenib in patients with BRAF(V600E) -positive papillary thyroid cancer: M.D. Anderson Cancer Center off label experience.",
             "open_access": true,
             "pmc_id": "PMC4283003",
             "publication_date": {
              "month": 1,
              "year": 2015
             },
             "pubmed_id": "25353071",
             "source_url": "http://www.ncbi.nlm.nih.gov/pubmed/25353071",
             "status": "fully curated"
            },
            "status": "submitted",
            "type": "evidence",
            "variant_id": 12,
            "variant_origin": "Somatic Mutation"
           },
           {
            "clinical_significance": "Sensitivity",
            "description": "In a clinical trial (NCT01286753) of 55 cancer patients with BRAF V600E mutation, patients with metastatic papillary thyroid cancer (n=3) were associated with sensitivity to vemurafenib treatment. One patient achieved partial response (31% reduction by RECIST) and two patients achieved stable disease (9% and 16% reduction by RECIST criteria), the time to progression for these three patients was 11.7, 13.2 and 11.4 months, and the overall survival was 15 months (patient was subsequently treated with radiation therapy), at least 31.7 months (patient subsequently underwent laryngectomy) and 24.9 months (patient was subsequently treated with sorafenib, followed by sunitinib monotherapy), respectively.",
            "disease": {
             "display_name": "Papillary Thyroid Carcinoma",
             "doid": "DOID:3969",
             "id": 156,
             "name": "Papillary Thyroid Carcinoma",
             "url": "http://www.disease-ontology.org/?id=DOID:3969"
            },
            "drugs": [
             {
              "id": 4,
              "name": "Vemurafenib"
             }
            ],
            "evidence_direction": "Supports",
            "evidence_level": "C",
            "evidence_type": "Predictive",
            "id": 3774,
            "name": "EID3774",
            "open_change_count": 0,
            "source": {
             "citation": "Kim et al., 2013, Thyroid",
             "full_journal_title": "Thyroid : official journal of the American Thyroid Association",
             "id": 1971,
             "is_review": false,
             "journal": "Thyroid",
             "name": "Clinical responses to vemurafenib in patients with metastatic papillary thyroid cancer harboring BRAF(V600E) mutation.",
             "open_access": true,
             "pmc_id": "PMC3967415",
             "publication_date": {
              "month": 10,
              "year": 2013
             },
             "pubmed_id": "23489023",
             "source_url": "http://www.ncbi.nlm.nih.gov/pubmed/23489023",
             "status": "fully curated"
            },
            "status": "submitted",
            "type": "evidence",
            "variant_id": 12,
            "variant_origin": "Somatic Mutation"
           },
           {
            "clinical_significance": "Sensitivity",
            "description": "In an in vitro study, K2, a papillary thyroid carcinoma cell line expressing the BRAFV600E mutation, was associated with sensitivity to dasatinib treatment. Sensitivity was determined by assessing cell growth inhibition. In an in vivo experiment, dasatinib also inhibited the growth of K2 thyroid carcinoma xenografts in 7 of 13 mice.",
            "disease": {
             "display_name": "Papillary Thyroid Carcinoma",
             "doid": "DOID:3969",
             "id": 156,
             "name": "Papillary Thyroid Carcinoma",
             "url": "http://www.disease-ontology.org/?id=DOID:3969"
            },
            "drugs": [
             {
              "id": 20,
              "name": "Dasatinib"
             }
            ],
            "evidence_direction": "Supports",
            "evidence_level": "D",
            "evidence_type": "Predictive",
            "id": 3775,
            "name": "EID3775",
            "open_change_count": 0,
            "source": {
             "citation": "Henderson et al., 2014, Head Neck",
             "full_journal_title": "Head & neck",
             "id": 1972,
             "is_review": false,
             "journal": "Head Neck",
             "name": "Src inhibitors in suppression of papillary thyroid carcinoma growth.",
             "open_access": true,
             "pmc_id": "PMC4401074",
             "publication_date": {
              "month": 3,
              "year": 2014
             },
             "pubmed_id": "23729178",
             "source_url": "http://www.ncbi.nlm.nih.gov/pubmed/23729178",
             "status": "fully curated"
            },
            "status": "submitted",
            "type": "evidence",
            "variant_id": 12,
            "variant_origin": "Somatic Mutation"
           },
           {
            "clinical_significance": "Sensitivity",
            "description": "In an in vitro study, WiDr, HT-29 and RKO cell lines expressing BRAF V600E mutation was associated with sensitivity to regorafenib treatment, as compared to Caco-2 and KM12SM cells expressing wild-type BRAF. Resistance was determined by assessing cell proliferation and migration.",
            "disease": {
             "display_name": "Colon Cancer",
             "doid": "DOID:219",
             "id": 119,
             "name": "Colon Cancer",
             "url": "http://www.disease-ontology.org/?id=DOID:219"
            },
            "drugs": [
             {
              "id": 27,
              "name": "Regorafenib"
             }
            ],
            "evidence_direction": "Supports",
            "evidence_level": "D",
            "evidence_type": "Predictive",
            "id": 3776,
            "name": "EID3776",
            "open_change_count": 0,
            "source": {
             "citation": "Takigawa et al., 2016, Cancer Sci.",
             "full_journal_title": "Cancer science",
             "id": 1973,
             "is_review": false,
             "journal": "Cancer Sci.",
             "name": "Multikinase inhibitor regorafenib inhibits the growth and metastasis of colon cancer with abundant stroma.",
             "open_access": true,
             "pmc_id": "PMC5001714",
             "publication_date": {
              "month": 5,
              "year": 2016
             },
             "pubmed_id": "26865419",
             "source_url": "http://www.ncbi.nlm.nih.gov/pubmed/26865419",
             "status": "fully curated"
            },
            "status": "submitted",
            "type": "evidence",
            "variant_id": 12,
            "variant_origin": "Somatic Mutation"
           },
           {
            "clinical_significance": "Sensitivity",
            "description": "In a case report, a cervicomedullary ganglioglioma patient harboring BRAF V600E mutation was associated with radiological and clinical response to vemurafenib monotherapy after 3 months of treatment, which was sustained after 6 months of therapy. Prior to vemurafenib treatment, the patient had undergone tracheotomy, was treated with standard chemotherapy and underwent another surgery, but had developed progressive disease.",
            "disease": {
             "display_name": "Ganglioglioma",
             "doid": "DOID:5078",
             "id": 2604,
             "name": "Ganglioglioma",
             "url": "http://www.disease-ontology.org/?id=DOID:5078"
            },
            "drugs": [
             {
              "id": 4,
              "name": "Vemurafenib"
             }
            ],
            "evidence_direction": "Supports",
            "evidence_level": "C",
            "evidence_type": "Predictive",
            "id": 3777,
            "name": "EID3777",
            "open_change_count": 0,
            "source": {
             "citation": "del Bufalo et al., 2014, J Transl Med",
             "full_journal_title": "Journal of translational medicine",
             "id": 1974,
             "is_review": false,
             "journal": "J Transl Med",
             "name": "Response of recurrent BRAFV600E mutated ganglioglioma to Vemurafenib as single agent.",
             "open_access": true,
             "pmc_id": "PMC4279809",
             "publication_date": {
              "day": 19,
              "month": 12,
              "year": 2014
             },
             "pubmed_id": "25524464",
             "source_url": "http://www.ncbi.nlm.nih.gov/pubmed/25524464",
             "status": "fully curated"
            },
            "status": "submitted",
            "type": "evidence",
            "variant_id": 12,
            "variant_origin": "Somatic Mutation"
           },
           {
            "clinical_significance": "Sensitivity",
            "description": "A grade I refractory brainstem ganglioglioma patient harboring BRAF V600E mutation was associated with partial response to vemurafenib monotherapy. The patient experienced significant clinical improvement in response to vemurafenib and maintained a partial response for 12 months; however, disease progression occurred after vemurafenib was discontinued for three months, reintroduction of vemurafenib resulted in a rapid partial response, with continued response noted at time of publication.",
            "disease": {
             "display_name": "Ganglioglioma",
             "doid": "DOID:5078",
             "id": 2604,
             "name": "Ganglioglioma",
             "url": "http://www.disease-ontology.org/?id=DOID:5078"
            },
            "drugs": [
             {
              "id": 4,
              "name": "Vemurafenib"
             }
            ],
            "evidence_direction": "Supports",
            "evidence_level": "C",
            "evidence_type": "Predictive",
            "id": 3778,
            "name": "EID3778",
            "open_change_count": 0,
            "source": {
             "citation": "Aguilera et al., 2016, Pediatr Blood Cancer",
             "full_journal_title": "Pediatric blood & cancer",
             "id": 1975,
             "is_review": false,
             "journal": "Pediatr Blood Cancer",
             "name": "Successful Retreatment of a Child with a Refractory Brainstem Ganglioglioma with Vemurafenib.",
             "publication_date": {
              "month": 3,
              "year": 2016
             },
             "pubmed_id": "26579623",
             "source_url": "http://www.ncbi.nlm.nih.gov/pubmed/26579623",
             "status": "fully curated"
            },
            "status": "submitted",
            "type": "evidence",
            "variant_id": 12,
            "variant_origin": "Somatic Mutation"
           },
           {
            "clinical_significance": "Sensitivity",
            "description": "In a case report, a clear cell sarcoma patient harboring BRAF V600E mutation with distant metastases was associated with a complete response to vemurafenib monotherapy at 8 weeks of treatment. Prior to the administration of vemurafenib, the patient had undergone surgery and was treated with radiation, and standard chemotherapy, but had developed progressive disease.",
            "disease": {
             "display_name": "Clear Cell Sarcoma",
             "doid": "DOID:4233",
             "id": 966,
             "name": "Clear Cell Sarcoma",
             "url": "http://www.disease-ontology.org/?id=DOID:4233"
            },
            "drugs": [
             {
              "id": 4,
              "name": "Vemurafenib"
             }
            ],
            "evidence_direction": "Supports",
            "evidence_level": "C",
            "evidence_type": "Predictive",
            "id": 3779,
            "name": "EID3779",
            "open_change_count": 0,
            "source": {
             "citation": "Protsenko et al., 2015, Invest New Drugs",
             "full_journal_title": "Investigational new drugs",
             "id": 1976,
             "is_review": false,
             "journal": "Invest New Drugs",
             "name": "BRAF-mutated clear cell sarcoma is sensitive to vemurafenib treatment.",
             "publication_date": {
              "month": 10,
              "year": 2015
             },
             "pubmed_id": "26286452",
             "source_url": "http://www.ncbi.nlm.nih.gov/pubmed/26286452",
             "status": "fully curated"
            },
            "status": "submitted",
            "type": "evidence",
            "variant_id": 12,
            "variant_origin": "Somatic Mutation"
           },
           {
            "clinical_significance": "Sensitivity",
            "description": "In a lung adenocarcinoma patient with brain metastases harboring BRAF V600E mutation, BRAF V600E was associated with sensitivity to vemurafenib treatment. Upon treatment with vemurafenib monotherapy, the patient�s metastases demonstrated significant response and pleural right effusion improvement was observed; however, at 4 months the patient�s disease progressed resulting in death.",
            "disease": {
             "display_name": "Lung Adenocarcinoma",
             "doid": "DOID:3910",
             "id": 26,
             "name": "Lung Adenocarcinoma",
             "url": "http://www.disease-ontology.org/?id=DOID:3910"
            },
            "drugs": [
             {
              "id": 4,
              "name": "Vemurafenib"
             }
            ],
            "evidence_direction": "Supports",
            "evidence_level": "C",
            "evidence_type": "Predictive",
            "id": 3780,
            "name": "EID3780",
            "open_change_count": 0,
            "source": {
             "citation": "Robinson et al., 2014, Lung Cancer",
             "full_journal_title": "Lung cancer (Amsterdam, Netherlands)",
             "id": 1977,
             "is_review": false,
             "journal": "Lung Cancer",
             "name": "BRAF V600E-mutated lung adenocarcinoma with metastases to the brain responding to treatment with vemurafenib.",
             "publication_date": {
              "month": 8,
              "year": 2014
             },
             "pubmed_id": "24888229",
             "source_url": "http://www.ncbi.nlm.nih.gov/pubmed/24888229",
             "status": "fully curated"
            },
            "status": "submitted",
            "type": "evidence",
            "variant_id": 12,
            "variant_origin": "Somatic Mutation"
           },
           {
            "clinical_significance": "Sensitivity",
            "description": "In a stage IV non-small cell lung cancer patient with a BRAF V600E mutation, who developed adenocarcinoma, BRAF V600E was associated with sensitivity to vemurafenib treatment. The patient was initially treated with four cycles of standard chemotherapy (cisplatin and pemetrexed) and achieved a partial response, subsequently a complete radiologic response was observed with 11 cycle of maintenance chemotherapy. However, the patient�s disease eventually progressed and lung adenocarcinoma and hepatic metastases were observed, the patient received radiotherapy, followed by the administration of vemurafenib monotherapy with concurrent radiotherapy, resulting in an excellent partial response followed by complete response.",
            "disease": {
             "display_name": "Lung Adenocarcinoma",
             "doid": "DOID:3910",
             "id": 26,
             "name": "Lung Adenocarcinoma",
             "url": "http://www.disease-ontology.org/?id=DOID:3910"
            },
            "drugs": [
             {
              "id": 4,
              "name": "Vemurafenib"
             }
            ],
            "evidence_direction": "Supports",
            "evidence_level": "C",
            "evidence_type": "Predictive",
            "id": 3781,
            "name": "EID3781",
            "open_change_count": 0,
            "source": {
             "citation": "Peters et al., 2013, J. Clin. Oncol.",
             "full_journal_title": "Journal of clinical oncology : official journal of the American Society of Clinical Oncology",
             "id": 1978,
             "is_review": false,
             "journal": "J. Clin. Oncol.",
             "name": "Dramatic response induced by vemurafenib in a BRAF V600E-mutated lung adenocarcinoma.",
             "publication_date": {
              "day": 10,
              "month": 7,
              "year": 2013
             },
             "pubmed_id": "23733758",
             "source_url": "http://www.ncbi.nlm.nih.gov/pubmed/23733758",
             "status": "fully curated"
            },
            "status": "submitted",
            "type": "evidence",
            "variant_id": 12,
            "variant_origin": "Somatic Mutation"
           },
           {
            "clinical_significance": "Sensitivity",
            "description": "In a retrospective study of 35 lung adenocarcinoma patients (with chemotherapy previously administered in 86% of patients), patients harboring a BRAF V600E mutation and treated with vemurafenib monotherapy (n=29) were associated with an improved response rate; an overall survival (with 1st-line therapy) of 25.63 months, a 54% overall response rate and a 95% disease control rate were reported.",
            "disease": {
             "display_name": "Lung Adenocarcinoma",
             "doid": "DOID:3910",
             "id": 26,
             "name": "Lung Adenocarcinoma",
             "url": "http://www.disease-ontology.org/?id=DOID:3910"
            },
            "drugs": [
             {
              "id": 4,
              "name": "Vemurafenib"
             }
            ],
            "evidence_direction": "Supports",
            "evidence_level": "B",
            "evidence_type": "Predictive",
            "id": 3782,
            "name": "EID3782",
            "open_change_count": 0,
            "source": {
             "citation": "Gautschi et al., 2015, J Thorac Oncol",
             "full_journal_title": "Journal of thoracic oncology : official publication of the International Association for the Study of Lung Cancer",
             "id": 1979,
             "is_review": false,
             "journal": "J Thorac Oncol",
             "name": "Targeted Therapy for Patients with BRAF-Mutant Lung Cancer: Results from the European EURAF Cohort.",
             "publication_date": {
              "month": 10,
              "year": 2015
             },
             "pubmed_id": "26200454",
             "source_url": "http://www.ncbi.nlm.nih.gov/pubmed/26200454",
             "status": "fully curated"
            },
            "status": "submitted",
            "type": "evidence",
            "variant_id": 12,
            "variant_origin": "Somatic Mutation"
           },
           {
            "clinical_significance": "Sensitivity",
            "description": "A stage IV lung adenocarcinoma patient harboring a BRAF V600E mutation was associated with response to vemurafenib monotherapy. The patient�s prior treatment regimens were complex, including radiotherapy, standard chemotherapy and erlotinib; subsequently, the BRAF V600E mutation was identified and the patient was treated with vemurafenib monotherapy, achieving a favorable response for greater than 24 months.",
            "disease": {
             "display_name": "Lung Adenocarcinoma",
             "doid": "DOID:3910",
             "id": 26,
             "name": "Lung Adenocarcinoma",
             "url": "http://www.disease-ontology.org/?id=DOID:3910"
            },
            "drugs": [
             {
              "id": 4,
              "name": "Vemurafenib"
             }
            ],
            "evidence_direction": "Supports",
            "evidence_level": "C",
            "evidence_type": "Predictive",
            "id": 3783,
            "name": "EID3783",
            "open_change_count": 0,
            "source": {
             "citation": "Myall et al., 2016, Clin Lung Cancer",
             "full_journal_title": "Clinical lung cancer",
             "id": 1980,
             "is_review": false,
             "journal": "Clin Lung Cancer",
             "name": "Long-Term Survival of a Patient With Non-Small-Cell Lung Cancer Harboring a V600E Mutation in the BRAF Oncogene.",
             "publication_date": {
              "month": 3,
              "year": 2016
             },
             "pubmed_id": "26776917",
             "source_url": "http://www.ncbi.nlm.nih.gov/pubmed/26776917",
             "status": "fully curated"
            },
            "status": "submitted",
            "type": "evidence",
            "variant_id": 12,
            "variant_origin": "Somatic Mutation"
           },
           {
            "clinical_significance": "Sensitivity",
            "description": "In an in vitro study, BRAF V600E expressing cell lines (BCPAP, OCUT1, K1 and SW1736) demonstrated increased sensitivity to vemurafenib treatment, compared to BRAF wild-type expressing cells (FTC133, KAT18, Hth74 and WRO). Sensitivity was determined by assessing cell proliferation (OCUT1, IC50: 0.41uM; SW1736, IC50: 0.12 uM; K1, IC50: 0.83 uM; BCPAP, IC50: 1.16 uM vs. FTC133, IC50: 56.67 uM; KAT18, 541.66 uM; Hth74, IC50: 1349.79 uM; and WRO IC50: 943.73 uM) and ERK phosphorylation.",
            "disease": {
             "display_name": "Thyroid Carcinoma",
             "doid": "DOID:3963",
             "id": 155,
             "name": "Thyroid Carcinoma",
             "url": "http://www.disease-ontology.org/?id=DOID:3963"
            },
            "drugs": [
             {
              "id": 4,
              "name": "Vemurafenib"
             }
            ],
            "evidence_direction": "Supports",
            "evidence_level": "D",
            "evidence_type": "Predictive",
            "id": 3784,
            "name": "EID3784",
            "open_change_count": 0,
            "source": {
             "citation": "Xing et al., 2011, Biochem. Biophys. Res. Commun.",
             "full_journal_title": "Biochemical and biophysical research communications",
             "id": 1981,
             "is_review": false,
             "journal": "Biochem. Biophys. Res. Commun.",
             "name": "The BRAFT1799A mutation confers sensitivity of thyroid cancer cells to the BRAFV600E inhibitor PLX4032 (RG7204).",
             "open_access": true,
             "pmc_id": "PMC4596240",
             "publication_date": {
              "day": 28,
              "month": 1,
              "year": 2011
             },
             "pubmed_id": "21185263",
             "source_url": "http://www.ncbi.nlm.nih.gov/pubmed/21185263",
             "status": "fully curated"
            },
            "status": "submitted",
            "type": "evidence",
            "variant_id": 12,
            "variant_origin": "Somatic Mutation"
           },
           {
            "clinical_significance": "Sensitivity",
            "description": "In an in vitro study, the BCPAP cell line expressing a BRAF V600E mutation was associated with sensitivity to vemurafenib treatment. Sensitivity was determined by assessing cell viability and apoptotic cell death. However, the 8505C cell line expressing a BRAF V600E mutation and high MET protein phosphorylation levels was reported to be insensitive to vemurafenib treatment.",
            "disease": {
             "display_name": "Thyroid Carcinoma",
             "doid": "DOID:3963",
             "id": 155,
             "name": "Thyroid Carcinoma",
             "url": "http://www.disease-ontology.org/?id=DOID:3963"
            },
            "drugs": [
             {
              "id": 4,
              "name": "Vemurafenib"
             }
            ],
            "evidence_direction": "Supports",
            "evidence_level": "D",
            "evidence_type": "Predictive",
            "id": 3785,
            "name": "EID3785",
            "open_change_count": 0,
            "source": {
             "citation": "Byeon et al., 2016, Mol. Carcinog.",
             "full_journal_title": "Molecular carcinogenesis",
             "id": 1982,
             "is_review": false,
             "journal": "Mol. Carcinog.",
             "name": "c-Met-mediated reactivation of PI3K/AKT signaling contributes to insensitivity of BRAF(V600E) mutant thyroid cancer to BRAF inhibition.",
             "publication_date": {
              "month": 11,
              "year": 2016
             },
             "pubmed_id": "26456083",
             "source_url": "http://www.ncbi.nlm.nih.gov/pubmed/26456083",
             "status": "fully curated"
            },
            "status": "submitted",
            "type": "evidence",
            "variant_id": 12,
            "variant_origin": "Somatic Mutation"
           },
           {
            "clinical_significance": "Sensitivity",
            "description": "An anaplastic pleomorphic xanthoastrocytoma patient harboring BRAF V600E mutation was associated with improved response to vemurafenib treatment. The patient was treated with radiation and temozolomide before experiencing disease progression; subsequent treatment with vemurafenib monotherapy, for a 12 week period, resulted in a near complete response.",
            "disease": {
             "display_name": "Pleomorphic Xanthoastrocytoma",
             "doid": "DOID:4852",
             "id": 1124,
             "name": "Pleomorphic Xanthoastrocytoma",
             "url": "http://www.disease-ontology.org/?id=DOID:4852"
            },
            "drugs": [
             {
              "id": 4,
              "name": "Vemurafenib"
             }
            ],
            "evidence_direction": "Supports",
            "evidence_level": "C",
            "evidence_type": "Predictive",
            "id": 3786,
            "name": "EID3786",
            "open_change_count": 0,
            "source": {
             "citation": "Lee et al., 2016, J. Clin. Oncol.",
             "full_journal_title": "Journal of clinical oncology : official journal of the American Society of Clinical Oncology",
             "id": 1983,
             "is_review": false,
             "journal": "J. Clin. Oncol.",
             "name": "Successful Treatment of a Progressive BRAF V600E-Mutated Anaplastic Pleomorphic Xanthoastrocytoma With Vemurafenib Monotherapy.",
             "publication_date": {
              "day": 1,
              "month": 4,
              "year": 2016
             },
             "pubmed_id": "25092772",
             "source_url": "http://www.ncbi.nlm.nih.gov/pubmed/25092772",
             "status": "fully curated"
            },
            "status": "submitted",
            "type": "evidence",
            "variant_id": 12,
            "variant_origin": "Somatic Mutation"
           },
           {
            "clinical_significance": "Sensitivity",
            "description": "A stage 4B, low-grade papillary serous ovarian adenocarcinoma patient, harboring a BRAF V600E mutation was associated with response to vemurafenib monotherapy. The patient was treated with standard chemotherapy, hormone therapy and bevacizumab prior to the identification of the BRAF V600E mutation; next, the patient was treated with paclitaxel and an anti-HER3 antibody and finally with vemurafenib, obtaining a partial response of greater than 1 year.",
            "disease": {
             "display_name": "Ovarian Cystadenocarcinoma",
             "doid": "DOID:3605",
             "id": 816,
             "name": "Ovarian Cystadenocarcinoma",
             "url": "http://www.disease-ontology.org/?id=DOID:3605"
            },
            "drugs": [
             {
              "id": 4,
              "name": "Vemurafenib"
             }
            ],
            "evidence_direction": "Supports",
            "evidence_level": "C",
            "evidence_type": "Predictive",
            "id": 3787,
            "name": "EID3787",
            "open_change_count": 0,
            "source": {
             "citation": "Combe et al., 2015, Invest New Drugs",
             "full_journal_title": "Investigational new drugs",
             "id": 1984,
             "is_review": false,
             "journal": "Invest New Drugs",
             "name": "Sustained response to vemurafenib in a low grade serous ovarian cancer with a BRAF V600E mutation.",
             "publication_date": {
              "month": 12,
              "year": 2015
             },
             "pubmed_id": "26490654",
             "source_url": "http://www.ncbi.nlm.nih.gov/pubmed/26490654",
             "status": "fully curated"
            },
            "status": "submitted",
            "type": "evidence",
            "variant_id": 12,
            "variant_origin": "Somatic Mutation"
           },
           {
            "clinical_significance": "Sensitivity",
            "description": "In a malignant peripheral nerve sheath tumor patient harboring a BRAF V600E mutation, response to vemurafenib monotherapy was reported. Upon identification of the BRAF V600E mutation, the patient was treated with sorafenib monotherapy, but quickly progressed; subsequently, the patient was treated with vemurafenib. 33 days after treatment was initiated, tumor response was reported, as evident by the disappearance of chest and abdominal skin lesions.",
            "disease": {
             "display_name": "Malignant Peripheral Nerve Sheath Tumor",
             "doid": "DOID:5940",
             "id": 326,
             "name": "Malignant Peripheral Nerve Sheath Tumor",
             "url": "http://www.disease-ontology.org/?id=DOID:5940"
            },
            "drugs": [
             {
              "id": 4,
              "name": "Vemurafenib"
             }
            ],
            "evidence_direction": "Supports",
            "evidence_level": "C",
            "evidence_type": "Predictive",
            "id": 3788,
            "name": "EID3788",
            "open_change_count": 0,
            "source": {
             "citation": "Kaplan, 2013, J Natl Compr Canc Netw",
             "full_journal_title": "Journal of the National Comprehensive Cancer Network : JNCCN",
             "id": 1958,
             "is_review": false,
             "journal": "J Natl Compr Canc Netw",
             "name": "Vemurafenib treatment of BRAF V600E-mutated malignant peripheral nerve sheath tumor.",
             "publication_date": {
              "day": 1,
              "month": 12,
              "year": 2013
             },
             "pubmed_id": "24335681",
             "source_url": "http://www.ncbi.nlm.nih.gov/pubmed/24335681",
             "status": "submitted"
            },
            "status": "submitted",
            "type": "evidence",
            "variant_id": 12,
            "variant_origin": "Somatic Mutation"
           },
           {
            "clinical_significance": "Sensitivity",
            "description": "A primary central nervous system (CNS)-histiocytic sarcoma patient harboring BRAF V600E mutation was associated with improved response to vemurafenib treatment. The patient was treated with vemurafenib monotherapy and obtained a clinical, biological and radiologic response; subsequently, the patient developed progressive disease and died 6 months after initial treatment with vemurafenib.",
            "disease": {
             "display_name": "Histiocytoma",
             "doid": "DOID:4231",
             "id": 964,
             "name": "Histiocytoma",
             "url": "http://www.disease-ontology.org/?id=DOID:4231"
            },
            "drugs": [
             {
              "id": 4,
              "name": "Vemurafenib"
             }
            ],
            "evidence_direction": "Supports",
            "evidence_level": "C",
            "evidence_type": "Predictive",
            "id": 3789,
            "name": "EID3789",
            "open_change_count": 0,
            "source": {
             "citation": "Idbaih et al., 2014, Neurology",
             "full_journal_title": "Neurology",
             "id": 1985,
             "is_review": false,
             "journal": "Neurology",
             "name": "Dramatic response of a BRAF V600E-mutated primary CNS histiocytic sarcoma to vemurafenib.",
             "publication_date": {
              "day": 14,
              "month": 10,
              "year": 2014
             },
             "pubmed_id": "25209580",
             "source_url": "http://www.ncbi.nlm.nih.gov/pubmed/25209580",
             "status": "fully curated"
            },
            "status": "submitted",
            "type": "evidence",
            "variant_id": 12,
            "variant_origin": "Somatic Mutation"
           },
           {
            "clinical_significance": "Sensitivity",
            "description": "In a conjunctival malignant melanoma patient harboring a BRAF V600E mutation, BRAF V600E was associated with response to vemurafenib treatment. Prior to identification of the BRAF V600E mutation, the patient was treated with cryotherapy, standard chemotherapy and whole brain radiotherapy; the patient achieved a 4 month progression free survival with vemurafenib treatment prior to disease progression.",
            "disease": {
             "display_name": "Malignant Conjunctival Melanoma",
             "doid": "DOID:1751",
             "id": 2605,
             "name": "Malignant Conjunctival Melanoma",
             "url": "http://www.disease-ontology.org/?id=DOID:1751"
            },
            "drugs": [
             {
              "id": 4,
              "name": "Vemurafenib"
             }
            ],
            "evidence_direction": "Supports",
            "evidence_level": "C",
            "evidence_type": "Predictive",
            "id": 3790,
            "name": "EID3790",
            "open_change_count": 0,
            "source": {
             "citation": "Maleka et al., 2016, BMC Cancer",
             "full_journal_title": "BMC cancer",
             "id": 1986,
             "is_review": false,
             "journal": "BMC Cancer",
             "name": "A case report of a patient with metastatic ocular melanoma who experienced a response to treatment with the BRAF inhibitor vemurafenib.",
             "open_access": true,
             "pmc_id": "PMC4983009",
             "publication_date": {
              "day": 12,
              "month": 8,
              "year": 2016
             },
             "pubmed_id": "27520988",
             "source_url": "http://www.ncbi.nlm.nih.gov/pubmed/27520988",
             "status": "fully curated"
            },
            "status": "submitted",
            "type": "evidence",
            "variant_id": 12,
            "variant_origin": "Somatic Mutation"
           },
           {
            "clinical_significance": "Resistance or Non-Response",
            "description": "This meta-analysis of 7 randomized control trials evaluating overall survival (OS) (8 for progression free survival) could not definitely state that survival benefit of anti-EGFR monoclonal antibodies is limited to patients with wild type BRAF. In other words, the authors believe that there is insufficient data to justify the exclusion of anti-EGFR monoclonal antibody therapy for patients with mutant BRAF. In these studies, mutant BRAF specifically meant the V600E mutation.",
            "disease": {
             "display_name": "Colorectal Cancer",
             "doid": "DOID:9256",
             "id": 11,
             "name": "Colorectal Cancer",
             "url": "http://www.disease-ontology.org/?id=DOID:9256"
            },
            "drug_interaction_type": "Substitutes",
            "drugs": [
             {
              "id": 16,
              "name": "Cetuximab"
             },
             {
              "id": 28,
              "name": "Panitumumab"
             }
            ],
            "evidence_direction": "Does Not Support",
            "evidence_level": "B",
            "evidence_type": "Predictive",
            "id": 816,
            "name": "EID816",
            "open_change_count": 0,
            "rating": 4,
            "source": {
             "citation": "Rowland et al., 2015, Br. J. Cancer",
             "full_journal_title": "British journal of cancer",
             "id": 548,
             "is_review": false,
             "journal": "Br. J. Cancer",
             "name": "Meta-analysis of BRAF mutation as a predictive biomarker of benefit from anti-EGFR monoclonal antibody therapy for RAS wild-type metastatic colorectal cancer.",
             "open_access": true,
             "pmc_id": "PMC4580381",
             "publication_date": {
              "day": 9,
              "month": 6,
              "year": 2015
             },
             "pubmed_id": "25989278",
             "source_url": "http://www.ncbi.nlm.nih.gov/pubmed/25989278",
             "status": "fully curated"
            },
            "status": "accepted",
            "type": "evidence",
            "variant_id": 12,
            "variant_origin": "Somatic Mutation"
           },
           {
            "clinical_significance": "Sensitivity",
            "description": "The BRIM-3 Phase III trial NCT01006980 assessed BRAF inhibitor vemurafenib versus dacarbazine in 598 patients with treatment naive metastatic melanoma and confirmed V600E mutation. Significant differences were seen in overall survival (13.3 months with vemurafenib vs. 10.0 months with dacarbazine) and median progression free survival (6.9 months  with vemurafenib vs. 1.6 months with dacarbazine)",
            "disease": {
             "display_name": "Melanoma",
             "doid": "DOID:1909",
             "id": 7,
             "name": "Melanoma",
             "url": "http://www.disease-ontology.org/?id=DOID:1909"
            },
            "drugs": [
             {
              "id": 4,
              "name": "Vemurafenib"
             }
            ],
            "evidence_direction": "Supports",
            "evidence_level": "B",
            "evidence_type": "Predictive",
            "id": 1398,
            "name": "EID1398",
            "open_change_count": 0,
            "rating": 5,
            "source": {
             "citation": "McArthur et al., 2014, Lancet Oncol.",
             "full_journal_title": "The Lancet. Oncology",
             "id": 947,
             "is_review": false,
             "journal": "Lancet Oncol.",
             "name": "Safety and efficacy of vemurafenib in BRAF(V600E) and BRAF(V600K) mutation-positive melanoma (BRIM-3): extended follow-up of a phase 3, randomised, open-label study.",
             "open_access": true,
             "pmc_id": "PMC4382632",
             "publication_date": {
              "month": 3,
              "year": 2014
             },
             "pubmed_id": "24508103",
             "source_url": "http://www.ncbi.nlm.nih.gov/pubmed/24508103",
             "status": "fully curated"
            },
            "status": "accepted",
            "type": "evidence",
            "variant_id": 12,
            "variant_origin": "Somatic Mutation"
           },
           {
            "clinical_significance": "Sensitivity",
            "description": "In this Phase II pilot study (NCT00405587) of BRAF V600 inhibitor vemurafenib in 21 metastatic colorectal cancer (CRC) patients with BRAF V600E, one patient had a durable 21 week partial response, and seven patients had 8 week stable disease as best response. Median progression free survival was 2.1 months and median overall survival was 7.7 months. The authors conclude that single agent vemurafenib did not show meaningful activity in V600E CRC, in contrast to the significant vemurafenib activity against V600 in melanoma.",
            "disease": {
             "display_name": "Colorectal Cancer",
             "doid": "DOID:9256",
             "id": 11,
             "name": "Colorectal Cancer",
             "url": "http://www.disease-ontology.org/?id=DOID:9256"
            },
            "drugs": [
             {
              "id": 4,
              "name": "Vemurafenib"
             }
            ],
            "evidence_direction": "Does Not Support",
            "evidence_level": "B",
            "evidence_type": "Predictive",
            "id": 1405,
            "name": "EID1405",
            "open_change_count": 0,
            "rating": 4,
            "source": {
             "citation": "Kopetz et al., 2015, J. Clin. Oncol.",
             "full_journal_title": "Journal of clinical oncology : official journal of the American Society of Clinical Oncology",
             "id": 953,
             "is_review": false,
             "journal": "J. Clin. Oncol.",
             "name": "Phase II Pilot Study of Vemurafenib in Patients With Metastatic BRAF-Mutated Colorectal Cancer.",
             "open_access": true,
             "pmc_id": "PMC4669589",
             "publication_date": {
              "day": 1,
              "month": 12,
              "year": 2015
             },
             "pubmed_id": "26460303",
             "source_url": "http://www.ncbi.nlm.nih.gov/pubmed/26460303",
             "status": "fully curated"
            },
            "status": "accepted",
            "type": "evidence",
            "variant_id": 12,
            "variant_origin": "Somatic Mutation"
           },
           {
            "clinical_significance": "Sensitivity",
            "description": "In trial NCT00880321, dabrafenib was tested in various solid tumor types harboring mutant BRAF after establishing dosage of 150 mg twice daily. In nine colorectal cancer patients with established V600E mutation, 1 confirmed response, 7 instances of stable disease, and 1 case of progressive disease was seen, which contrasted strongly with a 56% confirmed response rate seen in metastatic V600E melanoma patients similarly treated in the same study.",
            "disease": {
             "display_name": "Colorectal Cancer",
             "doid": "DOID:9256",
             "id": 11,
             "name": "Colorectal Cancer",
             "url": "http://www.disease-ontology.org/?id=DOID:9256"
            },
            "drugs": [
             {
              "id": 22,
              "name": "Dabrafenib"
             }
            ],
            "evidence_direction": "Does Not Support",
            "evidence_level": "B",
            "evidence_type": "Predictive",
            "id": 1406,
            "name": "EID1406",
            "open_change_count": 0,
            "rating": 3,
            "source": {
             "citation": "Falchook et al., 2012, Lancet",
             "full_journal_title": "Lancet (London, England)",
             "id": 345,
             "is_review": false,
             "journal": "Lancet",
             "name": "Dabrafenib in patients with melanoma, untreated brain metastases, and other solid tumours: a phase 1 dose-escalation trial.",
             "open_access": true,
             "pmc_id": "PMC4109288",
             "publication_date": {
              "day": 19,
              "month": 5,
              "year": 2012
             },
             "pubmed_id": "22608338",
             "source_url": "http://www.ncbi.nlm.nih.gov/pubmed/22608338",
             "status": "fully curated"
            },
            "status": "accepted",
            "type": "evidence",
            "variant_id": 12,
            "variant_origin": "Somatic Mutation"
           },
           {
            "clinical_significance": "Sensitivity",
            "description": "5 of 7 colorectal cancer (CRC) cell lines with BRAF V600E mutation were resistant to treatment with the BRAF inhibitor vemurafenib. An RNAi screen in the WiDr cell line (a V600E CRC line) identified EGFR as an enhancer for survival when exposed to vemurafenib.  Treatment with vemurafenib and EGFR inhibitor (cetuximab or gefitinib) in V600E CRC cells (WiDr, VACO432 and KM20) showed inhibited growth as well as induction of the cleaved PARP apoptotic marker. WiDr and VACO432 cells were injected into immunodeficient mice. Modest response was seen with vemurafenib treatment, while combination treatment showed considerable tumor growth inhibition as compared to control.",
            "disease": {
             "display_name": "Colorectal Cancer",
             "doid": "DOID:9256",
             "id": 11,
             "name": "Colorectal Cancer",
             "url": "http://www.disease-ontology.org/?id=DOID:9256"
            },
            "drug_interaction_type": "Combination",
            "drugs": [
             {
              "id": 4,
              "name": "Vemurafenib"
             },
             {
              "id": 14,
              "name": "Gefitinib"
             },
             {
              "id": 16,
              "name": "Cetuximab"
             }
            ],
            "evidence_direction": "Supports",
            "evidence_level": "D",
            "evidence_type": "Predictive",
            "id": 1408,
            "name": "EID1408",
            "open_change_count": 0,
            "rating": 3,
            "source": {
             "citation": "Prahallad et al., 2012, Nature",
             "full_journal_title": "Nature",
             "id": 344,
             "is_review": false,
             "journal": "Nature",
             "name": "Unresponsiveness of colon cancer to BRAF(V600E) inhibition through feedback activation of EGFR.",
             "publication_date": {
              "day": 1,
              "month": 3,
              "year": 2012
             },
             "pubmed_id": "22281684",
             "source_url": "http://www.ncbi.nlm.nih.gov/pubmed/22281684",
             "status": "fully curated"
            },
            "status": "accepted",
            "type": "evidence",
            "variant_id": 12,
            "variant_origin": "Somatic Mutation"
           },
           {
            "clinical_significance": "Sensitivity",
            "description": "Phase 3 randomized clinical trial comparing vemurafenib with dacarbazine in 675 patients with previously untreated, metastatic melanoma with the BRAF V600E mutation. At 6 months, overall survival was 84% (95% confidence interval [CI], 78 to 89) in the vemurafenib group and 64% (95% CI, 56 to 73) in the dacarbazine group. A relative reduction of 63% in the risk of death and of 74% in the risk of either death or disease progression was observed with vemurafenib as compared with dacarbazine (P<0.001 for both comparisons).",
            "disease": {
             "display_name": "Skin Melanoma",
             "doid": "DOID:8923",
             "id": 206,
             "name": "Skin Melanoma",
             "url": "http://www.disease-ontology.org/?id=DOID:8923"
            },
            "drugs": [
             {
              "id": 4,
              "name": "Vemurafenib"
             }
            ],
            "evidence_direction": "Supports",
            "evidence_level": "A",
            "evidence_type": "Predictive",
            "id": 1409,
            "name": "EID1409",
            "open_change_count": 0,
            "rating": 5,
            "source": {
             "citation": "Chapman et al., 2011, N. Engl. J. Med.",
             "full_journal_title": "The New England journal of medicine",
             "id": 954,
             "is_review": false,
             "journal": "N. Engl. J. Med.",
             "name": "Improved survival with vemurafenib in melanoma with BRAF V600E mutation.",
             "open_access": true,
             "pmc_id": "PMC3549296",
             "publication_date": {
              "day": 30,
              "month": 6,
              "year": 2011
             },
             "pubmed_id": "21639808",
             "source_url": "http://www.ncbi.nlm.nih.gov/pubmed/21639808",
             "status": "partially curated"
            },
            "status": "accepted",
            "type": "evidence",
            "variant_id": 12,
            "variant_origin": "Somatic Mutation"
           },
           {
            "clinical_significance": "Sensitivity",
            "description": "Phase 2 trial in 132 patients with previously treated metastatic melanoma with BRAF V600E mutation. \nConfirmed overall response rate was 53% (95% confidence interval [CI], 44 to 62; 6% with a complete response and 47% with a partial response), median duration of response was 6.7 months (95% CI, 5.6 to 8.6), and median progression-free survival was 6.8 months (95% CI, 5.6 to 8.1). Median overall survival was 15.9 months (95% CI, 11.6 to 18.3).",
            "disease": {
             "display_name": "Skin Melanoma",
             "doid": "DOID:8923",
             "id": 206,
             "name": "Skin Melanoma",
             "url": "http://www.disease-ontology.org/?id=DOID:8923"
            },
            "drugs": [
             {
              "id": 4,
              "name": "Vemurafenib"
             }
            ],
            "evidence_direction": "Supports",
            "evidence_level": "B",
            "evidence_type": "Predictive",
            "id": 1410,
            "name": "EID1410",
            "open_change_count": 0,
            "rating": 3,
            "source": {
             "citation": "Sosman et al., 2012, N. Engl. J. Med.",
             "full_journal_title": "The New England journal of medicine",
             "id": 354,
             "is_review": false,
             "journal": "N. Engl. J. Med.",
             "name": "Survival in BRAF V600-mutant advanced melanoma treated with vemurafenib.",
             "open_access": true,
             "pmc_id": "PMC3724515",
             "publication_date": {
              "day": 23,
              "month": 2,
              "year": 2012
             },
             "pubmed_id": "22356324",
             "source_url": "http://www.ncbi.nlm.nih.gov/pubmed/22356324",
             "status": "fully curated"
            },
            "status": "accepted",
            "type": "evidence",
            "variant_id": 12,
            "variant_origin": "Somatic Mutation"
           },
           {
            "clinical_significance": "Sensitivity",
            "description": "Open-label, randomized phase 3 trial with 704 patients with metastatic melanoma with a BRAF V600 mutation. Patients were randomized to receive either a combination of dabrafenib and trametinib or vemurafenib orally as first-line therapy. At preplanned interim analysis the overall survival rate at 12 months was 72% (95% confidence interval [CI], 67 to 77) in the combination-therapy group and 65% (95% CI, 59 to 70) in the vemurafenib group (hazard ratio for death in the combination-therapy group, 0.69; 95% CI, 0.53 to 0.89; P=0.005). Median progression-free survival was 11.4 months in the combination-therapy group and 7.3 months in the vemurafenib group (hazard ratio, 0.56; 95% CI, 0.46 to 0.69; P<0.001).",
            "disease": {
             "display_name": "Skin Melanoma",
             "doid": "DOID:8923",
             "id": 206,
             "name": "Skin Melanoma",
             "url": "http://www.disease-ontology.org/?id=DOID:8923"
            },
            "drug_interaction_type": "Combination",
            "drugs": [
             {
              "id": 19,
              "name": "Trametinib"
             },
             {
              "id": 22,
              "name": "Dabrafenib"
             }
            ],
            "evidence_direction": "Supports",
            "evidence_level": "A",
            "evidence_type": "Predictive",
            "id": 1411,
            "name": "EID1411",
            "open_change_count": 0,
            "rating": 5,
            "source": {
             "citation": "Robert et al., 2015, N. Engl. J. Med.",
             "full_journal_title": "The New England journal of medicine",
             "id": 353,
             "is_review": false,
             "journal": "N. Engl. J. Med.",
             "name": "Improved overall survival in melanoma with combined dabrafenib and trametinib.",
             "publication_date": {
              "day": 1,
              "month": 1,
              "year": 2015
             },
             "pubmed_id": "25399551",
             "source_url": "http://www.ncbi.nlm.nih.gov/pubmed/25399551",
             "status": "fully curated"
            },
            "status": "accepted",
            "type": "evidence",
            "variant_id": 12,
            "variant_origin": "Somatic Mutation"
           },
           {
            "clinical_significance": "Sensitivity",
            "description": "Treatment response to mutant BRAF inhibitor vemurafenib and EGFR inhibitor panitumumab was assayed in 12 patients with metastatic colorectal cancer (CRC) who had progressed on chemotherapy. Two patients had confirmed partial responses, and 2 showed stable disease over 6 months. The authors conclude that although some efficacy is seen, only a small subset of patients respond to this treatment and the responses are not durable.",
            "disease": {
             "display_name": "Colorectal Cancer",
             "doid": "DOID:9256",
             "id": 11,
             "name": "Colorectal Cancer",
             "url": "http://www.disease-ontology.org/?id=DOID:9256"
            },
            "drug_interaction_type": "Combination",
            "drugs": [
             {
              "id": 4,
              "name": "Vemurafenib"
             },
             {
              "id": 28,
              "name": "Panitumumab"
             }
            ],
            "evidence_direction": "Does Not Support",
            "evidence_level": "B",
            "evidence_type": "Predictive",
            "id": 1413,
            "name": "EID1413",
            "open_change_count": 0,
            "rating": 3,
            "source": {
             "citation": "Yaeger et al., 2015, Clin. Cancer Res.",
             "full_journal_title": "Clinical cancer research : an official journal of the American Association for Cancer Research",
             "id": 957,
             "is_review": false,
             "journal": "Clin. Cancer Res.",
             "name": "Pilot trial of combined BRAF and EGFR inhibition in BRAF-mutant metastatic colorectal cancer patients.",
             "publication_date": {
              "day": 15,
              "month": 3,
              "year": 2015
             },
             "pubmed_id": "25589621",
             "source_url": "http://www.ncbi.nlm.nih.gov/pubmed/25589621",
             "status": "fully curated"
            },
            "status": "accepted",
            "type": "evidence",
            "variant_id": 12,
            "variant_origin": "Somatic Mutation"
           },
           {
            "clinical_significance": "Sensitivity",
            "description": "A 73 year old patient with prior history of breast cancer presented with metastatic papillary thyroid carcinoma. After two treatments of I-131 a comprehensive tumor profile revealed BRAF V600E as the only genetic alteration on a near diploid genome with trisomy 1q. Vemurafenib treatment resulted in improvement of symptoms and considerable reductions in tumor mass, and after 23 months the patient remained on therapy with well controlled disease.",
            "disease": {
             "display_name": "Papillary Thyroid Carcinoma",
             "doid": "DOID:3969",
             "id": 156,
             "name": "Papillary Thyroid Carcinoma",
             "url": "http://www.disease-ontology.org/?id=DOID:3969"
            },
            "drugs": [
             {
              "id": 4,
              "name": "Vemurafenib"
             }
            ],
            "evidence_direction": "Supports",
            "evidence_level": "C",
            "evidence_type": "Predictive",
            "id": 1414,
            "name": "EID1414",
            "open_change_count": 0,
            "rating": 4,
            "source": {
             "citation": "Ali et al., 2014, Case Rep Oncol",
             "full_journal_title": "Case reports in oncology",
             "id": 958,
             "is_review": false,
             "journal": "Case Rep Oncol",
             "name": "Extended Antitumor Response of a BRAF V600E Papillary Thyroid Carcinoma to Vemurafenib.",
             "open_access": true,
             "pmc_id": "PMC4067722",
             "publication_date": {
              "month": 5,
              "year": 2014
             },
             "pubmed_id": "24987354",
             "source_url": "http://www.ncbi.nlm.nih.gov/pubmed/24987354",
             "status": "fully curated"
            },
            "status": "accepted",
            "type": "evidence",
            "variant_id": 12,
            "variant_origin": "Somatic Mutation"
           },
           {
            "clinical_significance": "Sensitivity",
            "description": "In a randomized phase 3 study, previously untreated advanced or metastatic BRAF V600 mutation-positive melanoma patients treated with combination vemurafenib and cobimetinib showed improved progression free survival (9.9 vs 6.2 months), increased rate of complete or partial response (68% vs 45%), and improved overall survival at 9 months ( 81% vs 73%) compared to the vemurafenib and placebo control group.",
            "disease": {
             "display_name": "Melanoma",
             "doid": "DOID:1909",
             "id": 7,
             "name": "Melanoma",
             "url": "http://www.disease-ontology.org/?id=DOID:1909"
            },
            "drug_interaction_type": "Combination",
            "drugs": [
             {
              "id": 4,
              "name": "Vemurafenib"
             },
             {
              "id": 342,
              "name": "Cobimetinib"
             }
            ],
            "evidence_direction": "Supports",
            "evidence_level": "B",
            "evidence_type": "Predictive",
            "id": 1421,
            "name": "EID1421",
            "open_change_count": 0,
            "rating": 4,
            "source": {
             "citation": "Larkin et al., 2014, N. Engl. J. Med.",
             "full_journal_title": "The New England journal of medicine",
             "id": 963,
             "is_review": false,
             "journal": "N. Engl. J. Med.",
             "name": "Combined vemurafenib and cobimetinib in BRAF-mutated melanoma.",
             "publication_date": {
              "day": 13,
              "month": 11,
              "year": 2014
             },
             "pubmed_id": "25265494",
             "source_url": "http://www.ncbi.nlm.nih.gov/pubmed/25265494",
             "status": "fully curated"
            },
            "status": "accepted",
            "type": "evidence",
            "variant_id": 12,
            "variant_origin": "Somatic Mutation"
           },
           {
            "clinical_significance": "Sensitivity",
            "description": "In a mouse model of BRAF V600E colorectal cancer, western blots from tumors in mice treated with BRAF inhibitor GDC-0879 and PI3K/mTOR inhibitor BEZ235 showed stronger reduction in phospho-Akt and phospho-S6 than PI3K/mTOR inhibitor alone, and combination inhibition also resulted in stronger phospho-ERK inhibition in tumors than did BRAF inhibition alone. Increased apoptosis in tumors was seen in dual treatment conditions with increased TUNEL-positive cells. In vehicle treated mice, area of colon covered by tumor increased, while treatment with single agent inhibitors caused growth inhibition resulting in no change in colon area covered by tumors. Administration of dual inhibitors induced tumor regression apparent in a decrease of colonic area covered by tumors over the course of treatment.",
            "disease": {
             "display_name": "Colorectal Cancer",
             "doid": "DOID:9256",
             "id": 11,
             "name": "Colorectal Cancer",
             "url": "http://www.disease-ontology.org/?id=DOID:9256"
            },
            "drug_interaction_type": "Combination",
            "drugs": [
             {
              "id": 343,
              "name": "BEZ235 (NVP-BEZ235, Dactolisib)"
             },
             {
              "id": 344,
              "name": "GDC-0879"
             }
            ],
            "evidence_direction": "Supports",
            "evidence_level": "D",
            "evidence_type": "Predictive",
            "id": 1428,
            "name": "EID1428",
            "open_change_count": 0,
            "rating": 3,
            "source": {
             "citation": "Coffee et al., 2013, Clin. Cancer Res.",
             "full_journal_title": "Clinical cancer research : an official journal of the American Association for Cancer Research",
             "id": 967,
             "is_review": false,
             "journal": "Clin. Cancer Res.",
             "name": "Concomitant BRAF and PI3K/mTOR blockade is required for effective treatment of BRAF(V600E) colorectal cancer.",
             "open_access": true,
             "pmc_id": "PMC3815598",
             "publication_date": {
              "day": 15,
              "month": 5,
              "year": 2013
             },
             "pubmed_id": "23549875",
             "source_url": "http://www.ncbi.nlm.nih.gov/pubmed/23549875",
             "status": "fully curated"
            },
            "status": "accepted",
            "type": "evidence",
            "variant_id": 12,
            "variant_origin": "Somatic Mutation"
           },
           {
            "clinical_significance": "Sensitivity",
            "description": "BRAF mutations were identified in 9% of 108 cases of high-grade colorectal neuroendocrine tumors (80% V600E). Two patients were treated with a combination of BRAF and MEK inhibition and exhibited durable response (beyond 7 and 9 months, respectively). Urinary BRAF V600E tumor DNA correlated with disease response in one of the patients. BRAF and MEK inhibition was either dabrafenib+trametinib (case 1) or vemurafenib+trametinib (case 2).",
            "disease": {
             "display_name": "Gastrointestinal Neuroendocrine Tumor",
             "doid": "DOID:0050626",
             "id": 53,
             "name": "Gastrointestinal Neuroendocrine Tumor",
             "url": "http://www.disease-ontology.org/?id=DOID:0050626"
            },
            "drug_interaction_type": "Combination",
            "drugs": [
             {
              "id": 22,
              "name": "Dabrafenib"
             },
             {
              "id": 19,
              "name": "Trametinib"
             },
             {
              "id": 4,
              "name": "Vemurafenib"
             }
            ],
            "evidence_direction": "Supports",
            "evidence_level": "C",
            "evidence_type": "Predictive",
            "id": 1430,
            "name": "EID1430",
            "open_change_count": 0,
            "rating": 3,
            "source": {
             "citation": "Klempner et al., 2016, Cancer Discov",
             "full_journal_title": "Cancer discovery",
             "id": 969,
             "is_review": false,
             "journal": "Cancer Discov",
             "name": "BRAFV600E Mutations in High-Grade Colorectal Neuroendocrine Tumors May Predict Responsiveness to BRAF-MEK Combination Therapy.",
             "publication_date": {
              "month": 6,
              "year": 2016
             },
             "pubmed_id": "27048246",
             "source_url": "http://www.ncbi.nlm.nih.gov/pubmed/27048246",
             "status": "fully curated"
            },
            "status": "accepted",
            "type": "evidence",
            "variant_id": 12,
            "variant_origin": "Somatic Mutation"
           },
           {
            "clinical_significance": "Sensitivity",
            "description": "49 BRAF-mutant melanoma cell lines from patients not previously treated with BRAF inhibition were analyzed. 21 exhibited primary resistance to BRAF inhibition using PLX4720. Inhibition of MEK1/2 (BEZ235) and PI3K/mTOR (AZD6244 [selumetinib]) was the most effective approach to counteract resistance in comparison to inhibition with the PLX4720-BEZ235 (where response was assessed by apoptosis, viability, p-ERK, p-Akt inhibition).",
            "disease": {
             "display_name": "Melanoma",
             "doid": "DOID:1909",
             "id": 7,
             "name": "Melanoma",
             "url": "http://www.disease-ontology.org/?id=DOID:1909"
            },
            "drug_interaction_type": "Combination",
            "drugs": [
             {
              "id": 122,
              "name": "Selumetinib (AZD6244)"
             },
             {
              "id": 343,
              "name": "BEZ235 (NVP-BEZ235, Dactolisib)"
             }
            ],
            "evidence_direction": "Supports",
            "evidence_level": "D",
            "evidence_type": "Predictive",
            "id": 1005,
            "name": "EID1005",
            "open_change_count": 0,
            "rating": 2,
            "source": {
             "citation": "Penna et al., 2016, Oncotarget",
             "full_journal_title": "Oncotarget",
             "id": 694,
             "is_review": false,
             "journal": "Oncotarget",
             "name": "Primary cross-resistance to BRAFV600E-, MEK1/2- and PI3K/mTOR-specific inhibitors in BRAF-mutant melanoma cells counteracted by dual pathway blockade.",
             "open_access": true,
             "pmc_id": "PMC4826182",
             "publication_date": {
              "day": 26,
              "month": 1,
              "year": 2016
             },
             "pubmed_id": "26678033",
             "source_url": "http://www.ncbi.nlm.nih.gov/pubmed/26678033",
             "status": "fully curated"
            },
            "status": "accepted",
            "type": "evidence",
            "variant_id": 12,
            "variant_origin": "Somatic Mutation"
           },
           {
            "clinical_significance": "Sensitivity",
            "description": "Two clinical trials evaluated the effects of vemurafenib in 54 patients with BRAF (V600E) positive hairy-cell leukemia.  The overall response rate was 98% with 19/54 having a complete response and 34/54 having a partial response.  In the Italian study (n=25), the median relapse-free survival was 9 months and in the U.S. study (n=24), rate of progression-free survival was 73% with overall survival rate of 91%.",
            "disease": {
             "display_name": "Hairy Cell Leukemia",
             "doid": "DOID:285",
             "id": 665,
             "name": "Hairy Cell Leukemia",
             "url": "http://www.disease-ontology.org/?id=DOID:285"
            },
            "drugs": [
             {
              "id": 4,
              "name": "Vemurafenib"
             }
            ],
            "evidence_direction": "Supports",
            "evidence_level": "B",
            "evidence_type": "Predictive",
            "id": 1579,
            "name": "EID1579",
            "open_change_count": 0,
            "rating": 2,
            "source": {
             "citation": "Tiacci et al., 2015, N. Engl. J. Med.",
             "full_journal_title": "The New England journal of medicine",
             "id": 1043,
             "is_review": false,
             "journal": "N. Engl. J. Med.",
             "name": "Targeting Mutant BRAF in Relapsed or Refractory Hairy-Cell Leukemia.",
             "open_access": true,
             "pmc_id": "PMC4811324",
             "publication_date": {
              "day": 29,
              "month": 10,
              "year": 2015
             },
             "pubmed_id": "26352686",
             "source_url": "http://www.ncbi.nlm.nih.gov/pubmed/26352686",
             "status": "fully curated"
            },
            "status": "accepted",
            "type": "evidence",
            "variant_id": 12,
            "variant_origin": "Somatic Mutation"
           },
           {
            "clinical_significance": "Sensitivity",
            "description": "Case report of a patient with BRAF V600E mutant metastatic colorectal cancer. Combined EGFR and BRAF inhibition (panitumumab and vemurafenib) showed an initial partial response for 4 months with subsequent disease progression.",
            "disease": {
             "display_name": "Colorectal Cancer",
             "doid": "DOID:9256",
             "id": 11,
             "name": "Colorectal Cancer",
             "url": "http://www.disease-ontology.org/?id=DOID:9256"
            },
            "drug_interaction_type": "Combination",
            "drugs": [
             {
              "id": 4,
              "name": "Vemurafenib"
             },
             {
              "id": 28,
              "name": "Panitumumab"
             }
            ],
            "evidence_direction": "Supports",
            "evidence_level": "C",
            "evidence_type": "Predictive",
            "id": 1589,
            "name": "EID1589",
            "open_change_count": 0,
            "rating": 2,
            "source": {
             "citation": "Pietrantonio et al., 2016, Cancer Discov",
             "full_journal_title": "Cancer discovery",
             "id": 1050,
             "is_review": false,
             "journal": "Cancer Discov",
             "name": "MET-Driven Resistance to Dual EGFR and BRAF Blockade May Be Overcome by Switching from EGFR to MET Inhibition in BRAF-Mutated Colorectal Cancer.",
             "publication_date": {
              "day": 20,
              "month": 6,
              "year": 2016
             },
             "pubmed_id": "27325282",
             "source_url": "http://www.ncbi.nlm.nih.gov/pubmed/27325282",
             "status": "fully curated"
            },
            "status": "accepted",
            "type": "evidence",
            "variant_id": 12,
            "variant_origin": "Somatic Mutation"
           },
           {
            "clinical_significance": "Sensitivity",
            "description": "Open-label non-randomised phase 2 trial in patients with recurrent or metastatic BRAF V600E mutant papillary thyroid cancer refractory to radioactive iodine. Patients had (cohort 2) or had not (cohort 1) previously been treated with VEGFR inhibitors.\n51 patients were enrolled (26 cohort 1, 25 cohort 2). In cohort 1, partial response was achieved in ten (38.5%) patients. Nine patients achieved stable disease for at least 6 months (35%). Median PFS was 18.2 months and median OS not reached after a median follow-up pf 18.8 months.\nIn cohort 2, six patients (27.3%) achieved a partial response and another six patients achieved stable disease for at least six months. Median PFS was 8.9 months and median OS was 14.4. months.",
            "disease": {
             "display_name": "Papillary Thyroid Carcinoma",
             "doid": "DOID:3969",
             "id": 156,
             "name": "Papillary Thyroid Carcinoma",
             "url": "http://www.disease-ontology.org/?id=DOID:3969"
            },
            "drugs": [
             {
              "id": 4,
              "name": "Vemurafenib"
             }
            ],
            "evidence_direction": "Supports",
            "evidence_level": "B",
            "evidence_type": "Predictive",
            "id": 1591,
            "name": "EID1591",
            "open_change_count": 0,
            "rating": 3,
            "source": {
             "citation": "Brose et al., 2016, Lancet Oncol.",
             "full_journal_title": "The Lancet. Oncology",
             "id": 1052,
             "is_review": false,
             "journal": "Lancet Oncol.",
             "name": "Vemurafenib in patients with BRAF(V600E)-positive metastatic or unresectable papillary thyroid cancer refractory to radioactive iodine: a non-randomised, multicentre, open-label, phase 2 trial.",
             "publication_date": {
              "day": 22,
              "month": 7,
              "year": 2016
             },
             "pubmed_id": "27460442",
             "source_url": "http://www.ncbi.nlm.nih.gov/pubmed/27460442",
             "status": "fully curated"
            },
            "status": "accepted",
            "type": "evidence",
            "variant_id": 12,
            "variant_origin": "Somatic Mutation"
           },
           {
            "clinical_significance": "Sensitivity",
            "description": "A 65-year-old man presented with stage II myeloma.  He was initially treated with chemotherapy and he received an autologous stem cell transplant. Sequencing of the recurrent tumor harbored BRAF V600E mutation and he was treated with vemurafenib.  After 7 weeks of treatment, the patient relapsed and died.",
            "disease": {
             "display_name": "Multiple Myeloma",
             "doid": "DOID:9538",
             "id": 41,
             "name": "Multiple Myeloma",
             "url": "http://www.disease-ontology.org/?id=DOID:9538"
            },
            "drugs": [
             {
              "id": 4,
              "name": "Vemurafenib"
             }
            ],
            "evidence_direction": "Supports",
            "evidence_level": "C",
            "evidence_type": "Predictive",
            "id": 1698,
            "name": "EID1698",
            "open_change_count": 0,
            "rating": 3,
            "source": {
             "citation": "Sharman et al., 2014, Clin Lymphoma Myeloma Leuk",
             "full_journal_title": "Clinical lymphoma, myeloma & leukemia",
             "id": 1147,
             "is_review": false,
             "journal": "Clin Lymphoma Myeloma Leuk",
             "name": "Vemurafenib response in 2 patients with posttransplant refractory BRAF V600E-mutated multiple myeloma.",
             "publication_date": {
              "month": 10,
              "year": 2014
             },
             "pubmed_id": "24997557",
             "source_url": "http://www.ncbi.nlm.nih.gov/pubmed/24997557",
             "status": "fully curated"
            },
            "status": "accepted",
            "type": "evidence",
            "variant_id": 12,
            "variant_origin": "Somatic Mutation"
           },
           {
            "clinical_significance": "Sensitivity",
            "description": "A 54-year-old man presented with stage II myeloma.  He was initially treated with chemotherapy and received an autologous stem cell transplant.  Genomic profiling of the bone biopsy revealed BRAF V600E activating mutation and the patient was treated with vemurafenib.  At 4-months post treatment (time of case study report) the patient maintains near-resolution of hypermetabolic lesions.",
            "disease": {
             "display_name": "Multiple Myeloma",
             "doid": "DOID:9538",
             "id": 41,
             "name": "Multiple Myeloma",
             "url": "http://www.disease-ontology.org/?id=DOID:9538"
            },
            "drugs": [
             {
              "id": 4,
              "name": "Vemurafenib"
             }
            ],
            "evidence_direction": "Supports",
            "evidence_level": "C",
            "evidence_type": "Predictive",
            "id": 1699,
            "name": "EID1699",
            "open_change_count": 0,
            "rating": 2,
            "source": {
             "citation": "Sharman et al., 2014, Clin Lymphoma Myeloma Leuk",
             "full_journal_title": "Clinical lymphoma, myeloma & leukemia",
             "id": 1147,
             "is_review": false,
             "journal": "Clin Lymphoma Myeloma Leuk",
             "name": "Vemurafenib response in 2 patients with posttransplant refractory BRAF V600E-mutated multiple myeloma.",
             "publication_date": {
              "month": 10,
              "year": 2014
             },
             "pubmed_id": "24997557",
             "source_url": "http://www.ncbi.nlm.nih.gov/pubmed/24997557",
             "status": "fully curated"
            },
            "status": "accepted",
            "type": "evidence",
            "variant_id": 12,
            "variant_origin": "Somatic Mutation"
           },
           {
            "clinical_significance": "Sensitivity",
            "description": "Preclinical study analyzing the differential response to MEK inhibitors in KRAS and BRAF mutant cancer cell lines and mouse xenografts. Inhibition of active, phosphorylated MEK by GDC-0973 (cobimetinib) is required for strong inhibition of the MAPK pathway in BRAF-mutant tumours. This study provides mechanistic rationale for improved efficacy of cobimetinib in BRAF-mutant models compared to MEK inhibitors acting through an alternative mechanism (GDC-0623 and G-573).",
            "disease": {
             "display_name": "Cancer",
             "doid": "DOID:162",
             "id": 216,
             "name": "Cancer",
             "url": "http://www.disease-ontology.org/?id=DOID:162"
            },
            "drugs": [
             {
              "id": 342,
              "name": "Cobimetinib"
             }
            ],
            "evidence_direction": "Supports",
            "evidence_level": "D",
            "evidence_type": "Predictive",
            "id": 1141,
            "name": "EID1141",
            "open_change_count": 0,
            "rating": 3,
            "source": {
             "citation": "Hatzivassiliou et al., 2013, Nature",
             "full_journal_title": "Nature",
             "id": 790,
             "is_review": false,
             "journal": "Nature",
             "name": "Mechanism of MEK inhibition determines efficacy in mutant KRAS- versus BRAF-driven cancers.",
             "publication_date": {
              "day": 12,
              "month": 9,
              "year": 2013
             },
             "pubmed_id": "23934108",
             "source_url": "http://www.ncbi.nlm.nih.gov/pubmed/23934108",
             "status": "fully curated"
            },
            "status": "accepted",
            "type": "evidence",
            "variant_id": 12,
            "variant_origin": "Somatic Mutation"
           },
           {
            "clinical_significance": "Sensitivity",
            "description": "Multicenter, phase 1, dose-escalation trial of PLX4032 (Vemurafenib). Treatment of metastatic melanoma with PLX4032 in patients with tumors that carry the V600E BRAF mutation resulted in complete or partial tumor regression in the majority of patients. Patients without the V600E mutation had evidence of tumor regression.",
            "disease": {
             "display_name": "Melanoma",
             "doid": "DOID:1909",
             "id": 7,
             "name": "Melanoma",
             "url": "http://www.disease-ontology.org/?id=DOID:1909"
            },
            "drugs": [
             {
              "id": 4,
              "name": "Vemurafenib"
             }
            ],
            "evidence_direction": "Supports",
            "evidence_level": "B",
            "evidence_type": "Predictive",
            "id": 1749,
            "name": "EID1749",
            "open_change_count": 0,
            "rating": 4,
            "source": {
             "citation": "Flaherty et al., 2010, N. Engl. J. Med.",
             "full_journal_title": "The New England journal of medicine",
             "id": 352,
             "is_review": false,
             "journal": "N. Engl. J. Med.",
             "name": "Inhibition of mutated, activated BRAF in metastatic melanoma.",
             "open_access": true,
             "pmc_id": "PMC3724529",
             "publication_date": {
              "day": 26,
              "month": 8,
              "year": 2010
             },
             "pubmed_id": "20818844",
             "source_url": "http://www.ncbi.nlm.nih.gov/pubmed/20818844",
             "status": "partially curated"
            },
            "status": "accepted",
            "type": "evidence",
            "variant_id": 12,
            "variant_origin": "Somatic Mutation"
           },
           {
            "clinical_significance": "Sensitivity",
            "description": "Phase 1b study of vemurafenib, cetuximab and irinotecan in 19 patients with colorectal cancer (1 with appendiceal cancer). Six of 17 evaluable patients achieved an objective response, 15 patients total had either stable disease or radiographic response (the patient with appendiceal cancer had disease progression). Estimated median PFS was 7.7 months. Effect of the combined treatment was also observed in xenograft and cell line studies.",
            "disease": {
             "display_name": "Colorectal Cancer",
             "doid": "DOID:9256",
             "id": 11,
             "name": "Colorectal Cancer",
             "url": "http://www.disease-ontology.org/?id=DOID:9256"
            },
            "drug_interaction_type": "Combination",
            "drugs": [
             {
              "id": 4,
              "name": "Vemurafenib"
             },
             {
              "id": 16,
              "name": "Cetuximab"
             },
             {
              "id": 101,
              "name": "Irinotecan"
             }
            ],
            "evidence_direction": "Supports",
            "evidence_level": "B",
            "evidence_type": "Predictive",
            "id": 1902,
            "name": "EID1902",
            "open_change_count": 0,
            "rating": 4,
            "source": {
             "citation": "Hong et al., 2016, Cancer Discov",
             "full_journal_title": "Cancer discovery",
             "id": 1336,
             "is_review": false,
             "journal": "Cancer Discov",
             "name": "Phase IB Study of Vemurafenib in Combination with Irinotecan and Cetuximab in Patients with Metastatic Colorectal Cancer with BRAFV600E Mutation.",
             "publication_date": {
              "month": 12,
              "year": 2016
             },
             "pubmed_id": "27729313",
             "source_url": "http://www.ncbi.nlm.nih.gov/pubmed/27729313",
             "status": "fully curated"
            },
            "status": "accepted",
            "type": "evidence",
            "variant_id": 12,
            "variant_origin": "Somatic Mutation"
           },
           {
            "clinical_significance": "Resistance or Non-Response",
            "description": "In metastatic colorectal cancer patients with wildtype KRAS status, those with a BRAF V600E mutation were less likely to respond to treatment with cetuximab or panitumumab than  those with wildtype BRAF (0%  vs. 32% , P=0.029). Regardless of KRAS status, patients with BRAF mutations had reduced progression-free and overall survival (P=0.0107 and P <0.0001, respectively). Transfection of the colorectal cancer cell line DiFi with a BRAF V600E expression vector conferred decreased sensitivity to cetuximab and panitumumab in comparison to cells transfected with empty vector.",
            "disease": {
             "display_name": "Colorectal Cancer",
             "doid": "DOID:9256",
             "id": 11,
             "name": "Colorectal Cancer",
             "url": "http://www.disease-ontology.org/?id=DOID:9256"
            },
            "drug_interaction_type": "Substitutes",
            "drugs": [
             {
              "id": 28,
              "name": "Panitumumab"
             },
             {
              "id": 16,
              "name": "Cetuximab"
             }
            ],
            "evidence_direction": "Supports",
            "evidence_level": "B",
            "evidence_type": "Predictive",
            "id": 2115,
            "name": "EID2115",
            "open_change_count": 0,
            "rating": 3,
            "source": {
             "citation": "Di Nicolantonio et al., 2008, J. Clin. Oncol.",
             "full_journal_title": "Journal of clinical oncology : official journal of the American Society of Clinical Oncology",
             "id": 100,
             "is_review": false,
             "journal": "J. Clin. Oncol.",
             "name": "Wild-type BRAF is required for response to panitumumab or cetuximab in metastatic colorectal cancer.",
             "publication_date": {
              "day": 10,
              "month": 12,
              "year": 2008
             },
             "pubmed_id": "19001320",
             "source_url": "http://www.ncbi.nlm.nih.gov/pubmed/19001320",
             "status": "fully curated"
            },
            "status": "accepted",
            "type": "evidence",
            "variant_id": 12,
            "variant_origin": "Somatic Mutation"
           },
           {
            "clinical_significance": "Resistance or Non-Response",
            "description": "In a study of metastatic colorectal cancer patients who received 5-FU-based first-line chemotherapy, those with BRAF V600E mutations had reduced progression-free survival (4.3mo vs. 12.5mo, HR:4.9, 95%CI:2.7-9.0, P<0.0001, univariate analysis; HR:4.0, 95%CI:2.2-7.4, P<0.0001, multivariate analysis) and reduced overall survival (10.9mo vs. 40.5mo, HR:4.5, 95%CI:2.4-8.4, P<0.0001, univariate analysis; HR:4.1, 95%CI:2.1-8.0, P<0.0001, multivariate analysis) compared to those with wildtype BRAF.",
            "disease": {
             "display_name": "Colorectal Cancer",
             "doid": "DOID:9256",
             "id": 11,
             "name": "Colorectal Cancer",
             "url": "http://www.disease-ontology.org/?id=DOID:9256"
            },
            "drugs": [
             {
              "id": 458,
              "name": "Fluorouracil"
             }
            ],
            "evidence_direction": "Supports",
            "evidence_level": "B",
            "evidence_type": "Predictive",
            "id": 2116,
            "name": "EID2116",
            "open_change_count": 0,
            "source": {
             "citation": "Souglakos et al., 2009, Br. J. Cancer",
             "full_journal_title": "British journal of cancer",
             "id": 1479,
             "is_review": false,
             "journal": "Br. J. Cancer",
             "name": "Prognostic and predictive value of common mutations for treatment response and survival in patients with metastatic colorectal cancer.",
             "open_access": true,
             "pmc_id": "PMC2720232",
             "publication_date": {
              "day": 4,
              "month": 8,
              "year": 2009
             },
             "pubmed_id": "19603024",
             "source_url": "http://www.ncbi.nlm.nih.gov/pubmed/19603024",
             "status": "partially curated"
            },
            "status": "submitted",
            "type": "evidence",
            "variant_id": 12,
            "variant_origin": "Somatic Mutation"
           },
           {
            "clinical_significance": "Resistance or Non-Response",
            "description": "Of metastatic colorectal cancer patients treated with oxaliplatin-based first-line therapy, those with BRAF V600E mutations had reduced progression-free survival compared to those with wildtype BRAF (5.0mo vs. 11.7mo, HR:6.4, 95%CI:2.6-15.6, P<0.0001).",
            "disease": {
             "display_name": "Colorectal Cancer",
             "doid": "DOID:9256",
             "id": 11,
             "name": "Colorectal Cancer",
             "url": "http://www.disease-ontology.org/?id=DOID:9256"
            },
            "drugs": [
             {
              "id": 237,
              "name": "Oxaliplatin"
             }
            ],
            "evidence_direction": "Supports",
            "evidence_level": "B",
            "evidence_type": "Predictive",
            "id": 2117,
            "name": "EID2117",
            "open_change_count": 0,
            "source": {
             "citation": "Souglakos et al., 2009, Br. J. Cancer",
             "full_journal_title": "British journal of cancer",
             "id": 1479,
             "is_review": false,
             "journal": "Br. J. Cancer",
             "name": "Prognostic and predictive value of common mutations for treatment response and survival in patients with metastatic colorectal cancer.",
             "open_access": true,
             "pmc_id": "PMC2720232",
             "publication_date": {
              "day": 4,
              "month": 8,
              "year": 2009
             },
             "pubmed_id": "19603024",
             "source_url": "http://www.ncbi.nlm.nih.gov/pubmed/19603024",
             "status": "partially curated"
            },
            "status": "submitted",
            "type": "evidence",
            "variant_id": 12,
            "variant_origin": "Somatic Mutation"
           },
           {
            "clinical_significance": "Resistance or Non-Response",
            "description": "The presence of BRAF V600E was associated with reduced progression-free survival in metastatic colorectal cancer patients treated with irinotecan-based first line therapy (3.5mo vs. 12.8mo, HR:4.1, 95%CI:1.5-11.3, P=0.006) when compared to patients with wildtype BRAF.",
            "disease": {
             "display_name": "Colorectal Cancer",
             "doid": "DOID:9256",
             "id": 11,
             "name": "Colorectal Cancer",
             "url": "http://www.disease-ontology.org/?id=DOID:9256"
            },
            "drugs": [
             {
              "id": 101,
              "name": "Irinotecan"
             }
            ],
            "evidence_direction": "Supports",
            "evidence_level": "B",
            "evidence_type": "Predictive",
            "id": 2118,
            "name": "EID2118",
            "open_change_count": 0,
            "source": {
             "citation": "Souglakos et al., 2009, Br. J. Cancer",
             "full_journal_title": "British journal of cancer",
             "id": 1479,
             "is_review": false,
             "journal": "Br. J. Cancer",
             "name": "Prognostic and predictive value of common mutations for treatment response and survival in patients with metastatic colorectal cancer.",
             "open_access": true,
             "pmc_id": "PMC2720232",
             "publication_date": {
              "day": 4,
              "month": 8,
              "year": 2009
             },
             "pubmed_id": "19603024",
             "source_url": "http://www.ncbi.nlm.nih.gov/pubmed/19603024",
             "status": "partially curated"
            },
            "status": "submitted",
            "type": "evidence",
            "variant_id": 12,
            "variant_origin": "Somatic Mutation"
           },
           {
            "clinical_significance": "Resistance or Non-Response",
            "description": "Among metastatic colorectal cancer patients treated with cetuximab and irinotecan, those with BRAF V600E mutations were less likely to achieve a complete or partial response to therapy (0% , P=0.016, Fisher�s exact test) and had reduced median overall survival (4.1mo vs. 13.9mo, HR:0.51, 95%CI:0.18-0.95, P=0.037) than patients with wildtype BRAF.",
            "disease": {
             "display_name": "Colorectal Cancer",
             "doid": "DOID:9256",
             "id": 11,
             "name": "Colorectal Cancer",
             "url": "http://www.disease-ontology.org/?id=DOID:9256"
            },
            "drugs": [
             {
              "id": 101,
              "name": "Irinotecan"
             }
            ],
            "evidence_direction": "Supports",
            "evidence_level": "C",
            "evidence_type": "Predictive",
            "id": 2119,
            "name": "EID2119",
            "open_change_count": 0,
            "source": {
             "citation": "Loupakis et al., 2009, Br. J. Cancer",
             "full_journal_title": "British journal of cancer",
             "id": 1480,
             "is_review": false,
             "journal": "Br. J. Cancer",
             "name": "KRAS codon 61, 146 and BRAF mutations predict resistance to cetuximab plus irinotecan in KRAS codon 12 and 13 wild-type metastatic colorectal cancer.",
             "open_access": true,
             "pmc_id": "PMC2736831",
             "publication_date": {
              "day": 18,
              "month": 8,
              "year": 2009
             },
             "pubmed_id": "19603018",
             "source_url": "http://www.ncbi.nlm.nih.gov/pubmed/19603018",
             "status": "partially curated"
            },
            "status": "submitted",
            "type": "evidence",
            "variant_id": 12,
            "variant_origin": "Somatic Mutation"
           },
           {
            "clinical_significance": "Resistance or Non-Response",
            "description": "Of metastatic colorectal cancer patients treated with bevacizumab-based first-line therapy, those with BRAF V600E mutations had reduced progression-free survival compared to those with wildtype BRAF (4.2mo vs. 12.5mo, HR:5.1, 95%CI:2.4-11.1, P<0.0001).",
            "disease": {
             "display_name": "Colorectal Cancer",
             "doid": "DOID:9256",
             "id": 11,
             "name": "Colorectal Cancer",
             "url": "http://www.disease-ontology.org/?id=DOID:9256"
            },
            "drugs": [
             {
              "id": 33,
              "name": "Bevacizumab"
             }
            ],
            "evidence_direction": "Supports",
            "evidence_level": "B",
            "evidence_type": "Predictive",
            "id": 2120,
            "name": "EID2120",
            "open_change_count": 0,
            "source": {
             "citation": "Souglakos et al., 2009, Br. J. Cancer",
             "full_journal_title": "British journal of cancer",
             "id": 1479,
             "is_review": false,
             "journal": "Br. J. Cancer",
             "name": "Prognostic and predictive value of common mutations for treatment response and survival in patients with metastatic colorectal cancer.",
             "open_access": true,
             "pmc_id": "PMC2720232",
             "publication_date": {
              "day": 4,
              "month": 8,
              "year": 2009
             },
             "pubmed_id": "19603024",
             "source_url": "http://www.ncbi.nlm.nih.gov/pubmed/19603024",
             "status": "partially curated"
            },
            "status": "submitted",
            "type": "evidence",
            "variant_id": 12,
            "variant_origin": "Somatic Mutation"
           },
           {
            "clinical_significance": "Resistance or Non-Response",
            "description": "In a study of metastatic colorectal cancer patients treated with capecitabine, oxaliplatin, and bevacizumab, those with BRAF V600E mutations had reduced progression-free survival (5.9mo vs. 12.2mo, P=0.003) and reduced overall survival (15.0mo vs. 24.6mo, P=0.002) compared to those with wildtype BRAF.",
            "disease": {
             "display_name": "Colorectal Cancer",
             "doid": "DOID:9256",
             "id": 11,
             "name": "Colorectal Cancer",
             "url": "http://www.disease-ontology.org/?id=DOID:9256"
            },
            "drugs": [
             {
              "id": 33,
              "name": "Bevacizumab"
             }
            ],
            "evidence_direction": "Supports",
            "evidence_level": "B",
            "evidence_type": "Predictive",
            "id": 2121,
            "name": "EID2121",
            "open_change_count": 0,
            "source": {
             "citation": "Tol et al., 2009, N. Engl. J. Med.",
             "full_journal_title": "The New England journal of medicine",
             "id": 1481,
             "is_review": false,
             "journal": "N. Engl. J. Med.",
             "name": "BRAF mutation in metastatic colorectal cancer.",
             "publication_date": {
              "day": 2,
              "month": 7,
              "year": 2009
             },
             "pubmed_id": "19571295",
             "source_url": "http://www.ncbi.nlm.nih.gov/pubmed/19571295",
             "status": "fully curated"
            },
            "status": "submitted",
            "type": "evidence",
            "variant_id": 12,
            "variant_origin": "Somatic Mutation"
           },
           {
            "clinical_significance": "Sensitivity",
            "description": "In a mouse in vivo study, the dual RAF and VEGF inhibitor sorafenib suppressed the growth of both UACC903 and 1205Lu cell line- generating  xenograft tumors harboring the BRAF-V600E mutation, which had a concomitant reduction of phosphorylated Erk-positive cells (P<0.05).",
            "disease": {
             "display_name": "Melanoma",
             "doid": "DOID:1909",
             "id": 7,
             "name": "Melanoma",
             "url": "http://www.disease-ontology.org/?id=DOID:1909"
            },
            "drugs": [
             {
              "id": 6,
              "name": "Sorafenib"
             }
            ],
            "evidence_direction": "Supports",
            "evidence_level": "D",
            "evidence_type": "Predictive",
            "id": 2122,
            "name": "EID2122",
            "open_change_count": 0,
            "source": {
             "citation": "Sharma et al., 2005, Cancer Res.",
             "full_journal_title": "Cancer research",
             "id": 1484,
             "is_review": false,
             "journal": "Cancer Res.",
             "name": "Mutant V599EB-Raf regulates growth and vascular development of malignant melanoma tumors.",
             "publication_date": {
              "day": 15,
              "month": 3,
              "year": 2005
             },
             "pubmed_id": "15781657",
             "source_url": "http://www.ncbi.nlm.nih.gov/pubmed/15781657",
             "status": "fully curated"
            },
            "status": "submitted",
            "type": "evidence",
            "variant_id": 12,
            "variant_origin": "Somatic Mutation"
           },
           {
            "clinical_significance": "Sensitivity",
            "description": "An inducible BRAF-V600E mouse melanoma model has shown a tight correlation between activated BRAF and disease progression.",
            "disease": {
             "display_name": "Melanoma",
             "doid": "DOID:1909",
             "id": 7,
             "name": "Melanoma",
             "url": "http://www.disease-ontology.org/?id=DOID:1909"
            },
            "drugs": [
             {
              "id": 6,
              "name": "Sorafenib"
             }
            ],
            "evidence_direction": "Supports",
            "evidence_level": "D",
            "evidence_type": "Predictive",
            "id": 2123,
            "name": "EID2123",
            "open_change_count": 0,
            "source": {
             "citation": "Hoeflich et al., 2006, Cancer Res.",
             "full_journal_title": "Cancer research",
             "id": 1485,
             "is_review": false,
             "journal": "Cancer Res.",
             "name": "Oncogenic BRAF is required for tumor growth and maintenance in melanoma models.",
             "publication_date": {
              "day": 15,
              "month": 1,
              "year": 2006
             },
             "pubmed_id": "16424035",
             "source_url": "http://www.ncbi.nlm.nih.gov/pubmed/16424035",
             "status": "partially curated"
            },
            "status": "submitted",
            "type": "evidence",
            "variant_id": 12,
            "variant_origin": "Somatic Mutation"
           },
           {
            "clinical_significance": "Sensitivity",
            "description": "In a mouse in vivo study of MEK protein inhibitor, PD-0325901, was able to suppress growth of SKMEL28 BRAF-V600E xenograft tumors (P<0.01). The reduction of growth was associated with loss of D-cyclin expression and induction of p27.",
            "disease": {
             "display_name": "Melanoma",
             "doid": "DOID:1909",
             "id": 7,
             "name": "Melanoma",
             "url": "http://www.disease-ontology.org/?id=DOID:1909"
            },
            "drugs": [
             {
              "id": 459,
              "name": "PD 0325901"
             }
            ],
            "evidence_direction": "Supports",
            "evidence_level": "D",
            "evidence_type": "Predictive",
            "id": 2124,
            "name": "EID2124",
            "open_change_count": 0,
            "source": {
             "citation": "Solit et al., 2006, Nature",
             "full_journal_title": "Nature",
             "id": 1487,
             "is_review": false,
             "journal": "Nature",
             "name": "BRAF mutation predicts sensitivity to MEK inhibition.",
             "open_access": true,
             "pmc_id": "PMC3306236",
             "publication_date": {
              "day": 19,
              "month": 1,
              "year": 2006
             },
             "pubmed_id": "16273091",
             "source_url": "http://www.ncbi.nlm.nih.gov/pubmed/16273091",
             "status": "fully curated"
            },
            "status": "submitted",
            "type": "evidence",
            "variant_id": 12,
            "variant_origin": "Somatic Mutation"
           },
           {
            "clinical_significance": "Sensitivity",
            "description": "An inducible BRAF-V600E mouse melanoma model shows a tight correlation between activated BRAF and disease progression.",
            "disease": {
             "display_name": "Melanoma",
             "doid": "DOID:1909",
             "id": 7,
             "name": "Melanoma",
             "url": "http://www.disease-ontology.org/?id=DOID:1909"
            },
            "drugs": [
             {
              "id": 459,
              "name": "PD 0325901"
             }
            ],
            "evidence_direction": "Supports",
            "evidence_level": "D",
            "evidence_type": "Predictive",
            "id": 2125,
            "name": "EID2125",
            "open_change_count": 0,
            "source": {
             "citation": "Hoeflich et al., 2006, Cancer Res.",
             "full_journal_title": "Cancer research",
             "id": 1485,
             "is_review": false,
             "journal": "Cancer Res.",
             "name": "Oncogenic BRAF is required for tumor growth and maintenance in melanoma models.",
             "publication_date": {
              "day": 15,
              "month": 1,
              "year": 2006
             },
             "pubmed_id": "16424035",
             "source_url": "http://www.ncbi.nlm.nih.gov/pubmed/16424035",
             "status": "partially curated"
            },
            "status": "submitted",
            "type": "evidence",
            "variant_id": 12,
            "variant_origin": "Somatic Mutation"
           },
           {
            "clinical_significance": "Sensitivity",
            "description": "Patients with BRAF mutations who were treated with the specific RAF inhibitor dabrafenib had an improved overall survival (P<0.003) compared to untreated patients with BRAF mutations. Patients harboring BRAF mutations were associated with reduced overall survival (11.1mo vs. 46.1mo for wildtype, P=0.006).",
            "disease": {
             "display_name": "Melanoma",
             "doid": "DOID:1909",
             "id": 7,
             "name": "Melanoma",
             "url": "http://www.disease-ontology.org/?id=DOID:1909"
            },
            "drugs": [
             {
              "id": 22,
              "name": "Dabrafenib"
             }
            ],
            "evidence_direction": "Supports",
            "evidence_level": "B",
            "evidence_type": "Predictive",
            "id": 2126,
            "name": "EID2126",
            "open_change_count": 0,
            "source": {
             "citation": "Long et al., 2011, J. Clin. Oncol.",
             "full_journal_title": "Journal of clinical oncology : official journal of the American Society of Clinical Oncology",
             "id": 1488,
             "is_review": false,
             "journal": "J. Clin. Oncol.",
             "name": "Prognostic and clinicopathologic associations of oncogenic BRAF in metastatic melanoma.",
             "publication_date": {
              "day": 1,
              "month": 4,
              "year": 2011
             },
             "pubmed_id": "21343559",
             "source_url": "http://www.ncbi.nlm.nih.gov/pubmed/21343559",
             "status": "fully curated"
            },
            "status": "submitted",
            "type": "evidence",
            "variant_id": 12,
            "variant_origin": "Somatic Mutation"
           },
           {
            "clinical_significance": "Sensitivity",
            "description": "Acquired resistance to vemurafenib in BRAF-V600E positive melanomas frequently confound vemurafenib therapy.",
            "disease": {
             "display_name": "Melanoma",
             "doid": "DOID:1909",
             "id": 7,
             "name": "Melanoma",
             "url": "http://www.disease-ontology.org/?id=DOID:1909"
            },
            "drugs": [
             {
              "id": 22,
              "name": "Dabrafenib"
             }
            ],
            "evidence_direction": "Supports",
            "evidence_level": "D",
            "evidence_type": "Predictive",
            "id": 2127,
            "name": "EID2127",
            "open_change_count": 0,
            "source": {
             "citation": "Flaherty et al., 2010, N. Engl. J. Med.",
             "full_journal_title": "The New England journal of medicine",
             "id": 352,
             "is_review": false,
             "journal": "N. Engl. J. Med.",
             "name": "Inhibition of mutated, activated BRAF in metastatic melanoma.",
             "open_access": true,
             "pmc_id": "PMC3724529",
             "publication_date": {
              "day": 26,
              "month": 8,
              "year": 2010
             },
             "pubmed_id": "20818844",
             "source_url": "http://www.ncbi.nlm.nih.gov/pubmed/20818844",
             "status": "partially curated"
            },
            "status": "submitted",
            "type": "evidence",
            "variant_id": 12,
            "variant_origin": "Somatic Mutation"
           },
           {
            "clinical_significance": "Sensitivity",
            "description": "An inducible BRAF-V600E mouse melanoma model shows a tight correlation between activated BRAF and disease progression.",
            "disease": {
             "display_name": "Melanoma",
             "doid": "DOID:1909",
             "id": 7,
             "name": "Melanoma",
             "url": "http://www.disease-ontology.org/?id=DOID:1909"
            },
            "drugs": [
             {
              "id": 22,
              "name": "Dabrafenib"
             }
            ],
            "evidence_direction": "Supports",
            "evidence_level": "D",
            "evidence_type": "Predictive",
            "id": 2128,
            "name": "EID2128",
            "open_change_count": 0,
            "source": {
             "citation": "Hoeflich et al., 2006, Cancer Res.",
             "full_journal_title": "Cancer research",
             "id": 1485,
             "is_review": false,
             "journal": "Cancer Res.",
             "name": "Oncogenic BRAF is required for tumor growth and maintenance in melanoma models.",
             "publication_date": {
              "day": 15,
              "month": 1,
              "year": 2006
             },
             "pubmed_id": "16424035",
             "source_url": "http://www.ncbi.nlm.nih.gov/pubmed/16424035",
             "status": "partially curated"
            },
            "status": "submitted",
            "type": "evidence",
            "variant_id": 12,
            "variant_origin": "Somatic Mutation"
           },
           {
            "clinical_significance": "Sensitivity",
            "description": "In a mouse in vivo study, the MEK protein inhibitor selumetinib suppressed the growth of 1205Lu xenograft tumors, which contains the BRAF-V600Emutation (0.91 +/- 0.10-fold volume increase vs. 9.47 +/- 2.14-fold for non-treated mice). These tumors had a concomitant reduction of BrdU positive cells (P=0.009) but no increase in apoptosis. Selumetinib, in combination with docetaxel, a chemotherapeutic agent, produced cycle arrest and elevated apoptosis.",
            "disease": {
             "display_name": "Melanoma",
             "doid": "DOID:1909",
             "id": 7,
             "name": "Melanoma",
             "url": "http://www.disease-ontology.org/?id=DOID:1909"
            },
            "drugs": [
             {
              "id": 460,
              "name": "Selumetinib"
             }
            ],
            "evidence_direction": "Supports",
            "evidence_level": "D",
            "evidence_type": "Predictive",
            "id": 2129,
            "name": "EID2129",
            "open_change_count": 0,
            "source": {
             "citation": "Haass et al., 2008, Clin. Cancer Res.",
             "full_journal_title": "Clinical cancer research : an official journal of the American Association for Cancer Research",
             "id": 1489,
             "is_review": false,
             "journal": "Clin. Cancer Res.",
             "name": "The mitogen-activated protein/extracellular signal-regulated kinase kinase inhibitor AZD6244 (ARRY-142886) induces growth arrest in melanoma cells and tumor regression when combined with docetaxel.",
             "publication_date": {
              "day": 1,
              "month": 1,
              "year": 2008
             },
             "pubmed_id": "18172275",
             "source_url": "http://www.ncbi.nlm.nih.gov/pubmed/18172275",
             "status": "fully curated"
            },
            "status": "submitted",
            "type": "evidence",
            "variant_id": 12,
            "variant_origin": "Somatic Mutation"
           },
           {
            "clinical_significance": "Sensitivity",
            "description": "An inducible BRAF-V600E mouse melanoma model has shown a tight correlation between activated BRAF and disease progression.",
            "disease": {
             "display_name": "Melanoma",
             "doid": "DOID:1909",
             "id": 7,
             "name": "Melanoma",
             "url": "http://www.disease-ontology.org/?id=DOID:1909"
            },
            "drugs": [
             {
              "id": 460,
              "name": "Selumetinib"
             }
            ],
            "evidence_direction": "Supports",
            "evidence_level": "D",
            "evidence_type": "Predictive",
            "id": 2130,
            "name": "EID2130",
            "open_change_count": 0,
            "source": {
             "citation": "Hoeflich et al., 2006, Cancer Res.",
             "full_journal_title": "Cancer research",
             "id": 1485,
             "is_review": false,
             "journal": "Cancer Res.",
             "name": "Oncogenic BRAF is required for tumor growth and maintenance in melanoma models.",
             "publication_date": {
              "day": 15,
              "month": 1,
              "year": 2006
             },
             "pubmed_id": "16424035",
             "source_url": "http://www.ncbi.nlm.nih.gov/pubmed/16424035",
             "status": "partially curated"
            },
            "status": "submitted",
            "type": "evidence",
            "variant_id": 12,
            "variant_origin": "Somatic Mutation"
           },
           {
            "clinical_significance": "Sensitivity",
            "description": "An inducible BRAF-V600E mouse melanoma model shows a tight correlation between activated BRAF and disease progression.",
            "disease": {
             "display_name": "Melanoma",
             "doid": "DOID:1909",
             "id": 7,
             "name": "Melanoma",
             "url": "http://www.disease-ontology.org/?id=DOID:1909"
            },
            "drugs": [
             {
              "id": 461,
              "name": "GSK 1120212"
             }
            ],
            "evidence_direction": "Supports",
            "evidence_level": "D",
            "evidence_type": "Predictive",
            "id": 2131,
            "name": "EID2131",
            "open_change_count": 0,
            "source": {
             "citation": "Hoeflich et al., 2006, Cancer Res.",
             "full_journal_title": "Cancer research",
             "id": 1485,
             "is_review": false,
             "journal": "Cancer Res.",
             "name": "Oncogenic BRAF is required for tumor growth and maintenance in melanoma models.",
             "publication_date": {
              "day": 15,
              "month": 1,
              "year": 2006
             },
             "pubmed_id": "16424035",
             "source_url": "http://www.ncbi.nlm.nih.gov/pubmed/16424035",
             "status": "partially curated"
            },
            "status": "submitted",
            "type": "evidence",
            "variant_id": 12,
            "variant_origin": "Somatic Mutation"
           },
           {
            "clinical_significance": "Sensitivity",
            "description": "Proposed resistance mechanisms include PDGFRB upregulation or NRAS mutations resulting in MAPK pathway reactivation, but not secondary mutations in BRAF. MEK inhibitors may demonstrate clinical benefit in vemurafenib-resistant melanoma patients.",
            "disease": {
             "display_name": "Melanoma",
             "doid": "DOID:1909",
             "id": 7,
             "name": "Melanoma",
             "url": "http://www.disease-ontology.org/?id=DOID:1909"
            },
            "drugs": [
             {
              "id": 22,
              "name": "Dabrafenib"
             }
            ],
            "evidence_direction": "Supports",
            "evidence_level": "D",
            "evidence_type": "Predictive",
            "id": 2132,
            "name": "EID2132",
            "open_change_count": 0,
            "source": {
             "citation": "Nazarian et al., 2010, Nature",
             "full_journal_title": "Nature",
             "id": 1491,
             "is_review": false,
             "journal": "Nature",
             "name": "Melanomas acquire resistance to B-RAF(V600E) inhibition by RTK or N-RAS upregulation.",
             "open_access": true,
             "pmc_id": "PMC3143360",
             "publication_date": {
              "day": 16,
              "month": 12,
              "year": 2010
             },
             "pubmed_id": "21107323",
             "source_url": "http://www.ncbi.nlm.nih.gov/pubmed/21107323",
             "status": "partially curated"
            },
            "status": "submitted",
            "type": "evidence",
            "variant_id": 12,
            "variant_origin": "Somatic Mutation"
           },
           {
            "clinical_significance": "Sensitivity",
            "description": "Acquired resistance to vemurafenib in BRAF-V600E positive melanomas frequently confound vemurafenib therapy.",
            "disease": {
             "display_name": "Melanoma",
             "doid": "DOID:1909",
             "id": 7,
             "name": "Melanoma",
             "url": "http://www.disease-ontology.org/?id=DOID:1909"
            },
            "drugs": [
             {
              "id": 22,
              "name": "Dabrafenib"
             }
            ],
            "evidence_direction": "Supports",
            "evidence_level": "D",
            "evidence_type": "Predictive",
            "id": 2133,
            "name": "EID2133",
            "open_change_count": 0,
            "source": {
             "citation": "Johannessen et al., 2010, Nature",
             "full_journal_title": "Nature",
             "id": 1492,
             "is_review": false,
             "journal": "Nature",
             "name": "COT drives resistance to RAF inhibition through MAP kinase pathway reactivation.",
             "open_access": true,
             "pmc_id": "PMC3058384",
             "publication_date": {
              "day": 16,
              "month": 12,
              "year": 2010
             },
             "pubmed_id": "21107320",
             "source_url": "http://www.ncbi.nlm.nih.gov/pubmed/21107320",
             "status": "partially curated"
            },
            "status": "submitted",
            "type": "evidence",
            "variant_id": 12,
            "variant_origin": "Somatic Mutation"
           },
           {
            "clinical_significance": "Sensitivity",
            "description": "An inducible BRAF-V600E mouse melanoma model shows a tight correlation between activated BRAF and disease progression.",
            "disease": {
             "display_name": "Melanoma",
             "doid": "DOID:1909",
             "id": 7,
             "name": "Melanoma",
             "url": "http://www.disease-ontology.org/?id=DOID:1909"
            },
            "drugs": [
             {
              "id": 19,
              "name": "Trametinib"
             }
            ],
            "evidence_direction": "Supports",
            "evidence_level": "D",
            "evidence_type": "Predictive",
            "id": 2134,
            "name": "EID2134",
            "open_change_count": 0,
            "source": {
             "citation": "Hoeflich et al., 2006, Cancer Res.",
             "full_journal_title": "Cancer research",
             "id": 1485,
             "is_review": false,
             "journal": "Cancer Res.",
             "name": "Oncogenic BRAF is required for tumor growth and maintenance in melanoma models.",
             "publication_date": {
              "day": 15,
              "month": 1,
              "year": 2006
             },
             "pubmed_id": "16424035",
             "source_url": "http://www.ncbi.nlm.nih.gov/pubmed/16424035",
             "status": "partially curated"
            },
            "status": "submitted",
            "type": "evidence",
            "variant_id": 12,
            "variant_origin": "Somatic Mutation"
           },
           {
            "clinical_significance": "Sensitivity",
            "description": "In a study of 322 advanced melanoma patients with BRAF-V600E or BRAF-V600K mutations, treatment with trametinib was associated with improved progression-free survival (4.8mo vs. 1.5mo, <0.001) compared to chemotherapy control group. Additionally, treatment with trametinib was associated with increased 6-month overall survival (HR:0.54, 95% CI:0.32-0.92, P=0.01).",
            "disease": {
             "display_name": "Melanoma",
             "doid": "DOID:1909",
             "id": 7,
             "name": "Melanoma",
             "url": "http://www.disease-ontology.org/?id=DOID:1909"
            },
            "drugs": [
             {
              "id": 19,
              "name": "Trametinib"
             }
            ],
            "evidence_direction": "Supports",
            "evidence_level": "B",
            "evidence_type": "Predictive",
            "id": 2135,
            "name": "EID2135",
            "open_change_count": 0,
            "source": {
             "citation": "Flaherty et al., 2012, N. Engl. J. Med.",
             "full_journal_title": "The New England journal of medicine",
             "id": 1210,
             "is_review": false,
             "journal": "N. Engl. J. Med.",
             "name": "Improved survival with MEK inhibition in BRAF-mutated melanoma.",
             "publication_date": {
              "day": 12,
              "month": 7,
              "year": 2012
             },
             "pubmed_id": "22663011",
             "source_url": "http://www.ncbi.nlm.nih.gov/pubmed/22663011",
             "status": "fully curated"
            },
            "status": "submitted",
            "type": "evidence",
            "variant_id": 12,
            "variant_origin": "Somatic Mutation"
           },
           {
            "clinical_significance": "Sensitivity",
            "description": "Thyroid cancer cell lines with BRAF V600E mutations were more sensitive to the MAPK inhibitor CI-1040 than those with wildtype BRAF (IC50: 0.031-1.251 uM vs. 44.376-278.286 uM). In a mouse xenograft model, the growth of tumors derived from KAT10 cells, which carries the BRAF V600E mutation, was inhibited following treatment with CI-1040 (P<0.01), but drug treatment had no effect on growth of tumors derived from the MRO cell line, which expresses wildtype BRAF.",
            "disease": {
             "display_name": "Thyroid Cancer",
             "doid": "DOID:1781",
             "id": 16,
             "name": "Thyroid Cancer",
             "url": "http://www.disease-ontology.org/?id=DOID:1781"
            },
            "drugs": [
             {
              "id": 462,
              "name": "CI 1040"
             }
            ],
            "evidence_direction": "Supports",
            "evidence_level": "D",
            "evidence_type": "Predictive",
            "id": 2136,
            "name": "EID2136",
            "open_change_count": 0,
            "source": {
             "citation": "Liu et al., 2007, J. Clin. Endocrinol. Metab.",
             "full_journal_title": "The Journal of clinical endocrinology and metabolism",
             "id": 1493,
             "is_review": false,
             "journal": "J. Clin. Endocrinol. Metab.",
             "name": "Inhibitory effects of the mitogen-activated protein kinase kinase inhibitor CI-1040 on the proliferation and tumor growth of thyroid cancer cells with BRAF or RAS mutations.",
             "publication_date": {
              "month": 12,
              "year": 2007
             },
             "pubmed_id": "17911174",
             "source_url": "http://www.ncbi.nlm.nih.gov/pubmed/17911174",
             "status": "fully curated"
            },
            "status": "submitted",
            "type": "evidence",
            "variant_id": 12,
            "variant_origin": "Somatic Mutation"
           },
           {
            "clinical_significance": "Sensitivity",
            "description": "In a study of 102 papillary thyroid cancer patients with a 15 year median follow-up time, those with BRAF V600E mutations had reduced overall survival compared to those with wildtype BRAF (P=0.015, log-rank test). The presence of BRAF V600E was associated with poorer outcome as defined by persistent disease or death (Odds ratio:14.63, 95%CI:1.28-167.29, P=0.03, multivariate analysis.",
            "disease": {
             "display_name": "Thyroid Cancer",
             "doid": "DOID:1781",
             "id": 16,
             "name": "Thyroid Cancer",
             "url": "http://www.disease-ontology.org/?id=DOID:1781"
            },
            "drugs": [
             {
              "id": 462,
              "name": "CI 1040"
             }
            ],
            "evidence_direction": "Supports",
            "evidence_level": "B",
            "evidence_type": "Predictive",
            "id": 2137,
            "name": "EID2137",
            "open_change_count": 0,
            "source": {
             "citation": "Elisei et al., 2008, J. Clin. Endocrinol. Metab.",
             "full_journal_title": "The Journal of clinical endocrinology and metabolism",
             "id": 1494,
             "is_review": false,
             "journal": "J. Clin. Endocrinol. Metab.",
             "name": "BRAF(V600E) mutation and outcome of patients with papillary thyroid carcinoma: a 15-year median follow-up study.",
             "publication_date": {
              "month": 10,
              "year": 2008
             },
             "pubmed_id": "18682506",
             "source_url": "http://www.ncbi.nlm.nih.gov/pubmed/18682506",
             "status": "partially curated"
            },
            "status": "submitted",
            "type": "evidence",
            "variant_id": 12,
            "variant_origin": "Somatic Mutation"
           },
           {
            "clinical_significance": "Sensitivity",
            "description": "In a meta-analysis of 8 studies, papillary thyroid cancer patients with BRAF V600E mutation had a higher frequency of recurrence and persistent disease compared to those with wildtype BRAF (28.5%  vs. 12.8% ,  Risk ratio:2.14, 95%CI:1.67-2.74, P<0.00001).",
            "disease": {
             "display_name": "Thyroid Cancer",
             "doid": "DOID:1781",
             "id": 16,
             "name": "Thyroid Cancer",
             "url": "http://www.disease-ontology.org/?id=DOID:1781"
            },
            "drugs": [
             {
              "id": 462,
              "name": "CI 1040"
             }
            ],
            "evidence_direction": "Supports",
            "evidence_level": "B",
            "evidence_type": "Predictive",
            "id": 2138,
            "name": "EID2138",
            "open_change_count": 0,
            "source": {
             "citation": "Kim et al., 2012, Cancer",
             "full_journal_title": "Cancer",
             "id": 1495,
             "is_review": false,
             "journal": "Cancer",
             "name": "The association of the BRAF(V600E) mutation with prognostic factors and poor clinical outcome in papillary thyroid cancer: a meta-analysis.",
             "publication_date": {
              "day": 1,
              "month": 4,
              "year": 2012
             },
             "pubmed_id": "21882184",
             "source_url": "http://www.ncbi.nlm.nih.gov/pubmed/21882184",
             "status": "partially curated"
            },
            "status": "submitted",
            "type": "evidence",
            "variant_id": 12,
            "variant_origin": "Somatic Mutation"
           },
           {
            "clinical_significance": "Sensitivity",
            "description": "Thyroid cancer cell lines with BRAF V600E mutations were more sensitive to the MEK inhibitor RDEA119 than those with wildtype BRAF (IC50: 0.034-0.217 uM vs. 1.413-34.120 uM).",
            "disease": {
             "display_name": "Thyroid Cancer",
             "doid": "DOID:1781",
             "id": 16,
             "name": "Thyroid Cancer",
             "url": "http://www.disease-ontology.org/?id=DOID:1781"
            },
            "drugs": [
             {
              "id": 463,
              "name": "RDEA 119"
             }
            ],
            "evidence_direction": "Supports",
            "evidence_level": "D",
            "evidence_type": "Predictive",
            "id": 2139,
            "name": "EID2139",
            "open_change_count": 0,
            "source": {
             "citation": "Liu et al., 2010, Int. J. Cancer",
             "full_journal_title": "International journal of cancer",
             "id": 1496,
             "is_review": false,
             "journal": "Int. J. Cancer",
             "name": "BRAF mutation-selective inhibition of thyroid cancer cells by the novel MEK inhibitor RDEA119 and genetic-potentiated synergism with the mTOR inhibitor temsirolimus.",
             "open_access": true,
             "pmc_id": "PMC2916062",
             "publication_date": {
              "day": 15,
              "month": 12,
              "year": 2010
             },
             "pubmed_id": "21351275",
             "source_url": "http://www.ncbi.nlm.nih.gov/pubmed/21351275",
             "status": "fully curated"
            },
            "status": "submitted",
            "type": "evidence",
            "variant_id": 12,
            "variant_origin": "Somatic Mutation"
           },
           {
            "clinical_significance": "Sensitivity",
            "description": "In a meta-analysis of 8 studies, papillary thyroid cancer patients with BRAF V600E mutation had a higher frequency of recurrence and persistent disease compared to those with wildtype BRAF (28.5%  vs. 12.8% ,  Risk ratio:2.14, 95%CI:1.67-2.74, P<0.00001).",
            "disease": {
             "display_name": "Thyroid Cancer",
             "doid": "DOID:1781",
             "id": 16,
             "name": "Thyroid Cancer",
             "url": "http://www.disease-ontology.org/?id=DOID:1781"
            },
            "drugs": [
             {
              "id": 463,
              "name": "RDEA 119"
             }
            ],
            "evidence_direction": "Supports",
            "evidence_level": "B",
            "evidence_type": "Predictive",
            "id": 2140,
            "name": "EID2140",
            "open_change_count": 0,
            "source": {
             "citation": "Kim et al., 2012, Cancer",
             "full_journal_title": "Cancer",
             "id": 1495,
             "is_review": false,
             "journal": "Cancer",
             "name": "The association of the BRAF(V600E) mutation with prognostic factors and poor clinical outcome in papillary thyroid cancer: a meta-analysis.",
             "publication_date": {
              "day": 1,
              "month": 4,
              "year": 2012
             },
             "pubmed_id": "21882184",
             "source_url": "http://www.ncbi.nlm.nih.gov/pubmed/21882184",
             "status": "partially curated"
            },
            "status": "submitted",
            "type": "evidence",
            "variant_id": 12,
            "variant_origin": "Somatic Mutation"
           },
           {
            "clinical_significance": "Sensitivity",
            "description": "In a study of 102 papillary thyroid cancer patients with a 15 year median follow-up time, those with BRAF V600E mutations had reduced overall survival compared to those with wildtype BRAF (P=0.015, log-rank test). The presence of BRAF V600E was associated with poorer outcome as defined by persistent disease or death (Odds ratio:14.63, 95%CI:1.28-167.29, P=0.03, multivariate analysis.",
            "disease": {
             "display_name": "Thyroid Cancer",
             "doid": "DOID:1781",
             "id": 16,
             "name": "Thyroid Cancer",
             "url": "http://www.disease-ontology.org/?id=DOID:1781"
            },
            "drugs": [
             {
              "id": 463,
              "name": "RDEA 119"
             }
            ],
            "evidence_direction": "Supports",
            "evidence_level": "B",
            "evidence_type": "Predictive",
            "id": 2141,
            "name": "EID2141",
            "open_change_count": 0,
            "source": {
             "citation": "Elisei et al., 2008, J. Clin. Endocrinol. Metab.",
             "full_journal_title": "The Journal of clinical endocrinology and metabolism",
             "id": 1494,
             "is_review": false,
             "journal": "J. Clin. Endocrinol. Metab.",
             "name": "BRAF(V600E) mutation and outcome of patients with papillary thyroid carcinoma: a 15-year median follow-up study.",
             "publication_date": {
              "month": 10,
              "year": 2008
             },
             "pubmed_id": "18682506",
             "source_url": "http://www.ncbi.nlm.nih.gov/pubmed/18682506",
             "status": "partially curated"
            },
            "status": "submitted",
            "type": "evidence",
            "variant_id": 12,
            "variant_origin": "Somatic Mutation"
           },
           {
            "clinical_significance": "Sensitivity",
            "description": "Following treatment with sorafenib, thyroid cancer cell lines with BRAF V600E mutations had severely reduced proliferation rates, but cells with wildtype BRAF were insensitive (P<0.0001).",
            "disease": {
             "display_name": "Thyroid Cancer",
             "doid": "DOID:1781",
             "id": 16,
             "name": "Thyroid Cancer",
             "url": "http://www.disease-ontology.org/?id=DOID:1781"
            },
            "drugs": [
             {
              "id": 6,
              "name": "Sorafenib"
             }
            ],
            "evidence_direction": "Supports",
            "evidence_level": "D",
            "evidence_type": "Predictive",
            "id": 2142,
            "name": "EID2142",
            "open_change_count": 0,
            "source": {
             "citation": "Salvatore et al., 2006, Clin. Cancer Res.",
             "full_journal_title": "Clinical cancer research : an official journal of the American Association for Cancer Research",
             "id": 1497,
             "is_review": false,
             "journal": "Clin. Cancer Res.",
             "name": "BRAF is a therapeutic target in aggressive thyroid carcinoma.",
             "publication_date": {
              "day": 1,
              "month": 3,
              "year": 2006
             },
             "pubmed_id": "16533790",
             "source_url": "http://www.ncbi.nlm.nih.gov/pubmed/16533790",
             "status": "fully curated"
            },
            "status": "submitted",
            "type": "evidence",
            "variant_id": 12,
            "variant_origin": "Somatic Mutation"
           },
           {
            "clinical_significance": "Sensitivity",
            "description": "In a genetic screen of 87 lung cancer cell lines, one MEK-dependent cell line HCC364 contained a BRAF-V600E mutation. In growth assays, the MEK inhibitor PD-0325901 reduced proliferation in growth assays of the HCC364 cell line (IC50=3.2 nmol/L). Additionally, cells exposed to PD-0325901 exhibited an increase in apoptosis, as measured by induction of PARP cleavage.",
            "disease": {
             "display_name": "Non-small Cell Lung Carcinoma",
             "doid": "DOID:3908",
             "id": 8,
             "name": "Non-small Cell Lung Carcinoma",
             "url": "http://www.disease-ontology.org/?id=DOID:3908"
            },
            "drugs": [
             {
              "id": 459,
              "name": "PD 0325901"
             }
            ],
            "evidence_direction": "Supports",
            "evidence_level": "D",
            "evidence_type": "Predictive",
            "id": 2143,
            "name": "EID2143",
            "open_change_count": 0,
            "source": {
             "citation": "Pratilas et al., 2008, Cancer Res.",
             "full_journal_title": "Cancer research",
             "id": 341,
             "is_review": false,
             "journal": "Cancer Res.",
             "name": "Genetic predictors of MEK dependence in non-small cell lung cancer.",
             "open_access": true,
             "pmc_id": "PMC2649746",
             "publication_date": {
              "day": 15,
              "month": 11,
              "year": 2008
             },
             "pubmed_id": "19010912",
             "source_url": "http://www.ncbi.nlm.nih.gov/pubmed/19010912",
             "status": "fully curated"
            },
            "status": "submitted",
            "type": "evidence",
            "variant_id": 12,
            "variant_origin": "Somatic Mutation"
           },
           {
            "clinical_significance": "Sensitivity",
            "description": "In a mouse xenograft model, tumors derived from pilocytic astrocytoma cells that expressed BRAF V600E experienced a complete response to treatment with selumetinib, whereas tumors derived from a wildtype BRAF pilocytic astrocytoma cell line were resistant to selumetinib.",
            "disease": {
             "display_name": "Malignant Glioma",
             "doid": "DOID:3070",
             "id": 695,
             "name": "Malignant Glioma",
             "url": "http://www.disease-ontology.org/?id=DOID:3070"
            },
            "drugs": [
             {
              "id": 460,
              "name": "Selumetinib"
             }
            ],
            "evidence_direction": "Supports",
            "evidence_level": "D",
            "evidence_type": "Predictive",
            "id": 2144,
            "name": "EID2144",
            "open_change_count": 0,
            "source": {
             "citation": "Kolb et al., 2010, Pediatr Blood Cancer",
             "full_journal_title": "Pediatric blood & cancer",
             "id": 1498,
             "is_review": false,
             "journal": "Pediatr Blood Cancer",
             "name": "Initial testing (stage 1) of AZD6244 (ARRY-142886) by the Pediatric Preclinical Testing Program.",
             "open_access": true,
             "pmc_id": "PMC3004092",
             "publication_date": {
              "month": 10,
              "year": 2010
             },
             "pubmed_id": "20806365",
             "source_url": "http://www.ncbi.nlm.nih.gov/pubmed/20806365",
             "status": "fully curated"
            },
            "status": "submitted",
            "type": "evidence",
            "variant_id": 12,
            "variant_origin": "Somatic Mutation"
           },
           {
            "clinical_significance": "Sensitivity",
            "description": "In a study of pediatric low-grade gliomas, BRAF V600E mutation was associated with a strong trend toward reduced progression free survival (HR:2.39, 95%CI:0.93-6.15, P=0.07, multivariate analysis).",
            "disease": {
             "display_name": "Malignant Glioma",
             "doid": "DOID:3070",
             "id": 695,
             "name": "Malignant Glioma",
             "url": "http://www.disease-ontology.org/?id=DOID:3070"
            },
            "drugs": [
             {
              "id": 460,
              "name": "Selumetinib"
             }
            ],
            "evidence_direction": "Supports",
            "evidence_level": "B",
            "evidence_type": "Predictive",
            "id": 2145,
            "name": "EID2145",
            "open_change_count": 0,
            "source": {
             "citation": "Horbinski et al., 2012, Neuro-oncology",
             "full_journal_title": "Neuro-oncology",
             "id": 1499,
             "is_review": false,
             "journal": "Neuro-oncology",
             "name": "Interplay among BRAF, p16, p53, and MIB1 in pediatric low-grade gliomas.",
             "open_access": true,
             "pmc_id": "PMC3367847",
             "publication_date": {
              "month": 6,
              "year": 2012
             },
             "pubmed_id": "22492957",
             "source_url": "http://www.ncbi.nlm.nih.gov/pubmed/22492957",
             "status": "fully curated"
            },
            "status": "submitted",
            "type": "evidence",
            "variant_id": 12,
            "variant_origin": "Somatic Mutation"
           },
           {
            "clinical_significance": "Sensitivity",
            "description": "In a phase 2 clinical trial  with 250 metastatic melanoma BRAF-V600E patients, treatment groups were randomly assigned to either dabrafenib, BRAF specific inhibitor, (n=187) or dacarbazine, a standard chemotherapeutic agent (n=63). Patients treated with dabrafenib were associated with improved progression-free survival (5.1mo vs. 2.7mo, HR:0.30, 95% CI:0.18-0.51, P<0.0001) compared with patients undergoing dacarbazine therapy.",
            "disease": {
             "display_name": "Skin Melanoma",
             "doid": "DOID:8923",
             "id": 206,
             "name": "Skin Melanoma",
             "url": "http://www.disease-ontology.org/?id=DOID:8923"
            },
            "drugs": [
             {
              "id": 22,
              "name": "Dabrafenib"
             }
            ],
            "evidence_direction": "Supports",
            "evidence_level": "B",
            "evidence_type": "Predictive",
            "id": 2146,
            "name": "EID2146",
            "open_change_count": 0,
            "source": {
             "citation": "Hauschild et al., 2012, Lancet",
             "full_journal_title": "Lancet (London, England)",
             "id": 1500,
             "is_review": false,
             "journal": "Lancet",
             "name": "Dabrafenib in BRAF-mutated metastatic melanoma: a multicentre, open-label, phase 3 randomised controlled trial.",
             "publication_date": {
              "day": 28,
              "month": 7,
              "year": 2012
             },
             "pubmed_id": "22735384",
             "source_url": "http://www.ncbi.nlm.nih.gov/pubmed/22735384",
             "status": "fully curated"
            },
            "status": "submitted",
            "type": "evidence",
            "variant_id": 12,
            "variant_origin": "Somatic Mutation"
           },
           {
            "clinical_significance": "Sensitivity",
            "description": "In a meta-analysis of 8 studies, papillary thyroid cancer patients with BRAF V600E mutation had a higher frequency of recurrence and persistent disease compared to those with wildtype BRAF (28.5%  vs. 12.8% ,  Risk ratio:2.14, 95%CI:1.67-2.74, P<0.00001).",
            "disease": {
             "display_name": "Thyroid Cancer",
             "doid": "DOID:1781",
             "id": 16,
             "name": "Thyroid Cancer",
             "url": "http://www.disease-ontology.org/?id=DOID:1781"
            },
            "drugs": [
             {
              "id": 6,
              "name": "Sorafenib"
             }
            ],
            "evidence_direction": "Supports",
            "evidence_level": "B",
            "evidence_type": "Predictive",
            "id": 2503,
            "name": "EID2503",
            "open_change_count": 0,
            "source": {
             "citation": "Kim et al., 2012, Cancer",
             "full_journal_title": "Cancer",
             "id": 1495,
             "is_review": false,
             "journal": "Cancer",
             "name": "The association of the BRAF(V600E) mutation with prognostic factors and poor clinical outcome in papillary thyroid cancer: a meta-analysis.",
             "publication_date": {
              "day": 1,
              "month": 4,
              "year": 2012
             },
             "pubmed_id": "21882184",
             "source_url": "http://www.ncbi.nlm.nih.gov/pubmed/21882184",
             "status": "partially curated"
            },
            "status": "submitted",
            "type": "evidence",
            "variant_id": 12,
            "variant_origin": "Somatic Mutation"
           },
           {
            "clinical_significance": "Sensitivity",
            "description": "In a study of 102 papillary thyroid cancer patients with a 15 year median follow-up time, those with BRAF V600E mutations had reduced overall survival compared to those with wildtype BRAF (P=0.015, log-rank test). The presence of BRAF V600E was associated with poorer outcome as defined by persistent disease or death (Odds ratio:14.63, 95%CI:1.28-167.29, P=0.03, multivariate analysis.",
            "disease": {
             "display_name": "Thyroid Cancer",
             "doid": "DOID:1781",
             "id": 16,
             "name": "Thyroid Cancer",
             "url": "http://www.disease-ontology.org/?id=DOID:1781"
            },
            "drugs": [
             {
              "id": 6,
              "name": "Sorafenib"
             }
            ],
            "evidence_direction": "Supports",
            "evidence_level": "B",
            "evidence_type": "Predictive",
            "id": 2504,
            "name": "EID2504",
            "open_change_count": 0,
            "source": {
             "citation": "Elisei et al., 2008, J. Clin. Endocrinol. Metab.",
             "full_journal_title": "The Journal of clinical endocrinology and metabolism",
             "id": 1494,
             "is_review": false,
             "journal": "J. Clin. Endocrinol. Metab.",
             "name": "BRAF(V600E) mutation and outcome of patients with papillary thyroid carcinoma: a 15-year median follow-up study.",
             "publication_date": {
              "month": 10,
              "year": 2008
             },
             "pubmed_id": "18682506",
             "source_url": "http://www.ncbi.nlm.nih.gov/pubmed/18682506",
             "status": "partially curated"
            },
            "status": "submitted",
            "type": "evidence",
            "variant_id": 12,
            "variant_origin": "Somatic Mutation"
           },
           {
            "clinical_significance": "Sensitivity",
            "description": "Cetuximab or panitumumab may be ineffective in patients with BRAF mutation unless BRAF inhibitor such as Sorafenib is introduced.",
            "disease": {
             "display_name": "Colorectal Cancer",
             "doid": "DOID:9256",
             "id": 11,
             "name": "Colorectal Cancer",
             "url": "http://www.disease-ontology.org/?id=DOID:9256"
            },
            "drug_interaction_type": "Combination",
            "drugs": [
             {
              "id": 6,
              "name": "Sorafenib"
             },
             {
              "id": 16,
              "name": "Cetuximab"
             }
            ],
            "evidence_direction": "Supports",
            "evidence_level": "D",
            "evidence_type": "Predictive",
            "id": 2894,
            "name": "EID2894",
            "open_change_count": 0,
            "rating": 3,
            "source": {
             "citation": "Di Nicolantonio et al., 2008, J. Clin. Oncol.",
             "full_journal_title": "Journal of clinical oncology : official journal of the American Society of Clinical Oncology",
             "id": 100,
             "is_review": false,
             "journal": "J. Clin. Oncol.",
             "name": "Wild-type BRAF is required for response to panitumumab or cetuximab in metastatic colorectal cancer.",
             "publication_date": {
              "day": 10,
              "month": 12,
              "year": 2008
             },
             "pubmed_id": "19001320",
             "source_url": "http://www.ncbi.nlm.nih.gov/pubmed/19001320",
             "status": "fully curated"
            },
            "status": "submitted",
            "type": "evidence",
            "variant_id": 12,
            "variant_origin": "Somatic Mutation"
           },
           {
            "clinical_significance": "Sensitivity",
            "description": "Patients with BRAF V600E-mutant NSCLC (n=57) were enrolled into a phase 2, multicentre, non-randomised, open-label study, administering dabrafenib plus trametinib. The overall response rate was 36/57 (63.2%, [95% CI 49.3-75.6]) and the median progression-free survival was 9.7 months (95% CI 6.9-19.6). At data cutoff (11.6 months of follow-up), 18/36  (50%) confirmed responses were ongoing and 23/57 (40%) of patients had died.",
            "disease": {
             "display_name": "Non-small Cell Lung Carcinoma",
             "doid": "DOID:3908",
             "id": 8,
             "name": "Non-small Cell Lung Carcinoma",
             "url": "http://www.disease-ontology.org/?id=DOID:3908"
            },
            "drug_interaction_type": "Combination",
            "drugs": [
             {
              "id": 22,
              "name": "Dabrafenib"
             },
             {
              "id": 19,
              "name": "Trametinib"
             }
            ],
            "evidence_direction": "Supports",
            "evidence_level": "B",
            "evidence_type": "Predictive",
            "id": 3017,
            "name": "EID3017",
            "open_change_count": 0,
            "rating": 3,
            "source": {
             "citation": "Planchard et al., 2016, Lancet Oncol.",
             "full_journal_title": "The Lancet. Oncology",
             "id": 1296,
             "is_review": false,
             "journal": "Lancet Oncol.",
             "name": "Dabrafenib plus trametinib in patients with previously treated BRAF(V600E)-mutant metastatic non-small cell lung cancer: an open-label, multicentre phase 2 trial.",
             "open_access": true,
             "pmc_id": "PMC4993103",
             "publication_date": {
              "month": 7,
              "year": 2016
             },
             "pubmed_id": "27283860",
             "source_url": "http://www.ncbi.nlm.nih.gov/pubmed/27283860",
             "status": "submitted"
            },
            "status": "submitted",
            "type": "evidence",
            "variant_id": 12
           },
           {
            "clinical_significance": "Poor Outcome",
            "description": "BRAF V600E is correlated with poor prognosis in papillary thyroid cancer in a study of 187 patients with PTC and other thyroid diseases.",
            "disease": {
             "display_name": "Thyroid Cancer",
             "doid": "DOID:1781",
             "id": 16,
             "name": "Thyroid Cancer",
             "url": "http://www.disease-ontology.org/?id=DOID:1781"
            },
            "evidence_direction": "Supports",
            "evidence_level": "B",
            "evidence_type": "Prognostic",
            "id": 106,
            "name": "EID106",
            "open_change_count": 1,
            "rating": 3,
            "source": {
             "citation": "He et al., 2014, Oncol Lett",
             "full_journal_title": "Oncology letters",
             "id": 112,
             "is_review": false,
             "journal": "Oncol Lett",
             "name": "Prognostic value of the BRAF V600E mutation in papillary thyroid carcinoma.",
             "open_access": true,
             "pmc_id": "PMC3881916",
             "publication_date": {
              "month": 2,
              "year": 2014
             },
             "pubmed_id": "24396464",
             "source_url": "http://www.ncbi.nlm.nih.gov/pubmed/24396464",
             "status": "fully curated"
            },
            "status": "accepted",
            "type": "evidence",
            "variant_id": 12,
            "variant_origin": "Somatic Mutation"
           },
           {
            "clinical_significance": "Poor Outcome",
            "description": "BRAF V600E is correlated with shorter disease-free and overall Survival in a Spanish cohort of melanoma patients.",
            "disease": {
             "display_name": "Melanoma",
             "doid": "DOID:1909",
             "id": 7,
             "name": "Melanoma",
             "url": "http://www.disease-ontology.org/?id=DOID:1909"
            },
            "evidence_direction": "Supports",
            "evidence_level": "B",
            "evidence_type": "Prognostic",
            "id": 104,
            "name": "EID104",
            "open_change_count": 0,
            "rating": 3,
            "source": {
             "citation": "Nagore et al., 2014, J. Am. Acad. Dermatol.",
             "full_journal_title": "Journal of the American Academy of Dermatology",
             "id": 111,
             "is_review": false,
             "journal": "J. Am. Acad. Dermatol.",
             "name": "Prognostic value of BRAF mutations in localized cutaneous melanoma.",
             "publication_date": {
              "month": 5,
              "year": 2014
             },
             "pubmed_id": "24388723",
             "source_url": "http://www.ncbi.nlm.nih.gov/pubmed/24388723",
             "status": "fully curated"
            },
            "status": "accepted",
            "type": "evidence",
            "variant_id": 12,
            "variant_origin": "Somatic Mutation"
           },
           {
            "clinical_significance": "Poor Outcome",
            "description": "Unlike other studies that suggest a poorer outcome, BRAF mutation in this study was not correlated with poorer prognosis in papillary thyroid cancer.",
            "disease": {
             "display_name": "Thyroid Cancer",
             "doid": "DOID:1781",
             "id": 16,
             "name": "Thyroid Cancer",
             "url": "http://www.disease-ontology.org/?id=DOID:1781"
            },
            "evidence_direction": "Does Not Support",
            "evidence_level": "B",
            "evidence_type": "Prognostic",
            "id": 102,
            "name": "EID102",
            "open_change_count": 1,
            "rating": 5,
            "source": {
             "citation": "Walczyk et al., 2014, Clin. Endocrinol. (Oxf)",
             "full_journal_title": "Clinical endocrinology",
             "id": 109,
             "is_review": false,
             "journal": "Clin. Endocrinol. (Oxf)",
             "name": "The BRAF(V600E) mutation in papillary thyroid microcarcinoma: does the mutation have an impact on clinical outcome?",
             "publication_date": {
              "month": 6,
              "year": 2014
             },
             "pubmed_id": "24354346",
             "source_url": "http://www.ncbi.nlm.nih.gov/pubmed/24354346",
             "status": "fully curated"
            },
            "status": "accepted",
            "type": "evidence",
            "variant_id": 12,
            "variant_origin": "Somatic Mutation"
           },
           {
            "clinical_significance": "Poor Outcome",
            "description": "In patients with papillary thyroid cancer harboring both BRAF V600E and the TERT promotor mutation C228T, recurrence-free survival is worse than in patients harboring one of these mutations or no mutations in either gene.",
            "disease": {
             "display_name": "Papillary Thyroid Carcinoma",
             "doid": "DOID:3969",
             "id": 156,
             "name": "Papillary Thyroid Carcinoma",
             "url": "http://www.disease-ontology.org/?id=DOID:3969"
            },
            "evidence_direction": "Supports",
            "evidence_level": "B",
            "evidence_type": "Prognostic",
            "id": 656,
            "name": "EID656",
            "open_change_count": 0,
            "rating": 5,
            "source": {
             "citation": "Xing et al., 2014, J. Clin. Oncol.",
             "full_journal_title": "Journal of clinical oncology : official journal of the American Society of Clinical Oncology",
             "id": 413,
             "is_review": false,
             "journal": "J. Clin. Oncol.",
             "name": "BRAF V600E and TERT promoter mutations cooperatively identify the most aggressive papillary thyroid cancer with highest recurrence.",
             "open_access": true,
             "pmc_id": "PMC4145183",
             "publication_date": {
              "day": 1,
              "month": 9,
              "year": 2014
             },
             "pubmed_id": "25024077",
             "source_url": "http://www.ncbi.nlm.nih.gov/pubmed/25024077",
             "status": "fully curated"
            },
            "status": "accepted",
            "type": "evidence",
            "variant_id": 12,
            "variant_origin": "Somatic Mutation"
           },
           {
            "clinical_significance": "Poor Outcome",
            "description": "V600E is correlated with disease recurrence in both age cohorts (>65 and <65 yo).",
            "disease": {
             "display_name": "Thyroid Cancer",
             "doid": "DOID:1781",
             "id": 16,
             "name": "Thyroid Cancer",
             "url": "http://www.disease-ontology.org/?id=DOID:1781"
            },
            "evidence_direction": "Supports",
            "evidence_level": "B",
            "evidence_type": "Prognostic",
            "id": 107,
            "name": "EID107",
            "open_change_count": 0,
            "rating": 3,
            "source": {
             "citation": "Howell et al., 2011, Ann. Surg. Oncol.",
             "full_journal_title": "Annals of surgical oncology",
             "id": 93,
             "is_review": false,
             "journal": "Ann. Surg. Oncol.",
             "name": "Both BRAF V600E mutation and older age (≥ 65 years) are associated with recurrent papillary thyroid cancer.",
             "publication_date": {
              "month": 12,
              "year": 2011
             },
             "pubmed_id": "21594703",
             "source_url": "http://www.ncbi.nlm.nih.gov/pubmed/21594703",
             "status": "fully curated"
            },
            "status": "accepted",
            "type": "evidence",
            "variant_id": 12,
            "variant_origin": "Somatic Mutation"
           },
           {
            "clinical_significance": "Poor Outcome",
            "description": "In a study of 908 patients with colorectal cancer, 45 patients had BRAF V600E mutations and 589 patients were BRAF wild type.  BRAF V600E mutations were more likely to be proximal tumors (68.9%, 20.7%; p<0.0001), they were more likely to be poorly differentiated (17.7%, 1.9%; p<0.0001), they were more likely to be mucinous carcinoma type (20.0%, 4.2%; p=0.0003), they were more likely to have lymphatic invasion (77.6%, 49.9%; p=0.0003), and they had a shorter survival time (31.1 mo, 41.6 mo; p=0.001).  The 3-year survival rate was significantly poorer in the V600E group when compared to the wild type group (63.8%, 87.9%; p<0.0001).",
            "disease": {
             "display_name": "Colorectal Cancer",
             "doid": "DOID:9256",
             "id": 11,
             "name": "Colorectal Cancer",
             "url": "http://www.disease-ontology.org/?id=DOID:9256"
            },
            "evidence_direction": "Supports",
            "evidence_level": "B",
            "evidence_type": "Prognostic",
            "id": 1552,
            "name": "EID1552",
            "open_change_count": 0,
            "rating": 3,
            "source": {
             "citation": "Amaki-Takao et al., 2016, Oncology",
             "full_journal_title": "Oncology",
             "id": 1027,
             "is_review": false,
             "journal": "Oncology",
             "name": "Colorectal Cancer with BRAF D594G Mutation Is Not Associated with Microsatellite Instability or Poor Prognosis.",
             "publication_date": {
              "day": 13,
              "month": 7,
              "year": 2016
             },
             "pubmed_id": "27404270",
             "source_url": "http://www.ncbi.nlm.nih.gov/pubmed/27404270",
             "status": "fully curated"
            },
            "status": "accepted",
            "type": "evidence",
            "variant_id": 12,
            "variant_origin": "Somatic Mutation"
           },
           {
            "clinical_significance": "Negative",
            "description": "In a study of 468 colorectal cancer samples, 61 patients had micro-satellite instability and there was a statistically significantly better prognosis for BRAF WT patients relative to BRAF (V600E)-mutated patients (Log-rank P=0.0903).",
            "disease": {
             "display_name": "Colorectal Cancer",
             "doid": "DOID:9256",
             "id": 11,
             "name": "Colorectal Cancer",
             "url": "http://www.disease-ontology.org/?id=DOID:9256"
            },
            "evidence_direction": "Supports",
            "evidence_level": "B",
            "evidence_type": "Prognostic",
            "id": 1940,
            "name": "EID1940",
            "open_change_count": 0,
            "rating": 4,
            "source": {
             "citation": "Schell et al., 2016, Nat Commun",
             "full_journal_title": "Nature communications",
             "id": 1367,
             "is_review": false,
             "journal": "Nat Commun",
             "name": "A multigene mutation classification of 468 colorectal cancers reveals a prognostic role for APC.",
             "open_access": true,
             "pmc_id": "PMC4912618",
             "publication_date": {
              "day": 15,
              "month": 6,
              "year": 2016
             },
             "pubmed_id": "27302369",
             "source_url": "http://www.ncbi.nlm.nih.gov/pubmed/27302369",
             "status": "fully curated"
            },
            "status": "submitted",
            "type": "evidence",
            "variant_id": 12,
            "variant_origin": "Somatic Mutation"
           },
           {
            "clinical_significance": "Positive",
            "description": "Thyroid nodule with BRAF V600E mutation is highly correlated with papillary thyroid cancer.",
            "disease": {
             "display_name": "Thyroid Cancer",
             "doid": "DOID:1781",
             "id": 16,
             "name": "Thyroid Cancer",
             "url": "http://www.disease-ontology.org/?id=DOID:1781"
            },
            "evidence_direction": "Supports",
            "evidence_level": "B",
            "evidence_type": "Diagnostic",
            "id": 80,
            "name": "EID80",
            "open_change_count": 1,
            "rating": 5,
            "source": {
             "citation": "Crescenzi et al., 2014, Horm. Metab. Res.",
             "full_journal_title": "Hormone and metabolic research = Hormon- und Stoffwechselforschung = Hormones et métabolisme",
             "id": 94,
             "is_review": false,
             "journal": "Horm. Metab. Res.",
             "name": "Immunohistochemistry for BRAF(V600E) antibody VE1 performed in core needle biopsy samples identifies mutated papillary thyroid cancers.",
             "publication_date": {
              "month": 5,
              "year": 2014
             },
             "pubmed_id": "24570209",
             "source_url": "http://www.ncbi.nlm.nih.gov/pubmed/24570209",
             "status": "fully curated"
            },
            "status": "accepted",
            "type": "evidence",
            "variant_id": 12,
            "variant_origin": "Somatic Mutation"
           },
           {
            "clinical_significance": "Positive",
            "description": "BRAF V600E is shown to be associated with the tall-cell variant of papillary thyroid cancer.",
            "disease": {
             "display_name": "Thyroid Cancer",
             "doid": "DOID:1781",
             "id": 16,
             "name": "Thyroid Cancer",
             "url": "http://www.disease-ontology.org/?id=DOID:1781"
            },
            "evidence_direction": "Supports",
            "evidence_level": "B",
            "evidence_type": "Diagnostic",
            "id": 79,
            "name": "EID79",
            "open_change_count": 0,
            "rating": 3,
            "source": {
             "citation": "Howell et al., 2011, Ann. Surg. Oncol.",
             "full_journal_title": "Annals of surgical oncology",
             "id": 93,
             "is_review": false,
             "journal": "Ann. Surg. Oncol.",
             "name": "Both BRAF V600E mutation and older age (≥ 65 years) are associated with recurrent papillary thyroid cancer.",
             "publication_date": {
              "month": 12,
              "year": 2011
             },
             "pubmed_id": "21594703",
             "source_url": "http://www.ncbi.nlm.nih.gov/pubmed/21594703",
             "status": "fully curated"
            },
            "status": "accepted",
            "type": "evidence",
            "variant_id": 12,
            "variant_origin": "Somatic Mutation"
           },
           {
            "clinical_significance": "Poor Outcome",
            "description": "In patients with multiple myeloma, those with BRAF V600E had shorter overall survival than wild-type.",
            "disease": {
             "display_name": "Myeloma",
             "doid": "DOID:70004",
             "id": 224,
             "name": "Myeloma",
             "url": "http://www.disease-ontology.org/?id=DOID:70004"
            },
            "evidence_direction": "Supports",
            "evidence_level": "B",
            "evidence_type": "Prognostic",
            "id": 463,
            "name": "EID463",
            "open_change_count": 0,
            "rating": 3,
            "source": {
             "citation": "Andrulis et al., 2013, Cancer Discov",
             "full_journal_title": "Cancer discovery",
             "id": 278,
             "is_review": false,
             "journal": "Cancer Discov",
             "name": "Targeting the BRAF V600E mutation in multiple myeloma.",
             "publication_date": {
              "month": 8,
              "year": 2013
             },
             "pubmed_id": "23612012",
             "source_url": "http://www.ncbi.nlm.nih.gov/pubmed/23612012",
             "status": "fully curated"
            },
            "status": "accepted",
            "type": "evidence",
            "variant_id": 12,
            "variant_origin": "Somatic Mutation"
           },
           {
            "clinical_significance": "Poor Outcome",
            "description": "V600E is associated with adverse pathological features of colorectal cancer. This can be concluded as a marker of poor prognosis.",
            "disease": {
             "display_name": "Colorectal Cancer",
             "doid": "DOID:9256",
             "id": 11,
             "name": "Colorectal Cancer",
             "url": "http://www.disease-ontology.org/?id=DOID:9256"
            },
            "evidence_direction": "Supports",
            "evidence_level": "A",
            "evidence_type": "Prognostic",
            "id": 103,
            "name": "EID103",
            "open_change_count": 0,
            "rating": 5,
            "source": {
             "citation": "Chen et al., 2014, PLoS ONE",
             "full_journal_title": "PloS one",
             "id": 110,
             "is_review": false,
             "journal": "PLoS ONE",
             "name": "BRAFV600E mutation and its association with clinicopathological features of colorectal cancer: a systematic review and meta-analysis.",
             "open_access": true,
             "pmc_id": "PMC3940924",
             "publication_date": {
              "year": 2014
             },
             "pubmed_id": "24594804",
             "source_url": "http://www.ncbi.nlm.nih.gov/pubmed/24594804",
             "status": "fully curated"
            },
            "status": "accepted",
            "type": "evidence",
            "variant_id": 12,
            "variant_origin": "Somatic Mutation"
           },
           {
            "clinical_significance": "Poor Outcome",
            "description": "BRAF mutation correlated with poor prognosis in papillary thyroid cancer in both older (>65 yo) and younger (<65 yo) cohorts.",
            "disease": {
             "display_name": "Thyroid Cancer",
             "doid": "DOID:1781",
             "id": 16,
             "name": "Thyroid Cancer",
             "url": "http://www.disease-ontology.org/?id=DOID:1781"
            },
            "evidence_direction": "Supports",
            "evidence_level": "B",
            "evidence_type": "Prognostic",
            "id": 105,
            "name": "EID105",
            "open_change_count": 0,
            "rating": 3,
            "source": {
             "citation": "Howell et al., 2011, Ann. Surg. Oncol.",
             "full_journal_title": "Annals of surgical oncology",
             "id": 93,
             "is_review": false,
             "journal": "Ann. Surg. Oncol.",
             "name": "Both BRAF V600E mutation and older age (≥ 65 years) are associated with recurrent papillary thyroid cancer.",
             "publication_date": {
              "month": 12,
              "year": 2011
             },
             "pubmed_id": "21594703",
             "source_url": "http://www.ncbi.nlm.nih.gov/pubmed/21594703",
             "status": "fully curated"
            },
            "status": "accepted",
            "type": "evidence",
            "variant_id": 12,
            "variant_origin": "Somatic Mutation"
           },
           {
            "clinical_significance": "Positive",
            "description": "In 47 patients with Hairy Cell Leukemia, sequencing discovered a V600E mutation in all 47 of the sequenced patients.",
            "disease": {
             "display_name": "Hairy Cell Leukemia",
             "doid": "DOID:285",
             "id": 665,
             "name": "Hairy Cell Leukemia",
             "url": "http://www.disease-ontology.org/?id=DOID:285"
            },
            "evidence_direction": "Supports",
            "evidence_level": "B",
            "evidence_type": "Diagnostic",
            "id": 1127,
            "name": "EID1127",
            "open_change_count": 0,
            "rating": 4,
            "source": {
             "citation": "Tiacci et al., 2011, N. Engl. J. Med.",
             "full_journal_title": "The New England journal of medicine",
             "id": 780,
             "is_review": false,
             "journal": "N. Engl. J. Med.",
             "name": "BRAF mutations in hairy-cell leukemia.",
             "open_access": true,
             "pmc_id": "PMC3689585",
             "publication_date": {
              "day": 16,
              "month": 6,
              "year": 2011
             },
             "pubmed_id": "21663470",
             "source_url": "http://www.ncbi.nlm.nih.gov/pubmed/21663470",
             "status": "fully curated"
            },
            "status": "accepted",
            "type": "evidence",
            "variant_id": 12,
            "variant_origin": "Somatic Mutation"
           }
          ],
          "gene_id": 5,
          "hgvs_expressions": [
           "NM_004333.4:c.1799T>A",
           "NP_004324.2:p.Val600Glu",
           "NC_000007.13:g.140453136A>T",
           "ENST00000288602.6:c.1799T>A"
          ],
          "lifecycle_actions": {
           "last_modified": {
            "order": 0,
            "timestamp": "2017-04-02T14:56:18.921Z",
            "user": {
             "area_of_expertise": "Research Scientist",
             "avatar_url": "https://secure.gravatar.com/avatar/17180f9afc9f7f04fff97197c1ee5cb6.png?d=identicon&r=pg&s=32",
             "avatars": {
              "x128": "https://secure.gravatar.com/avatar/17180f9afc9f7f04fff97197c1ee5cb6.png?d=identicon&r=pg&s=128",
              "x14": "https://secure.gravatar.com/avatar/17180f9afc9f7f04fff97197c1ee5cb6.png?d=identicon&r=pg&s=14",
              "x32": "https://secure.gravatar.com/avatar/17180f9afc9f7f04fff97197c1ee5cb6.png?d=identicon&r=pg&s=32",
              "x64": "https://secure.gravatar.com/avatar/17180f9afc9f7f04fff97197c1ee5cb6.png?d=identicon&r=pg&s=64"
             },
             "bio": "Dr. Krysiak is an Instructor at the McDonnell Genome Institute at Washington University School of Medicine where she is involved in the comprehensive genomic analysis of cancer patient cohorts and “n-of-1” studies. She received her PhD in Molecular Genetics and Genomics at Washington University in St. Louis where she focused on the genetics of myelodysplastic syndrome through advanced flow cytometry techniques, primary cell culture and mouse models. She is a founding member of the CIViC team, helping to define the CIViC data model, and a leading content curator and feature development consultant.",
             "created_at": "2015-02-26T04:14:20.953Z",
             "display_name": "kkrysiak",
             "featured_expert": true,
             "id": 6,
             "last_seen_at": "2017-06-20T21:32:57.201Z",
             "linkedin_profile": "kilannin-krysiak-69047819",
             "name": "Kilannin Krysiak",
             "orcid": "0000-0002-6299-9230",
             "organization": {
              "description": "The McDonnell Genome Institute (MGI) is a world leader in the fast-paced, constantly changing field of genomics. A truly unique institution, we are pushing the limits of academic research by creating, testing, and implementing new approaches to the study of biology with the goal of understanding human health and disease, as well as evolution and the biology of other organisms.",
              "id": 1,
              "name": "The McDonnell Genome Institute",
              "profile_image": {
               "x128": "/system/organizations/profile_images/000/000/001/x128/MGI_STANDARD4_logo_brown-example_v1b.png?1494525976",
               "x14": "/system/organizations/profile_images/000/000/001/x14/MGI_STANDARD4_logo_brown-example_v1b.png?1494525976",
               "x256": "/system/organizations/profile_images/000/000/001/x256/MGI_STANDARD4_logo_brown-example_v1b.png?1494525976",
               "x32": "/system/organizations/profile_images/000/000/001/x32/MGI_STANDARD4_logo_brown-example_v1b.png?1494525976",
               "x64": "/system/organizations/profile_images/000/000/001/x64/MGI_STANDARD4_logo_brown-example_v1b.png?1494525976"
              },
              "url": "http://genome.wustl.edu/"
             },
             "role": "admin",
             "username": "kkrysiak"
            }
           },
           "last_reviewed": {
            "order": 1,
            "timestamp": "2017-05-14T03:50:30.104Z",
            "user": {
             "area_of_expertise": "Research Scientist",
             "avatar_url": "https://secure.gravatar.com/avatar/4c468e9a95d6135e02eb66ee5f2fb574.png?d=identicon&r=pg&s=32",
             "avatars": {
              "x128": "https://secure.gravatar.com/avatar/4c468e9a95d6135e02eb66ee5f2fb574.png?d=identicon&r=pg&s=128",
              "x14": "https://secure.gravatar.com/avatar/4c468e9a95d6135e02eb66ee5f2fb574.png?d=identicon&r=pg&s=14",
              "x32": "https://secure.gravatar.com/avatar/4c468e9a95d6135e02eb66ee5f2fb574.png?d=identicon&r=pg&s=32",
              "x64": "https://secure.gravatar.com/avatar/4c468e9a95d6135e02eb66ee5f2fb574.png?d=identicon&r=pg&s=64"
             },
             "bio": "Dr. Griffith is Assistant Professor of Medicine and Assistant Director of the McDonnell Genome Institute at Washington University School of Medicine. He has worked in genomics and bioinformatics since the earliest phase of reference genome sequencing. He contributed to the Mammalian Gene Collection, producing some of the first full-length sequences for many human genes. He also was part of a small team of bioinformaticians that helped sequence and release the first whole genome reference sequence for the severe acute respiratory syndrome (SARS) virus at the height of the 2003 epidemic. He has contributed to the identification of molecular markers at the DNA, RNA and protein level that are useful for diagnosis and prognosis of thyroid, breast, lymphoma and other cancers. His lab’s research is focused on the development of informatics resources and personalized medicine strategies for cancer using genomic technologies. He is a co-creator of the CIViC resource.",
             "created_at": "2015-02-26T02:53:49.147Z",
             "display_name": "obigriffith",
             "featured_expert": true,
             "id": 3,
             "last_seen_at": "2017-06-19T11:51:38.338Z",
             "linkedin_profile": "obigriffith",
             "name": "Obi Griffith",
             "orcid": "0000-0002-0843-4271",
             "organization": {
              "description": "The McDonnell Genome Institute (MGI) is a world leader in the fast-paced, constantly changing field of genomics. A truly unique institution, we are pushing the limits of academic research by creating, testing, and implementing new approaches to the study of biology with the goal of understanding human health and disease, as well as evolution and the biology of other organisms.",
              "id": 1,
              "name": "The McDonnell Genome Institute",
              "profile_image": {
               "x128": "/system/organizations/profile_images/000/000/001/x128/MGI_STANDARD4_logo_brown-example_v1b.png?1494525976",
               "x14": "/system/organizations/profile_images/000/000/001/x14/MGI_STANDARD4_logo_brown-example_v1b.png?1494525976",
               "x256": "/system/organizations/profile_images/000/000/001/x256/MGI_STANDARD4_logo_brown-example_v1b.png?1494525976",
               "x32": "/system/organizations/profile_images/000/000/001/x32/MGI_STANDARD4_logo_brown-example_v1b.png?1494525976",
               "x64": "/system/organizations/profile_images/000/000/001/x64/MGI_STANDARD4_logo_brown-example_v1b.png?1494525976"
              },
              "url": "http://genome.wustl.edu/"
             },
             "role": "admin",
             "twitter_handle": "obigriffith",
             "url": "http://genome.wustl.edu/people/individual/obi-griffith/",
             "username": "obigriffith"
            }
           }
          },
          "name": "V600E",
          "type": "variant",
          "variant_aliases": [
           "VAL600GLU",
           "RS113488022"
          ],
          "variant_id": 12,
          "variant_types": {
           "description": "A sequence variant, that changes one or more bases, resulting in a different amino acid sequence but where the length is preserved.",
           "display_name": "Missense Variant",
           "id": 47,
           "name": "missense_variant",
           "so_id": "SO:0001583",
           "url": "http://www.sequenceontology.org/browser/current_svn/term/SO:0001583"
          }
         },
         "cosmic": {
          "_license": "https://goo.gl/2tibWa",
          "alt": "A",
          "chrom": "7",
          "cosmic_id": "COSM476",
          "hg19": {
           "end": 140453136,
           "start": 140453136
          },
          "mut_freq": 2.83,
          "mut_nt": "T>A",
          "ref": "T",
          "tumor_site": "biliary_tract"
         }
        }
       ],
       "max_score": 8.695459,
       "took": 9,
       "total": 1
      },
      "text/plain": [
       "<IPython.core.display.JSON object>"
      ]
     },
     "execution_count": 8,
     "metadata": {
      "application/json": {
       "expanded": false,
       "root": "root"
      }
     },
     "output_type": "execute_result"
    }
   ],
   "source": [
    "JSON(mv.query('cosmic.cosmic_id:COSM476', fields='civic,cosmic'))"
   ]
  },
  {
   "cell_type": "code",
   "execution_count": 9,
   "metadata": {},
   "outputs": [
    {
     "data": {
      "application/json": {
       "hits": [
        {
         "_id": "CIVIC_VARIANT:312",
         "_score": 5.7007008,
         "civic": {
          "_license": "https://goo.gl/gPCAyH",
          "coordinates": {
           "chromosome": "7",
           "ensembl_version": 75,
           "reference_build": "GRCh37",
           "representative_transcript": "ENST00000275493.2",
           "start": 55087058,
           "stop": 55223523
          },
          "description": "The EGFRvIII variant is an oncogenic mutation that has been reported in several cancers including glioblastoma multiforme, breast, lung, head and neck, ovarian and prostate. In high-grade gliomas, EGFRvIII has been reported in about 30% of cases with EGFR amplification. The EGFRvIII mutation leads to deletion of the receptor ectodomain exons 2-7. The presence of this variant has been linked with clinical response to EGFR TKI. (Arteaga and Engelmann, 2014)",
          "entrez_id": 1956,
          "entrez_name": "EGFR",
          "evidence_items": [
           {
            "clinical_significance": "Sensitivity",
            "description": "In an in vitro study, a Ba/F3 cell line expressing EGFR vIII demonstrated increased sensitivity to erlotinib treatment, compared to Ba/F3 cells expressing EGFR wild-type. Sensitivity was determined by assessing EGFR auto-phosphorylation.",
            "disease": {
             "display_name": "Malignant Glioma",
             "doid": "DOID:3070",
             "id": 695,
             "name": "Malignant Glioma",
             "url": "http://www.disease-ontology.org/?id=DOID:3070"
            },
            "drugs": [
             {
              "id": 15,
              "name": "Erlotinib"
             }
            ],
            "evidence_direction": "Supports",
            "evidence_level": "D",
            "evidence_type": "Predictive",
            "id": 4500,
            "name": "EID4500",
            "open_change_count": 1,
            "source": {
             "citation": "Lee et al., 2006, PLoS Med.",
             "full_journal_title": "PLoS medicine",
             "id": 1608,
             "is_review": false,
             "journal": "PLoS Med.",
             "name": "Epidermal growth factor receptor activation in glioblastoma through novel missense mutations in the extracellular domain.",
             "open_access": true,
             "pmc_id": "PMC1702556",
             "publication_date": {
              "month": 12,
              "year": 2006
             },
             "pubmed_id": "17177598",
             "source_url": "http://www.ncbi.nlm.nih.gov/pubmed/17177598",
             "status": "partially curated"
            },
            "status": "accepted",
            "type": "evidence",
            "variant_id": 312,
            "variant_origin": "Somatic Mutation"
           },
           {
            "clinical_significance": "Sensitivity",
            "description": "Expression of EGFRvIII and PTEN was evaluated in 26 patients with glioblastomas treated with erlotinib or gefitinib and no EGFR or Her2/neu kinase domain mutations. 7 patients responded to treatment while 19 progressed rapidly. Coexpression of EGFRvIII and PTEN was associated with clinical response (defined as 25% tumor shrinkage). These results were confirmed using IHC in an independent cohort of 33 patients (8 responders) treated with erlotinib at another institution.",
            "disease": {
             "display_name": "Glioblastoma Multiforme",
             "doid": "DOID:3068",
             "id": 19,
             "name": "Glioblastoma Multiforme",
             "url": "http://www.disease-ontology.org/?id=DOID:3068"
            },
            "drug_interaction_type": "Substitutes",
            "drugs": [
             {
              "id": 14,
              "name": "Gefitinib"
             },
             {
              "id": 15,
              "name": "Erlotinib"
             }
            ],
            "evidence_direction": "Supports",
            "evidence_level": "B",
            "evidence_type": "Predictive",
            "id": 1128,
            "name": "EID1128",
            "open_change_count": 0,
            "rating": 3,
            "source": {
             "citation": "Mellinghoff et al., 2005, N. Engl. J. Med.",
             "full_journal_title": "The New England journal of medicine",
             "id": 514,
             "is_review": false,
             "journal": "N. Engl. J. Med.",
             "name": "Molecular determinants of the response of glioblastomas to EGFR kinase inhibitors.",
             "publication_date": {
              "day": 10,
              "month": 11,
              "year": 2005
             },
             "pubmed_id": "16282176",
             "source_url": "http://www.ncbi.nlm.nih.gov/pubmed/16282176",
             "status": "fully curated"
            },
            "status": "accepted",
            "type": "evidence",
            "variant_id": 312,
            "variant_origin": "Somatic Mutation"
           },
           {
            "clinical_significance": "Sensitivity",
            "description": "Two human glioma cell lines (U87MG or LNZ308) overexpressing either wild-type (wt) EGFR or EGFRvIII were treated with nimotuzumab, temozolomide, or both in vitro. Anti-tumor effects of nimotuzumab were greater in EGFRvIII in comparison to EGFRwt (as measured by antitumor effects, growth suppression, survival elongation and EGFR and Akt phosphorylation). Combination of nimotuzumab and temozolomide further increased efficacy.",
            "disease": {
             "display_name": "Brain Glioma",
             "doid": "DOID:0060108",
             "id": 98,
             "name": "Brain Glioma",
             "url": "http://www.disease-ontology.org/?id=DOID:0060108"
            },
            "drugs": [
             {
              "id": 188,
              "name": "Nimotuzumab"
             }
            ],
            "evidence_direction": "Supports",
            "evidence_level": "D",
            "evidence_type": "Predictive",
            "id": 1017,
            "name": "EID1017",
            "open_change_count": 0,
            "rating": 1,
            "source": {
             "citation": "Nitta et al., 2016, Cancer Med",
             "full_journal_title": "Cancer medicine",
             "id": 704,
             "is_review": false,
             "journal": "Cancer Med",
             "name": "Nimotuzumab enhances temozolomide-induced growth suppression of glioma cells expressing mutant EGFR in vivo.",
             "open_access": true,
             "pmc_id": "PMC4799951",
             "publication_date": {
              "month": 3,
              "year": 2016
             },
             "pubmed_id": "26778701",
             "source_url": "http://www.ncbi.nlm.nih.gov/pubmed/26778701",
             "status": "fully curated"
            },
            "status": "accepted",
            "type": "evidence",
            "variant_id": 312,
            "variant_origin": "Somatic Mutation"
           },
           {
            "clinical_significance": "Sensitivity",
            "description": "Case report of a 58-year old patient with disease progression after radiotherapy and three temozolomide cycles. Afatinib and temozolomide led to disease regression. At last assessment 63 treatment cycles had been completed and the patient had survived for about 5 years since recurrence. Identified EGFR aberrations included EGFRvIII positivity, EGFR gene amplification and three somatic EGFR mutations.",
            "disease": {
             "display_name": "Glioblastoma Multiforme",
             "doid": "DOID:3068",
             "id": 19,
             "name": "Glioblastoma Multiforme",
             "url": "http://www.disease-ontology.org/?id=DOID:3068"
            },
            "drugs": [
             {
              "id": 146,
              "name": "Afatinib"
             }
            ],
            "evidence_direction": "Supports",
            "evidence_level": "C",
            "evidence_type": "Predictive",
            "id": 773,
            "name": "EID773",
            "open_change_count": 0,
            "rating": 2,
            "source": {
             "citation": "Alshami et al., 2015, Oncotarget",
             "full_journal_title": "Oncotarget",
             "id": 515,
             "is_review": false,
             "journal": "Oncotarget",
             "name": "Afatinib, an irreversible ErbB family blocker, with protracted temozolomide in recurrent glioblastoma: a case report.",
             "open_access": true,
             "pmc_id": "PMC4741824",
             "publication_date": {
              "day": 20,
              "month": 10,
              "year": 2015
             },
             "pubmed_id": "26423602",
             "source_url": "http://www.ncbi.nlm.nih.gov/pubmed/26423602",
             "status": "fully curated"
            },
            "status": "accepted",
            "type": "evidence",
            "variant_id": 312,
            "variant_origin": "Somatic Mutation"
           },
           {
            "clinical_significance": "Resistance or Non-Response",
            "description": "47 HNSCC patients treated with cetuximab/docetaxel were retrospectively analyzed for EGFRvIII, EGFR, and AREG expression by IHC. 17% of cases expressed high levels of EGFRvIII. High vIII expression was associated with reduced disease control rate (DCR) and shortened progression free survival (PFS) (HR: 3.3, P = 0.005) but not with OS.",
            "disease": {
             "display_name": "Head And Neck Squamous Cell Carcinoma",
             "doid": "DOID:5520",
             "id": 37,
             "name": "Head And Neck Squamous Cell Carcinoma",
             "url": "http://www.disease-ontology.org/?id=DOID:5520"
            },
            "drug_interaction_type": "Combination",
            "drugs": [
             {
              "id": 73,
              "name": "Docetaxel"
             },
             {
              "id": 16,
              "name": "Cetuximab"
             }
            ],
            "evidence_direction": "Supports",
            "evidence_level": "B",
            "evidence_type": "Predictive",
            "id": 848,
            "name": "EID848",
            "open_change_count": 0,
            "rating": 2,
            "source": {
             "citation": "Tinhofer et al., 2011, Clin. Cancer Res.",
             "full_journal_title": "Clinical cancer research : an official journal of the American Association for Cancer Research",
             "id": 568,
             "is_review": false,
             "journal": "Clin. Cancer Res.",
             "name": "Expression of amphiregulin and EGFRvIII affect outcome of patients with squamous cell carcinoma of the head and neck receiving cetuximab-docetaxel treatment.",
             "publication_date": {
              "day": 1,
              "month": 8,
              "year": 2011
             },
             "pubmed_id": "21653686",
             "source_url": "http://www.ncbi.nlm.nih.gov/pubmed/21653686",
             "status": "fully curated"
            },
            "status": "accepted",
            "type": "evidence",
            "variant_id": 312,
            "variant_origin": "Somatic Mutation"
           },
           {
            "clinical_significance": "Sensitivity",
            "description": "49 patients (26 pretreatment tissues available for analysis) with recurrent glioblastomas who were treated with EGFR TKIs were analyzed in this study. Results were confirmed in an independent cohort of 33 patients. EGFRvIII and PTEN coexpression were associated with responsiveness to EGFR TKI.",
            "disease": {
             "display_name": "Glioblastoma Multiforme",
             "doid": "DOID:3068",
             "id": 19,
             "name": "Glioblastoma Multiforme",
             "url": "http://www.disease-ontology.org/?id=DOID:3068"
            },
            "drugs": [
             {
              "id": 145,
              "name": "EGFR Inhibitor"
             }
            ],
            "evidence_direction": "Supports",
            "evidence_level": "B",
            "evidence_type": "Predictive",
            "id": 772,
            "name": "EID772",
            "open_change_count": 0,
            "rating": 4,
            "source": {
             "citation": "Mellinghoff et al., 2005, N. Engl. J. Med.",
             "full_journal_title": "The New England journal of medicine",
             "id": 514,
             "is_review": false,
             "journal": "N. Engl. J. Med.",
             "name": "Molecular determinants of the response of glioblastomas to EGFR kinase inhibitors.",
             "publication_date": {
              "day": 10,
              "month": 11,
              "year": 2005
             },
             "pubmed_id": "16282176",
             "source_url": "http://www.ncbi.nlm.nih.gov/pubmed/16282176",
             "status": "fully curated"
            },
            "status": "accepted",
            "type": "evidence",
            "variant_id": 312,
            "variant_origin": "Somatic Mutation"
           },
           {
            "clinical_significance": "Sensitivity",
            "description": "In a Phase II clinical trial, patients with Glioblastoma Multiforme (GBM), positive for EGFR VIII deletion mutation (N=65), were treated with the Rindopepimut cancer vaccine,  and standard adjuvant temozolomide chemotherapy.  Median progression free survival (PFS) was 9.2 months, and median overall survival (OS) was 21.8 months.  A pivotal, randomized Phase III trial is currently underway.",
            "disease": {
             "display_name": "Glioblastoma Multiforme",
             "doid": "DOID:3068",
             "id": 19,
             "name": "Glioblastoma Multiforme",
             "url": "http://www.disease-ontology.org/?id=DOID:3068"
            },
            "drugs": [
             {
              "id": 204,
              "name": "Rindopepimut"
             }
            ],
            "evidence_direction": "Supports",
            "evidence_level": "B",
            "evidence_type": "Predictive",
            "id": 971,
            "name": "EID971",
            "open_change_count": 0,
            "rating": 3,
            "source": {
             "citation": "Schuster et al., 2015, Neuro-oncology",
             "full_journal_title": "Neuro-oncology",
             "id": 671,
             "is_review": false,
             "journal": "Neuro-oncology",
             "name": "A phase II, multicenter trial of rindopepimut (CDX-110) in newly diagnosed glioblastoma: the ACT III study.",
             "open_access": true,
             "pmc_id": "PMC4483122",
             "publication_date": {
              "month": 6,
              "year": 2015
             },
             "pubmed_id": "25586468",
             "source_url": "http://www.ncbi.nlm.nih.gov/pubmed/25586468",
             "status": "fully curated"
            },
            "status": "accepted",
            "type": "evidence",
            "variant_id": 312,
            "variant_origin": "Somatic Mutation"
           }
          ],
          "gene_id": 19,
          "lifecycle_actions": {
           "last_modified": {
            "order": 0,
            "timestamp": "2017-01-30T17:31:49.794Z",
            "user": {
             "area_of_expertise": "Research Scientist",
             "avatar_url": "https://secure.gravatar.com/avatar/4c468e9a95d6135e02eb66ee5f2fb574.png?d=identicon&r=pg&s=32",
             "avatars": {
              "x128": "https://secure.gravatar.com/avatar/4c468e9a95d6135e02eb66ee5f2fb574.png?d=identicon&r=pg&s=128",
              "x14": "https://secure.gravatar.com/avatar/4c468e9a95d6135e02eb66ee5f2fb574.png?d=identicon&r=pg&s=14",
              "x32": "https://secure.gravatar.com/avatar/4c468e9a95d6135e02eb66ee5f2fb574.png?d=identicon&r=pg&s=32",
              "x64": "https://secure.gravatar.com/avatar/4c468e9a95d6135e02eb66ee5f2fb574.png?d=identicon&r=pg&s=64"
             },
             "bio": "Dr. Griffith is Assistant Professor of Medicine and Assistant Director of the McDonnell Genome Institute at Washington University School of Medicine. He has worked in genomics and bioinformatics since the earliest phase of reference genome sequencing. He contributed to the Mammalian Gene Collection, producing some of the first full-length sequences for many human genes. He also was part of a small team of bioinformaticians that helped sequence and release the first whole genome reference sequence for the severe acute respiratory syndrome (SARS) virus at the height of the 2003 epidemic. He has contributed to the identification of molecular markers at the DNA, RNA and protein level that are useful for diagnosis and prognosis of thyroid, breast, lymphoma and other cancers. His lab’s research is focused on the development of informatics resources and personalized medicine strategies for cancer using genomic technologies. He is a co-creator of the CIViC resource.",
             "created_at": "2015-02-26T02:53:49.147Z",
             "display_name": "obigriffith",
             "featured_expert": true,
             "id": 3,
             "last_seen_at": "2017-06-19T11:51:38.338Z",
             "linkedin_profile": "obigriffith",
             "name": "Obi Griffith",
             "orcid": "0000-0002-0843-4271",
             "organization": {
              "description": "The McDonnell Genome Institute (MGI) is a world leader in the fast-paced, constantly changing field of genomics. A truly unique institution, we are pushing the limits of academic research by creating, testing, and implementing new approaches to the study of biology with the goal of understanding human health and disease, as well as evolution and the biology of other organisms.",
              "id": 1,
              "name": "The McDonnell Genome Institute",
              "profile_image": {
               "x128": "/system/organizations/profile_images/000/000/001/x128/MGI_STANDARD4_logo_brown-example_v1b.png?1494525976",
               "x14": "/system/organizations/profile_images/000/000/001/x14/MGI_STANDARD4_logo_brown-example_v1b.png?1494525976",
               "x256": "/system/organizations/profile_images/000/000/001/x256/MGI_STANDARD4_logo_brown-example_v1b.png?1494525976",
               "x32": "/system/organizations/profile_images/000/000/001/x32/MGI_STANDARD4_logo_brown-example_v1b.png?1494525976",
               "x64": "/system/organizations/profile_images/000/000/001/x64/MGI_STANDARD4_logo_brown-example_v1b.png?1494525976"
              },
              "url": "http://genome.wustl.edu/"
             },
             "role": "admin",
             "twitter_handle": "obigriffith",
             "url": "http://genome.wustl.edu/people/individual/obi-griffith/",
             "username": "obigriffith"
            }
           },
           "last_reviewed": {
            "order": 1,
            "timestamp": "2017-01-31T21:34:19.632Z",
            "user": {
             "area_of_expertise": "Research Scientist",
             "avatar_url": "https://secure.gravatar.com/avatar/a4d9fc3b05d58cf3d3ba51dc30bb61d6.png?d=identicon&r=pg&s=32",
             "avatars": {
              "x128": "https://secure.gravatar.com/avatar/a4d9fc3b05d58cf3d3ba51dc30bb61d6.png?d=identicon&r=pg&s=128",
              "x14": "https://secure.gravatar.com/avatar/a4d9fc3b05d58cf3d3ba51dc30bb61d6.png?d=identicon&r=pg&s=14",
              "x32": "https://secure.gravatar.com/avatar/a4d9fc3b05d58cf3d3ba51dc30bb61d6.png?d=identicon&r=pg&s=32",
              "x64": "https://secure.gravatar.com/avatar/a4d9fc3b05d58cf3d3ba51dc30bb61d6.png?d=identicon&r=pg&s=64"
             },
             "bio": "Dr. Griffith is an Assistant Professor of Medicine and Assistant Director of the McDonnell Genome Institute at Washington University School of Medicine. Dr Griffith has extensive experience in the fields of genomics, bioinformatics, data mining, and cancer research. His research is focused on improving the understanding of cancer biology and the development of personalized medicine strategies for cancer using genomics and informatics technologies. The Griffith lab develops bioinformatics and statistical methods for the analysis of high throughput sequence data and identification of biomarkers for diagnostic, prognostic and drug response prediction. The Griffith lab uses CIViC to interpret variants identified in cases examined by the WASHU Genomics Tumor Board. He is a co-creator of the CIViC resource.",
             "created_at": "2015-02-26T22:25:34.692Z",
             "display_name": "MalachiGriffith",
             "featured_expert": true,
             "id": 15,
             "last_seen_at": "2017-06-20T01:47:05.688Z",
             "linkedin_profile": "malachigriffith",
             "name": "Malachi Griffith",
             "orcid": "0000-0002-6388-446X",
             "organization": {
              "description": "The McDonnell Genome Institute (MGI) is a world leader in the fast-paced, constantly changing field of genomics. A truly unique institution, we are pushing the limits of academic research by creating, testing, and implementing new approaches to the study of biology with the goal of understanding human health and disease, as well as evolution and the biology of other organisms.",
              "id": 1,
              "name": "The McDonnell Genome Institute",
              "profile_image": {
               "x128": "/system/organizations/profile_images/000/000/001/x128/MGI_STANDARD4_logo_brown-example_v1b.png?1494525976",
               "x14": "/system/organizations/profile_images/000/000/001/x14/MGI_STANDARD4_logo_brown-example_v1b.png?1494525976",
               "x256": "/system/organizations/profile_images/000/000/001/x256/MGI_STANDARD4_logo_brown-example_v1b.png?1494525976",
               "x32": "/system/organizations/profile_images/000/000/001/x32/MGI_STANDARD4_logo_brown-example_v1b.png?1494525976",
               "x64": "/system/organizations/profile_images/000/000/001/x64/MGI_STANDARD4_logo_brown-example_v1b.png?1494525976"
              },
              "url": "http://genome.wustl.edu/"
             },
             "role": "admin",
             "twitter_handle": "malachigriffith",
             "url": "http://genome.wustl.edu/people/individual/malachi-griffith/",
             "username": "MalachiGriffith"
            }
           }
          },
          "name": "VIII",
          "sources": {
           "citation": "Arteaga et al., 2014, Cancer Cell",
           "full_journal_title": "Cancer cell",
           "id": 513,
           "is_review": false,
           "journal": "Cancer Cell",
           "name": "ERBB receptors: from oncogene discovery to basic science to mechanism-based cancer therapeutics.",
           "open_access": true,
           "pmc_id": "PMC4018830",
           "publication_date": {
            "day": 17,
            "month": 3,
            "year": 2014
           },
           "pubmed_id": "24651011",
           "source_url": "http://www.ncbi.nlm.nih.gov/pubmed/24651011",
           "status": "fully curated"
          },
          "type": "variant",
          "variant_id": 312
         }
        }
       ],
       "max_score": 5.7007008,
       "took": 4,
       "total": 1
      },
      "text/plain": [
       "<IPython.core.display.JSON object>"
      ]
     },
     "execution_count": 9,
     "metadata": {
      "application/json": {
       "expanded": false,
       "root": "root"
      }
     },
     "output_type": "execute_result"
    }
   ],
   "source": [
    "JSON(mv.query('civic.entrez_name:EGFR AND civic.name:VIII', fields='civic,cosmic,clinvar'))"
   ]
  },
  {
   "cell_type": "code",
   "execution_count": 10,
   "metadata": {},
   "outputs": [
    {
     "data": {
      "application/json": {
       "hits": [
        {
         "_id": "chr7:g.55259515T>G",
         "_score": 4.042473,
         "civic": {
          "_license": "https://goo.gl/gPCAyH",
          "clinvar_entries": "16609",
          "coordinates": {
           "chromosome": "7",
           "ensembl_version": 75,
           "reference_bases": "T",
           "reference_build": "GRCh37",
           "representative_transcript": "ENST00000275493.2",
           "start": 55259515,
           "stop": 55259515,
           "variant_bases": "G"
          },
          "description": "EGFR L858R has long been recognized as a functionally significant mutation in cancer, and is one of the most prevalent single mutations in lung cancer. Best described in non-small cell lung cancer (NSCLC), the mutation seems to confer sensitivity to first and second generation TKI's like gefitinib and neratinib. NSCLC patients with this mutation treated with TKI's show increased overall and progression-free survival, as compared to chemotherapy alone. Third generation TKI's are currently in clinical trials that specifically focus on mutant forms of EGFR, a few of which have shown efficacy in treating patients that failed to respond to earlier generation TKI therapies.",
          "entrez_id": 1956,
          "entrez_name": "EGFR",
          "evidence_items": [
           {
            "description": "There is no statistical difference in progression free survival between lung cancer patients treated with gefitinib or erlotinib in the EGFR L858R setting.",
            "disease": {
             "display_name": "Non-small Cell Lung Carcinoma",
             "doid": "DOID:3908",
             "id": 8,
             "name": "Non-small Cell Lung Carcinoma",
             "url": "http://www.disease-ontology.org/?id=DOID:3908"
            },
            "drug_interaction_type": "Substitutes",
            "drugs": [
             {
              "id": 14,
              "name": "Gefitinib"
             },
             {
              "id": 15,
              "name": "Erlotinib"
             }
            ],
            "evidence_direction": "Does Not Support",
            "evidence_level": "B",
            "evidence_type": "Predictive",
            "id": 229,
            "name": "EID229",
            "open_change_count": 1,
            "rating": 3,
            "source": {
             "citation": "Lim et al., 2014, J Thorac Oncol",
             "full_journal_title": "Journal of thoracic oncology : official publication of the International Association for the Study of Lung Cancer",
             "id": 162,
             "is_review": false,
             "journal": "J Thorac Oncol",
             "name": "Comparison of clinical outcomes following gefitinib and erlotinib treatment in non-small-cell lung cancer patients harboring an epidermal growth factor receptor mutation in either exon 19 or 21.",
             "publication_date": {
              "month": 4,
              "year": 2014
             },
             "pubmed_id": "24736073",
             "source_url": "http://www.ncbi.nlm.nih.gov/pubmed/24736073",
             "status": "fully curated"
            },
            "status": "accepted",
            "type": "evidence",
            "variant_id": 33,
            "variant_origin": "Somatic Mutation"
           },
           {
            "clinical_significance": "Sensitivity",
            "description": "Gefinitib has been shown to be effective in treating cell lines with L858R missense mutations.",
            "disease": {
             "display_name": "Non-small Cell Lung Carcinoma",
             "doid": "DOID:3908",
             "id": 8,
             "name": "Non-small Cell Lung Carcinoma",
             "url": "http://www.disease-ontology.org/?id=DOID:3908"
            },
            "drugs": [
             {
              "id": 14,
              "name": "Gefitinib"
             }
            ],
            "evidence_direction": "Supports",
            "evidence_level": "D",
            "evidence_type": "Predictive",
            "id": 276,
            "name": "EID276",
            "open_change_count": 0,
            "rating": 4,
            "source": {
             "citation": "Paez et al., 2004, Science",
             "full_journal_title": "Science (New York, N.Y.)",
             "id": 181,
             "is_review": false,
             "journal": "Science",
             "name": "EGFR mutations in lung cancer: correlation with clinical response to gefitinib therapy.",
             "publication_date": {
              "day": 4,
              "month": 6,
              "year": 2004
             },
             "pubmed_id": "15118125",
             "source_url": "http://www.ncbi.nlm.nih.gov/pubmed/15118125",
             "status": "partially curated"
            },
            "status": "accepted",
            "type": "evidence",
            "variant_id": 33,
            "variant_origin": "Somatic Mutation"
           },
           {
            "clinical_significance": "Sensitivity",
            "description": "A phase III clinical trial (NCT00949650) found that median progression free survival among patients with exon 19 deletions or L858R EGFR mutations (n = 308) was 13.6 months for afatinib and 6.9 months for chemotherapy (HR, 0.47; 95% CI, 0.34 to 0.65; P = 0.001).",
            "disease": {
             "display_name": "Lung Adenocarcinoma",
             "doid": "DOID:3910",
             "id": 26,
             "name": "Lung Adenocarcinoma",
             "url": "http://www.disease-ontology.org/?id=DOID:3910"
            },
            "drugs": [
             {
              "id": 146,
              "name": "Afatinib"
             }
            ],
            "evidence_direction": "Supports",
            "evidence_level": "B",
            "evidence_type": "Predictive",
            "id": 879,
            "name": "EID879",
            "open_change_count": 0,
            "rating": 4,
            "source": {
             "citation": "Sequist et al., 2013, J. Clin. Oncol.",
             "full_journal_title": "Journal of clinical oncology : official journal of the American Society of Clinical Oncology",
             "id": 592,
             "is_review": false,
             "journal": "J. Clin. Oncol.",
             "name": "Phase III study of afatinib or cisplatin plus pemetrexed in patients with metastatic lung adenocarcinoma with EGFR mutations.",
             "publication_date": {
              "day": 20,
              "month": 9,
              "year": 2013
             },
             "pubmed_id": "23816960",
             "source_url": "http://www.ncbi.nlm.nih.gov/pubmed/23816960",
             "status": "fully curated"
            },
            "status": "accepted",
            "type": "evidence",
            "variant_id": 33,
            "variant_origin": "Somatic Mutation"
           },
           {
            "clinical_significance": "Sensitivity",
            "description": "In a phase 2 study of patients with lung adenocarcinoma (stage IIIb with pleural effusion or stage IV) and EGFR mutations, treated with afatinib were assessed by objective response. 129 patients were treated with afatinib. 66% of the 106 patients with two common activating EGFR mutations (deletion 19 or L858R) had an objective response compared to 39% of 23 patients with less common mutations.",
            "disease": {
             "display_name": "Lung Adenocarcinoma",
             "doid": "DOID:3910",
             "id": 26,
             "name": "Lung Adenocarcinoma",
             "url": "http://www.disease-ontology.org/?id=DOID:3910"
            },
            "drugs": [
             {
              "id": 146,
              "name": "Afatinib"
             }
            ],
            "evidence_direction": "Supports",
            "evidence_level": "B",
            "evidence_type": "Predictive",
            "id": 883,
            "name": "EID883",
            "open_change_count": 0,
            "rating": 3,
            "source": {
             "citation": "Yang et al., 2012, Lancet Oncol.",
             "full_journal_title": "The Lancet. Oncology",
             "id": 594,
             "is_review": false,
             "journal": "Lancet Oncol.",
             "name": "Afatinib for patients with lung adenocarcinoma and epidermal growth factor receptor mutations (LUX-Lung 2): a phase 2 trial.",
             "publication_date": {
              "month": 5,
              "year": 2012
             },
             "pubmed_id": "22452895",
             "source_url": "http://www.ncbi.nlm.nih.gov/pubmed/22452895",
             "status": "fully curated"
            },
            "status": "accepted",
            "type": "evidence",
            "variant_id": 33,
            "variant_origin": "Somatic Mutation"
           },
           {
            "clinical_significance": "Sensitivity",
            "description": "A randomized phase 3 trial (NCT00446225) involving 173 NSCLC patients with EGFR mutations (exon 19 deletion or L858R mutation in exon 21) with no history of chemotherapy for metastatic disease. Patients were randomly allocated (1:1) to receive either erlotinib or standard chemotherapy. The primary endpoint was progression-free survival (PFS). Median PFS was 9.7 months in the erlotinib group, compared with 5.2 months in the standard chemotherapy group.",
            "disease": {
             "display_name": "Non-small Cell Lung Carcinoma",
             "doid": "DOID:3908",
             "id": 8,
             "name": "Non-small Cell Lung Carcinoma",
             "url": "http://www.disease-ontology.org/?id=DOID:3908"
            },
            "drugs": [
             {
              "id": 15,
              "name": "Erlotinib"
             }
            ],
            "evidence_direction": "Supports",
            "evidence_level": "B",
            "evidence_type": "Predictive",
            "id": 885,
            "name": "EID885",
            "open_change_count": 0,
            "rating": 3,
            "source": {
             "citation": "Rosell et al., 2012, Lancet Oncol.",
             "full_journal_title": "The Lancet. Oncology",
             "id": 595,
             "is_review": false,
             "journal": "Lancet Oncol.",
             "name": "Erlotinib versus standard chemotherapy as first-line treatment for European patients with advanced EGFR mutation-positive non-small-cell lung cancer (EURTAC): a multicentre, open-label, randomised phase 3 trial.",
             "publication_date": {
              "month": 3,
              "year": 2012
             },
             "pubmed_id": "22285168",
             "source_url": "http://www.ncbi.nlm.nih.gov/pubmed/22285168",
             "status": "partially curated"
            },
            "status": "accepted",
            "type": "evidence",
            "variant_id": 33,
            "variant_origin": "Somatic Mutation"
           },
           {
            "clinical_significance": "Sensitivity",
            "description": "Cells harboring L858R were sensitive to afatinib. This study performed drug response assays using five human NSCLC cell lines with various combinations of EGFR mutations. In order to directly compare the sensitivity of multiple EGFR mutations to EGFR-TKIs the authors also generated multiple EGFR transduced Ba/F3 stable cell lines and evaluated sensitivity to EGFR-TKIs by MTS assay.",
            "disease": {
             "display_name": "Non-small Cell Lung Carcinoma",
             "doid": "DOID:3908",
             "id": 8,
             "name": "Non-small Cell Lung Carcinoma",
             "url": "http://www.disease-ontology.org/?id=DOID:3908"
            },
            "drugs": [
             {
              "id": 146,
              "name": "Afatinib"
             }
            ],
            "evidence_direction": "Supports",
            "evidence_level": "D",
            "evidence_type": "Predictive",
            "id": 968,
            "name": "EID968",
            "open_change_count": 0,
            "rating": 2,
            "source": {
             "citation": "Hirano et al., 2015, Oncotarget",
             "full_journal_title": "Oncotarget",
             "id": 669,
             "is_review": false,
             "journal": "Oncotarget",
             "name": "In vitro modeling to determine mutation specificity of EGFR tyrosine kinase inhibitors against clinically relevant EGFR mutants in non-small-cell lung cancer.",
             "open_access": true,
             "pmc_id": "PMC4770737",
             "publication_date": {
              "day": 17,
              "month": 11,
              "year": 2015
             },
             "pubmed_id": "26515464",
             "source_url": "http://www.ncbi.nlm.nih.gov/pubmed/26515464",
             "status": "fully curated"
            },
            "status": "accepted",
            "type": "evidence",
            "variant_id": 33,
            "variant_origin": "Somatic Mutation"
           },
           {
            "clinical_significance": "Sensitivity",
            "description": "Afatinib is an irreversible covalent inhibitor of EGFR (second generation). This Phase III clinical trial (LUX-Lung 6; NCT01121393) was performed in Asian patients with EGFR mutant advanced NSCLC. 364 eligible patients with EGFR mutations were assigned to afatinib (n=242) or gemcitabine and cisplatin (n=122) treatment. The trial observed significantly longer median progression-free survival with afatinib vs. gemcitabine and cisplatin treatment (11.0 vs. 5.6 months). Afatinib/Chemotherapy group compositions: 51.2/50.8 % del 19; 38/37.7 % Leu858Arg; 10.8/11.5 % Uncommon.",
            "disease": {
             "display_name": "Lung Adenocarcinoma",
             "doid": "DOID:3910",
             "id": 26,
             "name": "Lung Adenocarcinoma",
             "url": "http://www.disease-ontology.org/?id=DOID:3910"
            },
            "drugs": [
             {
              "id": 146,
              "name": "Afatinib"
             }
            ],
            "evidence_direction": "Supports",
            "evidence_level": "B",
            "evidence_type": "Predictive",
            "id": 982,
            "name": "EID982",
            "open_change_count": 0,
            "rating": 4,
            "source": {
             "citation": "Wu et al., 2014, Lancet Oncol.",
             "full_journal_title": "The Lancet. Oncology",
             "id": 679,
             "is_review": false,
             "journal": "Lancet Oncol.",
             "name": "Afatinib versus cisplatin plus gemcitabine for first-line treatment of Asian patients with advanced non-small-cell lung cancer harbouring EGFR mutations (LUX-Lung 6): an open-label, randomised phase 3 trial.",
             "publication_date": {
              "month": 2,
              "year": 2014
             },
             "pubmed_id": "24439929",
             "source_url": "http://www.ncbi.nlm.nih.gov/pubmed/24439929",
             "status": "fully curated"
            },
            "status": "accepted",
            "type": "evidence",
            "variant_id": 33,
            "variant_origin": "Somatic Mutation"
           },
           {
            "clinical_significance": "Sensitivity",
            "description": "In NSCLC patients treated with EGFR tyrosine kinase inhibitors, the presence of L858R mutation is prognostic for better progression free survival.",
            "disease": {
             "display_name": "Non-small Cell Lung Carcinoma",
             "doid": "DOID:3908",
             "id": 8,
             "name": "Non-small Cell Lung Carcinoma",
             "url": "http://www.disease-ontology.org/?id=DOID:3908"
            },
            "drug_interaction_type": "Substitutes",
            "drugs": [
             {
              "id": 14,
              "name": "Gefitinib"
             },
             {
              "id": 15,
              "name": "Erlotinib"
             }
            ],
            "evidence_direction": "Supports",
            "evidence_level": "B",
            "evidence_type": "Predictive",
            "id": 275,
            "name": "EID275",
            "open_change_count": 0,
            "rating": 4,
            "source": {
             "citation": "Fukihara et al., 2014, Oncology",
             "full_journal_title": "Oncology",
             "id": 182,
             "is_review": false,
             "journal": "Oncology",
             "name": "Clinical predictors of response to EGFR tyrosine kinase inhibitors in patients with EGFR-mutant non-small cell lung cancer.",
             "publication_date": {
              "year": 2014
             },
             "pubmed_id": "24457318",
             "source_url": "http://www.ncbi.nlm.nih.gov/pubmed/24457318",
             "status": "fully curated"
            },
            "status": "accepted",
            "type": "evidence",
            "variant_id": 33,
            "variant_origin": "Somatic Mutation"
           },
           {
            "clinical_significance": "Sensitivity",
            "description": "90 NSCLC patients with stage IIIB/IV chemotherapy-resistant tumors were  treated with gefitinib, and the L858R EGFR mutation was associated with longer time to treatment failure than those with wild-type EGFR(median 9.1 versus 2.1). In multivariate analysis, L858R mutations plus adenocarcinoma was a significant predictive factor for TTF (HR = 0.1030; P = .0004).",
            "disease": {
             "display_name": "Non-small Cell Lung Carcinoma",
             "doid": "DOID:3908",
             "id": 8,
             "name": "Non-small Cell Lung Carcinoma",
             "url": "http://www.disease-ontology.org/?id=DOID:3908"
            },
            "drugs": [
             {
              "id": 14,
              "name": "Gefitinib"
             }
            ],
            "evidence_direction": "Supports",
            "evidence_level": "B",
            "evidence_type": "Predictive",
            "id": 1665,
            "name": "EID1665",
            "open_change_count": 0,
            "rating": 3,
            "source": {
             "citation": "Yang et al., 2008, J. Clin. Oncol.",
             "full_journal_title": "Journal of clinical oncology : official journal of the American Society of Clinical Oncology",
             "id": 1127,
             "is_review": false,
             "journal": "J. Clin. Oncol.",
             "name": "Specific EGFR mutations predict treatment outcome of stage IIIB/IV patients with chemotherapy-naive non-small-cell lung cancer receiving first-line gefitinib monotherapy.",
             "publication_date": {
              "day": 1,
              "month": 6,
              "year": 2008
             },
             "pubmed_id": "18509184",
             "source_url": "http://www.ncbi.nlm.nih.gov/pubmed/18509184",
             "status": "fully curated"
            },
            "status": "accepted",
            "type": "evidence",
            "variant_id": 33,
            "variant_origin": "Somatic Mutation"
           },
           {
            "clinical_significance": "Sensitivity",
            "description": "In a phase 3 clinical trial of non-small cell lung cancer (NSCLC) patients, a subset of patients with EGFR mutations (n=44) treated with gefitinib were associated with improved progression free survival (HR: 0.16, 95% CI: 0.05-0.49, P=0.001), compared to patients treated with docetaxel. The frequency of mutation in exon 19 deletion and L858R was 50% (22/44) and 36.4% (16/44), respectively.",
            "disease": {
             "display_name": "Non-small Cell Lung Carcinoma",
             "doid": "DOID:3908",
             "id": 8,
             "name": "Non-small Cell Lung Carcinoma",
             "url": "http://www.disease-ontology.org/?id=DOID:3908"
            },
            "drugs": [
             {
              "id": 14,
              "name": "Gefitinib"
             }
            ],
            "evidence_direction": "Supports",
            "evidence_level": "C",
            "evidence_type": "Predictive",
            "id": 2621,
            "name": "EID2621",
            "open_change_count": 1,
            "source": {
             "citation": "Douillard et al., 2010, J. Clin. Oncol.",
             "full_journal_title": "Journal of clinical oncology : official journal of the American Society of Clinical Oncology",
             "id": 1501,
             "is_review": false,
             "journal": "J. Clin. Oncol.",
             "name": "Molecular predictors of outcome with gefitinib and docetaxel in previously treated non-small-cell lung cancer: data from the randomized phase III INTEREST trial.",
             "publication_date": {
              "day": 10,
              "month": 2,
              "year": 2010
             },
             "pubmed_id": "20038723",
             "source_url": "http://www.ncbi.nlm.nih.gov/pubmed/20038723",
             "status": "fully curated"
            },
            "status": "accepted",
            "type": "evidence",
            "variant_id": 33,
            "variant_origin": "Somatic Mutation"
           },
           {
            "clinical_significance": "Sensitivity",
            "description": "In a phase 3 clinical trial of East Asian advanced pulmonary adenocarcinoma patients, a subset of patients with EGFR mutations (n=261) treated with gefitinib were associated with improved response (HR:0.48, 95% CI:0.36-0.64, P<0.001), compared to carboplatin plus paclitaxel treatment. The frequency of mutation in exon 19 deletion and L858R was 53.6% (140/261) and 42.5% (111/261), respectively.",
            "disease": {
             "display_name": "Non-small Cell Lung Carcinoma",
             "doid": "DOID:3908",
             "id": 8,
             "name": "Non-small Cell Lung Carcinoma",
             "url": "http://www.disease-ontology.org/?id=DOID:3908"
            },
            "drugs": [
             {
              "id": 14,
              "name": "Gefitinib"
             }
            ],
            "evidence_direction": "Supports",
            "evidence_level": "C",
            "evidence_type": "Predictive",
            "id": 2622,
            "name": "EID2622",
            "open_change_count": 0,
            "source": {
             "citation": "Mok et al., 2009, N. Engl. J. Med.",
             "full_journal_title": "The New England journal of medicine",
             "id": 1502,
             "is_review": false,
             "journal": "N. Engl. J. Med.",
             "name": "Gefitinib or carboplatin-paclitaxel in pulmonary adenocarcinoma.",
             "publication_date": {
              "day": 3,
              "month": 9,
              "year": 2009
             },
             "pubmed_id": "19692680",
             "source_url": "http://www.ncbi.nlm.nih.gov/pubmed/19692680",
             "status": "partially curated"
            },
            "status": "submitted",
            "type": "evidence",
            "variant_id": 33,
            "variant_origin": "Somatic Mutation"
           },
           {
            "clinical_significance": "Sensitivity",
            "description": "In a phase 3 clinical trial of Japanese NSCLC patients with EGFR mutations (n=230), patients treated with gefitinib were associated with improved progression free survival (10.8 months vs 5.4 months, HR: 0.30, 95% CI: 0.22-0.41, P<0.001), compared to patients treated with carboplatin and paclitaxel combination therapy. The frequency of mutation of exon 19 deletion and L858R was 25.2% (58/230) and 21.3% (49/230), respectively.",
            "disease": {
             "display_name": "Non-small Cell Lung Carcinoma",
             "doid": "DOID:3908",
             "id": 8,
             "name": "Non-small Cell Lung Carcinoma",
             "url": "http://www.disease-ontology.org/?id=DOID:3908"
            },
            "drugs": [
             {
              "id": 14,
              "name": "Gefitinib"
             }
            ],
            "evidence_direction": "Supports",
            "evidence_level": "C",
            "evidence_type": "Predictive",
            "id": 2623,
            "name": "EID2623",
            "open_change_count": 0,
            "source": {
             "citation": "Maemondo et al., 2010, N. Engl. J. Med.",
             "full_journal_title": "The New England journal of medicine",
             "id": 1508,
             "is_review": false,
             "journal": "N. Engl. J. Med.",
             "name": "Gefitinib or chemotherapy for non-small-cell lung cancer with mutated EGFR.",
             "publication_date": {
              "day": 24,
              "month": 6,
              "year": 2010
             },
             "pubmed_id": "20573926",
             "source_url": "http://www.ncbi.nlm.nih.gov/pubmed/20573926",
             "status": "fully curated"
            },
            "status": "submitted",
            "type": "evidence",
            "variant_id": 33,
            "variant_origin": "Somatic Mutation"
           },
           {
            "clinical_significance": "Sensitivity",
            "description": "EGFR exon 19 deletion mutations have been associated with increased sensitivity to first generation EGFR tyrosine kinase inhibitors, including erlotinib and gefitinib. In a Phase 2 clinical trial, lung adenocarcinoma patients with EGFR mutations (including exon 19 deletion mutation, n=8) were associated with improved response to erlotinib or gefitinib (P=0.003), compared to patients with wild-type EGFR (n=10).",
            "disease": {
             "display_name": "Non-small Cell Lung Carcinoma",
             "doid": "DOID:3908",
             "id": 8,
             "name": "Non-small Cell Lung Carcinoma",
             "url": "http://www.disease-ontology.org/?id=DOID:3908"
            },
            "drugs": [
             {
              "id": 14,
              "name": "Gefitinib"
             }
            ],
            "evidence_direction": "Supports",
            "evidence_level": "C",
            "evidence_type": "Predictive",
            "id": 2624,
            "name": "EID2624",
            "open_change_count": 0,
            "source": {
             "citation": "Pao et al., 2004, Proc. Natl. Acad. Sci. U.S.A.",
             "full_journal_title": "Proceedings of the National Academy of Sciences of the United States of America",
             "id": 1509,
             "is_review": false,
             "journal": "Proc. Natl. Acad. Sci. U.S.A.",
             "name": "EGF receptor gene mutations are common in lung cancers from \"never smokers\" and are associated with sensitivity of tumors to gefitinib and erlotinib.",
             "open_access": true,
             "pmc_id": "PMC516528",
             "publication_date": {
              "day": 7,
              "month": 9,
              "year": 2004
             },
             "pubmed_id": "15329413",
             "source_url": "http://www.ncbi.nlm.nih.gov/pubmed/15329413",
             "status": "partially curated"
            },
            "status": "submitted",
            "type": "evidence",
            "variant_id": 33,
            "variant_origin": "Somatic Mutation"
           },
           {
            "clinical_significance": "Sensitivity",
            "description": "In an in vitro study using PC9 cells (EGFR exon 19 deletion), inhibition of cell viability was used as an assay to determine sensitivity to EGFR tyrosine kinase inhibitors. PC9 cells demonstrated an increased sensitivity to gefitinib  (IC50: 23.0 nmol/L vs 200.0 nmol/L) compared to NCI-H2073 cells (EGFR wild type).",
            "disease": {
             "display_name": "Non-small Cell Lung Carcinoma",
             "doid": "DOID:3908",
             "id": 8,
             "name": "Non-small Cell Lung Carcinoma",
             "url": "http://www.disease-ontology.org/?id=DOID:3908"
            },
            "drugs": [
             {
              "id": 14,
              "name": "Gefitinib"
             }
            ],
            "evidence_direction": "Supports",
            "evidence_level": "D",
            "evidence_type": "Predictive",
            "id": 2625,
            "name": "EID2625",
            "open_change_count": 0,
            "source": {
             "citation": "Cross et al., 2014, Cancer Discov",
             "full_journal_title": "Cancer discovery",
             "id": 665,
             "is_review": false,
             "journal": "Cancer Discov",
             "name": "AZD9291, an irreversible EGFR TKI, overcomes T790M-mediated resistance to EGFR inhibitors in lung cancer.",
             "open_access": true,
             "pmc_id": "PMC4315625",
             "publication_date": {
              "month": 9,
              "year": 2014
             },
             "pubmed_id": "24893891",
             "source_url": "http://www.ncbi.nlm.nih.gov/pubmed/24893891",
             "status": "partially curated"
            },
            "status": "submitted",
            "type": "evidence",
            "variant_id": 33,
            "variant_origin": "Somatic Mutation"
           },
           {
            "clinical_significance": "Sensitivity",
            "description": "In an in vitro study using NCI-H1666 cells (wildtype EGFR) and NCI-H3255 cells (EGFR-L858R), inhibition of cell growth was used as an assay to determine sensitivity to reversible tyrosine kinase inhibitor drugs. Cells with an EGFR L858R mutation demonstrated an improved response to lapatinib (IC50: 63nM vs. 534nM) compared to wildtype EGFR cells.",
            "disease": {
             "display_name": "Non-small Cell Lung Carcinoma",
             "doid": "DOID:3908",
             "id": 8,
             "name": "Non-small Cell Lung Carcinoma",
             "url": "http://www.disease-ontology.org/?id=DOID:3908"
            },
            "drugs": [
             {
              "id": 45,
              "name": "Lapatinib"
             }
            ],
            "evidence_direction": "Supports",
            "evidence_level": "D",
            "evidence_type": "Predictive",
            "id": 2626,
            "name": "EID2626",
            "open_change_count": 0,
            "source": {
             "citation": "Li et al., 2008, Oncogene",
             "full_journal_title": "Oncogene",
             "id": 1525,
             "is_review": false,
             "journal": "Oncogene",
             "name": "BIBW2992, an irreversible EGFR/HER2 inhibitor highly effective in preclinical lung cancer models.",
             "open_access": true,
             "pmc_id": "PMC2748240",
             "publication_date": {
              "day": 7,
              "month": 8,
              "year": 2008
             },
             "pubmed_id": "18408761",
             "source_url": "http://www.ncbi.nlm.nih.gov/pubmed/18408761",
             "status": "partially curated"
            },
            "status": "submitted",
            "type": "evidence",
            "variant_id": 33,
            "variant_origin": "Somatic Mutation"
           },
           {
            "clinical_significance": "Sensitivity",
            "description": "In an in vitro study using NCI-H322 cells (wildtype EGFR) and NCI-H3255 cells (EGFR-L858R), inhibition of cell growth was used as an assay to determine sensitivity to irreversible tyrosine kinase inhibitor (TKI) drugs. Cells with an EGFR L858R mutation demonstrated an improved response to PF 00299804  (IC50: 0.007umol/L vs. >10umol/L) compared to wildtype EGFR cells or compared to reversible TKI drug gefitinib (IC50: 0.075umol/L vs. wild-type >10umol/L).",
            "disease": {
             "display_name": "Non-small Cell Lung Carcinoma",
             "doid": "DOID:3908",
             "id": 8,
             "name": "Non-small Cell Lung Carcinoma",
             "url": "http://www.disease-ontology.org/?id=DOID:3908"
            },
            "drugs": [
             {
              "id": 464,
              "name": "PF 00299804"
             }
            ],
            "evidence_direction": "Supports",
            "evidence_level": "D",
            "evidence_type": "Predictive",
            "id": 2627,
            "name": "EID2627",
            "open_change_count": 0,
            "source": {
             "citation": "Engelman et al., 2007, Cancer Res.",
             "full_journal_title": "Cancer research",
             "id": 1515,
             "is_review": false,
             "journal": "Cancer Res.",
             "name": "PF00299804, an irreversible pan-ERBB inhibitor, is effective in lung cancer models with EGFR and ERBB2 mutations that are resistant to gefitinib.",
             "publication_date": {
              "day": 15,
              "month": 12,
              "year": 2007
             },
             "pubmed_id": "18089823",
             "source_url": "http://www.ncbi.nlm.nih.gov/pubmed/18089823",
             "status": "partially curated"
            },
            "status": "submitted",
            "type": "evidence",
            "variant_id": 33,
            "variant_origin": "Somatic Mutation"
           },
           {
            "clinical_significance": "Sensitivity",
            "description": "In an in vitro study using NCI-H1781 cells (EGFR wild-type) and NCI-H3255 cells (EGFR L858R), inhibition of cell growth was used as an assay to determine sensitivity to irreversible tyrosine kinase inhibitor (TKI) drugs. Cells with an EGFR L858R mutation demonstrated an improved response to neratinib (IC50: 0.0049umol/L vs. 0.085umol/L) compared to wildtype EGFR cells or compared to reversible TKI drug erlotinib (IC50: 0.031umol/L vs. wildtype >1umol/L).",
            "disease": {
             "display_name": "Non-small Cell Lung Carcinoma",
             "doid": "DOID:3908",
             "id": 8,
             "name": "Non-small Cell Lung Carcinoma",
             "url": "http://www.disease-ontology.org/?id=DOID:3908"
            },
            "drugs": [
             {
              "id": 52,
              "name": "Neratinib"
             }
            ],
            "evidence_direction": "Supports",
            "evidence_level": "D",
            "evidence_type": "Predictive",
            "id": 2628,
            "name": "EID2628",
            "open_change_count": 0,
            "source": {
             "citation": "Shimamura et al., 2006, Cancer Res.",
             "full_journal_title": "Cancer research",
             "id": 1526,
             "is_review": false,
             "journal": "Cancer Res.",
             "name": "Non-small-cell lung cancer and Ba/F3 transformed cells harboring the ERBB2 G776insV_G/C mutation are sensitive to the dual-specific epidermal growth factor receptor and ERBB2 inhibitor HKI-272.",
             "publication_date": {
              "day": 1,
              "month": 7,
              "year": 2006
             },
             "pubmed_id": "16818618",
             "source_url": "http://www.ncbi.nlm.nih.gov/pubmed/16818618",
             "status": "partially curated"
            },
            "status": "submitted",
            "type": "evidence",
            "variant_id": 33,
            "variant_origin": "Somatic Mutation"
           },
           {
            "clinical_significance": "Sensitivity",
            "description": "In an in vitro study using NCI-H1666 cells (wildtype EGFR) and NCI-H3255 cells (EGFR-L858R), inhibition of cell growth was used as an assay to determine sensitivity to irreversible tyrosine kinase inhibitor (TKI) drugs. Cells with an EGFR L858R mutation demonstrated an improved response to afatinib (IC50: 0.7nM vs. 60nM) compared to wildtype EGFR cells.",
            "disease": {
             "display_name": "Non-small Cell Lung Carcinoma",
             "doid": "DOID:3908",
             "id": 8,
             "name": "Non-small Cell Lung Carcinoma",
             "url": "http://www.disease-ontology.org/?id=DOID:3908"
            },
            "drugs": [
             {
              "id": 146,
              "name": "Afatinib"
             }
            ],
            "evidence_direction": "Supports",
            "evidence_level": "D",
            "evidence_type": "Predictive",
            "id": 2629,
            "name": "EID2629",
            "open_change_count": 0,
            "source": {
             "citation": "Li et al., 2008, Oncogene",
             "full_journal_title": "Oncogene",
             "id": 1525,
             "is_review": false,
             "journal": "Oncogene",
             "name": "BIBW2992, an irreversible EGFR/HER2 inhibitor highly effective in preclinical lung cancer models.",
             "open_access": true,
             "pmc_id": "PMC2748240",
             "publication_date": {
              "day": 7,
              "month": 8,
              "year": 2008
             },
             "pubmed_id": "18408761",
             "source_url": "http://www.ncbi.nlm.nih.gov/pubmed/18408761",
             "status": "partially curated"
            },
            "status": "submitted",
            "type": "evidence",
            "variant_id": 33,
            "variant_origin": "Somatic Mutation"
           },
           {
            "clinical_significance": "Sensitivity",
            "description": "In a phase 2b/3 study of 585 stage IIIB-IV lung adenocarcinoma patients who had a previous round of EGFR-TKI treatment, archival material was available for 141 patients. EGFR mutational analysis revealed that 96 tumors had an EGFR mutation, of which 76 (79%) were positive for either L858R or a deletion in exon 19. These mutations were associated with improved progression-free survival (median 3.3 months  vs 1.0 month ; HR:0.51, 95% CI:0.31-0.85, P<0.009) compared to placebo control.",
            "disease": {
             "display_name": "Non-small Cell Lung Carcinoma",
             "doid": "DOID:3908",
             "id": 8,
             "name": "Non-small Cell Lung Carcinoma",
             "url": "http://www.disease-ontology.org/?id=DOID:3908"
            },
            "drugs": [
             {
              "id": 146,
              "name": "Afatinib"
             }
            ],
            "evidence_direction": "Supports",
            "evidence_level": "C",
            "evidence_type": "Predictive",
            "id": 2630,
            "name": "EID2630",
            "open_change_count": 0,
            "source": {
             "citation": "Miller et al., 2012, Lancet Oncol.",
             "full_journal_title": "The Lancet. Oncology",
             "id": 1510,
             "is_review": false,
             "journal": "Lancet Oncol.",
             "name": "Afatinib versus placebo for patients with advanced, metastatic non-small-cell lung cancer after failure of erlotinib, gefitinib, or both, and one or two lines of chemotherapy (LUX-Lung 1): a phase 2b/3 randomised trial.",
             "publication_date": {
              "month": 5,
              "year": 2012
             },
             "pubmed_id": "22452896",
             "source_url": "http://www.ncbi.nlm.nih.gov/pubmed/22452896",
             "status": "fully curated"
            },
            "status": "submitted",
            "type": "evidence",
            "variant_id": 33,
            "variant_origin": "Somatic Mutation"
           },
           {
            "clinical_significance": "Sensitivity",
            "description": "In an in vitro study using NCI-H1666 cells (wildtype EGFR) and NCI-H3255 cells (EGFR-L858R), inhibition of cell growth was used as an assay to determine sensitivity to irreversible tyrosine kinase inhibitor (TKI) drugs. Cells with an EGFR L858R mutation demonstrated an improved response to canertinib (IC50: 1nM vs. 198nM) compared to wildtype EGFR cells.",
            "disease": {
             "display_name": "Non-small Cell Lung Carcinoma",
             "doid": "DOID:3908",
             "id": 8,
             "name": "Non-small Cell Lung Carcinoma",
             "url": "http://www.disease-ontology.org/?id=DOID:3908"
            },
            "drugs": [
             {
              "id": 465,
              "name": "Canertinib"
             }
            ],
            "evidence_direction": "Supports",
            "evidence_level": "D",
            "evidence_type": "Predictive",
            "id": 2631,
            "name": "EID2631",
            "open_change_count": 0,
            "source": {
             "citation": "Li et al., 2008, Oncogene",
             "full_journal_title": "Oncogene",
             "id": 1525,
             "is_review": false,
             "journal": "Oncogene",
             "name": "BIBW2992, an irreversible EGFR/HER2 inhibitor highly effective in preclinical lung cancer models.",
             "open_access": true,
             "pmc_id": "PMC2748240",
             "publication_date": {
              "day": 7,
              "month": 8,
              "year": 2008
             },
             "pubmed_id": "18408761",
             "source_url": "http://www.ncbi.nlm.nih.gov/pubmed/18408761",
             "status": "partially curated"
            },
            "status": "submitted",
            "type": "evidence",
            "variant_id": 33,
            "variant_origin": "Somatic Mutation"
           },
           {
            "description": "EGFR L858R and exon 19 deletion mutations have been associated with increased sensitivity to first generation EGFR tyrosine kinase inhibitors, including erlotinib and gefitinib. In a Phase 2 clinical trial, lung adenocarcinoma patients with EGFR mutations (including L858R, n=3) were associated with improved response to erlotinib or gefitinib (P=0.003), compared to patients with wild-type EGFR (n=10).",
            "disease": {
             "display_name": "Non-small Cell Lung Carcinoma",
             "doid": "DOID:3908",
             "id": 8,
             "name": "Non-small Cell Lung Carcinoma",
             "url": "http://www.disease-ontology.org/?id=DOID:3908"
            },
            "drugs": [
             {
              "id": 427,
              "name": "MEDI4736"
             }
            ],
            "evidence_level": "C",
            "evidence_type": "Predictive",
            "id": 2632,
            "name": "EID2632",
            "open_change_count": 0,
            "source": {
             "citation": "Pao et al., 2004, Proc. Natl. Acad. Sci. U.S.A.",
             "full_journal_title": "Proceedings of the National Academy of Sciences of the United States of America",
             "id": 1509,
             "is_review": false,
             "journal": "Proc. Natl. Acad. Sci. U.S.A.",
             "name": "EGF receptor gene mutations are common in lung cancers from \"never smokers\" and are associated with sensitivity of tumors to gefitinib and erlotinib.",
             "open_access": true,
             "pmc_id": "PMC516528",
             "publication_date": {
              "day": 7,
              "month": 9,
              "year": 2004
             },
             "pubmed_id": "15329413",
             "source_url": "http://www.ncbi.nlm.nih.gov/pubmed/15329413",
             "status": "partially curated"
            },
            "status": "submitted",
            "type": "evidence",
            "variant_id": 33,
            "variant_origin": "Somatic Mutation"
           },
           {
            "description": "EGFR L858R mutation has been associated with increased sensitivity to first generation EGFR tyrosine kinase inhibitors, including erlotinib and gefitinib.In an in vitro study using PC9 cells (EGFR L858R mutation), inhibition of EGFR phosphorylation was used as an assay to determine sensitivity to EGFR tyrosine kinase inhibitors. PC9 cells demonstrated an increased sensitivity to gefitinib  (IC50: 11.0-12.0 nmol/L vs 61.0 nmol/L) compared to NCI-H2073 cells (EGFR wild type).",
            "disease": {
             "display_name": "Non-small Cell Lung Carcinoma",
             "doid": "DOID:3908",
             "id": 8,
             "name": "Non-small Cell Lung Carcinoma",
             "url": "http://www.disease-ontology.org/?id=DOID:3908"
            },
            "drugs": [
             {
              "id": 427,
              "name": "MEDI4736"
             }
            ],
            "evidence_level": "D",
            "evidence_type": "Predictive",
            "id": 2633,
            "name": "EID2633",
            "open_change_count": 0,
            "source": {
             "citation": "Cross et al., 2014, Cancer Discov",
             "full_journal_title": "Cancer discovery",
             "id": 665,
             "is_review": false,
             "journal": "Cancer Discov",
             "name": "AZD9291, an irreversible EGFR TKI, overcomes T790M-mediated resistance to EGFR inhibitors in lung cancer.",
             "open_access": true,
             "pmc_id": "PMC4315625",
             "publication_date": {
              "month": 9,
              "year": 2014
             },
             "pubmed_id": "24893891",
             "source_url": "http://www.ncbi.nlm.nih.gov/pubmed/24893891",
             "status": "partially curated"
            },
            "status": "submitted",
            "type": "evidence",
            "variant_id": 33,
            "variant_origin": "Somatic Mutation"
           },
           {
            "clinical_significance": "Sensitivity",
            "description": "In a phase 3 clinical trial of Korean, never-smoker, lung adenocarcinoma patients, a subset of patients with EGFR mutations (n=42) treated with gefitinib were associated with improved overall response rate compared to gemcitabine plus cisplatin treatment (84.6%, 22/26, vs. 37.5%, 6/16, P=0.002). By contrast, in EGFR mutation negative cases, the response rate was much lower (25.9%, 7/27). The frequency of mutation in exon 19 deletion and L858R was 64.3% (27/42) and 36.4% (16/42), respectively. Exon 19 and L858R mutations were mutually exclusive in this cohort.",
            "disease": {
             "display_name": "Lung Adenocarcinoma",
             "doid": "DOID:3910",
             "id": 26,
             "name": "Lung Adenocarcinoma",
             "url": "http://www.disease-ontology.org/?id=DOID:3910"
            },
            "drugs": [
             {
              "id": 14,
              "name": "Gefitinib"
             }
            ],
            "evidence_direction": "Supports",
            "evidence_level": "B",
            "evidence_type": "Predictive",
            "id": 2634,
            "name": "EID2634",
            "open_change_count": 0,
            "rating": 3,
            "source": {
             "citation": "Han et al., 2012, J. Clin. Oncol.",
             "full_journal_title": "Journal of clinical oncology : official journal of the American Society of Clinical Oncology",
             "id": 1513,
             "is_review": false,
             "journal": "J. Clin. Oncol.",
             "name": "First-SIGNAL: first-line single-agent iressa versus gemcitabine and cisplatin trial in never-smokers with adenocarcinoma of the lung.",
             "publication_date": {
              "day": 1,
              "month": 4,
              "year": 2012
             },
             "pubmed_id": "22370314",
             "source_url": "http://www.ncbi.nlm.nih.gov/pubmed/22370314",
             "status": "fully curated"
            },
            "status": "accepted",
            "type": "evidence",
            "variant_id": 33,
            "variant_origin": "Somatic Mutation"
           },
           {
            "clinical_significance": "Sensitivity",
            "description": "A phase 2 study of 120 stage IIIB-IV lung adenocarcinoma patients reported  improved progression free survival in patients with EGFR mutation (n=31; exon 19 deletion and exon 21 mutation) treated with gefitinib and pemetrexed/platinum combination therapy (HR: 0.20, 95% CI: 0.05-0.75, P=0.017) as compared to patients treated with pemtrexed/platinum chemotherapy.",
            "disease": {
             "display_name": "Lung Adenocarcinoma",
             "doid": "DOID:3910",
             "id": 26,
             "name": "Lung Adenocarcinoma",
             "url": "http://www.disease-ontology.org/?id=DOID:3910"
            },
            "drugs": [
             {
              "id": 14,
              "name": "Gefitinib"
             }
            ],
            "evidence_direction": "Supports",
            "evidence_level": "C",
            "evidence_type": "Predictive",
            "id": 2635,
            "name": "EID2635",
            "open_change_count": 0,
            "source": {
             "citation": "Yu et al., 2014, Cancer Biol. Ther.",
             "full_journal_title": "Cancer biology & therapy",
             "id": 1514,
             "is_review": false,
             "journal": "Cancer Biol. Ther.",
             "name": "A phase II randomized trial evaluating gefitinib intercalated with pemetrexed/platinum chemotherapy or pemetrexed/platinum chemotherapy alone in unselected patients with advanced non-squamous non-small cell lung cancer.",
             "open_access": true,
             "pmc_id": "PMC4100984",
             "publication_date": {
              "month": 7,
              "year": 2014
             },
             "pubmed_id": "24755888",
             "source_url": "http://www.ncbi.nlm.nih.gov/pubmed/24755888",
             "status": "fully curated"
            },
            "status": "submitted",
            "type": "evidence",
            "variant_id": 33,
            "variant_origin": "Somatic Mutation"
           },
           {
            "clinical_significance": "Sensitivity",
            "description": "In a study of 1261 non-small cell lung cancer patients, 49.8% of the analyzed tumors had EGFR mutations including deletions in exon 19 (n=258), L858R (n=260), T790M (n=6) and insertions or duplications in exon 20 (n=25). Patients with EGFR deletions in exon 19 or L858R mutations were associated with an improved response to erlotinib or gefitinib with partial or complete response (74.1% vs. 16.5%, P<0.001) when compared to wildtype EGFR patients. Additionally, tumors with EGFR mutations in L858R or deletions in exon 19 were associated with increased overall survival (19.6mo vs. 10.4mo) compared to wildtype (all patients were treated with either erlotinib or gefitinib).",
            "disease": {
             "display_name": "Non-small Cell Lung Carcinoma",
             "doid": "DOID:3908",
             "id": 8,
             "name": "Non-small Cell Lung Carcinoma",
             "url": "http://www.disease-ontology.org/?id=DOID:3908"
            },
            "drugs": [
             {
              "id": 15,
              "name": "Erlotinib"
             }
            ],
            "evidence_direction": "Supports",
            "evidence_level": "C",
            "evidence_type": "Predictive",
            "id": 4283,
            "name": "EID4283",
            "open_change_count": 0,
            "source": {
             "citation": "Wu et al., 2011, Clin. Cancer Res.",
             "full_journal_title": "Clinical cancer research : an official journal of the American Association for Cancer Research",
             "id": 1503,
             "is_review": false,
             "journal": "Clin. Cancer Res.",
             "name": "Effectiveness of tyrosine kinase inhibitors on \"uncommon\" epidermal growth factor receptor mutations of unknown clinical significance in non-small cell lung cancer.",
             "publication_date": {
              "day": 1,
              "month": 6,
              "year": 2011
             },
             "pubmed_id": "21531810",
             "source_url": "http://www.ncbi.nlm.nih.gov/pubmed/21531810",
             "status": "submitted"
            },
            "status": "submitted",
            "type": "evidence",
            "variant_id": 33,
            "variant_origin": "Somatic Mutation"
           },
           {
            "clinical_significance": "Sensitivity",
            "description": "In an in vitro study using NCI-H1666 cells (wildtype EGFR) and NCI-H3255 cells (EGFR-L858R), inhibition of cell growth was used as an assay to determine sensitivity to reversible tyrosine kinase inhibitor drugs. Cells with an EGFR L858R mutation demonstrated an improved response to erlotinib (IC50: 40nM vs. 110nM) compared to EGFR wild type cells.",
            "disease": {
             "display_name": "Non-small Cell Lung Carcinoma",
             "doid": "DOID:3908",
             "id": 8,
             "name": "Non-small Cell Lung Carcinoma",
             "url": "http://www.disease-ontology.org/?id=DOID:3908"
            },
            "drugs": [
             {
              "id": 15,
              "name": "Erlotinib"
             }
            ],
            "evidence_direction": "Supports",
            "evidence_level": "D",
            "evidence_type": "Predictive",
            "id": 4284,
            "name": "EID4284",
            "open_change_count": 0,
            "source": {
             "citation": "Li et al., 2008, Oncogene",
             "full_journal_title": "Oncogene",
             "id": 1525,
             "is_review": false,
             "journal": "Oncogene",
             "name": "BIBW2992, an irreversible EGFR/HER2 inhibitor highly effective in preclinical lung cancer models.",
             "open_access": true,
             "pmc_id": "PMC2748240",
             "publication_date": {
              "day": 7,
              "month": 8,
              "year": 2008
             },
             "pubmed_id": "18408761",
             "source_url": "http://www.ncbi.nlm.nih.gov/pubmed/18408761",
             "status": "partially curated"
            },
            "status": "submitted",
            "type": "evidence",
            "variant_id": 33,
            "variant_origin": "Somatic Mutation"
           },
           {
            "clinical_significance": "Sensitivity",
            "description": "In an in vitro study, a MCF-7 cell line expressing EGFR L858R mutation demonstrated sensitivity to erlotinib treatment, compared to MCF-7 cells expressing EGFR wild-type. Sensitivity was determined by assessing YFP signal-EGFR relocation.",
            "disease": {
             "display_name": "Non-small Cell Lung Carcinoma",
             "doid": "DOID:3908",
             "id": 8,
             "name": "Non-small Cell Lung Carcinoma",
             "url": "http://www.disease-ontology.org/?id=DOID:3908"
            },
            "drugs": [
             {
              "id": 15,
              "name": "Erlotinib"
             }
            ],
            "evidence_direction": "Supports",
            "evidence_level": "D",
            "evidence_type": "Predictive",
            "id": 4285,
            "name": "EID4285",
            "open_change_count": 0,
            "source": {
             "citation": "Harada et al., 2011, Oncogene",
             "full_journal_title": "Oncogene",
             "id": 1993,
             "is_review": false,
             "journal": "Oncogene",
             "name": "Characterization of epidermal growth factor receptor mutations in non-small-cell lung cancer patients of African-American ancestry.",
             "publication_date": {
              "day": 14,
              "month": 4,
              "year": 2011
             },
             "pubmed_id": "21132006",
             "source_url": "http://www.ncbi.nlm.nih.gov/pubmed/21132006",
             "status": "fully curated"
            },
            "status": "submitted",
            "type": "evidence",
            "variant_id": 33,
            "variant_origin": "Somatic Mutation"
           },
           {
            "clinical_significance": "Sensitivity",
            "description": "In an in vitro study, Ba/F3 and NCI-H3255 cell lines expressing EGFR L858R demonstrated increased sensitivity to erlotinib treatment (IC50=0.006�M). Sensitivity was determined by assessing cell proliferation, EGFR, AKT and ERK phosphorylation, levels of BIM (a marker of EGFR TKI-induced cell killing) and cell viability.",
            "disease": {
             "display_name": "Non-small Cell Lung Carcinoma",
             "doid": "DOID:3908",
             "id": 8,
             "name": "Non-small Cell Lung Carcinoma",
             "url": "http://www.disease-ontology.org/?id=DOID:3908"
            },
            "drugs": [
             {
              "id": 15,
              "name": "Erlotinib"
             }
            ],
            "evidence_direction": "Supports",
            "evidence_level": "D",
            "evidence_type": "Predictive",
            "id": 4286,
            "name": "EID4286",
            "open_change_count": 0,
            "source": {
             "citation": "Yasuda et al., 2013, Sci Transl Med",
             "full_journal_title": "Science translational medicine",
             "id": 1230,
             "is_review": false,
             "journal": "Sci Transl Med",
             "name": "Structural, biochemical, and clinical characterization of epidermal growth factor receptor (EGFR) exon 20 insertion mutations in lung cancer.",
             "open_access": true,
             "pmc_id": "PMC3954775",
             "publication_date": {
              "day": 18,
              "month": 12,
              "year": 2013
             },
             "pubmed_id": "24353160",
             "source_url": "http://www.ncbi.nlm.nih.gov/pubmed/24353160",
             "status": "submitted"
            },
            "status": "submitted",
            "type": "evidence",
            "variant_id": 33,
            "variant_origin": "Somatic Mutation"
           },
           {
            "clinical_significance": "Sensitivity",
            "description": "In an in vitro study, CHO and NCI-H3255 cells expressing EGFR L858R mutation were associated with sensitivity to erlotinib treatment. Sensitivity was determined by assessing cell density.",
            "disease": {
             "display_name": "Non-small Cell Lung Carcinoma",
             "doid": "DOID:3908",
             "id": 8,
             "name": "Non-small Cell Lung Carcinoma",
             "url": "http://www.disease-ontology.org/?id=DOID:3908"
            },
            "drugs": [
             {
              "id": 15,
              "name": "Erlotinib"
             }
            ],
            "evidence_direction": "Supports",
            "evidence_level": "D",
            "evidence_type": "Predictive",
            "id": 4287,
            "name": "EID4287",
            "open_change_count": 0,
            "source": {
             "citation": "Ray et al., 2016, Oncotarget",
             "full_journal_title": "Oncotarget",
             "id": 2070,
             "is_review": false,
             "journal": "Oncotarget",
             "name": "Differential protein stability of EGFR mutants determines responsiveness to tyrosine kinase inhibitors.",
             "open_access": true,
             "pmc_id": "PMC5356576",
             "publication_date": {
              "day": 18,
              "month": 10,
              "year": 2016
             },
             "pubmed_id": "27612423",
             "source_url": "http://www.ncbi.nlm.nih.gov/pubmed/27612423",
             "status": "fully curated"
            },
            "status": "submitted",
            "type": "evidence",
            "variant_id": 33,
            "variant_origin": "Somatic Mutation"
           },
           {
            "clinical_significance": "Resistance or Non-Response",
            "description": "In a non-small cell lung cancer patient with an EGFR L858R mutation, EGFR L858R was reported to be refractory to 61-day crizotinib treatment.",
            "disease": {
             "display_name": "Non-small Cell Lung Carcinoma",
             "doid": "DOID:3908",
             "id": 8,
             "name": "Non-small Cell Lung Carcinoma",
             "url": "http://www.disease-ontology.org/?id=DOID:3908"
            },
            "drugs": [
             {
              "id": 12,
              "name": "Crizotinib"
             }
            ],
            "evidence_direction": "Supports",
            "evidence_level": "C",
            "evidence_type": "Predictive",
            "id": 4288,
            "name": "EID4288",
            "open_change_count": 0,
            "source": {
             "citation": "Doebele et al., 2012, Clin. Cancer Res.",
             "full_journal_title": "Clinical cancer research : an official journal of the American Association for Cancer Research",
             "id": 507,
             "is_review": false,
             "journal": "Clin. Cancer Res.",
             "name": "Mechanisms of resistance to crizotinib in patients with ALK gene rearranged non-small cell lung cancer.",
             "open_access": true,
             "pmc_id": "PMC3311875",
             "publication_date": {
              "day": 1,
              "month": 3,
              "year": 2012
             },
             "pubmed_id": "22235099",
             "source_url": "http://www.ncbi.nlm.nih.gov/pubmed/22235099",
             "status": "fully curated"
            },
            "status": "submitted",
            "type": "evidence",
            "variant_id": 33,
            "variant_origin": "Somatic Mutation"
           },
           {
            "clinical_significance": "Sensitivity",
            "description": "A phase 3 study of 889 advanced non-small cell lung cancer patients (with non-progressive disease while on standard chemotherapy treatment), reported that patients harboring EGFR mutation (exon 19 deletion and L858R mutation; n= 493, 46% lung adenocarcinoma, 44% lung squamous cell carcinoma) who were treated with erlotinib had an improved progression-free survival (44.6 weeks vs. 13 weeks, HR: 0.10, 95% CI 0.04-0.25, P<0.001) as compared to patients who received placebo.",
            "disease": {
             "display_name": "Lung Adenocarcinoma",
             "doid": "DOID:3910",
             "id": 26,
             "name": "Lung Adenocarcinoma",
             "url": "http://www.disease-ontology.org/?id=DOID:3910"
            },
            "drugs": [
             {
              "id": 15,
              "name": "Erlotinib"
             }
            ],
            "evidence_direction": "Supports",
            "evidence_level": "C",
            "evidence_type": "Predictive",
            "id": 4289,
            "name": "EID4289",
            "open_change_count": 0,
            "source": {
             "citation": "Brugger et al., 2011, J. Clin. Oncol.",
             "full_journal_title": "Journal of clinical oncology : official journal of the American Society of Clinical Oncology",
             "id": 1938,
             "is_review": false,
             "journal": "J. Clin. Oncol.",
             "name": "Prospective molecular marker analyses of EGFR and KRAS from a randomized, placebo-controlled study of erlotinib maintenance therapy in advanced non-small-cell lung cancer.",
             "publication_date": {
              "day": 1,
              "month": 11,
              "year": 2011
             },
             "pubmed_id": "21969500",
             "source_url": "http://www.ncbi.nlm.nih.gov/pubmed/21969500",
             "status": "fully curated"
            },
            "status": "submitted",
            "type": "evidence",
            "variant_id": 33,
            "variant_origin": "Somatic Mutation"
           },
           {
            "clinical_significance": "Sensitivity",
            "description": "In a retrospective study of 46 Caucasian, advanced lung adenocarcinoma patients, a patient harboring EGFR L858R mutation was associated with resistance to erlotinib treatment; the patient survived 3.9 months, as compared to the overall 24 months median overall survival of the other patients who were not resistant to erlotinib treatment.",
            "disease": {
             "display_name": "Lung Adenocarcinoma",
             "doid": "DOID:3910",
             "id": 26,
             "name": "Lung Adenocarcinoma",
             "url": "http://www.disease-ontology.org/?id=DOID:3910"
            },
            "drugs": [
             {
              "id": 15,
              "name": "Erlotinib"
             }
            ],
            "evidence_direction": "Supports",
            "evidence_level": "C",
            "evidence_type": "Predictive",
            "id": 4290,
            "name": "EID4290",
            "open_change_count": 0,
            "source": {
             "citation": "De Grève et al., 2016, PLoS ONE",
             "full_journal_title": "PloS one",
             "id": 2067,
             "is_review": false,
             "journal": "PLoS ONE",
             "name": "Prospective Evaluation of First-Line Erlotinib in Advanced Non-Small Cell Lung Cancer (NSCLC) Carrying an Activating EGFR Mutation: A Multicenter Academic Phase II Study in Caucasian Patients (FIELT).",
             "open_access": true,
             "pmc_id": "PMC4816447",
             "publication_date": {
              "year": 2016
             },
             "pubmed_id": "27032107",
             "source_url": "http://www.ncbi.nlm.nih.gov/pubmed/27032107",
             "status": "fully curated"
            },
            "status": "submitted",
            "type": "evidence",
            "variant_id": 33,
            "variant_origin": "Somatic Mutation"
           },
           {
            "clinical_significance": "Sensitivity",
            "description": "In an in vitro study, Ba/F3 cell line expressing EGFR L858R was associated with sensitivity to erlotinib treatment. Sensitivity was determined by assessing cell viability, AKT and ERK phosphorylation, and EGFR auto-phosphorylation.",
            "disease": {
             "display_name": "Lung Adenocarcinoma",
             "doid": "DOID:3910",
             "id": 26,
             "name": "Lung Adenocarcinoma",
             "url": "http://www.disease-ontology.org/?id=DOID:3910"
            },
            "drugs": [
             {
              "id": 15,
              "name": "Erlotinib"
             }
            ],
            "evidence_direction": "Supports",
            "evidence_level": "D",
            "evidence_type": "Predictive",
            "id": 4291,
            "name": "EID4291",
            "open_change_count": 0,
            "source": {
             "citation": "Konduri et al., 2016, Cancer Discov",
             "full_journal_title": "Cancer discovery",
             "id": 2086,
             "is_review": false,
             "journal": "Cancer Discov",
             "name": "EGFR Fusions as Novel Therapeutic Targets in Lung Cancer.",
             "open_access": true,
             "pmc_id": "PMC4893907",
             "publication_date": {
              "year": 2016
             },
             "pubmed_id": "27102076",
             "source_url": "http://www.ncbi.nlm.nih.gov/pubmed/27102076",
             "status": "fully curated"
            },
            "status": "submitted",
            "type": "evidence",
            "variant_id": 33,
            "variant_origin": "Somatic Mutation"
           },
           {
            "clinical_significance": "Sensitivity",
            "description": "In an in vitro study, Ba/F3 cell line expressing EGFR L858R was associated with sensitivity to cetuximab treatment. Sensitivity was determined by assessing cell viability, AKT and ERK phosphorylation and EGFR auto-phosphorylation.",
            "disease": {
             "display_name": "Lung Adenocarcinoma",
             "doid": "DOID:3910",
             "id": 26,
             "name": "Lung Adenocarcinoma",
             "url": "http://www.disease-ontology.org/?id=DOID:3910"
            },
            "drugs": [
             {
              "id": 16,
              "name": "Cetuximab"
             }
            ],
            "evidence_direction": "Supports",
            "evidence_level": "D",
            "evidence_type": "Predictive",
            "id": 4292,
            "name": "EID4292",
            "open_change_count": 0,
            "source": {
             "citation": "Konduri et al., 2016, Cancer Discov",
             "full_journal_title": "Cancer discovery",
             "id": 2086,
             "is_review": false,
             "journal": "Cancer Discov",
             "name": "EGFR Fusions as Novel Therapeutic Targets in Lung Cancer.",
             "open_access": true,
             "pmc_id": "PMC4893907",
             "publication_date": {
              "year": 2016
             },
             "pubmed_id": "27102076",
             "source_url": "http://www.ncbi.nlm.nih.gov/pubmed/27102076",
             "status": "fully curated"
            },
            "status": "submitted",
            "type": "evidence",
            "variant_id": 33,
            "variant_origin": "Somatic Mutation"
           },
           {
            "description": "In an in vitro study using NCI-H3255 cells (EGFR L858R mutation), inhibition of EGFR phosphorylation was used as an assay to determine sensitivity to EGFR tyrosine kinase inhibitors. NCI-H3255 cells demonstrated an sensitivity to erlotinib (IC50: 8.0-11.0 nmol/L vs 108.0 nmol/L) compared to NCI-H2073 cells (EGFR wild type).",
            "disease": {
             "display_name": "Lung Small Cell Carcinoma",
             "doid": "DOID:5409",
             "id": 174,
             "name": "Lung Small Cell Carcinoma",
             "url": "http://www.disease-ontology.org/?id=DOID:5409"
            },
            "drugs": [
             {
              "id": 15,
              "name": "Erlotinib"
             }
            ],
            "evidence_level": "D",
            "evidence_type": "Predictive",
            "id": 4293,
            "name": "EID4293",
            "open_change_count": 0,
            "source": {
             "citation": "Cross et al., 2014, Cancer Discov",
             "full_journal_title": "Cancer discovery",
             "id": 665,
             "is_review": false,
             "journal": "Cancer Discov",
             "name": "AZD9291, an irreversible EGFR TKI, overcomes T790M-mediated resistance to EGFR inhibitors in lung cancer.",
             "open_access": true,
             "pmc_id": "PMC4315625",
             "publication_date": {
              "month": 9,
              "year": 2014
             },
             "pubmed_id": "24893891",
             "source_url": "http://www.ncbi.nlm.nih.gov/pubmed/24893891",
             "status": "partially curated"
            },
            "status": "submitted",
            "type": "evidence",
            "variant_id": 33,
            "variant_origin": "Somatic Mutation"
           },
           {
            "description": "EGFR L858R mutation has been associated with increased sensitivity to first generation EGFR tyrosine kinase inhibitors, including erlotinib and gefitinib. In an in vitro study using NCI-H3255 cells (EGFR L858R mutation), inhibition of EGFR phosphorylation was used as an assay to determine sensitivity to EGFR tyrosine kinase inhibitors. NCI-H3255 cells demonstrated increased sensitivity to erlotinib (IC50: 8.0-11.0 nmol/L vs 108.0 nmol/L) compared to NCI-H2073 cells (EGFR wild type).",
            "disease": {
             "display_name": "Hematologic Cancer",
             "doid": "DOID:2531",
             "id": 217,
             "name": "Hematologic Cancer",
             "url": "http://www.disease-ontology.org/?id=DOID:2531"
            },
            "drugs": [
             {
              "id": 16,
              "name": "Cetuximab"
             }
            ],
            "evidence_level": "D",
            "evidence_type": "Predictive",
            "id": 4294,
            "name": "EID4294",
            "open_change_count": 0,
            "source": {
             "citation": "Cross et al., 2014, Cancer Discov",
             "full_journal_title": "Cancer discovery",
             "id": 665,
             "is_review": false,
             "journal": "Cancer Discov",
             "name": "AZD9291, an irreversible EGFR TKI, overcomes T790M-mediated resistance to EGFR inhibitors in lung cancer.",
             "open_access": true,
             "pmc_id": "PMC4315625",
             "publication_date": {
              "month": 9,
              "year": 2014
             },
             "pubmed_id": "24893891",
             "source_url": "http://www.ncbi.nlm.nih.gov/pubmed/24893891",
             "status": "partially curated"
            },
            "status": "submitted",
            "type": "evidence",
            "variant_id": 33,
            "variant_origin": "Somatic Mutation"
           },
           {
            "clinical_significance": "Sensitivity",
            "description": "In an in vitro study, a Ba/F3 cell line expressing EGFR L858R demonstrated increased sensitivity to erlotinib treatment, compared to Ba/F3 cells expressing EGFR wild-type. Sensitivity was determined by assessing EGFR auto-phosphorylation.",
            "disease": {
             "display_name": "Malignant Glioma",
             "doid": "DOID:3070",
             "id": 695,
             "name": "Malignant Glioma",
             "url": "http://www.disease-ontology.org/?id=DOID:3070"
            },
            "drugs": [
             {
              "id": 15,
              "name": "Erlotinib"
             }
            ],
            "evidence_direction": "Supports",
            "evidence_level": "D",
            "evidence_type": "Predictive",
            "id": 4295,
            "name": "EID4295",
            "open_change_count": 1,
            "source": {
             "citation": "Lee et al., 2006, PLoS Med.",
             "full_journal_title": "PLoS medicine",
             "id": 1608,
             "is_review": false,
             "journal": "PLoS Med.",
             "name": "Epidermal growth factor receptor activation in glioblastoma through novel missense mutations in the extracellular domain.",
             "open_access": true,
             "pmc_id": "PMC1702556",
             "publication_date": {
              "month": 12,
              "year": 2006
             },
             "pubmed_id": "17177598",
             "source_url": "http://www.ncbi.nlm.nih.gov/pubmed/17177598",
             "status": "partially curated"
            },
            "status": "accepted",
            "type": "evidence",
            "variant_id": 33,
            "variant_origin": "Somatic Mutation"
           },
           {
            "clinical_significance": "Sensitivity",
            "description": "On May 14, 2013, the U.S. Food and Drug Administration approved erlotinib (Tarceva) for the first-line treatment of patients with metastatic non-small cell lung cancer (NSCLC) whose tumors have epidermal growth factor receptor (EGFR) exon 19 deletions or exon 21 (L858R) substitution mutations.",
            "disease": {
             "display_name": "Non-small Cell Lung Carcinoma",
             "doid": "DOID:3908",
             "id": 8,
             "name": "Non-small Cell Lung Carcinoma",
             "url": "http://www.disease-ontology.org/?id=DOID:3908"
            },
            "drugs": [
             {
              "id": 15,
              "name": "Erlotinib"
             }
            ],
            "evidence_direction": "Supports",
            "evidence_level": "A",
            "evidence_type": "Predictive",
            "id": 2994,
            "name": "EID2994",
            "open_change_count": 0,
            "rating": 5,
            "source": {
             "citation": "Khozin et al., 2014, Oncologist",
             "full_journal_title": "The oncologist",
             "id": 1724,
             "is_review": false,
             "journal": "Oncologist",
             "name": "U.S. Food and Drug Administration approval summary: Erlotinib for the first-line treatment of metastatic non-small cell lung cancer with epidermal growth factor receptor exon 19 deletions or exon 21 (L858R) substitution mutations.",
             "open_access": true,
             "pmc_id": "PMC4077454",
             "publication_date": {
              "month": 7,
              "year": 2014
             },
             "pubmed_id": "24868098",
             "source_url": "http://www.ncbi.nlm.nih.gov/pubmed/24868098",
             "status": "fully curated"
            },
            "status": "accepted",
            "type": "evidence",
            "variant_id": 33,
            "variant_origin": "Somatic Mutation"
           },
           {
            "clinical_significance": "Sensitivity",
            "description": "Afatinib, an irreversible inhibitor of the ErbB family of tyrosine kinases has been approved in the US for the first-line treatment of patients with metastatic non-small-cell lung cancer (NSCLC) who have tumours with EGFR exon 19 deletions or exon 21 (L858R) substitution mutations as detected by a US FDA-approved test",
            "disease": {
             "display_name": "Non-small Cell Lung Carcinoma",
             "doid": "DOID:3908",
             "id": 8,
             "name": "Non-small Cell Lung Carcinoma",
             "url": "http://www.disease-ontology.org/?id=DOID:3908"
            },
            "drugs": [
             {
              "id": 146,
              "name": "Afatinib"
             }
            ],
            "evidence_direction": "Supports",
            "evidence_level": "A",
            "evidence_type": "Predictive",
            "id": 2997,
            "name": "EID2997",
            "open_change_count": 0,
            "rating": 5,
            "source": {
             "citation": "Dungo et al., 2013, Drugs",
             "full_journal_title": "Drugs",
             "id": 1725,
             "is_review": false,
             "journal": "Drugs",
             "name": "Afatinib: first global approval.",
             "publication_date": {
              "month": 9,
              "year": 2013
             },
             "pubmed_id": "23982599",
             "source_url": "http://www.ncbi.nlm.nih.gov/pubmed/23982599",
             "status": "fully curated"
            },
            "status": "accepted",
            "type": "evidence",
            "variant_id": 33,
            "variant_origin": "Somatic Mutation"
           },
           {
            "clinical_significance": "Sensitivity",
            "description": "We pooled patients with exon 19 deletion and L858R EGFR (Exon 21) mutations from both studies (The ARCHER 1009 (NCT01360554) and A7471028 (NCT00769067)) to compare the efficacy of dacomitinib to erlotinib. 121 patients with any EGFR mutation were enrolled, 101 had activating mutations in exon 19 or 21. For those (exon19/21), the median PFS was 14.6 months with dacomitinib and 9.6 months with erlotinib The median survival was 26.6 months with dacomitinib versus 23.2 months with erlotinib.",
            "disease": {
             "display_name": "Non-small Cell Lung Carcinoma",
             "doid": "DOID:3908",
             "id": 8,
             "name": "Non-small Cell Lung Carcinoma",
             "url": "http://www.disease-ontology.org/?id=DOID:3908"
            },
            "drugs": [
             {
              "id": 44,
              "name": "Dacomitinib"
             }
            ],
            "evidence_direction": "Supports",
            "evidence_level": "B",
            "evidence_type": "Predictive",
            "id": 4860,
            "name": "EID4860",
            "open_change_count": 0,
            "rating": 5,
            "source": {
             "citation": "Ramalingam et al., 2016, Ann. Oncol.",
             "full_journal_title": "Annals of oncology : official journal of the European Society for Medical Oncology",
             "id": 2158,
             "is_review": false,
             "journal": "Ann. Oncol.",
             "name": "Dacomitinib versus erlotinib in patients with EGFR-mutated advanced nonsmall-cell lung cancer (NSCLC): pooled subset analyses from two randomized trials.",
             "publication_date": {
              "month": 3,
              "year": 2016
             },
             "pubmed_id": "26768165",
             "source_url": "http://www.ncbi.nlm.nih.gov/pubmed/26768165",
             "status": "fully curated"
            },
            "status": "submitted",
            "type": "evidence",
            "variant_id": 33
           },
           {
            "clinical_significance": "Better Outcome",
            "description": "Median survival of patients with EGFR L858R mutation is better than those with wild type EGFR.",
            "disease": {
             "display_name": "Non-small Cell Lung Carcinoma",
             "doid": "DOID:3908",
             "id": 8,
             "name": "Non-small Cell Lung Carcinoma",
             "url": "http://www.disease-ontology.org/?id=DOID:3908"
            },
            "evidence_direction": "Supports",
            "evidence_level": "B",
            "evidence_type": "Prognostic",
            "id": 347,
            "name": "EID347",
            "open_change_count": 0,
            "rating": 3,
            "source": {
             "citation": "Douillard et al., 2014, J Thorac Oncol",
             "full_journal_title": "Journal of thoracic oncology : official publication of the International Association for the Study of Lung Cancer",
             "id": 213,
             "is_review": false,
             "journal": "J Thorac Oncol",
             "name": "Relationship between EGFR expression, EGFR mutation status, and the efficacy of chemotherapy plus cetuximab in FLEX study patients with advanced non-small-cell lung cancer.",
             "publication_date": {
              "month": 5,
              "year": 2014
             },
             "pubmed_id": "24662454",
             "source_url": "http://www.ncbi.nlm.nih.gov/pubmed/24662454",
             "status": "fully curated"
            },
            "status": "accepted",
            "type": "evidence",
            "variant_id": 33,
            "variant_origin": "Somatic Mutation"
           }
          ],
          "gene_id": 19,
          "hgvs_expressions": [
           "NC_000007.13:g.55259515T>G",
           "NM_005228.4:c.2573T>G",
           "ENST00000275493.2:c.2573T>G",
           "NP_005219.2:p.Leu858Arg"
          ],
          "lifecycle_actions": {
           "last_modified": {
            "order": 0,
            "timestamp": "2017-05-14T21:19:27.688Z",
            "user": {
             "area_of_expertise": "Research Scientist",
             "avatar_url": "https://secure.gravatar.com/avatar/4c468e9a95d6135e02eb66ee5f2fb574.png?d=identicon&r=pg&s=32",
             "avatars": {
              "x128": "https://secure.gravatar.com/avatar/4c468e9a95d6135e02eb66ee5f2fb574.png?d=identicon&r=pg&s=128",
              "x14": "https://secure.gravatar.com/avatar/4c468e9a95d6135e02eb66ee5f2fb574.png?d=identicon&r=pg&s=14",
              "x32": "https://secure.gravatar.com/avatar/4c468e9a95d6135e02eb66ee5f2fb574.png?d=identicon&r=pg&s=32",
              "x64": "https://secure.gravatar.com/avatar/4c468e9a95d6135e02eb66ee5f2fb574.png?d=identicon&r=pg&s=64"
             },
             "bio": "Dr. Griffith is Assistant Professor of Medicine and Assistant Director of the McDonnell Genome Institute at Washington University School of Medicine. He has worked in genomics and bioinformatics since the earliest phase of reference genome sequencing. He contributed to the Mammalian Gene Collection, producing some of the first full-length sequences for many human genes. He also was part of a small team of bioinformaticians that helped sequence and release the first whole genome reference sequence for the severe acute respiratory syndrome (SARS) virus at the height of the 2003 epidemic. He has contributed to the identification of molecular markers at the DNA, RNA and protein level that are useful for diagnosis and prognosis of thyroid, breast, lymphoma and other cancers. His lab’s research is focused on the development of informatics resources and personalized medicine strategies for cancer using genomic technologies. He is a co-creator of the CIViC resource.",
             "created_at": "2015-02-26T02:53:49.147Z",
             "display_name": "obigriffith",
             "featured_expert": true,
             "id": 3,
             "last_seen_at": "2017-06-19T11:51:38.338Z",
             "linkedin_profile": "obigriffith",
             "name": "Obi Griffith",
             "orcid": "0000-0002-0843-4271",
             "organization": {
              "description": "The McDonnell Genome Institute (MGI) is a world leader in the fast-paced, constantly changing field of genomics. A truly unique institution, we are pushing the limits of academic research by creating, testing, and implementing new approaches to the study of biology with the goal of understanding human health and disease, as well as evolution and the biology of other organisms.",
              "id": 1,
              "name": "The McDonnell Genome Institute",
              "profile_image": {
               "x128": "/system/organizations/profile_images/000/000/001/x128/MGI_STANDARD4_logo_brown-example_v1b.png?1494525976",
               "x14": "/system/organizations/profile_images/000/000/001/x14/MGI_STANDARD4_logo_brown-example_v1b.png?1494525976",
               "x256": "/system/organizations/profile_images/000/000/001/x256/MGI_STANDARD4_logo_brown-example_v1b.png?1494525976",
               "x32": "/system/organizations/profile_images/000/000/001/x32/MGI_STANDARD4_logo_brown-example_v1b.png?1494525976",
               "x64": "/system/organizations/profile_images/000/000/001/x64/MGI_STANDARD4_logo_brown-example_v1b.png?1494525976"
              },
              "url": "http://genome.wustl.edu/"
             },
             "role": "admin",
             "twitter_handle": "obigriffith",
             "url": "http://genome.wustl.edu/people/individual/obi-griffith/",
             "username": "obigriffith"
            }
           },
           "last_reviewed": {
            "order": 1,
            "timestamp": "2017-05-16T19:29:26.843Z",
            "user": {
             "area_of_expertise": "Research Scientist",
             "avatar_url": "https://secure.gravatar.com/avatar/17180f9afc9f7f04fff97197c1ee5cb6.png?d=identicon&r=pg&s=32",
             "avatars": {
              "x128": "https://secure.gravatar.com/avatar/17180f9afc9f7f04fff97197c1ee5cb6.png?d=identicon&r=pg&s=128",
              "x14": "https://secure.gravatar.com/avatar/17180f9afc9f7f04fff97197c1ee5cb6.png?d=identicon&r=pg&s=14",
              "x32": "https://secure.gravatar.com/avatar/17180f9afc9f7f04fff97197c1ee5cb6.png?d=identicon&r=pg&s=32",
              "x64": "https://secure.gravatar.com/avatar/17180f9afc9f7f04fff97197c1ee5cb6.png?d=identicon&r=pg&s=64"
             },
             "bio": "Dr. Krysiak is an Instructor at the McDonnell Genome Institute at Washington University School of Medicine where she is involved in the comprehensive genomic analysis of cancer patient cohorts and “n-of-1” studies. She received her PhD in Molecular Genetics and Genomics at Washington University in St. Louis where she focused on the genetics of myelodysplastic syndrome through advanced flow cytometry techniques, primary cell culture and mouse models. She is a founding member of the CIViC team, helping to define the CIViC data model, and a leading content curator and feature development consultant.",
             "created_at": "2015-02-26T04:14:20.953Z",
             "display_name": "kkrysiak",
             "featured_expert": true,
             "id": 6,
             "last_seen_at": "2017-06-20T21:32:57.201Z",
             "linkedin_profile": "kilannin-krysiak-69047819",
             "name": "Kilannin Krysiak",
             "orcid": "0000-0002-6299-9230",
             "organization": {
              "description": "The McDonnell Genome Institute (MGI) is a world leader in the fast-paced, constantly changing field of genomics. A truly unique institution, we are pushing the limits of academic research by creating, testing, and implementing new approaches to the study of biology with the goal of understanding human health and disease, as well as evolution and the biology of other organisms.",
              "id": 1,
              "name": "The McDonnell Genome Institute",
              "profile_image": {
               "x128": "/system/organizations/profile_images/000/000/001/x128/MGI_STANDARD4_logo_brown-example_v1b.png?1494525976",
               "x14": "/system/organizations/profile_images/000/000/001/x14/MGI_STANDARD4_logo_brown-example_v1b.png?1494525976",
               "x256": "/system/organizations/profile_images/000/000/001/x256/MGI_STANDARD4_logo_brown-example_v1b.png?1494525976",
               "x32": "/system/organizations/profile_images/000/000/001/x32/MGI_STANDARD4_logo_brown-example_v1b.png?1494525976",
               "x64": "/system/organizations/profile_images/000/000/001/x64/MGI_STANDARD4_logo_brown-example_v1b.png?1494525976"
              },
              "url": "http://genome.wustl.edu/"
             },
             "role": "admin",
             "username": "kkrysiak"
            }
           }
          },
          "name": "L858R",
          "type": "variant",
          "variant_aliases": [
           "RS121434568",
           "LEU858ARG"
          ],
          "variant_id": 33,
          "variant_types": {
           "description": "A sequence variant, that changes one or more bases, resulting in a different amino acid sequence but where the length is preserved.",
           "display_name": "Missense Variant",
           "id": 47,
           "name": "missense_variant",
           "so_id": "SO:0001583",
           "url": "http://www.sequenceontology.org/browser/current_svn/term/SO:0001583"
          }
         },
         "clinvar": {
          "_license": "https://goo.gl/OaHML9",
          "allele_id": 31648,
          "alt": "G",
          "chrom": "7",
          "cytogenic": "7p11.2",
          "gene": {
           "id": "1956",
           "symbol": "EGFR"
          },
          "hg19": {
           "end": 55259515,
           "start": 55259515
          },
          "hg38": {
           "end": 55191822,
           "start": 55191822
          },
          "hgvs": {
           "coding": [
            "LRG_304t1:c.2573T>G",
            "NM_005228.4:c.2573T>G"
           ],
           "genomic": [
            "LRG_304:g.177791T>G",
            "NC_000007.13:g.55259515T>G",
            "NC_000007.14:g.55191822T>G",
            "NG_007726.3:g.177791T>G"
           ]
          },
          "omim": "131550.0002",
          "rcv": [
           {
            "accession": "RCV000018083",
            "clinical_significance": "drug response",
            "conditions": {
             "identifiers": {
              "medgen": "C4016032"
             },
             "name": "Nonsmall cell lung cancer, response to tyrosine kinase inhibitor in, somatic"
            },
            "last_evaluated": "2005-05-19",
            "number_submitters": 1,
            "origin": "somatic",
            "preferred_name": "NM_005228.4(EGFR):c.2573T>G (p.Leu858Arg)",
            "review_status": "no assertion criteria provided"
           },
           {
            "accession": "RCV000018084",
            "clinical_significance": "drug response",
            "conditions": {
             "identifiers": {
              "medgen": "C1851577"
             },
             "name": "Adenocarcinoma of lung, response to tyrosine kinase inhibitor in, somatic"
            },
            "last_evaluated": "2005-05-19",
            "number_submitters": 1,
            "origin": "somatic",
            "preferred_name": "NM_005228.4(EGFR):c.2573T>G (p.Leu858Arg)",
            "review_status": "no assertion criteria provided"
           },
           {
            "accession": "RCV000211235",
            "clinical_significance": "drug response",
            "conditions": {
             "identifiers": {
              "medgen": "CN236471"
             },
             "name": "carboplatin, docetaxel, erlotinib, gemcitabine, and paclitaxel response - Efficacy"
            },
            "last_evaluated": "2015-10-27",
            "number_submitters": 1,
            "origin": "germline",
            "preferred_name": "NM_005228.4(EGFR):c.2573T>G (p.Leu858Arg)",
            "review_status": "reviewed by expert panel"
           },
           {
            "accession": "RCV000211323",
            "clinical_significance": "drug response",
            "conditions": {
             "identifiers": {
              "medgen": "CN236558"
             },
             "name": "gefitinib response - Efficacy"
            },
            "last_evaluated": "2018-03-21",
            "number_submitters": 1,
            "origin": "germline",
            "preferred_name": "NM_005228.4(EGFR):c.2573T>G (p.Leu858Arg)",
            "review_status": "reviewed by expert panel"
           },
           {
            "accession": "RCV000211410",
            "clinical_significance": "drug response",
            "conditions": {
             "identifiers": {
              "medgen": "CN236552"
             },
             "name": "erlotinib response - Efficacy"
            },
            "last_evaluated": "2016-04-07",
            "number_submitters": 1,
            "origin": "germline",
            "preferred_name": "NM_005228.4(EGFR):c.2573T>G (p.Leu858Arg)",
            "review_status": "reviewed by expert panel"
           },
           {
            "accession": "RCV000418019",
            "clinical_significance": "Likely pathogenic",
            "conditions": {
             "identifiers": {
              "human_phenotype_ontology": "HP:0030078",
              "medgen": "C0152013",
              "mesh": "C538231"
             },
             "name": "Lung adenocarcinoma",
             "synonyms": [
              "Adenocarcinoma of lung",
              "Adenocarcinoma of lung, somatic"
             ]
            },
            "last_evaluated": "2016-05-31",
            "number_submitters": 1,
            "origin": "somatic",
            "preferred_name": "NM_005228.4(EGFR):c.2573T>G (p.Leu858Arg)",
            "review_status": "no assertion criteria provided"
           },
           {
            "accession": "RCV000435684",
            "clinical_significance": "Pathogenic",
            "conditions": {
             "identifiers": {
              "human_phenotype_ontology": "HP:0030358",
              "medgen": "C0007131",
              "mesh": "D002289"
             },
             "name": "Non-small cell lung cancer (NSCLC)",
             "synonyms": [
              "Non-small cell lung carcinoma"
             ]
            },
            "last_evaluated": "2015-07-14",
            "number_submitters": 1,
            "origin": "somatic",
            "preferred_name": "NM_005228.4(EGFR):c.2573T>G (p.Leu858Arg)",
            "review_status": "no assertion criteria provided"
           },
           {
            "accession": "RCV000150629",
            "clinical_significance": "drug response",
            "conditions": {
             "identifiers": {
              "medgen": "CN225347"
             },
             "name": "Tyrosine kinase inhibitor response"
            },
            "last_evaluated": "2006-10-28",
            "number_submitters": 1,
            "origin": "somatic",
            "preferred_name": "NM_005228.4(EGFR):c.2573T>G (p.Leu858Arg)",
            "review_status": "no assertion criteria provided"
           }
          ],
          "ref": "T",
          "rsid": "rs121434568",
          "type": "single nucleotide variant",
          "variant_id": 16609
         },
         "cosmic": {
          "_license": "https://goo.gl/2tibWa",
          "alt": "G",
          "chrom": "7",
          "cosmic_id": "COSM6224",
          "hg19": {
           "end": 55259515,
           "start": 55259515
          },
          "mut_freq": 0.05,
          "mut_nt": "T>G",
          "ref": "T",
          "tumor_site": "upper_aerodigestive_tract"
         }
        }
       ],
       "max_score": 4.042473,
       "took": 5,
       "total": 1
      },
      "text/plain": [
       "<IPython.core.display.JSON object>"
      ]
     },
     "execution_count": 10,
     "metadata": {
      "application/json": {
       "expanded": false,
       "root": "root"
      }
     },
     "output_type": "execute_result"
    }
   ],
   "source": [
    "JSON(mv.query('civic.entrez_name:EGFR AND civic.name:L858R', fields='civic,cosmic,clinvar'))"
   ]
  },
  {
   "cell_type": "code",
   "execution_count": 12,
   "metadata": {},
   "outputs": [
    {
     "data": {
      "application/json": {
       "hits": [
        {
         "_id": "chr7:g.55259515T>G",
         "_score": 1,
         "civic": {
          "_license": "https://goo.gl/gPCAyH",
          "clinvar_entries": "16609",
          "coordinates": {
           "chromosome": "7",
           "ensembl_version": 75,
           "reference_bases": "T",
           "reference_build": "GRCh37",
           "representative_transcript": "ENST00000275493.2",
           "start": 55259515,
           "stop": 55259515,
           "variant_bases": "G"
          },
          "description": "EGFR L858R has long been recognized as a functionally significant mutation in cancer, and is one of the most prevalent single mutations in lung cancer. Best described in non-small cell lung cancer (NSCLC), the mutation seems to confer sensitivity to first and second generation TKI's like gefitinib and neratinib. NSCLC patients with this mutation treated with TKI's show increased overall and progression-free survival, as compared to chemotherapy alone. Third generation TKI's are currently in clinical trials that specifically focus on mutant forms of EGFR, a few of which have shown efficacy in treating patients that failed to respond to earlier generation TKI therapies.",
          "entrez_id": 1956,
          "entrez_name": "EGFR",
          "evidence_items": [
           {
            "description": "There is no statistical difference in progression free survival between lung cancer patients treated with gefitinib or erlotinib in the EGFR L858R setting.",
            "disease": {
             "display_name": "Non-small Cell Lung Carcinoma",
             "doid": "DOID:3908",
             "id": 8,
             "name": "Non-small Cell Lung Carcinoma",
             "url": "http://www.disease-ontology.org/?id=DOID:3908"
            },
            "drug_interaction_type": "Substitutes",
            "drugs": [
             {
              "id": 14,
              "name": "Gefitinib"
             },
             {
              "id": 15,
              "name": "Erlotinib"
             }
            ],
            "evidence_direction": "Does Not Support",
            "evidence_level": "B",
            "evidence_type": "Predictive",
            "id": 229,
            "name": "EID229",
            "open_change_count": 1,
            "rating": 3,
            "source": {
             "citation": "Lim et al., 2014, J Thorac Oncol",
             "full_journal_title": "Journal of thoracic oncology : official publication of the International Association for the Study of Lung Cancer",
             "id": 162,
             "is_review": false,
             "journal": "J Thorac Oncol",
             "name": "Comparison of clinical outcomes following gefitinib and erlotinib treatment in non-small-cell lung cancer patients harboring an epidermal growth factor receptor mutation in either exon 19 or 21.",
             "publication_date": {
              "month": 4,
              "year": 2014
             },
             "pubmed_id": "24736073",
             "source_url": "http://www.ncbi.nlm.nih.gov/pubmed/24736073",
             "status": "fully curated"
            },
            "status": "accepted",
            "type": "evidence",
            "variant_id": 33,
            "variant_origin": "Somatic Mutation"
           },
           {
            "clinical_significance": "Sensitivity",
            "description": "Gefinitib has been shown to be effective in treating cell lines with L858R missense mutations.",
            "disease": {
             "display_name": "Non-small Cell Lung Carcinoma",
             "doid": "DOID:3908",
             "id": 8,
             "name": "Non-small Cell Lung Carcinoma",
             "url": "http://www.disease-ontology.org/?id=DOID:3908"
            },
            "drugs": [
             {
              "id": 14,
              "name": "Gefitinib"
             }
            ],
            "evidence_direction": "Supports",
            "evidence_level": "D",
            "evidence_type": "Predictive",
            "id": 276,
            "name": "EID276",
            "open_change_count": 0,
            "rating": 4,
            "source": {
             "citation": "Paez et al., 2004, Science",
             "full_journal_title": "Science (New York, N.Y.)",
             "id": 181,
             "is_review": false,
             "journal": "Science",
             "name": "EGFR mutations in lung cancer: correlation with clinical response to gefitinib therapy.",
             "publication_date": {
              "day": 4,
              "month": 6,
              "year": 2004
             },
             "pubmed_id": "15118125",
             "source_url": "http://www.ncbi.nlm.nih.gov/pubmed/15118125",
             "status": "partially curated"
            },
            "status": "accepted",
            "type": "evidence",
            "variant_id": 33,
            "variant_origin": "Somatic Mutation"
           },
           {
            "clinical_significance": "Sensitivity",
            "description": "A phase III clinical trial (NCT00949650) found that median progression free survival among patients with exon 19 deletions or L858R EGFR mutations (n = 308) was 13.6 months for afatinib and 6.9 months for chemotherapy (HR, 0.47; 95% CI, 0.34 to 0.65; P = 0.001).",
            "disease": {
             "display_name": "Lung Adenocarcinoma",
             "doid": "DOID:3910",
             "id": 26,
             "name": "Lung Adenocarcinoma",
             "url": "http://www.disease-ontology.org/?id=DOID:3910"
            },
            "drugs": [
             {
              "id": 146,
              "name": "Afatinib"
             }
            ],
            "evidence_direction": "Supports",
            "evidence_level": "B",
            "evidence_type": "Predictive",
            "id": 879,
            "name": "EID879",
            "open_change_count": 0,
            "rating": 4,
            "source": {
             "citation": "Sequist et al., 2013, J. Clin. Oncol.",
             "full_journal_title": "Journal of clinical oncology : official journal of the American Society of Clinical Oncology",
             "id": 592,
             "is_review": false,
             "journal": "J. Clin. Oncol.",
             "name": "Phase III study of afatinib or cisplatin plus pemetrexed in patients with metastatic lung adenocarcinoma with EGFR mutations.",
             "publication_date": {
              "day": 20,
              "month": 9,
              "year": 2013
             },
             "pubmed_id": "23816960",
             "source_url": "http://www.ncbi.nlm.nih.gov/pubmed/23816960",
             "status": "fully curated"
            },
            "status": "accepted",
            "type": "evidence",
            "variant_id": 33,
            "variant_origin": "Somatic Mutation"
           },
           {
            "clinical_significance": "Sensitivity",
            "description": "In a phase 2 study of patients with lung adenocarcinoma (stage IIIb with pleural effusion or stage IV) and EGFR mutations, treated with afatinib were assessed by objective response. 129 patients were treated with afatinib. 66% of the 106 patients with two common activating EGFR mutations (deletion 19 or L858R) had an objective response compared to 39% of 23 patients with less common mutations.",
            "disease": {
             "display_name": "Lung Adenocarcinoma",
             "doid": "DOID:3910",
             "id": 26,
             "name": "Lung Adenocarcinoma",
             "url": "http://www.disease-ontology.org/?id=DOID:3910"
            },
            "drugs": [
             {
              "id": 146,
              "name": "Afatinib"
             }
            ],
            "evidence_direction": "Supports",
            "evidence_level": "B",
            "evidence_type": "Predictive",
            "id": 883,
            "name": "EID883",
            "open_change_count": 0,
            "rating": 3,
            "source": {
             "citation": "Yang et al., 2012, Lancet Oncol.",
             "full_journal_title": "The Lancet. Oncology",
             "id": 594,
             "is_review": false,
             "journal": "Lancet Oncol.",
             "name": "Afatinib for patients with lung adenocarcinoma and epidermal growth factor receptor mutations (LUX-Lung 2): a phase 2 trial.",
             "publication_date": {
              "month": 5,
              "year": 2012
             },
             "pubmed_id": "22452895",
             "source_url": "http://www.ncbi.nlm.nih.gov/pubmed/22452895",
             "status": "fully curated"
            },
            "status": "accepted",
            "type": "evidence",
            "variant_id": 33,
            "variant_origin": "Somatic Mutation"
           },
           {
            "clinical_significance": "Sensitivity",
            "description": "A randomized phase 3 trial (NCT00446225) involving 173 NSCLC patients with EGFR mutations (exon 19 deletion or L858R mutation in exon 21) with no history of chemotherapy for metastatic disease. Patients were randomly allocated (1:1) to receive either erlotinib or standard chemotherapy. The primary endpoint was progression-free survival (PFS). Median PFS was 9.7 months in the erlotinib group, compared with 5.2 months in the standard chemotherapy group.",
            "disease": {
             "display_name": "Non-small Cell Lung Carcinoma",
             "doid": "DOID:3908",
             "id": 8,
             "name": "Non-small Cell Lung Carcinoma",
             "url": "http://www.disease-ontology.org/?id=DOID:3908"
            },
            "drugs": [
             {
              "id": 15,
              "name": "Erlotinib"
             }
            ],
            "evidence_direction": "Supports",
            "evidence_level": "B",
            "evidence_type": "Predictive",
            "id": 885,
            "name": "EID885",
            "open_change_count": 0,
            "rating": 3,
            "source": {
             "citation": "Rosell et al., 2012, Lancet Oncol.",
             "full_journal_title": "The Lancet. Oncology",
             "id": 595,
             "is_review": false,
             "journal": "Lancet Oncol.",
             "name": "Erlotinib versus standard chemotherapy as first-line treatment for European patients with advanced EGFR mutation-positive non-small-cell lung cancer (EURTAC): a multicentre, open-label, randomised phase 3 trial.",
             "publication_date": {
              "month": 3,
              "year": 2012
             },
             "pubmed_id": "22285168",
             "source_url": "http://www.ncbi.nlm.nih.gov/pubmed/22285168",
             "status": "partially curated"
            },
            "status": "accepted",
            "type": "evidence",
            "variant_id": 33,
            "variant_origin": "Somatic Mutation"
           },
           {
            "clinical_significance": "Sensitivity",
            "description": "Cells harboring L858R were sensitive to afatinib. This study performed drug response assays using five human NSCLC cell lines with various combinations of EGFR mutations. In order to directly compare the sensitivity of multiple EGFR mutations to EGFR-TKIs the authors also generated multiple EGFR transduced Ba/F3 stable cell lines and evaluated sensitivity to EGFR-TKIs by MTS assay.",
            "disease": {
             "display_name": "Non-small Cell Lung Carcinoma",
             "doid": "DOID:3908",
             "id": 8,
             "name": "Non-small Cell Lung Carcinoma",
             "url": "http://www.disease-ontology.org/?id=DOID:3908"
            },
            "drugs": [
             {
              "id": 146,
              "name": "Afatinib"
             }
            ],
            "evidence_direction": "Supports",
            "evidence_level": "D",
            "evidence_type": "Predictive",
            "id": 968,
            "name": "EID968",
            "open_change_count": 0,
            "rating": 2,
            "source": {
             "citation": "Hirano et al., 2015, Oncotarget",
             "full_journal_title": "Oncotarget",
             "id": 669,
             "is_review": false,
             "journal": "Oncotarget",
             "name": "In vitro modeling to determine mutation specificity of EGFR tyrosine kinase inhibitors against clinically relevant EGFR mutants in non-small-cell lung cancer.",
             "open_access": true,
             "pmc_id": "PMC4770737",
             "publication_date": {
              "day": 17,
              "month": 11,
              "year": 2015
             },
             "pubmed_id": "26515464",
             "source_url": "http://www.ncbi.nlm.nih.gov/pubmed/26515464",
             "status": "fully curated"
            },
            "status": "accepted",
            "type": "evidence",
            "variant_id": 33,
            "variant_origin": "Somatic Mutation"
           },
           {
            "clinical_significance": "Sensitivity",
            "description": "Afatinib is an irreversible covalent inhibitor of EGFR (second generation). This Phase III clinical trial (LUX-Lung 6; NCT01121393) was performed in Asian patients with EGFR mutant advanced NSCLC. 364 eligible patients with EGFR mutations were assigned to afatinib (n=242) or gemcitabine and cisplatin (n=122) treatment. The trial observed significantly longer median progression-free survival with afatinib vs. gemcitabine and cisplatin treatment (11.0 vs. 5.6 months). Afatinib/Chemotherapy group compositions: 51.2/50.8 % del 19; 38/37.7 % Leu858Arg; 10.8/11.5 % Uncommon.",
            "disease": {
             "display_name": "Lung Adenocarcinoma",
             "doid": "DOID:3910",
             "id": 26,
             "name": "Lung Adenocarcinoma",
             "url": "http://www.disease-ontology.org/?id=DOID:3910"
            },
            "drugs": [
             {
              "id": 146,
              "name": "Afatinib"
             }
            ],
            "evidence_direction": "Supports",
            "evidence_level": "B",
            "evidence_type": "Predictive",
            "id": 982,
            "name": "EID982",
            "open_change_count": 0,
            "rating": 4,
            "source": {
             "citation": "Wu et al., 2014, Lancet Oncol.",
             "full_journal_title": "The Lancet. Oncology",
             "id": 679,
             "is_review": false,
             "journal": "Lancet Oncol.",
             "name": "Afatinib versus cisplatin plus gemcitabine for first-line treatment of Asian patients with advanced non-small-cell lung cancer harbouring EGFR mutations (LUX-Lung 6): an open-label, randomised phase 3 trial.",
             "publication_date": {
              "month": 2,
              "year": 2014
             },
             "pubmed_id": "24439929",
             "source_url": "http://www.ncbi.nlm.nih.gov/pubmed/24439929",
             "status": "fully curated"
            },
            "status": "accepted",
            "type": "evidence",
            "variant_id": 33,
            "variant_origin": "Somatic Mutation"
           },
           {
            "clinical_significance": "Sensitivity",
            "description": "In NSCLC patients treated with EGFR tyrosine kinase inhibitors, the presence of L858R mutation is prognostic for better progression free survival.",
            "disease": {
             "display_name": "Non-small Cell Lung Carcinoma",
             "doid": "DOID:3908",
             "id": 8,
             "name": "Non-small Cell Lung Carcinoma",
             "url": "http://www.disease-ontology.org/?id=DOID:3908"
            },
            "drug_interaction_type": "Substitutes",
            "drugs": [
             {
              "id": 14,
              "name": "Gefitinib"
             },
             {
              "id": 15,
              "name": "Erlotinib"
             }
            ],
            "evidence_direction": "Supports",
            "evidence_level": "B",
            "evidence_type": "Predictive",
            "id": 275,
            "name": "EID275",
            "open_change_count": 0,
            "rating": 4,
            "source": {
             "citation": "Fukihara et al., 2014, Oncology",
             "full_journal_title": "Oncology",
             "id": 182,
             "is_review": false,
             "journal": "Oncology",
             "name": "Clinical predictors of response to EGFR tyrosine kinase inhibitors in patients with EGFR-mutant non-small cell lung cancer.",
             "publication_date": {
              "year": 2014
             },
             "pubmed_id": "24457318",
             "source_url": "http://www.ncbi.nlm.nih.gov/pubmed/24457318",
             "status": "fully curated"
            },
            "status": "accepted",
            "type": "evidence",
            "variant_id": 33,
            "variant_origin": "Somatic Mutation"
           },
           {
            "clinical_significance": "Sensitivity",
            "description": "90 NSCLC patients with stage IIIB/IV chemotherapy-resistant tumors were  treated with gefitinib, and the L858R EGFR mutation was associated with longer time to treatment failure than those with wild-type EGFR(median 9.1 versus 2.1). In multivariate analysis, L858R mutations plus adenocarcinoma was a significant predictive factor for TTF (HR = 0.1030; P = .0004).",
            "disease": {
             "display_name": "Non-small Cell Lung Carcinoma",
             "doid": "DOID:3908",
             "id": 8,
             "name": "Non-small Cell Lung Carcinoma",
             "url": "http://www.disease-ontology.org/?id=DOID:3908"
            },
            "drugs": [
             {
              "id": 14,
              "name": "Gefitinib"
             }
            ],
            "evidence_direction": "Supports",
            "evidence_level": "B",
            "evidence_type": "Predictive",
            "id": 1665,
            "name": "EID1665",
            "open_change_count": 0,
            "rating": 3,
            "source": {
             "citation": "Yang et al., 2008, J. Clin. Oncol.",
             "full_journal_title": "Journal of clinical oncology : official journal of the American Society of Clinical Oncology",
             "id": 1127,
             "is_review": false,
             "journal": "J. Clin. Oncol.",
             "name": "Specific EGFR mutations predict treatment outcome of stage IIIB/IV patients with chemotherapy-naive non-small-cell lung cancer receiving first-line gefitinib monotherapy.",
             "publication_date": {
              "day": 1,
              "month": 6,
              "year": 2008
             },
             "pubmed_id": "18509184",
             "source_url": "http://www.ncbi.nlm.nih.gov/pubmed/18509184",
             "status": "fully curated"
            },
            "status": "accepted",
            "type": "evidence",
            "variant_id": 33,
            "variant_origin": "Somatic Mutation"
           },
           {
            "clinical_significance": "Sensitivity",
            "description": "In a phase 3 clinical trial of non-small cell lung cancer (NSCLC) patients, a subset of patients with EGFR mutations (n=44) treated with gefitinib were associated with improved progression free survival (HR: 0.16, 95% CI: 0.05-0.49, P=0.001), compared to patients treated with docetaxel. The frequency of mutation in exon 19 deletion and L858R was 50% (22/44) and 36.4% (16/44), respectively.",
            "disease": {
             "display_name": "Non-small Cell Lung Carcinoma",
             "doid": "DOID:3908",
             "id": 8,
             "name": "Non-small Cell Lung Carcinoma",
             "url": "http://www.disease-ontology.org/?id=DOID:3908"
            },
            "drugs": [
             {
              "id": 14,
              "name": "Gefitinib"
             }
            ],
            "evidence_direction": "Supports",
            "evidence_level": "C",
            "evidence_type": "Predictive",
            "id": 2621,
            "name": "EID2621",
            "open_change_count": 1,
            "source": {
             "citation": "Douillard et al., 2010, J. Clin. Oncol.",
             "full_journal_title": "Journal of clinical oncology : official journal of the American Society of Clinical Oncology",
             "id": 1501,
             "is_review": false,
             "journal": "J. Clin. Oncol.",
             "name": "Molecular predictors of outcome with gefitinib and docetaxel in previously treated non-small-cell lung cancer: data from the randomized phase III INTEREST trial.",
             "publication_date": {
              "day": 10,
              "month": 2,
              "year": 2010
             },
             "pubmed_id": "20038723",
             "source_url": "http://www.ncbi.nlm.nih.gov/pubmed/20038723",
             "status": "fully curated"
            },
            "status": "accepted",
            "type": "evidence",
            "variant_id": 33,
            "variant_origin": "Somatic Mutation"
           },
           {
            "clinical_significance": "Sensitivity",
            "description": "In a phase 3 clinical trial of East Asian advanced pulmonary adenocarcinoma patients, a subset of patients with EGFR mutations (n=261) treated with gefitinib were associated with improved response (HR:0.48, 95% CI:0.36-0.64, P<0.001), compared to carboplatin plus paclitaxel treatment. The frequency of mutation in exon 19 deletion and L858R was 53.6% (140/261) and 42.5% (111/261), respectively.",
            "disease": {
             "display_name": "Non-small Cell Lung Carcinoma",
             "doid": "DOID:3908",
             "id": 8,
             "name": "Non-small Cell Lung Carcinoma",
             "url": "http://www.disease-ontology.org/?id=DOID:3908"
            },
            "drugs": [
             {
              "id": 14,
              "name": "Gefitinib"
             }
            ],
            "evidence_direction": "Supports",
            "evidence_level": "C",
            "evidence_type": "Predictive",
            "id": 2622,
            "name": "EID2622",
            "open_change_count": 0,
            "source": {
             "citation": "Mok et al., 2009, N. Engl. J. Med.",
             "full_journal_title": "The New England journal of medicine",
             "id": 1502,
             "is_review": false,
             "journal": "N. Engl. J. Med.",
             "name": "Gefitinib or carboplatin-paclitaxel in pulmonary adenocarcinoma.",
             "publication_date": {
              "day": 3,
              "month": 9,
              "year": 2009
             },
             "pubmed_id": "19692680",
             "source_url": "http://www.ncbi.nlm.nih.gov/pubmed/19692680",
             "status": "partially curated"
            },
            "status": "submitted",
            "type": "evidence",
            "variant_id": 33,
            "variant_origin": "Somatic Mutation"
           },
           {
            "clinical_significance": "Sensitivity",
            "description": "In a phase 3 clinical trial of Japanese NSCLC patients with EGFR mutations (n=230), patients treated with gefitinib were associated with improved progression free survival (10.8 months vs 5.4 months, HR: 0.30, 95% CI: 0.22-0.41, P<0.001), compared to patients treated with carboplatin and paclitaxel combination therapy. The frequency of mutation of exon 19 deletion and L858R was 25.2% (58/230) and 21.3% (49/230), respectively.",
            "disease": {
             "display_name": "Non-small Cell Lung Carcinoma",
             "doid": "DOID:3908",
             "id": 8,
             "name": "Non-small Cell Lung Carcinoma",
             "url": "http://www.disease-ontology.org/?id=DOID:3908"
            },
            "drugs": [
             {
              "id": 14,
              "name": "Gefitinib"
             }
            ],
            "evidence_direction": "Supports",
            "evidence_level": "C",
            "evidence_type": "Predictive",
            "id": 2623,
            "name": "EID2623",
            "open_change_count": 0,
            "source": {
             "citation": "Maemondo et al., 2010, N. Engl. J. Med.",
             "full_journal_title": "The New England journal of medicine",
             "id": 1508,
             "is_review": false,
             "journal": "N. Engl. J. Med.",
             "name": "Gefitinib or chemotherapy for non-small-cell lung cancer with mutated EGFR.",
             "publication_date": {
              "day": 24,
              "month": 6,
              "year": 2010
             },
             "pubmed_id": "20573926",
             "source_url": "http://www.ncbi.nlm.nih.gov/pubmed/20573926",
             "status": "fully curated"
            },
            "status": "submitted",
            "type": "evidence",
            "variant_id": 33,
            "variant_origin": "Somatic Mutation"
           },
           {
            "clinical_significance": "Sensitivity",
            "description": "EGFR exon 19 deletion mutations have been associated with increased sensitivity to first generation EGFR tyrosine kinase inhibitors, including erlotinib and gefitinib. In a Phase 2 clinical trial, lung adenocarcinoma patients with EGFR mutations (including exon 19 deletion mutation, n=8) were associated with improved response to erlotinib or gefitinib (P=0.003), compared to patients with wild-type EGFR (n=10).",
            "disease": {
             "display_name": "Non-small Cell Lung Carcinoma",
             "doid": "DOID:3908",
             "id": 8,
             "name": "Non-small Cell Lung Carcinoma",
             "url": "http://www.disease-ontology.org/?id=DOID:3908"
            },
            "drugs": [
             {
              "id": 14,
              "name": "Gefitinib"
             }
            ],
            "evidence_direction": "Supports",
            "evidence_level": "C",
            "evidence_type": "Predictive",
            "id": 2624,
            "name": "EID2624",
            "open_change_count": 0,
            "source": {
             "citation": "Pao et al., 2004, Proc. Natl. Acad. Sci. U.S.A.",
             "full_journal_title": "Proceedings of the National Academy of Sciences of the United States of America",
             "id": 1509,
             "is_review": false,
             "journal": "Proc. Natl. Acad. Sci. U.S.A.",
             "name": "EGF receptor gene mutations are common in lung cancers from \"never smokers\" and are associated with sensitivity of tumors to gefitinib and erlotinib.",
             "open_access": true,
             "pmc_id": "PMC516528",
             "publication_date": {
              "day": 7,
              "month": 9,
              "year": 2004
             },
             "pubmed_id": "15329413",
             "source_url": "http://www.ncbi.nlm.nih.gov/pubmed/15329413",
             "status": "partially curated"
            },
            "status": "submitted",
            "type": "evidence",
            "variant_id": 33,
            "variant_origin": "Somatic Mutation"
           },
           {
            "clinical_significance": "Sensitivity",
            "description": "In an in vitro study using PC9 cells (EGFR exon 19 deletion), inhibition of cell viability was used as an assay to determine sensitivity to EGFR tyrosine kinase inhibitors. PC9 cells demonstrated an increased sensitivity to gefitinib  (IC50: 23.0 nmol/L vs 200.0 nmol/L) compared to NCI-H2073 cells (EGFR wild type).",
            "disease": {
             "display_name": "Non-small Cell Lung Carcinoma",
             "doid": "DOID:3908",
             "id": 8,
             "name": "Non-small Cell Lung Carcinoma",
             "url": "http://www.disease-ontology.org/?id=DOID:3908"
            },
            "drugs": [
             {
              "id": 14,
              "name": "Gefitinib"
             }
            ],
            "evidence_direction": "Supports",
            "evidence_level": "D",
            "evidence_type": "Predictive",
            "id": 2625,
            "name": "EID2625",
            "open_change_count": 0,
            "source": {
             "citation": "Cross et al., 2014, Cancer Discov",
             "full_journal_title": "Cancer discovery",
             "id": 665,
             "is_review": false,
             "journal": "Cancer Discov",
             "name": "AZD9291, an irreversible EGFR TKI, overcomes T790M-mediated resistance to EGFR inhibitors in lung cancer.",
             "open_access": true,
             "pmc_id": "PMC4315625",
             "publication_date": {
              "month": 9,
              "year": 2014
             },
             "pubmed_id": "24893891",
             "source_url": "http://www.ncbi.nlm.nih.gov/pubmed/24893891",
             "status": "partially curated"
            },
            "status": "submitted",
            "type": "evidence",
            "variant_id": 33,
            "variant_origin": "Somatic Mutation"
           },
           {
            "clinical_significance": "Sensitivity",
            "description": "In an in vitro study using NCI-H1666 cells (wildtype EGFR) and NCI-H3255 cells (EGFR-L858R), inhibition of cell growth was used as an assay to determine sensitivity to reversible tyrosine kinase inhibitor drugs. Cells with an EGFR L858R mutation demonstrated an improved response to lapatinib (IC50: 63nM vs. 534nM) compared to wildtype EGFR cells.",
            "disease": {
             "display_name": "Non-small Cell Lung Carcinoma",
             "doid": "DOID:3908",
             "id": 8,
             "name": "Non-small Cell Lung Carcinoma",
             "url": "http://www.disease-ontology.org/?id=DOID:3908"
            },
            "drugs": [
             {
              "id": 45,
              "name": "Lapatinib"
             }
            ],
            "evidence_direction": "Supports",
            "evidence_level": "D",
            "evidence_type": "Predictive",
            "id": 2626,
            "name": "EID2626",
            "open_change_count": 0,
            "source": {
             "citation": "Li et al., 2008, Oncogene",
             "full_journal_title": "Oncogene",
             "id": 1525,
             "is_review": false,
             "journal": "Oncogene",
             "name": "BIBW2992, an irreversible EGFR/HER2 inhibitor highly effective in preclinical lung cancer models.",
             "open_access": true,
             "pmc_id": "PMC2748240",
             "publication_date": {
              "day": 7,
              "month": 8,
              "year": 2008
             },
             "pubmed_id": "18408761",
             "source_url": "http://www.ncbi.nlm.nih.gov/pubmed/18408761",
             "status": "partially curated"
            },
            "status": "submitted",
            "type": "evidence",
            "variant_id": 33,
            "variant_origin": "Somatic Mutation"
           },
           {
            "clinical_significance": "Sensitivity",
            "description": "In an in vitro study using NCI-H322 cells (wildtype EGFR) and NCI-H3255 cells (EGFR-L858R), inhibition of cell growth was used as an assay to determine sensitivity to irreversible tyrosine kinase inhibitor (TKI) drugs. Cells with an EGFR L858R mutation demonstrated an improved response to PF 00299804  (IC50: 0.007umol/L vs. >10umol/L) compared to wildtype EGFR cells or compared to reversible TKI drug gefitinib (IC50: 0.075umol/L vs. wild-type >10umol/L).",
            "disease": {
             "display_name": "Non-small Cell Lung Carcinoma",
             "doid": "DOID:3908",
             "id": 8,
             "name": "Non-small Cell Lung Carcinoma",
             "url": "http://www.disease-ontology.org/?id=DOID:3908"
            },
            "drugs": [
             {
              "id": 464,
              "name": "PF 00299804"
             }
            ],
            "evidence_direction": "Supports",
            "evidence_level": "D",
            "evidence_type": "Predictive",
            "id": 2627,
            "name": "EID2627",
            "open_change_count": 0,
            "source": {
             "citation": "Engelman et al., 2007, Cancer Res.",
             "full_journal_title": "Cancer research",
             "id": 1515,
             "is_review": false,
             "journal": "Cancer Res.",
             "name": "PF00299804, an irreversible pan-ERBB inhibitor, is effective in lung cancer models with EGFR and ERBB2 mutations that are resistant to gefitinib.",
             "publication_date": {
              "day": 15,
              "month": 12,
              "year": 2007
             },
             "pubmed_id": "18089823",
             "source_url": "http://www.ncbi.nlm.nih.gov/pubmed/18089823",
             "status": "partially curated"
            },
            "status": "submitted",
            "type": "evidence",
            "variant_id": 33,
            "variant_origin": "Somatic Mutation"
           },
           {
            "clinical_significance": "Sensitivity",
            "description": "In an in vitro study using NCI-H1781 cells (EGFR wild-type) and NCI-H3255 cells (EGFR L858R), inhibition of cell growth was used as an assay to determine sensitivity to irreversible tyrosine kinase inhibitor (TKI) drugs. Cells with an EGFR L858R mutation demonstrated an improved response to neratinib (IC50: 0.0049umol/L vs. 0.085umol/L) compared to wildtype EGFR cells or compared to reversible TKI drug erlotinib (IC50: 0.031umol/L vs. wildtype >1umol/L).",
            "disease": {
             "display_name": "Non-small Cell Lung Carcinoma",
             "doid": "DOID:3908",
             "id": 8,
             "name": "Non-small Cell Lung Carcinoma",
             "url": "http://www.disease-ontology.org/?id=DOID:3908"
            },
            "drugs": [
             {
              "id": 52,
              "name": "Neratinib"
             }
            ],
            "evidence_direction": "Supports",
            "evidence_level": "D",
            "evidence_type": "Predictive",
            "id": 2628,
            "name": "EID2628",
            "open_change_count": 0,
            "source": {
             "citation": "Shimamura et al., 2006, Cancer Res.",
             "full_journal_title": "Cancer research",
             "id": 1526,
             "is_review": false,
             "journal": "Cancer Res.",
             "name": "Non-small-cell lung cancer and Ba/F3 transformed cells harboring the ERBB2 G776insV_G/C mutation are sensitive to the dual-specific epidermal growth factor receptor and ERBB2 inhibitor HKI-272.",
             "publication_date": {
              "day": 1,
              "month": 7,
              "year": 2006
             },
             "pubmed_id": "16818618",
             "source_url": "http://www.ncbi.nlm.nih.gov/pubmed/16818618",
             "status": "partially curated"
            },
            "status": "submitted",
            "type": "evidence",
            "variant_id": 33,
            "variant_origin": "Somatic Mutation"
           },
           {
            "clinical_significance": "Sensitivity",
            "description": "In an in vitro study using NCI-H1666 cells (wildtype EGFR) and NCI-H3255 cells (EGFR-L858R), inhibition of cell growth was used as an assay to determine sensitivity to irreversible tyrosine kinase inhibitor (TKI) drugs. Cells with an EGFR L858R mutation demonstrated an improved response to afatinib (IC50: 0.7nM vs. 60nM) compared to wildtype EGFR cells.",
            "disease": {
             "display_name": "Non-small Cell Lung Carcinoma",
             "doid": "DOID:3908",
             "id": 8,
             "name": "Non-small Cell Lung Carcinoma",
             "url": "http://www.disease-ontology.org/?id=DOID:3908"
            },
            "drugs": [
             {
              "id": 146,
              "name": "Afatinib"
             }
            ],
            "evidence_direction": "Supports",
            "evidence_level": "D",
            "evidence_type": "Predictive",
            "id": 2629,
            "name": "EID2629",
            "open_change_count": 0,
            "source": {
             "citation": "Li et al., 2008, Oncogene",
             "full_journal_title": "Oncogene",
             "id": 1525,
             "is_review": false,
             "journal": "Oncogene",
             "name": "BIBW2992, an irreversible EGFR/HER2 inhibitor highly effective in preclinical lung cancer models.",
             "open_access": true,
             "pmc_id": "PMC2748240",
             "publication_date": {
              "day": 7,
              "month": 8,
              "year": 2008
             },
             "pubmed_id": "18408761",
             "source_url": "http://www.ncbi.nlm.nih.gov/pubmed/18408761",
             "status": "partially curated"
            },
            "status": "submitted",
            "type": "evidence",
            "variant_id": 33,
            "variant_origin": "Somatic Mutation"
           },
           {
            "clinical_significance": "Sensitivity",
            "description": "In a phase 2b/3 study of 585 stage IIIB-IV lung adenocarcinoma patients who had a previous round of EGFR-TKI treatment, archival material was available for 141 patients. EGFR mutational analysis revealed that 96 tumors had an EGFR mutation, of which 76 (79%) were positive for either L858R or a deletion in exon 19. These mutations were associated with improved progression-free survival (median 3.3 months  vs 1.0 month ; HR:0.51, 95% CI:0.31-0.85, P<0.009) compared to placebo control.",
            "disease": {
             "display_name": "Non-small Cell Lung Carcinoma",
             "doid": "DOID:3908",
             "id": 8,
             "name": "Non-small Cell Lung Carcinoma",
             "url": "http://www.disease-ontology.org/?id=DOID:3908"
            },
            "drugs": [
             {
              "id": 146,
              "name": "Afatinib"
             }
            ],
            "evidence_direction": "Supports",
            "evidence_level": "C",
            "evidence_type": "Predictive",
            "id": 2630,
            "name": "EID2630",
            "open_change_count": 0,
            "source": {
             "citation": "Miller et al., 2012, Lancet Oncol.",
             "full_journal_title": "The Lancet. Oncology",
             "id": 1510,
             "is_review": false,
             "journal": "Lancet Oncol.",
             "name": "Afatinib versus placebo for patients with advanced, metastatic non-small-cell lung cancer after failure of erlotinib, gefitinib, or both, and one or two lines of chemotherapy (LUX-Lung 1): a phase 2b/3 randomised trial.",
             "publication_date": {
              "month": 5,
              "year": 2012
             },
             "pubmed_id": "22452896",
             "source_url": "http://www.ncbi.nlm.nih.gov/pubmed/22452896",
             "status": "fully curated"
            },
            "status": "submitted",
            "type": "evidence",
            "variant_id": 33,
            "variant_origin": "Somatic Mutation"
           },
           {
            "clinical_significance": "Sensitivity",
            "description": "In an in vitro study using NCI-H1666 cells (wildtype EGFR) and NCI-H3255 cells (EGFR-L858R), inhibition of cell growth was used as an assay to determine sensitivity to irreversible tyrosine kinase inhibitor (TKI) drugs. Cells with an EGFR L858R mutation demonstrated an improved response to canertinib (IC50: 1nM vs. 198nM) compared to wildtype EGFR cells.",
            "disease": {
             "display_name": "Non-small Cell Lung Carcinoma",
             "doid": "DOID:3908",
             "id": 8,
             "name": "Non-small Cell Lung Carcinoma",
             "url": "http://www.disease-ontology.org/?id=DOID:3908"
            },
            "drugs": [
             {
              "id": 465,
              "name": "Canertinib"
             }
            ],
            "evidence_direction": "Supports",
            "evidence_level": "D",
            "evidence_type": "Predictive",
            "id": 2631,
            "name": "EID2631",
            "open_change_count": 0,
            "source": {
             "citation": "Li et al., 2008, Oncogene",
             "full_journal_title": "Oncogene",
             "id": 1525,
             "is_review": false,
             "journal": "Oncogene",
             "name": "BIBW2992, an irreversible EGFR/HER2 inhibitor highly effective in preclinical lung cancer models.",
             "open_access": true,
             "pmc_id": "PMC2748240",
             "publication_date": {
              "day": 7,
              "month": 8,
              "year": 2008
             },
             "pubmed_id": "18408761",
             "source_url": "http://www.ncbi.nlm.nih.gov/pubmed/18408761",
             "status": "partially curated"
            },
            "status": "submitted",
            "type": "evidence",
            "variant_id": 33,
            "variant_origin": "Somatic Mutation"
           },
           {
            "description": "EGFR L858R and exon 19 deletion mutations have been associated with increased sensitivity to first generation EGFR tyrosine kinase inhibitors, including erlotinib and gefitinib. In a Phase 2 clinical trial, lung adenocarcinoma patients with EGFR mutations (including L858R, n=3) were associated with improved response to erlotinib or gefitinib (P=0.003), compared to patients with wild-type EGFR (n=10).",
            "disease": {
             "display_name": "Non-small Cell Lung Carcinoma",
             "doid": "DOID:3908",
             "id": 8,
             "name": "Non-small Cell Lung Carcinoma",
             "url": "http://www.disease-ontology.org/?id=DOID:3908"
            },
            "drugs": [
             {
              "id": 427,
              "name": "MEDI4736"
             }
            ],
            "evidence_level": "C",
            "evidence_type": "Predictive",
            "id": 2632,
            "name": "EID2632",
            "open_change_count": 0,
            "source": {
             "citation": "Pao et al., 2004, Proc. Natl. Acad. Sci. U.S.A.",
             "full_journal_title": "Proceedings of the National Academy of Sciences of the United States of America",
             "id": 1509,
             "is_review": false,
             "journal": "Proc. Natl. Acad. Sci. U.S.A.",
             "name": "EGF receptor gene mutations are common in lung cancers from \"never smokers\" and are associated with sensitivity of tumors to gefitinib and erlotinib.",
             "open_access": true,
             "pmc_id": "PMC516528",
             "publication_date": {
              "day": 7,
              "month": 9,
              "year": 2004
             },
             "pubmed_id": "15329413",
             "source_url": "http://www.ncbi.nlm.nih.gov/pubmed/15329413",
             "status": "partially curated"
            },
            "status": "submitted",
            "type": "evidence",
            "variant_id": 33,
            "variant_origin": "Somatic Mutation"
           },
           {
            "description": "EGFR L858R mutation has been associated with increased sensitivity to first generation EGFR tyrosine kinase inhibitors, including erlotinib and gefitinib.In an in vitro study using PC9 cells (EGFR L858R mutation), inhibition of EGFR phosphorylation was used as an assay to determine sensitivity to EGFR tyrosine kinase inhibitors. PC9 cells demonstrated an increased sensitivity to gefitinib  (IC50: 11.0-12.0 nmol/L vs 61.0 nmol/L) compared to NCI-H2073 cells (EGFR wild type).",
            "disease": {
             "display_name": "Non-small Cell Lung Carcinoma",
             "doid": "DOID:3908",
             "id": 8,
             "name": "Non-small Cell Lung Carcinoma",
             "url": "http://www.disease-ontology.org/?id=DOID:3908"
            },
            "drugs": [
             {
              "id": 427,
              "name": "MEDI4736"
             }
            ],
            "evidence_level": "D",
            "evidence_type": "Predictive",
            "id": 2633,
            "name": "EID2633",
            "open_change_count": 0,
            "source": {
             "citation": "Cross et al., 2014, Cancer Discov",
             "full_journal_title": "Cancer discovery",
             "id": 665,
             "is_review": false,
             "journal": "Cancer Discov",
             "name": "AZD9291, an irreversible EGFR TKI, overcomes T790M-mediated resistance to EGFR inhibitors in lung cancer.",
             "open_access": true,
             "pmc_id": "PMC4315625",
             "publication_date": {
              "month": 9,
              "year": 2014
             },
             "pubmed_id": "24893891",
             "source_url": "http://www.ncbi.nlm.nih.gov/pubmed/24893891",
             "status": "partially curated"
            },
            "status": "submitted",
            "type": "evidence",
            "variant_id": 33,
            "variant_origin": "Somatic Mutation"
           },
           {
            "clinical_significance": "Sensitivity",
            "description": "In a phase 3 clinical trial of Korean, never-smoker, lung adenocarcinoma patients, a subset of patients with EGFR mutations (n=42) treated with gefitinib were associated with improved overall response rate compared to gemcitabine plus cisplatin treatment (84.6%, 22/26, vs. 37.5%, 6/16, P=0.002). By contrast, in EGFR mutation negative cases, the response rate was much lower (25.9%, 7/27). The frequency of mutation in exon 19 deletion and L858R was 64.3% (27/42) and 36.4% (16/42), respectively. Exon 19 and L858R mutations were mutually exclusive in this cohort.",
            "disease": {
             "display_name": "Lung Adenocarcinoma",
             "doid": "DOID:3910",
             "id": 26,
             "name": "Lung Adenocarcinoma",
             "url": "http://www.disease-ontology.org/?id=DOID:3910"
            },
            "drugs": [
             {
              "id": 14,
              "name": "Gefitinib"
             }
            ],
            "evidence_direction": "Supports",
            "evidence_level": "B",
            "evidence_type": "Predictive",
            "id": 2634,
            "name": "EID2634",
            "open_change_count": 0,
            "rating": 3,
            "source": {
             "citation": "Han et al., 2012, J. Clin. Oncol.",
             "full_journal_title": "Journal of clinical oncology : official journal of the American Society of Clinical Oncology",
             "id": 1513,
             "is_review": false,
             "journal": "J. Clin. Oncol.",
             "name": "First-SIGNAL: first-line single-agent iressa versus gemcitabine and cisplatin trial in never-smokers with adenocarcinoma of the lung.",
             "publication_date": {
              "day": 1,
              "month": 4,
              "year": 2012
             },
             "pubmed_id": "22370314",
             "source_url": "http://www.ncbi.nlm.nih.gov/pubmed/22370314",
             "status": "fully curated"
            },
            "status": "accepted",
            "type": "evidence",
            "variant_id": 33,
            "variant_origin": "Somatic Mutation"
           },
           {
            "clinical_significance": "Sensitivity",
            "description": "A phase 2 study of 120 stage IIIB-IV lung adenocarcinoma patients reported  improved progression free survival in patients with EGFR mutation (n=31; exon 19 deletion and exon 21 mutation) treated with gefitinib and pemetrexed/platinum combination therapy (HR: 0.20, 95% CI: 0.05-0.75, P=0.017) as compared to patients treated with pemtrexed/platinum chemotherapy.",
            "disease": {
             "display_name": "Lung Adenocarcinoma",
             "doid": "DOID:3910",
             "id": 26,
             "name": "Lung Adenocarcinoma",
             "url": "http://www.disease-ontology.org/?id=DOID:3910"
            },
            "drugs": [
             {
              "id": 14,
              "name": "Gefitinib"
             }
            ],
            "evidence_direction": "Supports",
            "evidence_level": "C",
            "evidence_type": "Predictive",
            "id": 2635,
            "name": "EID2635",
            "open_change_count": 0,
            "source": {
             "citation": "Yu et al., 2014, Cancer Biol. Ther.",
             "full_journal_title": "Cancer biology & therapy",
             "id": 1514,
             "is_review": false,
             "journal": "Cancer Biol. Ther.",
             "name": "A phase II randomized trial evaluating gefitinib intercalated with pemetrexed/platinum chemotherapy or pemetrexed/platinum chemotherapy alone in unselected patients with advanced non-squamous non-small cell lung cancer.",
             "open_access": true,
             "pmc_id": "PMC4100984",
             "publication_date": {
              "month": 7,
              "year": 2014
             },
             "pubmed_id": "24755888",
             "source_url": "http://www.ncbi.nlm.nih.gov/pubmed/24755888",
             "status": "fully curated"
            },
            "status": "submitted",
            "type": "evidence",
            "variant_id": 33,
            "variant_origin": "Somatic Mutation"
           },
           {
            "clinical_significance": "Sensitivity",
            "description": "In a study of 1261 non-small cell lung cancer patients, 49.8% of the analyzed tumors had EGFR mutations including deletions in exon 19 (n=258), L858R (n=260), T790M (n=6) and insertions or duplications in exon 20 (n=25). Patients with EGFR deletions in exon 19 or L858R mutations were associated with an improved response to erlotinib or gefitinib with partial or complete response (74.1% vs. 16.5%, P<0.001) when compared to wildtype EGFR patients. Additionally, tumors with EGFR mutations in L858R or deletions in exon 19 were associated with increased overall survival (19.6mo vs. 10.4mo) compared to wildtype (all patients were treated with either erlotinib or gefitinib).",
            "disease": {
             "display_name": "Non-small Cell Lung Carcinoma",
             "doid": "DOID:3908",
             "id": 8,
             "name": "Non-small Cell Lung Carcinoma",
             "url": "http://www.disease-ontology.org/?id=DOID:3908"
            },
            "drugs": [
             {
              "id": 15,
              "name": "Erlotinib"
             }
            ],
            "evidence_direction": "Supports",
            "evidence_level": "C",
            "evidence_type": "Predictive",
            "id": 4283,
            "name": "EID4283",
            "open_change_count": 0,
            "source": {
             "citation": "Wu et al., 2011, Clin. Cancer Res.",
             "full_journal_title": "Clinical cancer research : an official journal of the American Association for Cancer Research",
             "id": 1503,
             "is_review": false,
             "journal": "Clin. Cancer Res.",
             "name": "Effectiveness of tyrosine kinase inhibitors on \"uncommon\" epidermal growth factor receptor mutations of unknown clinical significance in non-small cell lung cancer.",
             "publication_date": {
              "day": 1,
              "month": 6,
              "year": 2011
             },
             "pubmed_id": "21531810",
             "source_url": "http://www.ncbi.nlm.nih.gov/pubmed/21531810",
             "status": "submitted"
            },
            "status": "submitted",
            "type": "evidence",
            "variant_id": 33,
            "variant_origin": "Somatic Mutation"
           },
           {
            "clinical_significance": "Sensitivity",
            "description": "In an in vitro study using NCI-H1666 cells (wildtype EGFR) and NCI-H3255 cells (EGFR-L858R), inhibition of cell growth was used as an assay to determine sensitivity to reversible tyrosine kinase inhibitor drugs. Cells with an EGFR L858R mutation demonstrated an improved response to erlotinib (IC50: 40nM vs. 110nM) compared to EGFR wild type cells.",
            "disease": {
             "display_name": "Non-small Cell Lung Carcinoma",
             "doid": "DOID:3908",
             "id": 8,
             "name": "Non-small Cell Lung Carcinoma",
             "url": "http://www.disease-ontology.org/?id=DOID:3908"
            },
            "drugs": [
             {
              "id": 15,
              "name": "Erlotinib"
             }
            ],
            "evidence_direction": "Supports",
            "evidence_level": "D",
            "evidence_type": "Predictive",
            "id": 4284,
            "name": "EID4284",
            "open_change_count": 0,
            "source": {
             "citation": "Li et al., 2008, Oncogene",
             "full_journal_title": "Oncogene",
             "id": 1525,
             "is_review": false,
             "journal": "Oncogene",
             "name": "BIBW2992, an irreversible EGFR/HER2 inhibitor highly effective in preclinical lung cancer models.",
             "open_access": true,
             "pmc_id": "PMC2748240",
             "publication_date": {
              "day": 7,
              "month": 8,
              "year": 2008
             },
             "pubmed_id": "18408761",
             "source_url": "http://www.ncbi.nlm.nih.gov/pubmed/18408761",
             "status": "partially curated"
            },
            "status": "submitted",
            "type": "evidence",
            "variant_id": 33,
            "variant_origin": "Somatic Mutation"
           },
           {
            "clinical_significance": "Sensitivity",
            "description": "In an in vitro study, a MCF-7 cell line expressing EGFR L858R mutation demonstrated sensitivity to erlotinib treatment, compared to MCF-7 cells expressing EGFR wild-type. Sensitivity was determined by assessing YFP signal-EGFR relocation.",
            "disease": {
             "display_name": "Non-small Cell Lung Carcinoma",
             "doid": "DOID:3908",
             "id": 8,
             "name": "Non-small Cell Lung Carcinoma",
             "url": "http://www.disease-ontology.org/?id=DOID:3908"
            },
            "drugs": [
             {
              "id": 15,
              "name": "Erlotinib"
             }
            ],
            "evidence_direction": "Supports",
            "evidence_level": "D",
            "evidence_type": "Predictive",
            "id": 4285,
            "name": "EID4285",
            "open_change_count": 0,
            "source": {
             "citation": "Harada et al., 2011, Oncogene",
             "full_journal_title": "Oncogene",
             "id": 1993,
             "is_review": false,
             "journal": "Oncogene",
             "name": "Characterization of epidermal growth factor receptor mutations in non-small-cell lung cancer patients of African-American ancestry.",
             "publication_date": {
              "day": 14,
              "month": 4,
              "year": 2011
             },
             "pubmed_id": "21132006",
             "source_url": "http://www.ncbi.nlm.nih.gov/pubmed/21132006",
             "status": "fully curated"
            },
            "status": "submitted",
            "type": "evidence",
            "variant_id": 33,
            "variant_origin": "Somatic Mutation"
           },
           {
            "clinical_significance": "Sensitivity",
            "description": "In an in vitro study, Ba/F3 and NCI-H3255 cell lines expressing EGFR L858R demonstrated increased sensitivity to erlotinib treatment (IC50=0.006�M). Sensitivity was determined by assessing cell proliferation, EGFR, AKT and ERK phosphorylation, levels of BIM (a marker of EGFR TKI-induced cell killing) and cell viability.",
            "disease": {
             "display_name": "Non-small Cell Lung Carcinoma",
             "doid": "DOID:3908",
             "id": 8,
             "name": "Non-small Cell Lung Carcinoma",
             "url": "http://www.disease-ontology.org/?id=DOID:3908"
            },
            "drugs": [
             {
              "id": 15,
              "name": "Erlotinib"
             }
            ],
            "evidence_direction": "Supports",
            "evidence_level": "D",
            "evidence_type": "Predictive",
            "id": 4286,
            "name": "EID4286",
            "open_change_count": 0,
            "source": {
             "citation": "Yasuda et al., 2013, Sci Transl Med",
             "full_journal_title": "Science translational medicine",
             "id": 1230,
             "is_review": false,
             "journal": "Sci Transl Med",
             "name": "Structural, biochemical, and clinical characterization of epidermal growth factor receptor (EGFR) exon 20 insertion mutations in lung cancer.",
             "open_access": true,
             "pmc_id": "PMC3954775",
             "publication_date": {
              "day": 18,
              "month": 12,
              "year": 2013
             },
             "pubmed_id": "24353160",
             "source_url": "http://www.ncbi.nlm.nih.gov/pubmed/24353160",
             "status": "submitted"
            },
            "status": "submitted",
            "type": "evidence",
            "variant_id": 33,
            "variant_origin": "Somatic Mutation"
           },
           {
            "clinical_significance": "Sensitivity",
            "description": "In an in vitro study, CHO and NCI-H3255 cells expressing EGFR L858R mutation were associated with sensitivity to erlotinib treatment. Sensitivity was determined by assessing cell density.",
            "disease": {
             "display_name": "Non-small Cell Lung Carcinoma",
             "doid": "DOID:3908",
             "id": 8,
             "name": "Non-small Cell Lung Carcinoma",
             "url": "http://www.disease-ontology.org/?id=DOID:3908"
            },
            "drugs": [
             {
              "id": 15,
              "name": "Erlotinib"
             }
            ],
            "evidence_direction": "Supports",
            "evidence_level": "D",
            "evidence_type": "Predictive",
            "id": 4287,
            "name": "EID4287",
            "open_change_count": 0,
            "source": {
             "citation": "Ray et al., 2016, Oncotarget",
             "full_journal_title": "Oncotarget",
             "id": 2070,
             "is_review": false,
             "journal": "Oncotarget",
             "name": "Differential protein stability of EGFR mutants determines responsiveness to tyrosine kinase inhibitors.",
             "open_access": true,
             "pmc_id": "PMC5356576",
             "publication_date": {
              "day": 18,
              "month": 10,
              "year": 2016
             },
             "pubmed_id": "27612423",
             "source_url": "http://www.ncbi.nlm.nih.gov/pubmed/27612423",
             "status": "fully curated"
            },
            "status": "submitted",
            "type": "evidence",
            "variant_id": 33,
            "variant_origin": "Somatic Mutation"
           },
           {
            "clinical_significance": "Resistance or Non-Response",
            "description": "In a non-small cell lung cancer patient with an EGFR L858R mutation, EGFR L858R was reported to be refractory to 61-day crizotinib treatment.",
            "disease": {
             "display_name": "Non-small Cell Lung Carcinoma",
             "doid": "DOID:3908",
             "id": 8,
             "name": "Non-small Cell Lung Carcinoma",
             "url": "http://www.disease-ontology.org/?id=DOID:3908"
            },
            "drugs": [
             {
              "id": 12,
              "name": "Crizotinib"
             }
            ],
            "evidence_direction": "Supports",
            "evidence_level": "C",
            "evidence_type": "Predictive",
            "id": 4288,
            "name": "EID4288",
            "open_change_count": 0,
            "source": {
             "citation": "Doebele et al., 2012, Clin. Cancer Res.",
             "full_journal_title": "Clinical cancer research : an official journal of the American Association for Cancer Research",
             "id": 507,
             "is_review": false,
             "journal": "Clin. Cancer Res.",
             "name": "Mechanisms of resistance to crizotinib in patients with ALK gene rearranged non-small cell lung cancer.",
             "open_access": true,
             "pmc_id": "PMC3311875",
             "publication_date": {
              "day": 1,
              "month": 3,
              "year": 2012
             },
             "pubmed_id": "22235099",
             "source_url": "http://www.ncbi.nlm.nih.gov/pubmed/22235099",
             "status": "fully curated"
            },
            "status": "submitted",
            "type": "evidence",
            "variant_id": 33,
            "variant_origin": "Somatic Mutation"
           },
           {
            "clinical_significance": "Sensitivity",
            "description": "A phase 3 study of 889 advanced non-small cell lung cancer patients (with non-progressive disease while on standard chemotherapy treatment), reported that patients harboring EGFR mutation (exon 19 deletion and L858R mutation; n= 493, 46% lung adenocarcinoma, 44% lung squamous cell carcinoma) who were treated with erlotinib had an improved progression-free survival (44.6 weeks vs. 13 weeks, HR: 0.10, 95% CI 0.04-0.25, P<0.001) as compared to patients who received placebo.",
            "disease": {
             "display_name": "Lung Adenocarcinoma",
             "doid": "DOID:3910",
             "id": 26,
             "name": "Lung Adenocarcinoma",
             "url": "http://www.disease-ontology.org/?id=DOID:3910"
            },
            "drugs": [
             {
              "id": 15,
              "name": "Erlotinib"
             }
            ],
            "evidence_direction": "Supports",
            "evidence_level": "C",
            "evidence_type": "Predictive",
            "id": 4289,
            "name": "EID4289",
            "open_change_count": 0,
            "source": {
             "citation": "Brugger et al., 2011, J. Clin. Oncol.",
             "full_journal_title": "Journal of clinical oncology : official journal of the American Society of Clinical Oncology",
             "id": 1938,
             "is_review": false,
             "journal": "J. Clin. Oncol.",
             "name": "Prospective molecular marker analyses of EGFR and KRAS from a randomized, placebo-controlled study of erlotinib maintenance therapy in advanced non-small-cell lung cancer.",
             "publication_date": {
              "day": 1,
              "month": 11,
              "year": 2011
             },
             "pubmed_id": "21969500",
             "source_url": "http://www.ncbi.nlm.nih.gov/pubmed/21969500",
             "status": "fully curated"
            },
            "status": "submitted",
            "type": "evidence",
            "variant_id": 33,
            "variant_origin": "Somatic Mutation"
           },
           {
            "clinical_significance": "Sensitivity",
            "description": "In a retrospective study of 46 Caucasian, advanced lung adenocarcinoma patients, a patient harboring EGFR L858R mutation was associated with resistance to erlotinib treatment; the patient survived 3.9 months, as compared to the overall 24 months median overall survival of the other patients who were not resistant to erlotinib treatment.",
            "disease": {
             "display_name": "Lung Adenocarcinoma",
             "doid": "DOID:3910",
             "id": 26,
             "name": "Lung Adenocarcinoma",
             "url": "http://www.disease-ontology.org/?id=DOID:3910"
            },
            "drugs": [
             {
              "id": 15,
              "name": "Erlotinib"
             }
            ],
            "evidence_direction": "Supports",
            "evidence_level": "C",
            "evidence_type": "Predictive",
            "id": 4290,
            "name": "EID4290",
            "open_change_count": 0,
            "source": {
             "citation": "De Grève et al., 2016, PLoS ONE",
             "full_journal_title": "PloS one",
             "id": 2067,
             "is_review": false,
             "journal": "PLoS ONE",
             "name": "Prospective Evaluation of First-Line Erlotinib in Advanced Non-Small Cell Lung Cancer (NSCLC) Carrying an Activating EGFR Mutation: A Multicenter Academic Phase II Study in Caucasian Patients (FIELT).",
             "open_access": true,
             "pmc_id": "PMC4816447",
             "publication_date": {
              "year": 2016
             },
             "pubmed_id": "27032107",
             "source_url": "http://www.ncbi.nlm.nih.gov/pubmed/27032107",
             "status": "fully curated"
            },
            "status": "submitted",
            "type": "evidence",
            "variant_id": 33,
            "variant_origin": "Somatic Mutation"
           },
           {
            "clinical_significance": "Sensitivity",
            "description": "In an in vitro study, Ba/F3 cell line expressing EGFR L858R was associated with sensitivity to erlotinib treatment. Sensitivity was determined by assessing cell viability, AKT and ERK phosphorylation, and EGFR auto-phosphorylation.",
            "disease": {
             "display_name": "Lung Adenocarcinoma",
             "doid": "DOID:3910",
             "id": 26,
             "name": "Lung Adenocarcinoma",
             "url": "http://www.disease-ontology.org/?id=DOID:3910"
            },
            "drugs": [
             {
              "id": 15,
              "name": "Erlotinib"
             }
            ],
            "evidence_direction": "Supports",
            "evidence_level": "D",
            "evidence_type": "Predictive",
            "id": 4291,
            "name": "EID4291",
            "open_change_count": 0,
            "source": {
             "citation": "Konduri et al., 2016, Cancer Discov",
             "full_journal_title": "Cancer discovery",
             "id": 2086,
             "is_review": false,
             "journal": "Cancer Discov",
             "name": "EGFR Fusions as Novel Therapeutic Targets in Lung Cancer.",
             "open_access": true,
             "pmc_id": "PMC4893907",
             "publication_date": {
              "year": 2016
             },
             "pubmed_id": "27102076",
             "source_url": "http://www.ncbi.nlm.nih.gov/pubmed/27102076",
             "status": "fully curated"
            },
            "status": "submitted",
            "type": "evidence",
            "variant_id": 33,
            "variant_origin": "Somatic Mutation"
           },
           {
            "clinical_significance": "Sensitivity",
            "description": "In an in vitro study, Ba/F3 cell line expressing EGFR L858R was associated with sensitivity to cetuximab treatment. Sensitivity was determined by assessing cell viability, AKT and ERK phosphorylation and EGFR auto-phosphorylation.",
            "disease": {
             "display_name": "Lung Adenocarcinoma",
             "doid": "DOID:3910",
             "id": 26,
             "name": "Lung Adenocarcinoma",
             "url": "http://www.disease-ontology.org/?id=DOID:3910"
            },
            "drugs": [
             {
              "id": 16,
              "name": "Cetuximab"
             }
            ],
            "evidence_direction": "Supports",
            "evidence_level": "D",
            "evidence_type": "Predictive",
            "id": 4292,
            "name": "EID4292",
            "open_change_count": 0,
            "source": {
             "citation": "Konduri et al., 2016, Cancer Discov",
             "full_journal_title": "Cancer discovery",
             "id": 2086,
             "is_review": false,
             "journal": "Cancer Discov",
             "name": "EGFR Fusions as Novel Therapeutic Targets in Lung Cancer.",
             "open_access": true,
             "pmc_id": "PMC4893907",
             "publication_date": {
              "year": 2016
             },
             "pubmed_id": "27102076",
             "source_url": "http://www.ncbi.nlm.nih.gov/pubmed/27102076",
             "status": "fully curated"
            },
            "status": "submitted",
            "type": "evidence",
            "variant_id": 33,
            "variant_origin": "Somatic Mutation"
           },
           {
            "description": "In an in vitro study using NCI-H3255 cells (EGFR L858R mutation), inhibition of EGFR phosphorylation was used as an assay to determine sensitivity to EGFR tyrosine kinase inhibitors. NCI-H3255 cells demonstrated an sensitivity to erlotinib (IC50: 8.0-11.0 nmol/L vs 108.0 nmol/L) compared to NCI-H2073 cells (EGFR wild type).",
            "disease": {
             "display_name": "Lung Small Cell Carcinoma",
             "doid": "DOID:5409",
             "id": 174,
             "name": "Lung Small Cell Carcinoma",
             "url": "http://www.disease-ontology.org/?id=DOID:5409"
            },
            "drugs": [
             {
              "id": 15,
              "name": "Erlotinib"
             }
            ],
            "evidence_level": "D",
            "evidence_type": "Predictive",
            "id": 4293,
            "name": "EID4293",
            "open_change_count": 0,
            "source": {
             "citation": "Cross et al., 2014, Cancer Discov",
             "full_journal_title": "Cancer discovery",
             "id": 665,
             "is_review": false,
             "journal": "Cancer Discov",
             "name": "AZD9291, an irreversible EGFR TKI, overcomes T790M-mediated resistance to EGFR inhibitors in lung cancer.",
             "open_access": true,
             "pmc_id": "PMC4315625",
             "publication_date": {
              "month": 9,
              "year": 2014
             },
             "pubmed_id": "24893891",
             "source_url": "http://www.ncbi.nlm.nih.gov/pubmed/24893891",
             "status": "partially curated"
            },
            "status": "submitted",
            "type": "evidence",
            "variant_id": 33,
            "variant_origin": "Somatic Mutation"
           },
           {
            "description": "EGFR L858R mutation has been associated with increased sensitivity to first generation EGFR tyrosine kinase inhibitors, including erlotinib and gefitinib. In an in vitro study using NCI-H3255 cells (EGFR L858R mutation), inhibition of EGFR phosphorylation was used as an assay to determine sensitivity to EGFR tyrosine kinase inhibitors. NCI-H3255 cells demonstrated increased sensitivity to erlotinib (IC50: 8.0-11.0 nmol/L vs 108.0 nmol/L) compared to NCI-H2073 cells (EGFR wild type).",
            "disease": {
             "display_name": "Hematologic Cancer",
             "doid": "DOID:2531",
             "id": 217,
             "name": "Hematologic Cancer",
             "url": "http://www.disease-ontology.org/?id=DOID:2531"
            },
            "drugs": [
             {
              "id": 16,
              "name": "Cetuximab"
             }
            ],
            "evidence_level": "D",
            "evidence_type": "Predictive",
            "id": 4294,
            "name": "EID4294",
            "open_change_count": 0,
            "source": {
             "citation": "Cross et al., 2014, Cancer Discov",
             "full_journal_title": "Cancer discovery",
             "id": 665,
             "is_review": false,
             "journal": "Cancer Discov",
             "name": "AZD9291, an irreversible EGFR TKI, overcomes T790M-mediated resistance to EGFR inhibitors in lung cancer.",
             "open_access": true,
             "pmc_id": "PMC4315625",
             "publication_date": {
              "month": 9,
              "year": 2014
             },
             "pubmed_id": "24893891",
             "source_url": "http://www.ncbi.nlm.nih.gov/pubmed/24893891",
             "status": "partially curated"
            },
            "status": "submitted",
            "type": "evidence",
            "variant_id": 33,
            "variant_origin": "Somatic Mutation"
           },
           {
            "clinical_significance": "Sensitivity",
            "description": "In an in vitro study, a Ba/F3 cell line expressing EGFR L858R demonstrated increased sensitivity to erlotinib treatment, compared to Ba/F3 cells expressing EGFR wild-type. Sensitivity was determined by assessing EGFR auto-phosphorylation.",
            "disease": {
             "display_name": "Malignant Glioma",
             "doid": "DOID:3070",
             "id": 695,
             "name": "Malignant Glioma",
             "url": "http://www.disease-ontology.org/?id=DOID:3070"
            },
            "drugs": [
             {
              "id": 15,
              "name": "Erlotinib"
             }
            ],
            "evidence_direction": "Supports",
            "evidence_level": "D",
            "evidence_type": "Predictive",
            "id": 4295,
            "name": "EID4295",
            "open_change_count": 1,
            "source": {
             "citation": "Lee et al., 2006, PLoS Med.",
             "full_journal_title": "PLoS medicine",
             "id": 1608,
             "is_review": false,
             "journal": "PLoS Med.",
             "name": "Epidermal growth factor receptor activation in glioblastoma through novel missense mutations in the extracellular domain.",
             "open_access": true,
             "pmc_id": "PMC1702556",
             "publication_date": {
              "month": 12,
              "year": 2006
             },
             "pubmed_id": "17177598",
             "source_url": "http://www.ncbi.nlm.nih.gov/pubmed/17177598",
             "status": "partially curated"
            },
            "status": "accepted",
            "type": "evidence",
            "variant_id": 33,
            "variant_origin": "Somatic Mutation"
           },
           {
            "clinical_significance": "Sensitivity",
            "description": "On May 14, 2013, the U.S. Food and Drug Administration approved erlotinib (Tarceva) for the first-line treatment of patients with metastatic non-small cell lung cancer (NSCLC) whose tumors have epidermal growth factor receptor (EGFR) exon 19 deletions or exon 21 (L858R) substitution mutations.",
            "disease": {
             "display_name": "Non-small Cell Lung Carcinoma",
             "doid": "DOID:3908",
             "id": 8,
             "name": "Non-small Cell Lung Carcinoma",
             "url": "http://www.disease-ontology.org/?id=DOID:3908"
            },
            "drugs": [
             {
              "id": 15,
              "name": "Erlotinib"
             }
            ],
            "evidence_direction": "Supports",
            "evidence_level": "A",
            "evidence_type": "Predictive",
            "id": 2994,
            "name": "EID2994",
            "open_change_count": 0,
            "rating": 5,
            "source": {
             "citation": "Khozin et al., 2014, Oncologist",
             "full_journal_title": "The oncologist",
             "id": 1724,
             "is_review": false,
             "journal": "Oncologist",
             "name": "U.S. Food and Drug Administration approval summary: Erlotinib for the first-line treatment of metastatic non-small cell lung cancer with epidermal growth factor receptor exon 19 deletions or exon 21 (L858R) substitution mutations.",
             "open_access": true,
             "pmc_id": "PMC4077454",
             "publication_date": {
              "month": 7,
              "year": 2014
             },
             "pubmed_id": "24868098",
             "source_url": "http://www.ncbi.nlm.nih.gov/pubmed/24868098",
             "status": "fully curated"
            },
            "status": "accepted",
            "type": "evidence",
            "variant_id": 33,
            "variant_origin": "Somatic Mutation"
           },
           {
            "clinical_significance": "Sensitivity",
            "description": "Afatinib, an irreversible inhibitor of the ErbB family of tyrosine kinases has been approved in the US for the first-line treatment of patients with metastatic non-small-cell lung cancer (NSCLC) who have tumours with EGFR exon 19 deletions or exon 21 (L858R) substitution mutations as detected by a US FDA-approved test",
            "disease": {
             "display_name": "Non-small Cell Lung Carcinoma",
             "doid": "DOID:3908",
             "id": 8,
             "name": "Non-small Cell Lung Carcinoma",
             "url": "http://www.disease-ontology.org/?id=DOID:3908"
            },
            "drugs": [
             {
              "id": 146,
              "name": "Afatinib"
             }
            ],
            "evidence_direction": "Supports",
            "evidence_level": "A",
            "evidence_type": "Predictive",
            "id": 2997,
            "name": "EID2997",
            "open_change_count": 0,
            "rating": 5,
            "source": {
             "citation": "Dungo et al., 2013, Drugs",
             "full_journal_title": "Drugs",
             "id": 1725,
             "is_review": false,
             "journal": "Drugs",
             "name": "Afatinib: first global approval.",
             "publication_date": {
              "month": 9,
              "year": 2013
             },
             "pubmed_id": "23982599",
             "source_url": "http://www.ncbi.nlm.nih.gov/pubmed/23982599",
             "status": "fully curated"
            },
            "status": "accepted",
            "type": "evidence",
            "variant_id": 33,
            "variant_origin": "Somatic Mutation"
           },
           {
            "clinical_significance": "Sensitivity",
            "description": "We pooled patients with exon 19 deletion and L858R EGFR (Exon 21) mutations from both studies (The ARCHER 1009 (NCT01360554) and A7471028 (NCT00769067)) to compare the efficacy of dacomitinib to erlotinib. 121 patients with any EGFR mutation were enrolled, 101 had activating mutations in exon 19 or 21. For those (exon19/21), the median PFS was 14.6 months with dacomitinib and 9.6 months with erlotinib The median survival was 26.6 months with dacomitinib versus 23.2 months with erlotinib.",
            "disease": {
             "display_name": "Non-small Cell Lung Carcinoma",
             "doid": "DOID:3908",
             "id": 8,
             "name": "Non-small Cell Lung Carcinoma",
             "url": "http://www.disease-ontology.org/?id=DOID:3908"
            },
            "drugs": [
             {
              "id": 44,
              "name": "Dacomitinib"
             }
            ],
            "evidence_direction": "Supports",
            "evidence_level": "B",
            "evidence_type": "Predictive",
            "id": 4860,
            "name": "EID4860",
            "open_change_count": 0,
            "rating": 5,
            "source": {
             "citation": "Ramalingam et al., 2016, Ann. Oncol.",
             "full_journal_title": "Annals of oncology : official journal of the European Society for Medical Oncology",
             "id": 2158,
             "is_review": false,
             "journal": "Ann. Oncol.",
             "name": "Dacomitinib versus erlotinib in patients with EGFR-mutated advanced nonsmall-cell lung cancer (NSCLC): pooled subset analyses from two randomized trials.",
             "publication_date": {
              "month": 3,
              "year": 2016
             },
             "pubmed_id": "26768165",
             "source_url": "http://www.ncbi.nlm.nih.gov/pubmed/26768165",
             "status": "fully curated"
            },
            "status": "submitted",
            "type": "evidence",
            "variant_id": 33
           },
           {
            "clinical_significance": "Better Outcome",
            "description": "Median survival of patients with EGFR L858R mutation is better than those with wild type EGFR.",
            "disease": {
             "display_name": "Non-small Cell Lung Carcinoma",
             "doid": "DOID:3908",
             "id": 8,
             "name": "Non-small Cell Lung Carcinoma",
             "url": "http://www.disease-ontology.org/?id=DOID:3908"
            },
            "evidence_direction": "Supports",
            "evidence_level": "B",
            "evidence_type": "Prognostic",
            "id": 347,
            "name": "EID347",
            "open_change_count": 0,
            "rating": 3,
            "source": {
             "citation": "Douillard et al., 2014, J Thorac Oncol",
             "full_journal_title": "Journal of thoracic oncology : official publication of the International Association for the Study of Lung Cancer",
             "id": 213,
             "is_review": false,
             "journal": "J Thorac Oncol",
             "name": "Relationship between EGFR expression, EGFR mutation status, and the efficacy of chemotherapy plus cetuximab in FLEX study patients with advanced non-small-cell lung cancer.",
             "publication_date": {
              "month": 5,
              "year": 2014
             },
             "pubmed_id": "24662454",
             "source_url": "http://www.ncbi.nlm.nih.gov/pubmed/24662454",
             "status": "fully curated"
            },
            "status": "accepted",
            "type": "evidence",
            "variant_id": 33,
            "variant_origin": "Somatic Mutation"
           }
          ],
          "gene_id": 19,
          "hgvs_expressions": [
           "NC_000007.13:g.55259515T>G",
           "NM_005228.4:c.2573T>G",
           "ENST00000275493.2:c.2573T>G",
           "NP_005219.2:p.Leu858Arg"
          ],
          "lifecycle_actions": {
           "last_modified": {
            "order": 0,
            "timestamp": "2017-05-14T21:19:27.688Z",
            "user": {
             "area_of_expertise": "Research Scientist",
             "avatar_url": "https://secure.gravatar.com/avatar/4c468e9a95d6135e02eb66ee5f2fb574.png?d=identicon&r=pg&s=32",
             "avatars": {
              "x128": "https://secure.gravatar.com/avatar/4c468e9a95d6135e02eb66ee5f2fb574.png?d=identicon&r=pg&s=128",
              "x14": "https://secure.gravatar.com/avatar/4c468e9a95d6135e02eb66ee5f2fb574.png?d=identicon&r=pg&s=14",
              "x32": "https://secure.gravatar.com/avatar/4c468e9a95d6135e02eb66ee5f2fb574.png?d=identicon&r=pg&s=32",
              "x64": "https://secure.gravatar.com/avatar/4c468e9a95d6135e02eb66ee5f2fb574.png?d=identicon&r=pg&s=64"
             },
             "bio": "Dr. Griffith is Assistant Professor of Medicine and Assistant Director of the McDonnell Genome Institute at Washington University School of Medicine. He has worked in genomics and bioinformatics since the earliest phase of reference genome sequencing. He contributed to the Mammalian Gene Collection, producing some of the first full-length sequences for many human genes. He also was part of a small team of bioinformaticians that helped sequence and release the first whole genome reference sequence for the severe acute respiratory syndrome (SARS) virus at the height of the 2003 epidemic. He has contributed to the identification of molecular markers at the DNA, RNA and protein level that are useful for diagnosis and prognosis of thyroid, breast, lymphoma and other cancers. His lab’s research is focused on the development of informatics resources and personalized medicine strategies for cancer using genomic technologies. He is a co-creator of the CIViC resource.",
             "created_at": "2015-02-26T02:53:49.147Z",
             "display_name": "obigriffith",
             "featured_expert": true,
             "id": 3,
             "last_seen_at": "2017-06-19T11:51:38.338Z",
             "linkedin_profile": "obigriffith",
             "name": "Obi Griffith",
             "orcid": "0000-0002-0843-4271",
             "organization": {
              "description": "The McDonnell Genome Institute (MGI) is a world leader in the fast-paced, constantly changing field of genomics. A truly unique institution, we are pushing the limits of academic research by creating, testing, and implementing new approaches to the study of biology with the goal of understanding human health and disease, as well as evolution and the biology of other organisms.",
              "id": 1,
              "name": "The McDonnell Genome Institute",
              "profile_image": {
               "x128": "/system/organizations/profile_images/000/000/001/x128/MGI_STANDARD4_logo_brown-example_v1b.png?1494525976",
               "x14": "/system/organizations/profile_images/000/000/001/x14/MGI_STANDARD4_logo_brown-example_v1b.png?1494525976",
               "x256": "/system/organizations/profile_images/000/000/001/x256/MGI_STANDARD4_logo_brown-example_v1b.png?1494525976",
               "x32": "/system/organizations/profile_images/000/000/001/x32/MGI_STANDARD4_logo_brown-example_v1b.png?1494525976",
               "x64": "/system/organizations/profile_images/000/000/001/x64/MGI_STANDARD4_logo_brown-example_v1b.png?1494525976"
              },
              "url": "http://genome.wustl.edu/"
             },
             "role": "admin",
             "twitter_handle": "obigriffith",
             "url": "http://genome.wustl.edu/people/individual/obi-griffith/",
             "username": "obigriffith"
            }
           },
           "last_reviewed": {
            "order": 1,
            "timestamp": "2017-05-16T19:29:26.843Z",
            "user": {
             "area_of_expertise": "Research Scientist",
             "avatar_url": "https://secure.gravatar.com/avatar/17180f9afc9f7f04fff97197c1ee5cb6.png?d=identicon&r=pg&s=32",
             "avatars": {
              "x128": "https://secure.gravatar.com/avatar/17180f9afc9f7f04fff97197c1ee5cb6.png?d=identicon&r=pg&s=128",
              "x14": "https://secure.gravatar.com/avatar/17180f9afc9f7f04fff97197c1ee5cb6.png?d=identicon&r=pg&s=14",
              "x32": "https://secure.gravatar.com/avatar/17180f9afc9f7f04fff97197c1ee5cb6.png?d=identicon&r=pg&s=32",
              "x64": "https://secure.gravatar.com/avatar/17180f9afc9f7f04fff97197c1ee5cb6.png?d=identicon&r=pg&s=64"
             },
             "bio": "Dr. Krysiak is an Instructor at the McDonnell Genome Institute at Washington University School of Medicine where she is involved in the comprehensive genomic analysis of cancer patient cohorts and “n-of-1” studies. She received her PhD in Molecular Genetics and Genomics at Washington University in St. Louis where she focused on the genetics of myelodysplastic syndrome through advanced flow cytometry techniques, primary cell culture and mouse models. She is a founding member of the CIViC team, helping to define the CIViC data model, and a leading content curator and feature development consultant.",
             "created_at": "2015-02-26T04:14:20.953Z",
             "display_name": "kkrysiak",
             "featured_expert": true,
             "id": 6,
             "last_seen_at": "2017-06-20T21:32:57.201Z",
             "linkedin_profile": "kilannin-krysiak-69047819",
             "name": "Kilannin Krysiak",
             "orcid": "0000-0002-6299-9230",
             "organization": {
              "description": "The McDonnell Genome Institute (MGI) is a world leader in the fast-paced, constantly changing field of genomics. A truly unique institution, we are pushing the limits of academic research by creating, testing, and implementing new approaches to the study of biology with the goal of understanding human health and disease, as well as evolution and the biology of other organisms.",
              "id": 1,
              "name": "The McDonnell Genome Institute",
              "profile_image": {
               "x128": "/system/organizations/profile_images/000/000/001/x128/MGI_STANDARD4_logo_brown-example_v1b.png?1494525976",
               "x14": "/system/organizations/profile_images/000/000/001/x14/MGI_STANDARD4_logo_brown-example_v1b.png?1494525976",
               "x256": "/system/organizations/profile_images/000/000/001/x256/MGI_STANDARD4_logo_brown-example_v1b.png?1494525976",
               "x32": "/system/organizations/profile_images/000/000/001/x32/MGI_STANDARD4_logo_brown-example_v1b.png?1494525976",
               "x64": "/system/organizations/profile_images/000/000/001/x64/MGI_STANDARD4_logo_brown-example_v1b.png?1494525976"
              },
              "url": "http://genome.wustl.edu/"
             },
             "role": "admin",
             "username": "kkrysiak"
            }
           }
          },
          "name": "L858R",
          "type": "variant",
          "variant_aliases": [
           "RS121434568",
           "LEU858ARG"
          ],
          "variant_id": 33,
          "variant_types": {
           "description": "A sequence variant, that changes one or more bases, resulting in a different amino acid sequence but where the length is preserved.",
           "display_name": "Missense Variant",
           "id": 47,
           "name": "missense_variant",
           "so_id": "SO:0001583",
           "url": "http://www.sequenceontology.org/browser/current_svn/term/SO:0001583"
          }
         },
         "clinvar": {
          "_license": "https://goo.gl/OaHML9",
          "allele_id": 31648,
          "alt": "G",
          "chrom": "7",
          "cytogenic": "7p11.2",
          "gene": {
           "id": "1956",
           "symbol": "EGFR"
          },
          "hg19": {
           "end": 55259515,
           "start": 55259515
          },
          "hg38": {
           "end": 55191822,
           "start": 55191822
          },
          "hgvs": {
           "coding": [
            "LRG_304t1:c.2573T>G",
            "NM_005228.4:c.2573T>G"
           ],
           "genomic": [
            "LRG_304:g.177791T>G",
            "NC_000007.13:g.55259515T>G",
            "NC_000007.14:g.55191822T>G",
            "NG_007726.3:g.177791T>G"
           ]
          },
          "omim": "131550.0002",
          "rcv": [
           {
            "accession": "RCV000018083",
            "clinical_significance": "drug response",
            "conditions": {
             "identifiers": {
              "medgen": "C4016032"
             },
             "name": "Nonsmall cell lung cancer, response to tyrosine kinase inhibitor in, somatic"
            },
            "last_evaluated": "2005-05-19",
            "number_submitters": 1,
            "origin": "somatic",
            "preferred_name": "NM_005228.4(EGFR):c.2573T>G (p.Leu858Arg)",
            "review_status": "no assertion criteria provided"
           },
           {
            "accession": "RCV000018084",
            "clinical_significance": "drug response",
            "conditions": {
             "identifiers": {
              "medgen": "C1851577"
             },
             "name": "Adenocarcinoma of lung, response to tyrosine kinase inhibitor in, somatic"
            },
            "last_evaluated": "2005-05-19",
            "number_submitters": 1,
            "origin": "somatic",
            "preferred_name": "NM_005228.4(EGFR):c.2573T>G (p.Leu858Arg)",
            "review_status": "no assertion criteria provided"
           },
           {
            "accession": "RCV000211235",
            "clinical_significance": "drug response",
            "conditions": {
             "identifiers": {
              "medgen": "CN236471"
             },
             "name": "carboplatin, docetaxel, erlotinib, gemcitabine, and paclitaxel response - Efficacy"
            },
            "last_evaluated": "2015-10-27",
            "number_submitters": 1,
            "origin": "germline",
            "preferred_name": "NM_005228.4(EGFR):c.2573T>G (p.Leu858Arg)",
            "review_status": "reviewed by expert panel"
           },
           {
            "accession": "RCV000211323",
            "clinical_significance": "drug response",
            "conditions": {
             "identifiers": {
              "medgen": "CN236558"
             },
             "name": "gefitinib response - Efficacy"
            },
            "last_evaluated": "2018-03-21",
            "number_submitters": 1,
            "origin": "germline",
            "preferred_name": "NM_005228.4(EGFR):c.2573T>G (p.Leu858Arg)",
            "review_status": "reviewed by expert panel"
           },
           {
            "accession": "RCV000211410",
            "clinical_significance": "drug response",
            "conditions": {
             "identifiers": {
              "medgen": "CN236552"
             },
             "name": "erlotinib response - Efficacy"
            },
            "last_evaluated": "2016-04-07",
            "number_submitters": 1,
            "origin": "germline",
            "preferred_name": "NM_005228.4(EGFR):c.2573T>G (p.Leu858Arg)",
            "review_status": "reviewed by expert panel"
           },
           {
            "accession": "RCV000418019",
            "clinical_significance": "Likely pathogenic",
            "conditions": {
             "identifiers": {
              "human_phenotype_ontology": "HP:0030078",
              "medgen": "C0152013",
              "mesh": "C538231"
             },
             "name": "Lung adenocarcinoma",
             "synonyms": [
              "Adenocarcinoma of lung",
              "Adenocarcinoma of lung, somatic"
             ]
            },
            "last_evaluated": "2016-05-31",
            "number_submitters": 1,
            "origin": "somatic",
            "preferred_name": "NM_005228.4(EGFR):c.2573T>G (p.Leu858Arg)",
            "review_status": "no assertion criteria provided"
           },
           {
            "accession": "RCV000435684",
            "clinical_significance": "Pathogenic",
            "conditions": {
             "identifiers": {
              "human_phenotype_ontology": "HP:0030358",
              "medgen": "C0007131",
              "mesh": "D002289"
             },
             "name": "Non-small cell lung cancer (NSCLC)",
             "synonyms": [
              "Non-small cell lung carcinoma"
             ]
            },
            "last_evaluated": "2015-07-14",
            "number_submitters": 1,
            "origin": "somatic",
            "preferred_name": "NM_005228.4(EGFR):c.2573T>G (p.Leu858Arg)",
            "review_status": "no assertion criteria provided"
           },
           {
            "accession": "RCV000150629",
            "clinical_significance": "drug response",
            "conditions": {
             "identifiers": {
              "medgen": "CN225347"
             },
             "name": "Tyrosine kinase inhibitor response"
            },
            "last_evaluated": "2006-10-28",
            "number_submitters": 1,
            "origin": "somatic",
            "preferred_name": "NM_005228.4(EGFR):c.2573T>G (p.Leu858Arg)",
            "review_status": "no assertion criteria provided"
           }
          ],
          "ref": "T",
          "rsid": "rs121434568",
          "type": "single nucleotide variant",
          "variant_id": 16609
         },
         "cosmic": {
          "_license": "https://goo.gl/2tibWa",
          "alt": "G",
          "chrom": "7",
          "cosmic_id": "COSM6224",
          "hg19": {
           "end": 55259515,
           "start": 55259515
          },
          "mut_freq": 0.05,
          "mut_nt": "T>G",
          "ref": "T",
          "tumor_site": "upper_aerodigestive_tract"
         }
        }
       ],
       "max_score": 1,
       "took": 5,
       "total": 1
      },
      "text/plain": [
       "<IPython.core.display.JSON object>"
      ]
     },
     "execution_count": 12,
     "metadata": {
      "application/json": {
       "expanded": false,
       "root": "root"
      }
     },
     "output_type": "execute_result"
    }
   ],
   "source": [
    "JSON(mv.query('_id:\"chr7:g.55259515T>G\"', fields='civic,cosmic,clinvar,uniprot'))"
   ]
  }
 ],
 "metadata": {
  "kernelspec": {
   "display_name": "Python 3",
   "language": "python",
   "name": "python3"
  },
  "language_info": {
   "codemirror_mode": {
    "name": "ipython",
    "version": 3
   },
   "file_extension": ".py",
   "mimetype": "text/x-python",
   "name": "python",
   "nbconvert_exporter": "python",
   "pygments_lexer": "ipython3",
   "version": "3.7.0"
  }
 },
 "nbformat": 4,
 "nbformat_minor": 2
}
