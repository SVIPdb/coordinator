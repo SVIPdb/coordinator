{
 "cells": [
  {
   "cell_type": "code",
   "execution_count": 1,
   "metadata": {},
   "outputs": [],
   "source": [
    "import myvariant\n",
    "from IPython.display import JSON\n",
    "\n",
    "mv = myvariant.MyVariantInfo()"
   ]
  },
  {
   "cell_type": "code",
   "execution_count": 2,
   "metadata": {},
   "outputs": [
    {
     "data": {
      "text/plain": [
       "10"
      ]
     },
     "execution_count": 2,
     "metadata": {},
     "output_type": "execute_result"
    }
   ],
   "source": [
    "q = mv.query(\"BRAF p.Val600Leu\", size=10)\n",
    "len(q['hits'])"
   ]
  },
  {
   "cell_type": "code",
   "execution_count": 4,
   "metadata": {},
   "outputs": [
    {
     "data": {
      "text/plain": [
       "100"
      ]
     },
     "execution_count": 4,
     "metadata": {},
     "output_type": "execute_result"
    }
   ],
   "source": [
    "q = mv.query(\"BRAF V600E\", size=100)\n",
    "len(q['hits'])"
   ]
  },
  {
   "cell_type": "code",
   "execution_count": 5,
   "metadata": {},
   "outputs": [
    {
     "data": {
      "text/plain": [
       "{\"dict_keys(['_id', '_score', 'cadd', 'chrom', 'civic', 'cosmic', 'dbnsfp', 'hg19', 'observed', 'snpeff', 'vcf'])\",\n",
       " \"dict_keys(['_id', '_score', 'cadd', 'chrom', 'cosmic', 'dbnsfp', 'docm', 'hg19', 'mutdb', 'observed', 'snpeff', 'vcf'])\",\n",
       " \"dict_keys(['_id', '_score', 'cadd', 'chrom', 'cosmic', 'dbnsfp', 'docm', 'hg19', 'observed', 'snpeff', 'vcf'])\",\n",
       " \"dict_keys(['_id', '_score', 'cadd', 'chrom', 'dbnsfp', 'docm', 'hg19', 'observed', 'snpeff', 'vcf'])\",\n",
       " \"dict_keys(['_id', '_score', 'cadd', 'chrom', 'dbnsfp', 'hg19', 'snpeff', 'vcf'])\",\n",
       " \"dict_keys(['_id', '_score', 'chrom', 'civic', 'observed', 'snpeff', 'vcf'])\",\n",
       " \"dict_keys(['_id', '_score', 'chrom', 'civic', 'observed', 'vcf'])\",\n",
       " \"dict_keys(['_id', '_score', 'civic', 'observed'])\"}"
      ]
     },
     "execution_count": 5,
     "metadata": {},
     "output_type": "execute_result"
    }
   ],
   "source": [
    "set([str(x.keys()) for x in q['hits']])"
   ]
  },
  {
   "cell_type": "code",
   "execution_count": 6,
   "metadata": {},
   "outputs": [
    {
     "data": {
      "application/json": {
       "_id": "CIVIC_VARIANT:285",
       "_score": 13.751855,
       "civic": {
        "_license": "https://goo.gl/gPCAyH",
        "coordinates": {
         "chromosome": "7",
         "chromosome2": "7",
         "ensembl_version": 75,
         "reference_build": "GRCh37",
         "representative_transcript": "ENST00000355413.4",
         "representative_transcript2": "ENST00000288602.6",
         "start": 141250989,
         "start2": 140434279,
         "stop": 141255367,
         "stop2": 140494267
        },
        "entrez_id": 673,
        "entrez_name": "BRAF",
        "evidence_items": [
         {
          "clinical_significance": "Sensitivity",
          "description": "BRAF fusion AGK-BRAF was associated with decreased sensitivity to vemurafenib and increased sensitivity to sorafenib in-vitro. A single patient with this fusion showed durable response to sorafenib.",
          "disease": {
           "display_name": "Melanoma",
           "doid": "DOID:1909",
           "id": 7,
           "name": "Melanoma",
           "url": "http://www.disease-ontology.org/?id=DOID:1909"
          },
          "drugs": [
           {
            "id": 6,
            "name": "Sorafenib"
           }
          ],
          "evidence_direction": "Supports",
          "evidence_level": "C",
          "evidence_type": "Predictive",
          "id": 723,
          "name": "EID723",
          "open_change_count": 0,
          "rating": 2,
          "source": {
           "citation": "Botton et al., 2013, Pigment Cell Melanoma Res",
           "full_journal_title": "Pigment cell & melanoma research",
           "id": 475,
           "is_review": false,
           "journal": "Pigment Cell Melanoma Res",
           "name": "Recurrent BRAF kinase fusions in melanocytic tumors offer an opportunity for targeted therapy.",
           "open_access": true,
           "pmc_id": "PMC3808507",
           "publication_date": {
            "month": 11,
            "year": 2013
           },
           "pubmed_id": "23890088",
           "source_url": "http://www.ncbi.nlm.nih.gov/pubmed/23890088",
           "status": "fully curated"
          },
          "status": "accepted",
          "type": "evidence",
          "variant_id": 285,
          "variant_origin": "Somatic Mutation"
         },
         {
          "clinical_significance": "Resistance or Non-Response",
          "description": "A melanoma cell line with AGK-BRAF in-frame fusion showed decreased sensitivity towards Vemurafenib in comparison with BRAF mutated (V600E) cell lines.",
          "disease": {
           "display_name": "Melanoma",
           "doid": "DOID:1909",
           "id": 7,
           "name": "Melanoma",
           "url": "http://www.disease-ontology.org/?id=DOID:1909"
          },
          "drugs": [
           {
            "id": 4,
            "name": "Vemurafenib"
           }
          ],
          "evidence_direction": "Supports",
          "evidence_level": "D",
          "evidence_type": "Predictive",
          "id": 724,
          "name": "EID724",
          "open_change_count": 0,
          "rating": 2,
          "source": {
           "citation": "Botton et al., 2013, Pigment Cell Melanoma Res",
           "full_journal_title": "Pigment cell & melanoma research",
           "id": 475,
           "is_review": false,
           "journal": "Pigment Cell Melanoma Res",
           "name": "Recurrent BRAF kinase fusions in melanocytic tumors offer an opportunity for targeted therapy.",
           "open_access": true,
           "pmc_id": "PMC3808507",
           "publication_date": {
            "month": 11,
            "year": 2013
           },
           "pubmed_id": "23890088",
           "source_url": "http://www.ncbi.nlm.nih.gov/pubmed/23890088",
           "status": "fully curated"
          },
          "status": "accepted",
          "type": "evidence",
          "variant_id": 285,
          "variant_origin": "Somatic Mutation"
         }
        ],
        "gene_id": 5,
        "lifecycle_actions": {
         "last_modified": {
          "order": 0,
          "timestamp": "2017-03-24T21:52:17.470Z",
          "user": {
           "area_of_expertise": "Research Scientist",
           "avatar_url": "https://secure.gravatar.com/avatar/df7a6c4023eebf61d7bd8056368798c0.png?d=identicon&r=pg&s=32",
           "avatars": {
            "x128": "https://secure.gravatar.com/avatar/df7a6c4023eebf61d7bd8056368798c0.png?d=identicon&r=pg&s=128",
            "x14": "https://secure.gravatar.com/avatar/df7a6c4023eebf61d7bd8056368798c0.png?d=identicon&r=pg&s=14",
            "x32": "https://secure.gravatar.com/avatar/df7a6c4023eebf61d7bd8056368798c0.png?d=identicon&r=pg&s=32",
            "x64": "https://secure.gravatar.com/avatar/df7a6c4023eebf61d7bd8056368798c0.png?d=identicon&r=pg&s=64"
           },
           "created_at": "2015-10-05T13:05:07.668Z",
           "display_name": "LynzeyK",
           "featured_expert": false,
           "id": 83,
           "last_seen_at": "2017-06-22T01:42:42.796Z",
           "linkedin_profile": "https://www.linkedin.com/in/lynzey-kujan-135a03a3",
           "name": "Lynzey Kujan",
           "orcid": "orcid.org/0000-0001-9225-7361",
           "organization": {
            "description": "The McDonnell Genome Institute (MGI) is a world leader in the fast-paced, constantly changing field of genomics. A truly unique institution, we are pushing the limits of academic research by creating, testing, and implementing new approaches to the study of biology with the goal of understanding human health and disease, as well as evolution and the biology of other organisms.",
            "id": 1,
            "name": "The McDonnell Genome Institute",
            "profile_image": {
             "x128": "/system/organizations/profile_images/000/000/001/x128/MGI_STANDARD4_logo_brown-example_v1b.png?1494525976",
             "x14": "/system/organizations/profile_images/000/000/001/x14/MGI_STANDARD4_logo_brown-example_v1b.png?1494525976",
             "x256": "/system/organizations/profile_images/000/000/001/x256/MGI_STANDARD4_logo_brown-example_v1b.png?1494525976",
             "x32": "/system/organizations/profile_images/000/000/001/x32/MGI_STANDARD4_logo_brown-example_v1b.png?1494525976",
             "x64": "/system/organizations/profile_images/000/000/001/x64/MGI_STANDARD4_logo_brown-example_v1b.png?1494525976"
            },
            "url": "http://genome.wustl.edu/"
           },
           "role": "curator",
           "username": "LynzeyK"
          }
         },
         "last_reviewed": {
          "order": 1,
          "timestamp": "2017-04-02T14:58:03.871Z",
          "user": {
           "area_of_expertise": "Research Scientist",
           "avatar_url": "https://secure.gravatar.com/avatar/17180f9afc9f7f04fff97197c1ee5cb6.png?d=identicon&r=pg&s=32",
           "avatars": {
            "x128": "https://secure.gravatar.com/avatar/17180f9afc9f7f04fff97197c1ee5cb6.png?d=identicon&r=pg&s=128",
            "x14": "https://secure.gravatar.com/avatar/17180f9afc9f7f04fff97197c1ee5cb6.png?d=identicon&r=pg&s=14",
            "x32": "https://secure.gravatar.com/avatar/17180f9afc9f7f04fff97197c1ee5cb6.png?d=identicon&r=pg&s=32",
            "x64": "https://secure.gravatar.com/avatar/17180f9afc9f7f04fff97197c1ee5cb6.png?d=identicon&r=pg&s=64"
           },
           "bio": "Dr. Krysiak is an Instructor at the McDonnell Genome Institute at Washington University School of Medicine where she is involved in the comprehensive genomic analysis of cancer patient cohorts and “n-of-1” studies. She received her PhD in Molecular Genetics and Genomics at Washington University in St. Louis where she focused on the genetics of myelodysplastic syndrome through advanced flow cytometry techniques, primary cell culture and mouse models. She is a founding member of the CIViC team, helping to define the CIViC data model, and a leading content curator and feature development consultant.",
           "created_at": "2015-02-26T04:14:20.953Z",
           "display_name": "kkrysiak",
           "featured_expert": true,
           "id": 6,
           "last_seen_at": "2017-06-20T21:32:57.201Z",
           "linkedin_profile": "kilannin-krysiak-69047819",
           "name": "Kilannin Krysiak",
           "orcid": "0000-0002-6299-9230",
           "organization": {
            "description": "The McDonnell Genome Institute (MGI) is a world leader in the fast-paced, constantly changing field of genomics. A truly unique institution, we are pushing the limits of academic research by creating, testing, and implementing new approaches to the study of biology with the goal of understanding human health and disease, as well as evolution and the biology of other organisms.",
            "id": 1,
            "name": "The McDonnell Genome Institute",
            "profile_image": {
             "x128": "/system/organizations/profile_images/000/000/001/x128/MGI_STANDARD4_logo_brown-example_v1b.png?1494525976",
             "x14": "/system/organizations/profile_images/000/000/001/x14/MGI_STANDARD4_logo_brown-example_v1b.png?1494525976",
             "x256": "/system/organizations/profile_images/000/000/001/x256/MGI_STANDARD4_logo_brown-example_v1b.png?1494525976",
             "x32": "/system/organizations/profile_images/000/000/001/x32/MGI_STANDARD4_logo_brown-example_v1b.png?1494525976",
             "x64": "/system/organizations/profile_images/000/000/001/x64/MGI_STANDARD4_logo_brown-example_v1b.png?1494525976"
            },
            "url": "http://genome.wustl.edu/"
           },
           "role": "admin",
           "username": "kkrysiak"
          }
         }
        },
        "name": "AGK-BRAF",
        "type": "variant",
        "variant_groups": {
         "description": "BRAF fusions are a rare event in several cancer types but enriched in spitzoid melanoma, pilocytic astrocytomas, pancreatic acinar and papillary thyroid cancers. In a large study, they were observed in 55 (0.3%) of 20,573 tumors, across 12 distinct tumor types. Responses to sorafenib and MEK inhibitors have been described.\nRoss et al., Int. J. Cancer: 138, 881–890 (2016)",
         "id": 18,
         "name": "BRAF Fusions",
         "type": "variant_group",
         "variants": [
          {
           "coordinates": {
            "chromosome": "7",
            "chromosome2": "7",
            "ensembl_version": 75,
            "reference_build": "GRCh37",
            "representative_transcript": "ENST00000356239.3",
            "representative_transcript2": "ENST00000288602.6",
            "start": 91570181,
            "start2": 140434279,
            "stop": 91625114,
            "stop2": 140487384
           },
           "entrez_id": 673,
           "entrez_name": "BRAF",
           "gene_id": 5,
           "id": 184,
           "name": "AKAP9-BRAF",
           "type": "variant",
           "variant_types": [
            {
             "description": "A feature fusion where the deletion brings together transcript regions.",
             "display_name": "Transcript Fusion",
             "id": 120,
             "name": "transcript_fusion",
             "so_id": "SO:0001886",
             "url": "http://www.sequenceontology.org/browser/current_svn/term/SO:0001886"
            }
           ]
          },
          {
           "coordinates": {
            "chromosome": "7",
            "chromosome2": "7",
            "ensembl_version": 75,
            "reference_build": "GRCh37",
            "representative_transcript": "ENST00000355413.4",
            "representative_transcript2": "ENST00000288602.6",
            "start": 141250989,
            "start2": 140434279,
            "stop": 141255367,
            "stop2": 140494267
           },
           "entrez_id": 673,
           "entrez_name": "BRAF",
           "gene_id": 5,
           "id": 285,
           "name": "AGK-BRAF",
           "type": "variant",
           "variant_types": [
            {
             "description": "A feature fusion where the deletion brings together transcript regions.",
             "display_name": "Transcript Fusion",
             "id": 120,
             "name": "transcript_fusion",
             "so_id": "SO:0001886",
             "url": "http://www.sequenceontology.org/browser/current_svn/term/SO:0001886"
            }
           ]
          },
          {
           "coordinates": {
            "chromosome": "4",
            "chromosome2": "7",
            "ensembl_version": 75,
            "reference_build": "GRCh37",
            "representative_transcript": "ENST00000265174.4",
            "representative_transcript2": "ENST00000288602.6",
            "start": 108603171,
            "start2": 140434279,
            "stop": 108641608,
            "stop2": 140487384
           },
           "entrez_id": 673,
           "entrez_name": "BRAF",
           "gene_id": 5,
           "id": 286,
           "name": "PAPSS1-BRAF",
           "type": "variant",
           "variant_types": [
            {
             "description": "A sequence variant whereby a two genes have become joined.",
             "display_name": "Gene Fusion",
             "id": 31,
             "name": "gene_fusion",
             "so_id": "SO:0001565",
             "url": "http://www.sequenceontology.org/browser/current_svn/term/SO:0001565"
            },
            {
             "description": "A feature fusion where the deletion brings together transcript regions.",
             "display_name": "Transcript Fusion",
             "id": 120,
             "name": "transcript_fusion",
             "so_id": "SO:0001886",
             "url": "http://www.sequenceontology.org/browser/current_svn/term/SO:0001886"
            }
           ]
          },
          {
           "coordinates": {
            "chromosome": "7",
            "chromosome2": "7",
            "ensembl_version": 75,
            "reference_build": "GRCh37",
            "representative_transcript": "ENST00000343526.4",
            "representative_transcript2": "ENST00000288602.6",
            "start": 138145079,
            "start2": 140434279,
            "stop": 138239711,
            "stop2": 140487384
           },
           "entrez_id": 673,
           "entrez_name": "BRAF",
           "gene_id": 5,
           "id": 287,
           "name": "TRIM24-BRAF",
           "type": "variant",
           "variant_types": [
            {
             "description": "A feature fusion where the deletion brings together transcript regions.",
             "display_name": "Transcript Fusion",
             "id": 120,
             "name": "transcript_fusion",
             "so_id": "SO:0001886",
             "url": "http://www.sequenceontology.org/browser/current_svn/term/SO:0001886"
            }
           ]
          },
          {
           "coordinates": {
            "chromosome": "11",
            "chromosome2": "7",
            "ensembl_version": 75,
            "reference_build": "GRCh37",
            "representative_transcript": "ENST00000299492.4",
            "representative_transcript2": "ENST00000288602.6",
            "start": 7535001,
            "start2": 140434279,
            "stop": 7586998,
            "stop2": 140481493
           },
           "entrez_id": 673,
           "entrez_name": "BRAF",
           "gene_id": 5,
           "id": 617,
           "name": "PPFIBP2-BRAF",
           "type": "variant",
           "variant_types": [
            {
             "description": "A feature fusion where the deletion brings together transcript regions.",
             "display_name": "Transcript Fusion",
             "id": 120,
             "name": "transcript_fusion",
             "so_id": "SO:0001886",
             "url": "http://www.sequenceontology.org/browser/current_svn/term/SO:0001886"
            }
           ]
          },
          {
           "coordinates": {
            "chromosome": "7",
            "chromosome2": "7",
            "ensembl_version": 75,
            "reference_build": "GRCh37",
            "representative_transcript": "ENST00000440172.1",
            "representative_transcript2": "ENST00000288602.6",
            "start": 138545885,
            "start2": 140434279,
            "stop": 138666064,
            "stop2": 140487384
           },
           "entrez_id": 673,
           "entrez_name": "BRAF",
           "gene_id": 5,
           "id": 618,
           "name": "KIAA1549-BRAF",
           "type": "variant",
           "variant_types": [
            {
             "description": "A feature fusion where the deletion brings together transcript regions.",
             "display_name": "Transcript Fusion",
             "id": 120,
             "name": "transcript_fusion",
             "so_id": "SO:0001886",
             "url": "http://www.sequenceontology.org/browser/current_svn/term/SO:0001886"
            }
           ]
          },
          {
           "coordinates": {
            "chromosome": "7",
            "chromosome2": "7",
            "ensembl_version": 75,
            "reference_build": "GRCh37",
            "representative_transcript": "ENST00000288602.6",
            "representative_transcript2": "ENST00000602748.1",
            "start": 140434279,
            "start2": 148395737,
            "stop": 140487384,
            "stop2": 148457588
           },
           "entrez_id": 673,
           "entrez_name": "BRAF",
           "gene_id": 5,
           "id": 656,
           "name": "BRAF-CUL1",
           "type": "variant",
           "variant_types": [
            {
             "description": "A feature fusion where the deletion brings together transcript regions.",
             "display_name": "Transcript Fusion",
             "id": 120,
             "name": "transcript_fusion",
             "so_id": "SO:0001886",
             "url": "http://www.sequenceontology.org/browser/current_svn/term/SO:0001886"
            }
           ]
          },
          {
           "coordinates": {
            "chromosome": "7",
            "chromosome2": "7",
            "ensembl_version": 75,
            "reference_build": "GRCh37",
            "representative_transcript": "ENST00000426572.1",
            "representative_transcript2": "ENST00000288602.6",
            "start": 99613222,
            "start2": 140434279,
            "stop": 99627575,
            "stop2": 140482957
           },
           "entrez_id": 673,
           "entrez_name": "BRAF",
           "gene_id": 5,
           "id": 657,
           "name": "ZKSCAN1-BRAF",
           "type": "variant",
           "variant_types": [
            {
             "description": "A feature fusion where the deletion brings together transcript regions.",
             "display_name": "Transcript Fusion",
             "id": 120,
             "name": "transcript_fusion",
             "so_id": "SO:0001886",
             "url": "http://www.sequenceontology.org/browser/current_svn/term/SO:0001886"
            }
           ]
          }
         ]
        },
        "variant_id": 285,
        "variant_types": {
         "description": "A feature fusion where the deletion brings together transcript regions.",
         "display_name": "Transcript Fusion",
         "id": 120,
         "name": "transcript_fusion",
         "so_id": "SO:0001886",
         "url": "http://www.sequenceontology.org/browser/current_svn/term/SO:0001886"
        }
       },
       "observed": true
      },
      "text/plain": [
       "<IPython.core.display.JSON object>"
      ]
     },
     "execution_count": 6,
     "metadata": {
      "application/json": {
       "expanded": false,
       "root": "root"
      }
     },
     "output_type": "execute_result"
    }
   ],
   "source": [
    "JSON(q['hits'][0])"
   ]
  },
  {
   "cell_type": "code",
   "execution_count": 8,
   "metadata": {},
   "outputs": [
    {
     "data": {
      "text/plain": [
       "['p.Ala145Glu',\n",
       " 'p.Ala311Asp',\n",
       " 'p.Ala322Asp',\n",
       " 'p.Arg166Lys',\n",
       " 'p.Arg166Ser',\n",
       " 'p.Arg239Gln',\n",
       " 'p.Arg691Lys',\n",
       " 'p.Asn20Lys',\n",
       " 'p.Asn229Lys',\n",
       " 'p.Asn378Ile',\n",
       " 'p.Asn658Lys',\n",
       " 'p.Asp108Asn',\n",
       " 'p.Asp324Gly',\n",
       " 'p.Asp385Val',\n",
       " 'p.Asp449Glu',\n",
       " 'p.Asp449Gly',\n",
       " 'p.Gln262His',\n",
       " 'p.Gln270Glu',\n",
       " 'p.Gln493*',\n",
       " 'p.Gln530Pro',\n",
       " 'p.Gln562Glu',\n",
       " 'p.Gln562Leu',\n",
       " 'p.Gln562Lys',\n",
       " 'p.Glu13Gln',\n",
       " 'p.Glu304Asp',\n",
       " 'p.Glu309Ala',\n",
       " 'p.Glu45Ala',\n",
       " 'p.Gly189Ala',\n",
       " 'p.Gly258Ser',\n",
       " 'p.Gly759Val',\n",
       " 'p.His585Tyr',\n",
       " 'p.Ile208Met',\n",
       " 'p.Ile383Leu',\n",
       " 'p.Ile544Ser',\n",
       " 'p.Ile644Phe',\n",
       " 'p.Leu181Gln',\n",
       " 'p.Leu254Met',\n",
       " 'p.Leu441Phe',\n",
       " 'p.Leu505His',\n",
       " 'p.Leu505Ile',\n",
       " 'p.Leu567Phe',\n",
       " 'p.Leu577Phe',\n",
       " 'p.Leu613Trp',\n",
       " 'p.Lys205Asn',\n",
       " 'p.Lys418Asn',\n",
       " 'p.Lys55Glu',\n",
       " 'p.Lys700*',\n",
       " 'p.Met689Ile',\n",
       " 'p.Phe243Cys',\n",
       " 'p.Phe256Ser',\n",
       " 'p.Phe548Leu',\n",
       " 'p.Pro170Arg',\n",
       " 'p.Pro328Ser',\n",
       " 'p.Ser102Thr',\n",
       " 'p.Ser126Tyr',\n",
       " 'p.Ser129*',\n",
       " 'p.Ser36Pro',\n",
       " 'p.Thr244Ser',\n",
       " 'p.Trp450Cys',\n",
       " 'p.Tyr472*',\n",
       " 'p.Tyr472*',\n",
       " 'p.Tyr472Asn',\n",
       " 'p.Tyr472Asp',\n",
       " 'p.Tyr472His',\n",
       " 'p.Tyr472Phe',\n",
       " 'p.Tyr472Ser',\n",
       " 'p.Val528Phe',\n",
       " 'p.Val600Val']"
      ]
     },
     "execution_count": 8,
     "metadata": {},
     "output_type": "execute_result"
    }
   ],
   "source": [
    "src = 'snpeff'; sorted([y['hgvs_p'] for y in [x[src]['ann'] for x in q['hits'] if src in x] if 'hgvs_p' in y])"
   ]
  },
  {
   "cell_type": "code",
   "execution_count": 10,
   "metadata": {},
   "outputs": [
    {
     "data": {
      "application/json": {
       "association": {
        "description": "A sequence variant, that changes one or more bases, resulting in a different amino acid sequence but where the length is preserved",
        "environmentalContexts": [],
        "evidence": [
         {
          "description": "Gain-of-function",
          "evidenceType": {
           "id": "EGFR-Likely Oncogenic",
           "sourceName": "oncokb"
          },
          "info": {
           "publications": [
            "http://www.ncbi.nlm.nih.gov/pubmed/17973572",
            "http://www.ncbi.nlm.nih.gov/pubmed/18309959",
            "http://www.ncbi.nlm.nih.gov/pubmed/18645621",
            "http://www.ncbi.nlm.nih.gov/pubmed/19632948",
            "http://www.ncbi.nlm.nih.gov/pubmed/18981003"
           ]
          }
         }
        ],
        "evidence_label": null,
        "oncogenic": "Likely Oncogenic",
        "phenotypes": [
         {
          "description": "cancer",
          "family": "cancer",
          "id": "DOID:162",
          "source": "http://purl.obolibrary.org/obo/DOID_162",
          "term": "cancer"
         }
        ],
        "publication_url": "http://www.ncbi.nlm.nih.gov/pubmed/17973572",
        "variant_name": "L747S"
       },
       "dev_tags": [],
       "feature_names": "EGFR L747S",
       "features": [
        {
         "alt": "C",
         "biomarker_type": "missense_variant",
         "chromosome": "7",
         "description": "EGFR L747S",
         "end": 55242470,
         "entrez_id": 1956,
         "geneSymbol": "EGFR",
         "links": [
          "http://reg.genome.network/allele/CA135803",
          "http://myvariant.info/v1/variant/chr7:g.55242470T>C?assembly=hg19",
          "http://reg.genome.network/refseq/RS000031",
          "http://reg.genome.network/refseq/RS000007",
          "http://reg.genome.network/refseq/RS000055",
          "http://myvariant.info/v1/variant/chr7:g.55174777T>C?assembly=hg38",
          "http://www.ncbi.nlm.nih.gov/clinvar/?term=54403[alleleid]",
          "http://www.ncbi.nlm.nih.gov/snp/397517097",
          "http://cancer.sanger.ac.uk/cosmic/mutation/overview?id=26704",
          "http://reg.genome.network/refseq/RS000672",
          "http://www.ncbi.nlm.nih.gov/clinvar/variation/45236"
         ],
         "name": "L747S",
         "provenance": [
          "http://reg.genome.network/allele?hgvs=NC_000007.13%3Ag.55242470T%3EC"
         ],
         "provenance_rule": "from_source",
         "ref": "T",
         "referenceName": "GRCh37",
         "sequence_ontology": {
          "hierarchy": [
           "SO:0001060",
           "SO:0001537",
           "SO:0001878",
           "SO:0001564",
           "SO:0001576",
           "SO:0001791",
           "SO:0001580",
           "SO:0001818",
           "SO:0001650",
           "SO:0001992"
          ],
          "name": "missense_variant",
          "root_name": "sequence_variant",
          "root_soid": "SO:0001060",
          "soid": "SO:0001583"
         },
         "start": 55242470,
         "synonyms": [
          "chr7:g.55174777T>C",
          "NC_000007.14:g.55174777T>C",
          "CM000669.1:g.55242470T>C",
          "CM000669.2:g.55174777T>C",
          "LRG_304:g.160746T>C",
          "chr7:g.55242470T>C",
          "NG_007726.3:g.160746T>C",
          "COSM26704",
          "NC_000007.12:g.55209964T>C",
          "NC_000007.13:g.55242470T>C"
         ]
        }
       ],
       "gene_identifiers": [
        {
         "ensembl_gene_id": "ENSG00000146648",
         "entrez_id": "1956",
         "symbol": "EGFR"
        }
       ],
       "genes": [
        "EGFR"
       ],
       "oncokb": {
        "biological": {
         "Entrez Gene ID": 1956,
         "Isoform": "ENST00000275493",
         "Protein Change": "L747S",
         "RefSeq": "NM_005228.3",
         "gene": "EGFR",
         "mutationEffect": "Gain-of-function",
         "mutationEffectAbstracts": "",
         "mutationEffectPmids": "17973572, 18309959, 18645621, 19632948, 18981003",
         "oncogenic": "Likely Oncogenic",
         "variant": {
          "alteration": "L747S",
          "consequence": {
           "description": "A sequence variant, that changes one or more bases, resulting in a different amino acid sequence but where the length is preserved",
           "isGenerallyTruncating": false,
           "term": "missense_variant"
          },
          "gene": {
           "curatedIsoform": "ENST00000275493",
           "curatedRefSeq": "NM_005228.3",
           "entrezGeneId": 1956,
           "geneAliases": [
            "PIG61",
            "ERBB1",
            "mENA",
            "ERBB",
            "HER1",
            "NISBD2"
           ],
           "hugoSymbol": "EGFR",
           "name": "epidermal growth factor receptor",
           "oncogene": true,
           "tsg": false
          },
          "name": "L747S",
          "proteinEnd": 747,
          "proteinStart": 747,
          "refResidues": "L",
          "variantResidues": "S"
         }
        }
       },
       "source": "oncokb",
       "source_url": "http://oncokb.org/#/gene/EGFR/variant/L747S",
       "tags": []
      },
      "text/plain": [
       "<IPython.core.display.JSON object>"
      ]
     },
     "execution_count": 10,
     "metadata": {
      "application/json": {
       "expanded": false,
       "root": "root"
      }
     },
     "output_type": "execute_result"
    }
   ],
   "source": [
    "JSON(\"\"\"{\"tags\": [], \"genes\": [\"EGFR\"], \"oncokb\": {\"biological\": {\"gene\": \"EGFR\", \"RefSeq\": \"NM_005228.3\", \"Isoform\": \"ENST00000275493\", \"variant\": {\"gene\": {\"tsg\": false, \"name\": \"epidermal growth factor receptor\", \"oncogene\": true, \"hugoSymbol\": \"EGFR\", \"geneAliases\": [\"PIG61\", \"ERBB1\", \"mENA\", \"ERBB\", \"HER1\", \"NISBD2\"], \"entrezGeneId\": 1956, \"curatedRefSeq\": \"NM_005228.3\", \"curatedIsoform\": \"ENST00000275493\"}, \"name\": \"L747S\", \"alteration\": \"L747S\", \"proteinEnd\": 747, \"consequence\": {\"term\": \"missense_variant\", \"description\": \"A sequence variant, that changes one or more bases, resulting in a different amino acid sequence but where the length is preserved\", \"isGenerallyTruncating\": false}, \"refResidues\": \"L\", \"proteinStart\": 747, \"variantResidues\": \"S\"}, \"oncogenic\": \"Likely Oncogenic\", \"Entrez Gene ID\": 1956, \"Protein Change\": \"L747S\", \"mutationEffect\": \"Gain-of-function\", \"mutationEffectPmids\": \"17973572, 18309959, 18645621, 19632948, 18981003\", \"mutationEffectAbstracts\": \"\"}}, \"source\": \"oncokb\", \"dev_tags\": [], \"features\": [{\"alt\": \"C\", \"end\": 55242470, \"ref\": \"T\", \"name\": \"L747S\", \"links\": [\"http://reg.genome.network/allele/CA135803\", \"http://myvariant.info/v1/variant/chr7:g.55242470T>C?assembly=hg19\", \"http://reg.genome.network/refseq/RS000031\", \"http://reg.genome.network/refseq/RS000007\", \"http://reg.genome.network/refseq/RS000055\", \"http://myvariant.info/v1/variant/chr7:g.55174777T>C?assembly=hg38\", \"http://www.ncbi.nlm.nih.gov/clinvar/?term=54403[alleleid]\", \"http://www.ncbi.nlm.nih.gov/snp/397517097\", \"http://cancer.sanger.ac.uk/cosmic/mutation/overview?id=26704\", \"http://reg.genome.network/refseq/RS000672\", \"http://www.ncbi.nlm.nih.gov/clinvar/variation/45236\"], \"start\": 55242470, \"synonyms\": [\"chr7:g.55174777T>C\", \"NC_000007.14:g.55174777T>C\", \"CM000669.1:g.55242470T>C\", \"CM000669.2:g.55174777T>C\", \"LRG_304:g.160746T>C\", \"chr7:g.55242470T>C\", \"NG_007726.3:g.160746T>C\", \"COSM26704\", \"NC_000007.12:g.55209964T>C\", \"NC_000007.13:g.55242470T>C\"], \"entrez_id\": 1956, \"chromosome\": \"7\", \"geneSymbol\": \"EGFR\", \"provenance\": [\"http://reg.genome.network/allele?hgvs=NC_000007.13%3Ag.55242470T%3EC\"], \"description\": \"EGFR L747S\", \"referenceName\": \"GRCh37\", \"biomarker_type\": \"missense_variant\", \"provenance_rule\": \"from_source\", \"sequence_ontology\": {\"name\": \"missense_variant\", \"soid\": \"SO:0001583\", \"hierarchy\": [\"SO:0001060\", \"SO:0001537\", \"SO:0001878\", \"SO:0001564\", \"SO:0001576\", \"SO:0001791\", \"SO:0001580\", \"SO:0001818\", \"SO:0001650\", \"SO:0001992\"], \"root_name\": \"sequence_variant\", \"root_soid\": \"SO:0001060\"}}], \"source_url\": \"http://oncokb.org/#/gene/EGFR/variant/L747S\", \"association\": {\"evidence\": [{\"info\": {\"publications\": [\"http://www.ncbi.nlm.nih.gov/pubmed/17973572\", \"http://www.ncbi.nlm.nih.gov/pubmed/18309959\", \"http://www.ncbi.nlm.nih.gov/pubmed/18645621\", \"http://www.ncbi.nlm.nih.gov/pubmed/19632948\", \"http://www.ncbi.nlm.nih.gov/pubmed/18981003\"]}, \"description\": \"Gain-of-function\", \"evidenceType\": {\"id\": \"EGFR-Likely Oncogenic\", \"sourceName\": \"oncokb\"}}], \"oncogenic\": \"Likely Oncogenic\", \"phenotypes\": [{\"id\": \"DOID:162\", \"term\": \"cancer\", \"family\": \"cancer\", \"source\": \"http://purl.obolibrary.org/obo/DOID_162\", \"description\": \"cancer\"}], \"description\": \"A sequence variant, that changes one or more bases, resulting in a different amino acid sequence but where the length is preserved\", \"variant_name\": \"L747S\", \"evidence_label\": null, \"publication_url\": \"http://www.ncbi.nlm.nih.gov/pubmed/17973572\", \"environmentalContexts\": []}, \"feature_names\": \"EGFR L747S\", \"gene_identifiers\": [{\"symbol\": \"EGFR\", \"entrez_id\": \"1956\", \"ensembl_gene_id\": \"ENSG00000146648\"}]}\"\"\")"
   ]
  },
  {
   "cell_type": "code",
   "execution_count": null,
   "metadata": {},
   "outputs": [],
   "source": []
  }
 ],
 "metadata": {
  "kernelspec": {
   "display_name": "Python 3",
   "language": "python",
   "name": "python3"
  },
  "language_info": {
   "codemirror_mode": {
    "name": "ipython",
    "version": 3
   },
   "file_extension": ".py",
   "mimetype": "text/x-python",
   "name": "python",
   "nbconvert_exporter": "python",
   "pygments_lexer": "ipython3",
   "version": "3.7.0"
  }
 },
 "nbformat": 4,
 "nbformat_minor": 2
}
